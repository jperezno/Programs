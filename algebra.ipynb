{
 "cells": [
  {
   "cell_type": "code",
   "execution_count": 26,
   "metadata": {},
   "outputs": [
    {
     "data": {
      "text/latex": [
       "$\\displaystyle 2 \\sqrt{2}$"
      ],
      "text/plain": [
       "2*sqrt(2)"
      ]
     },
     "execution_count": 26,
     "metadata": {},
     "output_type": "execute_result"
    }
   ],
   "source": [
    "import sympy as sy\n",
    "from sympy import symbols\n",
    "import math\n",
    "# err_quad=(((x1**2)+(x2**2))*(no_readerror(eta)) + (((x1*y1)+(x2*y2))*(readerror(eta))) +(egate_er(eps_g))*(PauliErrors))/(N/((1-eps_g)**2))\n",
    "# sy.err_quad\n",
    "math.sqrt(9)\n",
    "sy.sqrt(8)\n"
   ]
  },
  {
   "cell_type": "code",
   "execution_count": null,
   "metadata": {},
   "outputs": [
    {
     "data": {
      "text/latex": [
       "$\\displaystyle x \\left(x + y\\right)$"
      ],
      "text/plain": [
       "x*(x + y)"
      ]
     },
     "execution_count": 26,
     "metadata": {},
     "output_type": "execute_result"
    }
   ],
   "source": [
    "x*(expr - y)"
   ]
  },
  {
   "cell_type": "code",
   "execution_count": null,
   "metadata": {},
   "outputs": [
    {
     "data": {
      "text/latex": [
       "$\\displaystyle \\frac{\\left(1 - eps_{g}\\right)^{2} \\left(\\frac{PauliErrors \\left(- eps_{g}^{2} + 2 eps_{g}\\right)}{\\left(1 - eps_{g}\\right)^{2}} + 2 \\eta \\left(1 - \\eta\\right) \\left(x_{1} y_{1} + x_{2} y_{2}\\right) + \\left(\\eta^{2} + \\left(1 - \\eta\\right)^{2}\\right) \\left(x_{1}^{2} + x_{2}^{2}\\right)\\right)}{2 \\eta \\left(1 - \\eta\\right) \\left(2 x_{1} + 2 x_{2}\\right) \\left(y_{1} + y_{2}\\right) + \\left(\\eta^{2} + \\left(1 - \\eta\\right)^{2}\\right) \\left(\\left(x_{1} + y_{2}\\right)^{2} + \\left(x_{2} + y_{1}\\right)^{2}\\right)}$"
      ],
      "text/plain": [
       "(1 - eps_g)**2*(PauliErrors*(-eps_g**2 + 2*eps_g)/(1 - eps_g)**2 + 2*eta*(1 - eta)*(x1*y1 + x2*y2) + (eta**2 + (1 - eta)**2)*(x1**2 + x2**2))/(2*eta*(1 - eta)*(2*x1 + 2*x2)*(y1 + y2) + (eta**2 + (1 - eta)**2)*((x1 + y2)**2 + (x2 + y1)**2))"
      ]
     },
     "execution_count": 21,
     "metadata": {},
     "output_type": "execute_result"
    }
   ],
   "source": [
    "from sympy import *\n",
    "# N=(((x1+y2)**2+(y1+x2)**2)*((eta**2)+((1-eta)**2)) + (2*(x1+x2)*(y1+y2)*(2*(eta)*(1-eta))))\n",
    "x1,x2,y1,y2,eta,N,eps_g,PauliErrors = symbols('x1 x2 y1 y2 eta N eps_g PauliErrors')\n",
    "err_quad=(((x1**2)+(x2**2))*((eta**2)+((1-eta)**2)) + (((x1*y1)+(x2*y2))*(2*(eta)*(1-eta))) + (egate_er(eps_g))*(PauliErrors))/((((x1+y2)**2+(y1+x2)**2)*((eta**2)+((1-eta)**2)) + (2*(x1+x2)*(y1+y2)*(2*(eta)*(1-eta))))/((1-eps_g)**2))\n",
    "err_quad\n",
    "# integrate(err_quad,PauliErrors)\n"
   ]
  },
  {
   "cell_type": "code",
   "execution_count": 24,
   "metadata": {},
   "outputs": [
    {
     "data": {
      "text/latex": [
       "$\\displaystyle \\frac{\\left(1 - eps_{g}\\right)^{2} \\left(\\frac{PauliErrors \\left(- eps_{g}^{2} + 2 eps_{g}\\right)}{\\left(1 - eps_{g}\\right)^{2}} + 2 \\eta \\left(1 - \\eta\\right) \\left(x_{1} y_{2} + x_{2} y_{1}\\right) + 2 y_{1} y_{2} \\left(\\eta^{2} + \\left(1 - \\eta\\right)^{2}\\right)\\right)}{2 \\eta \\left(1 - \\eta\\right) \\left(2 x_{1} + 2 x_{2}\\right) \\left(y_{1} + y_{2}\\right) + \\left(\\eta^{2} + \\left(1 - \\eta\\right)^{2}\\right) \\left(\\left(x_{1} + y_{2}\\right)^{2} + \\left(x_{2} + y_{1}\\right)^{2}\\right)}$"
      ],
      "text/plain": [
       "(1 - eps_g)**2*(PauliErrors*(-eps_g**2 + 2*eps_g)/(1 - eps_g)**2 + 2*eta*(1 - eta)*(x1*y2 + x2*y1) + 2*y1*y2*(eta**2 + (1 - eta)**2))/(2*eta*(1 - eta)*(2*x1 + 2*x2)*(y1 + y2) + (eta**2 + (1 - eta)**2)*((x1 + y2)**2 + (x2 + y1)**2))"
      ]
     },
     "execution_count": 24,
     "metadata": {},
     "output_type": "execute_result"
    }
   ],
   "source": [
    "\n",
    "err_line= ((2*y1*y2)*((eta**2)+((1-eta)**2)) + (((x1*y2)+(y1*x2))*(2*(eta)*(1-eta))) + (egate_er(eps_g))*(PauliErrors))/((((x1+y2)**2+(y1+x2)**2)*((eta**2)+((1-eta)**2)) + (2*(x1+x2)*(y1+y2)*(2*(eta)*(1-eta))))/((1-eps_g)**2))\n",
    "err_line\n"
   ]
  }
 ],
 "metadata": {
  "kernelspec": {
   "display_name": "Python 3",
   "language": "python",
   "name": "python3"
  },
  "language_info": {
   "codemirror_mode": {
    "name": "ipython",
    "version": 3
   },
   "file_extension": ".py",
   "mimetype": "text/x-python",
   "name": "python",
   "nbconvert_exporter": "python",
   "pygments_lexer": "ipython3",
   "version": "3.8.19"
  }
 },
 "nbformat": 4,
 "nbformat_minor": 2
}
