{
 "cells": [
  {
   "cell_type": "code",
   "execution_count": 2,
   "metadata": {},
   "outputs": [
    {
     "data": {
      "text/latex": [
       "$\\displaystyle 2 \\sqrt{2}$"
      ],
      "text/plain": [
       "2*sqrt(2)"
      ]
     },
     "execution_count": 2,
     "metadata": {},
     "output_type": "execute_result"
    }
   ],
   "source": [
    "import sympy as sy\n",
    "from sympy import symbols\n",
    "import math\n",
    "x,y = symbols('x y')\n",
    "expr=5*x\n",
    "# err_quad=(((x1**2)+(x2**2))*(no_readerror(eta)) + (((x1*y1)+(x2*y2))*(readerror(eta))) +(egate_er(epsilon_g))*(PauliErrors))/(N/((1-epsilon_g)**2))\n",
    "# sy.err_quad\n",
    "math.sqrt(9)\n",
    "sy.sqrt(8)\n"
   ]
  },
  {
   "cell_type": "code",
   "execution_count": 3,
   "metadata": {},
   "outputs": [
    {
     "data": {
      "text/latex": [
       "$\\displaystyle x \\left(5 x - y\\right)$"
      ],
      "text/plain": [
       "x*(5*x - y)"
      ]
     },
     "execution_count": 3,
     "metadata": {},
     "output_type": "execute_result"
    }
   ],
   "source": [
    "p_x,p_y,p_z=symbols('p_x p_y p_z')\n",
    "F,A,B,C,D = symbols('F A B C D')\n",
    "x, x1,x2,y1,y2,eta,E,epsilon_g,epsilon_r = symbols('x x1 x2 y1 y2 eta E epsilon_g epsilon_r')\n",
    "F_t,F_o = symbols('F_t F_0')\n",
    "x*(expr - y)"
   ]
  },
  {
   "cell_type": "code",
   "execution_count": 4,
   "metadata": {},
   "outputs": [],
   "source": [
    "changeA = {\n",
    "    A:F}\n",
    "changevar={\n",
    "    eta:1-epsilon_r}\n",
    "intermsub={\n",
    "    E:1-F\n",
    "}\n",
    "hybridsubstitution = {\n",
    "    B:(1-F)/3,\n",
    "    C:(1-F)/3,\n",
    "    D:(1-F)/3}\n",
    "evaluaF_t={\n",
    "    F:F_t}\n",
    "evaluaF_0={\n",
    "    F:F_o}\n",
    "paulichange={\n",
    "    p_x:p_z/2,\n",
    "    p_y:p_z/2}"
   ]
  },
  {
   "cell_type": "code",
   "execution_count": 5,
   "metadata": {},
   "outputs": [],
   "source": [
    "# Equations to expand \n",
    "hybnum=(epsilon_g - 1)**2*(2*E*eta*(eta - 1)*((-2*E*(eta**2 + (eta - 1)**2) + epsilon_g*(3 - 2*E)*(epsilon_g - 2)*(p_x + p_y + p_z) + 2*eta*(3 - 2*E)*(eta - 1))*(2*E*epsilon_g*(epsilon_g - 2)*(E*p_x + E*p_y - 3*p_z*(E - 1)) + 2*E*eta*(3 - 2*E)*(eta - 1) - (E**2 + 9*(E - 1)**2)*(eta**2 + (eta - 1)**2)) + (-2*E**2*(eta**2 + (eta - 1)**2) + 2*E*eta*(3 - 2*E)*(eta - 1) + epsilon_g*(epsilon_g - 2)*(2*E**2*p_x + 2*E**2*p_y + p_z*(E**2 + 9*(E - 1)**2)))*(epsilon_g*(3 - 2*E)*(epsilon_g - 2)*(p_x + p_y + p_z) + 2*eta*(3 - 2*E)*(eta - 1) + 6*(E - 1)*(eta**2 + (eta - 1)**2))) + epsilon_g*(epsilon_g - 2)*(E**2*p_x*((-2*E*(eta**2 + (eta - 1)**2) + epsilon_g*(3 - 2*E)*(epsilon_g - 2)*(p_x + p_y + p_z) + 2*eta*(3 - 2*E)*(eta - 1))**2 + (epsilon_g*(3 - 2*E)*(epsilon_g - 2)*(p_x + p_y + p_z) + 2*eta*(3 - 2*E)*(eta - 1) + 6*(E - 1)*(eta**2 + (eta - 1)**2))**2) + 2*E**2*p_y*(-2*E*(eta**2 + (eta - 1)**2) + epsilon_g*(3 - 2*E)*(epsilon_g - 2)*(p_x + p_y + p_z) + 2*eta*(3 - 2*E)*(eta - 1))*(epsilon_g*(3 - 2*E)*(epsilon_g - 2)*(p_x + p_y + p_z) + 2*eta*(3 - 2*E)*(eta - 1) + 6*(E - 1)*(eta**2 + (eta - 1)**2)) + 2*p_z*(-2*E**2*(eta**2 + (eta - 1)**2) + 2*E*eta*(3 - 2*E)*(eta - 1) + epsilon_g*(epsilon_g - 2)*(2*E**2*p_x + 2*E**2*p_y + p_z*(E**2 + 9*(E - 1)**2)))*(2*E*epsilon_g*(epsilon_g - 2)*(E*p_x + E*p_y - 3*p_z*(E - 1)) + 2*E*eta*(3 - 2*E)*(eta - 1) - (E**2 + 9*(E - 1)**2)*(eta**2 + (eta - 1)**2))) - (eta**2 + (eta - 1)**2)*((-2*E**2*(eta**2 + (eta - 1)**2) + 2*E*eta*(3 - 2*E)*(eta - 1) + epsilon_g*(epsilon_g - 2)*(2*E**2*p_x + 2*E**2*p_y + p_z*(E**2 + 9*(E - 1)**2)))**2 + (2*E*epsilon_g*(epsilon_g - 2)*(E*p_x + E*p_y - 3*p_z*(E - 1)) + 2*E*eta*(3 - 2*E)*(eta - 1) - (E**2 + 9*(E - 1)**2)*(eta**2 + (eta - 1)**2))**2))\n",
    "hybden=8*E*eta*(eta - 1)*(E*(eta**2 + (eta - 1)**2) - epsilon_g*(3 - 2*E)*(epsilon_g - 2)*(p_x + p_y + p_z) - 2*eta*(3 - 2*E)*(eta - 1) - 3*(E - 1)*(eta**2 + (eta - 1)**2))*(2*E**2*(eta**2 + (eta - 1)**2) - 2*E*epsilon_g*(epsilon_g - 2)*(E*p_x + E*p_y - 3*p_z*(E - 1)) - 4*E*eta*(3 - 2*E)*(eta - 1) - epsilon_g*(epsilon_g - 2)*(2*E**2*p_x + 2*E**2*p_y + p_z*(E**2 + 9*(E - 1)**2)) + (E**2 + 9*(E - 1)**2)*(eta**2 + (eta - 1)**2)) - (eta**2 + (eta - 1)**2)*(4*E**2*(E*(eta**2 + (eta - 1)**2) - epsilon_g*(3 - 2*E)*(epsilon_g - 2)*(p_x + p_y + p_z) - 2*eta*(3 - 2*E)*(eta - 1) - 3*(E - 1)*(eta**2 + (eta - 1)**2))**2 + (2*E**2*(eta**2 + (eta - 1)**2) - 2*E*epsilon_g*(epsilon_g - 2)*(E*p_x + E*p_y - 3*p_z*(E - 1)) - 4*E*eta*(3 - 2*E)*(eta - 1) - epsilon_g*(epsilon_g - 2)*(2*E**2*p_x + 2*E**2*p_y + p_z*(E**2 + 9*(E - 1)**2)) + (E**2 + 9*(E - 1)**2)*(eta**2 + (eta - 1)**2))**2)\n",
    "mp=hybnum.subs(paulichange)/hybden.subs(paulichange)"
   ]
  },
  {
   "cell_type": "code",
   "execution_count": 6,
   "metadata": {},
   "outputs": [],
   "source": [
    "trae=(sy.simplify((mp)-(1-E)))\n"
   ]
  },
  {
   "cell_type": "code",
   "execution_count": 7,
   "metadata": {},
   "outputs": [
    {
     "name": "stdout",
     "output_type": "stream",
     "text": [
      "(-F*(-8*epsilon_r*(1 - F)*(1 - epsilon_r)*(3*F*(epsilon_r**2 + (1 - epsilon_r)**2) + 2*epsilon_g*p_z*(-2*F - 1)*(epsilon_g - 2) - 2*epsilon_r*(1 - epsilon_r)*(-2*F - 1) + (1 - F)*(epsilon_r**2 + (1 - epsilon_r)**2))*(-2*epsilon_g*p_z*(1 - F)*(2*F + 1)*(epsilon_g - 2) - 3*epsilon_g*p_z*(3*F**2 + (1 - F)**2)*(epsilon_g - 2) - 4*epsilon_r*(1 - F)*(1 - epsilon_r)*(-2*F - 1) + 2*(1 - F)**2*(epsilon_r**2 + (1 - epsilon_r)**2) + (9*F**2 + (1 - F)**2)*(epsilon_r**2 + (1 - epsilon_r)**2)) - (epsilon_r**2 + (1 - epsilon_r)**2)*(4*(1 - F)**2*(3*F*(epsilon_r**2 + (1 - epsilon_r)**2) + 2*epsilon_g*p_z*(-2*F - 1)*(epsilon_g - 2) - 2*epsilon_r*(1 - epsilon_r)*(-2*F - 1) + (1 - F)*(epsilon_r**2 + (1 - epsilon_r)**2))**2 + (-2*epsilon_g*p_z*(1 - F)*(2*F + 1)*(epsilon_g - 2) - 3*epsilon_g*p_z*(3*F**2 + (1 - F)**2)*(epsilon_g - 2) - 4*epsilon_r*(1 - F)*(1 - epsilon_r)*(-2*F - 1) + 2*(1 - F)**2*(epsilon_r**2 + (1 - epsilon_r)**2) + (9*F**2 + (1 - F)**2)*(epsilon_r**2 + (1 - epsilon_r)**2))**2)) + (epsilon_g - 1)**2*(2*epsilon_g*p_z*(epsilon_g - 2)*((1 - F)**2*((3*F*(epsilon_r**2 + (1 - epsilon_r)**2) + epsilon_g*p_z*(-2*F - 1)*(epsilon_g - 2) - epsilon_r*(1 - epsilon_r)*(-2*F - 1))**2 + (epsilon_g*p_z*(-2*F - 1)*(epsilon_g - 2) - epsilon_r*(1 - epsilon_r)*(-2*F - 1) + (1 - F)*(epsilon_r**2 + (1 - epsilon_r)**2))**2) + 2*(1 - F)**2*(3*F*(epsilon_r**2 + (1 - epsilon_r)**2) + epsilon_g*p_z*(-2*F - 1)*(epsilon_g - 2) - epsilon_r*(1 - epsilon_r)*(-2*F - 1))*(epsilon_g*p_z*(-2*F - 1)*(epsilon_g - 2) - epsilon_r*(1 - epsilon_r)*(-2*F - 1) + (1 - F)*(epsilon_r**2 + (1 - epsilon_r)**2)) + (-3*epsilon_g*p_z*(3*F**2 + (1 - F)**2)*(epsilon_g - 2) - 2*epsilon_r*(1 - F)*(1 - epsilon_r)*(-2*F - 1) + 2*(1 - F)**2*(epsilon_r**2 + (1 - epsilon_r)**2))*(-2*epsilon_g*p_z*(1 - F)*(2*F + 1)*(epsilon_g - 2) - 2*epsilon_r*(1 - F)*(1 - epsilon_r)*(-2*F - 1) + (9*F**2 + (1 - F)**2)*(epsilon_r**2 + (1 - epsilon_r)**2))) - 4*epsilon_r*(1 - F)*(1 - epsilon_r)*((3*F*(epsilon_r**2 + (1 - epsilon_r)**2) + epsilon_g*p_z*(-2*F - 1)*(epsilon_g - 2) - epsilon_r*(1 - epsilon_r)*(-2*F - 1))*(-3*epsilon_g*p_z*(3*F**2 + (1 - F)**2)*(epsilon_g - 2) - 2*epsilon_r*(1 - F)*(1 - epsilon_r)*(-2*F - 1) + 2*(1 - F)**2*(epsilon_r**2 + (1 - epsilon_r)**2)) + (epsilon_g*p_z*(-2*F - 1)*(epsilon_g - 2) - epsilon_r*(1 - epsilon_r)*(-2*F - 1) + (1 - F)*(epsilon_r**2 + (1 - epsilon_r)**2))*(-2*epsilon_g*p_z*(1 - F)*(2*F + 1)*(epsilon_g - 2) - 2*epsilon_r*(1 - F)*(1 - epsilon_r)*(-2*F - 1) + (9*F**2 + (1 - F)**2)*(epsilon_r**2 + (1 - epsilon_r)**2))) - (epsilon_r**2 + (1 - epsilon_r)**2)*((-3*epsilon_g*p_z*(3*F**2 + (1 - F)**2)*(epsilon_g - 2) - 2*epsilon_r*(1 - F)*(1 - epsilon_r)*(-2*F - 1) + 2*(1 - F)**2*(epsilon_r**2 + (1 - epsilon_r)**2))**2 + (-2*epsilon_g*p_z*(1 - F)*(2*F + 1)*(epsilon_g - 2) - 2*epsilon_r*(1 - F)*(1 - epsilon_r)*(-2*F - 1) + (9*F**2 + (1 - F)**2)*(epsilon_r**2 + (1 - epsilon_r)**2))**2)))/(-8*epsilon_r*(1 - F)*(1 - epsilon_r)*(3*F*(epsilon_r**2 + (1 - epsilon_r)**2) + 2*epsilon_g*p_z*(-2*F - 1)*(epsilon_g - 2) - 2*epsilon_r*(1 - epsilon_r)*(-2*F - 1) + (1 - F)*(epsilon_r**2 + (1 - epsilon_r)**2))*(-2*epsilon_g*p_z*(1 - F)*(2*F + 1)*(epsilon_g - 2) - 3*epsilon_g*p_z*(3*F**2 + (1 - F)**2)*(epsilon_g - 2) - 4*epsilon_r*(1 - F)*(1 - epsilon_r)*(-2*F - 1) + 2*(1 - F)**2*(epsilon_r**2 + (1 - epsilon_r)**2) + (9*F**2 + (1 - F)**2)*(epsilon_r**2 + (1 - epsilon_r)**2)) - (epsilon_r**2 + (1 - epsilon_r)**2)*(4*(1 - F)**2*(3*F*(epsilon_r**2 + (1 - epsilon_r)**2) + 2*epsilon_g*p_z*(-2*F - 1)*(epsilon_g - 2) - 2*epsilon_r*(1 - epsilon_r)*(-2*F - 1) + (1 - F)*(epsilon_r**2 + (1 - epsilon_r)**2))**2 + (-2*epsilon_g*p_z*(1 - F)*(2*F + 1)*(epsilon_g - 2) - 3*epsilon_g*p_z*(3*F**2 + (1 - F)**2)*(epsilon_g - 2) - 4*epsilon_r*(1 - F)*(1 - epsilon_r)*(-2*F - 1) + 2*(1 - F)**2*(epsilon_r**2 + (1 - epsilon_r)**2) + (9*F**2 + (1 - F)**2)*(epsilon_r**2 + (1 - epsilon_r)**2))**2))\n"
     ]
    }
   ],
   "source": [
    "integraesta=trae.subs(intermsub)\n",
    "integraesta2=integraesta.subs(changevar)\n",
    "arriba, abajo = integraesta2.as_numer_denom()\n",
    "print(integraesta2)"
   ]
  },
  {
   "cell_type": "code",
   "execution_count": null,
   "metadata": {},
   "outputs": [],
   "source": [
    "ecua=sy.simplify(sy.integrate(integraesta2,F))\n",
    "with open(\"integradaecua.txt\", \"w+\") as f:\n",
    "    f.write(str(ecua))"
   ]
  },
  {
   "cell_type": "code",
   "execution_count": null,
   "metadata": {},
   "outputs": [],
   "source": [
    "expansion1=sy.simplify(sy.series(ecua,E,0,3).removeO())\n",
    "expansion1"
   ]
  },
  {
   "cell_type": "code",
   "execution_count": null,
   "metadata": {},
   "outputs": [],
   "source": [
    "print(expansion1)"
   ]
  },
  {
   "cell_type": "code",
   "execution_count": null,
   "metadata": {},
   "outputs": [],
   "source": [
    "expansion2=sy.simplify(sy.series(expansion1,epsilon_g,0,3).removeO())\n",
    "expansion2"
   ]
  },
  {
   "cell_type": "code",
   "execution_count": null,
   "metadata": {},
   "outputs": [],
   "source": [
    "expansion3=sy.simplify(sy.series(expansion2,epsilon_r,0,3).removeO())\n",
    "expansion3"
   ]
  },
  {
   "cell_type": "code",
   "execution_count": null,
   "metadata": {},
   "outputs": [],
   "source": [
    "eq13=expansion3\n",
    "eq13"
   ]
  },
  {
   "cell_type": "code",
   "execution_count": null,
   "metadata": {},
   "outputs": [],
   "source": [
    "print(eq13)"
   ]
  },
  {
   "cell_type": "code",
   "execution_count": null,
   "metadata": {},
   "outputs": [],
   "source": [
    "mideq13=sy.simplify(eq13)\n",
    "mideq13"
   ]
  },
  {
   "cell_type": "code",
   "execution_count": null,
   "metadata": {},
   "outputs": [],
   "source": [
    "#lets try to get a expresion for the evaluation of the integral\n",
    "avg_stp=sy.simplify((mideq13.subs(evaluaF_t)-mideq13.subs(evaluaF_0)))\n",
    "avg_stp"
   ]
  },
  {
   "cell_type": "code",
   "execution_count": null,
   "metadata": {},
   "outputs": [],
   "source": [
    "print(avg_stp)"
   ]
  },
  {
   "cell_type": "code",
   "execution_count": null,
   "metadata": {},
   "outputs": [],
   "source": [
    "print(mideq13)"
   ]
  }
 ],
 "metadata": {
  "kernelspec": {
   "display_name": "Python 3",
   "language": "python",
   "name": "python3"
  },
  "language_info": {
   "codemirror_mode": {
    "name": "ipython",
    "version": 3
   },
   "file_extension": ".py",
   "mimetype": "text/x-python",
   "name": "python",
   "nbconvert_exporter": "python",
   "pygments_lexer": "ipython3",
   "version": "3.8.20"
  }
 },
 "nbformat": 4,
 "nbformat_minor": 2
}
