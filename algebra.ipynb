{
 "cells": [
  {
   "cell_type": "code",
   "execution_count": 2,
   "metadata": {},
   "outputs": [
    {
     "data": {
      "text/latex": [
       "$\\displaystyle 2 \\sqrt{2}$"
      ],
      "text/plain": [
       "2*sqrt(2)"
      ]
     },
     "execution_count": 2,
     "metadata": {},
     "output_type": "execute_result"
    }
   ],
   "source": [
    "import sympy as sy\n",
    "from sympy import symbols\n",
    "import math\n",
    "x,y = symbols('x y')\n",
    "expr=5*x\n",
    "# err_quad=(((x1**2)+(x2**2))*(no_readerror(eta)) + (((x1*y1)+(x2*y2))*(readerror(eta))) +(egate_er(epsilon_g))*(PauliErrors))/(N/((1-epsilon_g)**2))\n",
    "# sy.err_quad\n",
    "math.sqrt(9)\n",
    "sy.sqrt(8)\n"
   ]
  },
  {
   "cell_type": "code",
   "execution_count": 3,
   "metadata": {},
   "outputs": [
    {
     "data": {
      "text/latex": [
       "$\\displaystyle x \\left(5 x - y\\right)$"
      ],
      "text/plain": [
       "x*(5*x - y)"
      ]
     },
     "execution_count": 3,
     "metadata": {},
     "output_type": "execute_result"
    }
   ],
   "source": [
    "#declaring some symbols here\n",
    "p_x,p_y,p_z=symbols('p_x p_y p_z')\n",
    "F,A,B,C,D = symbols('F A B C D')\n",
    "x1,x2,y1,y2,eta,N,epsilon_g,PauliErrors = symbols('x1 x2 y1 y2 eta N epsilon_g PauliErrors')\n",
    "\n",
    "x*(expr - y)"
   ]
  },
  {
   "cell_type": "code",
   "execution_count": 4,
   "metadata": {},
   "outputs": [
    {
     "data": {
      "text/latex": [
       "$\\displaystyle \\frac{\\left(1 - \\epsilon_{g}\\right)^{2} \\left(\\frac{PauliErrors \\left(- \\epsilon_{g}^{2} + 2 \\epsilon_{g}\\right)}{\\left(1 - \\epsilon_{g}\\right)^{2}} + 2 \\eta \\left(1 - \\eta\\right) \\left(x_{1} y_{1} + x_{2} y_{2}\\right) + \\left(\\eta^{2} + \\left(1 - \\eta\\right)^{2}\\right) \\left(x_{1}^{2} + x_{2}^{2}\\right)\\right)}{2 \\eta \\left(1 - \\eta\\right) \\left(2 x_{1} + 2 x_{2}\\right) \\left(y_{1} + y_{2}\\right) + \\left(\\eta^{2} + \\left(1 - \\eta\\right)^{2}\\right) \\left(\\left(x_{1} + x_{2}\\right)^{2} + \\left(y_{1} + y_{2}\\right)^{2}\\right)}$"
      ],
      "text/plain": [
       "(1 - epsilon_g)**2*(PauliErrors*(-epsilon_g**2 + 2*epsilon_g)/(1 - epsilon_g)**2 + 2*eta*(1 - eta)*(x1*y1 + x2*y2) + (eta**2 + (1 - eta)**2)*(x1**2 + x2**2))/(2*eta*(1 - eta)*(2*x1 + 2*x2)*(y1 + y2) + (eta**2 + (1 - eta)**2)*((x1 + x2)**2 + (y1 + y2)**2))"
      ]
     },
     "execution_count": 4,
     "metadata": {},
     "output_type": "execute_result"
    }
   ],
   "source": [
    "err_quad=(((x1**2)+(x2**2))*((eta**2)+((1-eta)**2)) + (((x1*y1)+(x2*y2))*(2*(eta)*(1-eta))) + ((2*(epsilon_g) - (epsilon_g**2))/((1-epsilon_g)**2))*(PauliErrors))/((((x1+x2)**2+(y1+y2)**2)*((eta**2)+((1-eta)**2)) + (2*(x1+x2)*(y1+y2)*(2*(eta)*(1-eta))))/((1-epsilon_g)**2))\n",
    "err_quad\n",
    "# integrate(err_quad,PauliErrors)\n",
    "# input this into this \n"
   ]
  },
  {
   "cell_type": "code",
   "execution_count": 5,
   "metadata": {},
   "outputs": [
    {
     "data": {
      "text/latex": [
       "$\\displaystyle \\frac{\\frac{PauliErrors \\left(- \\epsilon_{g}^{2} + 2 \\epsilon_{g}\\right)}{\\left(1 - \\epsilon_{g}\\right)^{2}} + 2 \\eta \\left(1 - \\eta\\right) \\left(x_{1} y_{2} + x_{2} y_{1}\\right) + 2 y_{1} y_{2} \\left(\\eta^{2} + \\left(1 - \\eta\\right)^{2}\\right)}{\\left(1 - \\epsilon_{g}\\right)^{2} \\left(2 \\epsilon_{g} \\eta \\left(2 x_{1} + 2 x_{2}\\right) \\left(y_{1} + y_{2}\\right) + \\left(\\eta^{2} + \\left(1 - \\eta\\right)^{2}\\right) \\left(\\left(x_{1} + x_{2}\\right)^{2} + \\left(y_{1} + y_{2}\\right)^{2}\\right)\\right)}$"
      ],
      "text/plain": [
       "(PauliErrors*(-epsilon_g**2 + 2*epsilon_g)/(1 - epsilon_g)**2 + 2*eta*(1 - eta)*(x1*y2 + x2*y1) + 2*y1*y2*(eta**2 + (1 - eta)**2))/((1 - epsilon_g)**2*(2*epsilon_g*eta*(2*x1 + 2*x2)*(y1 + y2) + (eta**2 + (1 - eta)**2)*((x1 + x2)**2 + (y1 + y2)**2)))"
      ]
     },
     "execution_count": 5,
     "metadata": {},
     "output_type": "execute_result"
    }
   ],
   "source": [
    "err_line= ((2*y1*y2)*((eta**2)+((1-eta)**2)) + (((x1*y2)+(y1*x2))*(2*(eta)*(1-eta))) + ((2*(epsilon_g) - (epsilon_g**2))/((1-epsilon_g)**2))*(PauliErrors))/((((x1+x2)**2+(y1+y2)**2)*((eta**2)+((1-eta)**2)) + (2*(x1+x2)*(y1+y2)*(2*(eta)*epsilon_g))))/((1-epsilon_g)**2)\n",
    "err_line\n"
   ]
  },
  {
   "cell_type": "code",
   "execution_count": 6,
   "metadata": {},
   "outputs": [
    {
     "data": {
      "text/latex": [
       "$\\displaystyle \\frac{\\left(1 - \\epsilon_{g}\\right)^{2} \\left(2 \\eta \\left(1 - \\eta\\right) \\left(A C + B D\\right) + \\left(A^{2} + B^{2}\\right) \\left(\\eta^{2} + \\left(1 - \\eta\\right)^{2}\\right) + \\frac{\\left(- \\epsilon_{g}^{2} + 2 \\epsilon_{g}\\right) \\left(2 A B p_{z} + 2 C D p_{y} + p_{x} \\left(C^{2} + D^{2}\\right)\\right)}{\\left(1 - \\epsilon_{g}\\right)^{2}}\\right)}{2 \\eta \\left(1 - \\eta\\right) \\left(2 A + 2 B\\right) \\left(C + D\\right) + \\left(\\eta^{2} + \\left(1 - \\eta\\right)^{2}\\right) \\left(\\left(A + B\\right)^{2} + \\left(C + D\\right)^{2}\\right)}$"
      ],
      "text/plain": [
       "(1 - epsilon_g)**2*(2*eta*(1 - eta)*(A*C + B*D) + (A**2 + B**2)*(eta**2 + (1 - eta)**2) + (-epsilon_g**2 + 2*epsilon_g)*(2*A*B*p_z + 2*C*D*p_y + p_x*(C**2 + D**2))/(1 - epsilon_g)**2)/(2*eta*(1 - eta)*(2*A + 2*B)*(C + D) + (eta**2 + (1 - eta)**2)*((A + B)**2 + (C + D)**2))"
      ]
     },
     "execution_count": 6,
     "metadata": {},
     "output_type": "execute_result"
    }
   ],
   "source": [
    "#this will be all the equations:(here to get the latex script)\n",
    "A_error=(((A**2)+(B**2))*((eta**2)+((1-eta)**2)) + (((A*C)+(B*D))*(2*(eta)*(1-eta))) +((2*(epsilon_g) - (epsilon_g**2))/((1-epsilon_g)**2))*((p_x*((C*C)+(D*D)))+(p_y*((C*D)+(C*D)))+(p_z*((A*B)+(A*B)))))/((((A+B)**2+(C+D)**2)*((eta**2)+((1-eta)**2)) + (2*(A+B)*(C+D)*(2*(eta)*(1-eta))))/((1-epsilon_g)**2))\n",
    "C_error=(((C**2)+(D**2))*((eta**2)+((1-eta)**2)) + (((C*A)+(D*B))*(2*(eta)*(1-eta))) +((2*(epsilon_g) - (epsilon_g**2))/((1-epsilon_g)**2))*((p_x*((C*A)+(D*B)))+(p_y*((C*B)+(D*A)))+(p_z*((D*A)+(B*C)))))/((((A+B)**2+(C+D)**2)*((eta**2)+((1-eta)**2)) + (2*(C+D)*(A+B)*(2*(eta)*(1-eta))))/((1-epsilon_g)**2))\n",
    "B_error=((2*A*B)*((eta**2)+((1-eta)**2)) + (((C*B)+(A*D))*(2*(eta)*(1-eta))) + ((2*(epsilon_g) - (epsilon_g**2))/((1-epsilon_g)**2))*((p_x*((A*D)+(B*C)))+(p_y*((A*C)+(B*D)))+(p_z*((A*C)+(B*D)))))/((((A+B)**2+(C+D)**2)*((eta**2)+((1-eta)**2)) + (2*(A+B)*(C+D)*(2*(eta)*(1-eta))))/((1-epsilon_g)**2))\n",
    "D_error=((2*C*D)*((eta**2)+((1-eta)**2)) + (((A*D)+(C*B))*(2*(eta)*(1-eta))) + ((2*(epsilon_g) - (epsilon_g**2))/((1-epsilon_g)**2))*((p_x*((C*D)+(D*C)))+(p_y*((C*C)+(D*D)))+(p_z*((A*A)+(B*B)))))/((((A+B)**2+(C+D)**2)*((eta**2)+((1-eta)**2)) + (2*(A+B)*(C+D)*(2*(eta)*(1-eta))))/((1-epsilon_g)**2))\n",
    "A_error\n",
    "# sy.print_latex(A_error)"
   ]
  },
  {
   "cell_type": "code",
   "execution_count": 7,
   "metadata": {},
   "outputs": [
    {
     "data": {
      "text/latex": [
       "$\\displaystyle \\frac{\\left(1 - \\epsilon_{g}\\right)^{2} \\left(2 C D \\left(\\eta^{2} + \\left(1 - \\eta\\right)^{2}\\right) + 2 \\eta \\left(1 - \\eta\\right) \\left(A D + B C\\right) + \\frac{\\left(- \\epsilon_{g}^{2} + 2 \\epsilon_{g}\\right) \\left(2 C D p_{x} + p_{y} \\left(C^{2} + D^{2}\\right) + p_{z} \\left(A^{2} + B^{2}\\right)\\right)}{\\left(1 - \\epsilon_{g}\\right)^{2}}\\right)}{2 \\eta \\left(1 - \\eta\\right) \\left(2 A + 2 B\\right) \\left(C + D\\right) + \\left(\\eta^{2} + \\left(1 - \\eta\\right)^{2}\\right) \\left(\\left(A + B\\right)^{2} + \\left(C + D\\right)^{2}\\right)}$"
      ],
      "text/plain": [
       "(1 - epsilon_g)**2*(2*C*D*(eta**2 + (1 - eta)**2) + 2*eta*(1 - eta)*(A*D + B*C) + (-epsilon_g**2 + 2*epsilon_g)*(2*C*D*p_x + p_y*(C**2 + D**2) + p_z*(A**2 + B**2))/(1 - epsilon_g)**2)/(2*eta*(1 - eta)*(2*A + 2*B)*(C + D) + (eta**2 + (1 - eta)**2)*((A + B)**2 + (C + D)**2))"
      ]
     },
     "execution_count": 7,
     "metadata": {},
     "output_type": "execute_result"
    }
   ],
   "source": [
    "D_error\n",
    "# sy.print_latex(A_error)"
   ]
  },
  {
   "cell_type": "code",
   "execution_count": 8,
   "metadata": {},
   "outputs": [
    {
     "data": {
      "text/latex": [
       "$\\displaystyle \\frac{\\left(1 - \\epsilon_{g}\\right)^{2} \\left(2 \\eta \\left(1 - \\eta\\right) \\left(B D + C F\\right) + \\left(B^{2} + F^{2}\\right) \\left(\\eta^{2} + \\left(1 - \\eta\\right)^{2}\\right) + \\frac{\\left(- \\epsilon_{g}^{2} + 2 \\epsilon_{g}\\right) \\left(2 B F p_{z} + 2 C D p_{y} + p_{x} \\left(C^{2} + D^{2}\\right)\\right)}{\\left(1 - \\epsilon_{g}\\right)^{2}}\\right)}{2 \\eta \\left(1 - \\eta\\right) \\left(2 B + 2 F\\right) \\left(C + D\\right) + \\left(\\eta^{2} + \\left(1 - \\eta\\right)^{2}\\right) \\left(\\left(B + F\\right)^{2} + \\left(C + D\\right)^{2}\\right)}$"
      ],
      "text/plain": [
       "(1 - epsilon_g)**2*(2*eta*(1 - eta)*(B*D + C*F) + (B**2 + F**2)*(eta**2 + (1 - eta)**2) + (-epsilon_g**2 + 2*epsilon_g)*(2*B*F*p_z + 2*C*D*p_y + p_x*(C**2 + D**2))/(1 - epsilon_g)**2)/(2*eta*(1 - eta)*(2*B + 2*F)*(C + D) + (eta**2 + (1 - eta)**2)*((B + F)**2 + (C + D)**2))"
      ]
     },
     "execution_count": 8,
     "metadata": {},
     "output_type": "execute_result"
    }
   ],
   "source": [
    "#lets substitute A for F so we can insert in into itself\n",
    "A=(((F**2)+(B**2))*((eta**2)+((1-eta)**2)) + (((F*C)+(B*D))*(2*(eta)*(1-eta))) +((2*(epsilon_g) - (epsilon_g**2))/((1-epsilon_g)**2))*((p_x*((C*C)+(D*D)))+(p_y*((C*D)+(C*D)))+(p_z*((F*B)+(F*B)))))/((((F+B)**2+(C+D)**2)*((eta**2)+((1-eta)**2)) + (2*(F+B)*(C+D)*(2*(eta)*(1-eta))))/((1-epsilon_g)**2))\n",
    "\n",
    "#saving num and denom for later\n",
    "topofA, acc_prob=A.as_numer_denom()\n",
    "\n",
    "A"
   ]
  },
  {
   "cell_type": "code",
   "execution_count": 9,
   "metadata": {},
   "outputs": [
    {
     "data": {
      "text/latex": [
       "$\\displaystyle \\frac{\\left(1 - \\epsilon_{g}\\right)^{2} \\left(2 \\eta \\left(1 - \\eta\\right) \\left(F \\left(\\frac{1}{3} - \\frac{F}{3}\\right) + \\left(\\frac{1}{3} - \\frac{F}{3}\\right)^{2}\\right) + \\left(F^{2} + \\left(\\frac{1}{3} - \\frac{F}{3}\\right)^{2}\\right) \\left(\\eta^{2} + \\left(1 - \\eta\\right)^{2}\\right) + \\frac{\\left(- \\epsilon_{g}^{2} + 2 \\epsilon_{g}\\right) \\left(2 F p_{z} \\left(\\frac{1}{3} - \\frac{F}{3}\\right) + 2 p_{x} \\left(\\frac{1}{3} - \\frac{F}{3}\\right)^{2} + 2 p_{y} \\left(\\frac{1}{3} - \\frac{F}{3}\\right)^{2}\\right)}{\\left(1 - \\epsilon_{g}\\right)^{2}}\\right)}{2 \\eta \\left(\\frac{2}{3} - \\frac{2 F}{3}\\right) \\left(1 - \\eta\\right) \\left(\\frac{4 F}{3} + \\frac{2}{3}\\right) + \\left(\\eta^{2} + \\left(1 - \\eta\\right)^{2}\\right) \\left(\\left(\\frac{2}{3} - \\frac{2 F}{3}\\right)^{2} + \\left(\\frac{2 F}{3} + \\frac{1}{3}\\right)^{2}\\right)}$"
      ],
      "text/plain": [
       "(1 - epsilon_g)**2*(2*eta*(1 - eta)*(F*(1/3 - F/3) + (1/3 - F/3)**2) + (F**2 + (1/3 - F/3)**2)*(eta**2 + (1 - eta)**2) + (-epsilon_g**2 + 2*epsilon_g)*(2*F*p_z*(1/3 - F/3) + 2*p_x*(1/3 - F/3)**2 + 2*p_y*(1/3 - F/3)**2)/(1 - epsilon_g)**2)/(2*eta*(2/3 - 2*F/3)*(1 - eta)*(4*F/3 + 2/3) + (eta**2 + (1 - eta)**2)*((2/3 - 2*F/3)**2 + (2*F/3 + 1/3)**2))"
      ]
     },
     "execution_count": 9,
     "metadata": {},
     "output_type": "execute_result"
    }
   ],
   "source": [
    "subs_dict = {\n",
    "    # eta: 1 - 10e-4,\n",
    "    # epsilon_g: 5e-4,\n",
    "    # p_x: 0.25,\n",
    "    # p_y: 0.25,topofA, acc_prob=A.as_numer_denom()\n",
    "    # C: 0.17,\n",
    "    # D: 0.02\n",
    "    B:(1-F)/3,\n",
    "    C:(1-F)/3,\n",
    "    D:(1-F)/3\n",
    "}\n",
    "A_substituted = A.subs(subs_dict)\n",
    "A_substituted\n",
    "# A_simplified = sy.simplify(A_substituted)\n",
    "# A_substituted\n",
    "# print(A_substituted)\n",
    "\n"
   ]
  },
  {
   "cell_type": "code",
   "execution_count": 10,
   "metadata": {},
   "outputs": [
    {
     "data": {
      "text/latex": [
       "$\\displaystyle \\frac{\\left(1 - \\epsilon_{g}\\right)^{2} \\left(2 \\eta \\left(1 - \\eta\\right) \\left(B D + \\frac{C \\left(1 - \\epsilon_{g}\\right)^{2} \\left(2 \\eta \\left(1 - \\eta\\right) \\left(B D + C F\\right) + \\left(B^{2} + F^{2}\\right) \\left(\\eta^{2} + \\left(1 - \\eta\\right)^{2}\\right) + \\frac{\\left(- \\epsilon_{g}^{2} + 2 \\epsilon_{g}\\right) \\left(2 B F p_{z} + 2 C D p_{y} + p_{x} \\left(C^{2} + D^{2}\\right)\\right)}{\\left(1 - \\epsilon_{g}\\right)^{2}}\\right)}{2 \\eta \\left(1 - \\eta\\right) \\left(2 B + 2 F\\right) \\left(C + D\\right) + \\left(\\eta^{2} + \\left(1 - \\eta\\right)^{2}\\right) \\left(\\left(B + F\\right)^{2} + \\left(C + D\\right)^{2}\\right)}\\right) + \\left(B^{2} + \\frac{\\left(1 - \\epsilon_{g}\\right)^{4} \\left(2 \\eta \\left(1 - \\eta\\right) \\left(B D + C F\\right) + \\left(B^{2} + F^{2}\\right) \\left(\\eta^{2} + \\left(1 - \\eta\\right)^{2}\\right) + \\frac{\\left(- \\epsilon_{g}^{2} + 2 \\epsilon_{g}\\right) \\left(2 B F p_{z} + 2 C D p_{y} + p_{x} \\left(C^{2} + D^{2}\\right)\\right)}{\\left(1 - \\epsilon_{g}\\right)^{2}}\\right)^{2}}{\\left(2 \\eta \\left(1 - \\eta\\right) \\left(2 B + 2 F\\right) \\left(C + D\\right) + \\left(\\eta^{2} + \\left(1 - \\eta\\right)^{2}\\right) \\left(\\left(B + F\\right)^{2} + \\left(C + D\\right)^{2}\\right)\\right)^{2}}\\right) \\left(\\eta^{2} + \\left(1 - \\eta\\right)^{2}\\right) + \\frac{\\left(- \\epsilon_{g}^{2} + 2 \\epsilon_{g}\\right) \\left(\\frac{2 B p_{z} \\left(1 - \\epsilon_{g}\\right)^{2} \\left(2 \\eta \\left(1 - \\eta\\right) \\left(B D + C F\\right) + \\left(B^{2} + F^{2}\\right) \\left(\\eta^{2} + \\left(1 - \\eta\\right)^{2}\\right) + \\frac{\\left(- \\epsilon_{g}^{2} + 2 \\epsilon_{g}\\right) \\left(2 B F p_{z} + 2 C D p_{y} + p_{x} \\left(C^{2} + D^{2}\\right)\\right)}{\\left(1 - \\epsilon_{g}\\right)^{2}}\\right)}{2 \\eta \\left(1 - \\eta\\right) \\left(2 B + 2 F\\right) \\left(C + D\\right) + \\left(\\eta^{2} + \\left(1 - \\eta\\right)^{2}\\right) \\left(\\left(B + F\\right)^{2} + \\left(C + D\\right)^{2}\\right)} + 2 C D p_{y} + p_{x} \\left(C^{2} + D^{2}\\right)\\right)}{\\left(1 - \\epsilon_{g}\\right)^{2}}\\right)}{2 \\eta \\left(1 - \\eta\\right) \\left(2 B + \\frac{2 \\left(1 - \\epsilon_{g}\\right)^{2} \\left(2 \\eta \\left(1 - \\eta\\right) \\left(B D + C F\\right) + \\left(B^{2} + F^{2}\\right) \\left(\\eta^{2} + \\left(1 - \\eta\\right)^{2}\\right) + \\frac{\\left(- \\epsilon_{g}^{2} + 2 \\epsilon_{g}\\right) \\left(2 B F p_{z} + 2 C D p_{y} + p_{x} \\left(C^{2} + D^{2}\\right)\\right)}{\\left(1 - \\epsilon_{g}\\right)^{2}}\\right)}{2 \\eta \\left(1 - \\eta\\right) \\left(2 B + 2 F\\right) \\left(C + D\\right) + \\left(\\eta^{2} + \\left(1 - \\eta\\right)^{2}\\right) \\left(\\left(B + F\\right)^{2} + \\left(C + D\\right)^{2}\\right)}\\right) \\left(C + D\\right) + \\left(\\eta^{2} + \\left(1 - \\eta\\right)^{2}\\right) \\left(\\left(B + \\frac{\\left(1 - \\epsilon_{g}\\right)^{2} \\left(2 \\eta \\left(1 - \\eta\\right) \\left(B D + C F\\right) + \\left(B^{2} + F^{2}\\right) \\left(\\eta^{2} + \\left(1 - \\eta\\right)^{2}\\right) + \\frac{\\left(- \\epsilon_{g}^{2} + 2 \\epsilon_{g}\\right) \\left(2 B F p_{z} + 2 C D p_{y} + p_{x} \\left(C^{2} + D^{2}\\right)\\right)}{\\left(1 - \\epsilon_{g}\\right)^{2}}\\right)}{2 \\eta \\left(1 - \\eta\\right) \\left(2 B + 2 F\\right) \\left(C + D\\right) + \\left(\\eta^{2} + \\left(1 - \\eta\\right)^{2}\\right) \\left(\\left(B + F\\right)^{2} + \\left(C + D\\right)^{2}\\right)}\\right)^{2} + \\left(C + D\\right)^{2}\\right)}$"
      ],
      "text/plain": [
       "(1 - epsilon_g)**2*(2*eta*(1 - eta)*(B*D + C*(1 - epsilon_g)**2*(2*eta*(1 - eta)*(B*D + C*F) + (B**2 + F**2)*(eta**2 + (1 - eta)**2) + (-epsilon_g**2 + 2*epsilon_g)*(2*B*F*p_z + 2*C*D*p_y + p_x*(C**2 + D**2))/(1 - epsilon_g)**2)/(2*eta*(1 - eta)*(2*B + 2*F)*(C + D) + (eta**2 + (1 - eta)**2)*((B + F)**2 + (C + D)**2))) + (B**2 + (1 - epsilon_g)**4*(2*eta*(1 - eta)*(B*D + C*F) + (B**2 + F**2)*(eta**2 + (1 - eta)**2) + (-epsilon_g**2 + 2*epsilon_g)*(2*B*F*p_z + 2*C*D*p_y + p_x*(C**2 + D**2))/(1 - epsilon_g)**2)**2/(2*eta*(1 - eta)*(2*B + 2*F)*(C + D) + (eta**2 + (1 - eta)**2)*((B + F)**2 + (C + D)**2))**2)*(eta**2 + (1 - eta)**2) + (-epsilon_g**2 + 2*epsilon_g)*(2*B*p_z*(1 - epsilon_g)**2*(2*eta*(1 - eta)*(B*D + C*F) + (B**2 + F**2)*(eta**2 + (1 - eta)**2) + (-epsilon_g**2 + 2*epsilon_g)*(2*B*F*p_z + 2*C*D*p_y + p_x*(C**2 + D**2))/(1 - epsilon_g)**2)/(2*eta*(1 - eta)*(2*B + 2*F)*(C + D) + (eta**2 + (1 - eta)**2)*((B + F)**2 + (C + D)**2)) + 2*C*D*p_y + p_x*(C**2 + D**2))/(1 - epsilon_g)**2)/(2*eta*(1 - eta)*(2*B + 2*(1 - epsilon_g)**2*(2*eta*(1 - eta)*(B*D + C*F) + (B**2 + F**2)*(eta**2 + (1 - eta)**2) + (-epsilon_g**2 + 2*epsilon_g)*(2*B*F*p_z + 2*C*D*p_y + p_x*(C**2 + D**2))/(1 - epsilon_g)**2)/(2*eta*(1 - eta)*(2*B + 2*F)*(C + D) + (eta**2 + (1 - eta)**2)*((B + F)**2 + (C + D)**2)))*(C + D) + (eta**2 + (1 - eta)**2)*((B + (1 - epsilon_g)**2*(2*eta*(1 - eta)*(B*D + C*F) + (B**2 + F**2)*(eta**2 + (1 - eta)**2) + (-epsilon_g**2 + 2*epsilon_g)*(2*B*F*p_z + 2*C*D*p_y + p_x*(C**2 + D**2))/(1 - epsilon_g)**2)/(2*eta*(1 - eta)*(2*B + 2*F)*(C + D) + (eta**2 + (1 - eta)**2)*((B + F)**2 + (C + D)**2)))**2 + (C + D)**2))"
      ]
     },
     "execution_count": 10,
     "metadata": {},
     "output_type": "execute_result"
    }
   ],
   "source": [
    "#First substitues the F'' and then transforms everything to (1-F)/3\n",
    "Aprime=(((A**2)+(B**2))*((eta**2)+((1-eta)**2)) + (((A*C)+(B*D))*(2*(eta)*(1-eta))) +((2*(epsilon_g) - (epsilon_g**2))/((1-epsilon_g)**2))*((p_x*((C*C)+(D*D)))+(p_y*((C*D)+(C*D)))+(p_z*((A*B)+(A*B)))))/((((A+B)**2+(C+D)**2)*((eta**2)+((1-eta)**2)) + (2*(A+B)*(C+D)*(2*(eta)*(1-eta))))/((1-epsilon_g)**2))\n",
    "#storing denom for later\n",
    "topofAprime, acc_probAprime=Aprime.as_numer_denom()\n",
    "A_prime_sub = Aprime.subs(subs_dict)\n",
    "#printing\n",
    "Aprime\n",
    "\n",
    "#THIS PART SIMPLIFIES THE EQ, TAKES AROUND 15 MIN TO RUN\n",
    "# Asimple=sy.simplify(A_prime_sub)\n",
    "# Asimple\n",
    "# num, denom= Asimple.as_numer_denom()\n",
    "\n",
    "# # Now you can work with each part independently:\n",
    "# print(num)\n",
    "# print(denom) \n",
    "# CALC FIXED POINTS\n",
    "# IF NOT WORK TAYLOR EXPAND around eta=1 or eg=0, f=1 (e=1-f)"
   ]
  },
  {
   "cell_type": "code",
   "execution_count": 11,
   "metadata": {},
   "outputs": [],
   "source": [
    "#uncomment this part to get the simplified equations\n",
    "# num, denom= Asimple.as_numer_denom()\n",
    "# print(num)\n",
    "# print(denom)"
   ]
  },
  {
   "cell_type": "code",
   "execution_count": 12,
   "metadata": {},
   "outputs": [
    {
     "data": {
      "text/latex": [
       "$\\displaystyle \\frac{\\left(1 - \\epsilon_{g}\\right)^{2} \\left(2 \\eta \\left(1 - \\eta\\right) \\left(\\left(\\frac{1}{3} - \\frac{F}{3}\\right)^{2} + \\frac{\\left(\\frac{1}{3} - \\frac{F}{3}\\right) \\left(1 - \\epsilon_{g}\\right)^{2} \\left(2 \\eta \\left(1 - \\eta\\right) \\left(F \\left(\\frac{1}{3} - \\frac{F}{3}\\right) + \\left(\\frac{1}{3} - \\frac{F}{3}\\right)^{2}\\right) + \\left(F^{2} + \\left(\\frac{1}{3} - \\frac{F}{3}\\right)^{2}\\right) \\left(\\eta^{2} + \\left(1 - \\eta\\right)^{2}\\right) + \\frac{\\left(- \\epsilon_{g}^{2} + 2 \\epsilon_{g}\\right) \\left(2 F p_{z} \\left(\\frac{1}{3} - \\frac{F}{3}\\right) + 2 p_{x} \\left(\\frac{1}{3} - \\frac{F}{3}\\right)^{2} + 2 p_{y} \\left(\\frac{1}{3} - \\frac{F}{3}\\right)^{2}\\right)}{\\left(1 - \\epsilon_{g}\\right)^{2}}\\right)}{2 \\eta \\left(\\frac{2}{3} - \\frac{2 F}{3}\\right) \\left(1 - \\eta\\right) \\left(\\frac{4 F}{3} + \\frac{2}{3}\\right) + \\left(\\eta^{2} + \\left(1 - \\eta\\right)^{2}\\right) \\left(\\left(\\frac{2}{3} - \\frac{2 F}{3}\\right)^{2} + \\left(\\frac{2 F}{3} + \\frac{1}{3}\\right)^{2}\\right)}\\right) + \\left(\\eta^{2} + \\left(1 - \\eta\\right)^{2}\\right) \\left(\\left(\\frac{1}{3} - \\frac{F}{3}\\right)^{2} + \\frac{\\left(1 - \\epsilon_{g}\\right)^{4} \\left(2 \\eta \\left(1 - \\eta\\right) \\left(F \\left(\\frac{1}{3} - \\frac{F}{3}\\right) + \\left(\\frac{1}{3} - \\frac{F}{3}\\right)^{2}\\right) + \\left(F^{2} + \\left(\\frac{1}{3} - \\frac{F}{3}\\right)^{2}\\right) \\left(\\eta^{2} + \\left(1 - \\eta\\right)^{2}\\right) + \\frac{\\left(- \\epsilon_{g}^{2} + 2 \\epsilon_{g}\\right) \\left(2 F p_{z} \\left(\\frac{1}{3} - \\frac{F}{3}\\right) + 2 p_{x} \\left(\\frac{1}{3} - \\frac{F}{3}\\right)^{2} + 2 p_{y} \\left(\\frac{1}{3} - \\frac{F}{3}\\right)^{2}\\right)}{\\left(1 - \\epsilon_{g}\\right)^{2}}\\right)^{2}}{\\left(2 \\eta \\left(\\frac{2}{3} - \\frac{2 F}{3}\\right) \\left(1 - \\eta\\right) \\left(\\frac{4 F}{3} + \\frac{2}{3}\\right) + \\left(\\eta^{2} + \\left(1 - \\eta\\right)^{2}\\right) \\left(\\left(\\frac{2}{3} - \\frac{2 F}{3}\\right)^{2} + \\left(\\frac{2 F}{3} + \\frac{1}{3}\\right)^{2}\\right)\\right)^{2}}\\right) + \\frac{\\left(- \\epsilon_{g}^{2} + 2 \\epsilon_{g}\\right) \\left(2 p_{x} \\left(\\frac{1}{3} - \\frac{F}{3}\\right)^{2} + 2 p_{y} \\left(\\frac{1}{3} - \\frac{F}{3}\\right)^{2} + \\frac{2 p_{z} \\left(\\frac{1}{3} - \\frac{F}{3}\\right) \\left(1 - \\epsilon_{g}\\right)^{2} \\left(2 \\eta \\left(1 - \\eta\\right) \\left(F \\left(\\frac{1}{3} - \\frac{F}{3}\\right) + \\left(\\frac{1}{3} - \\frac{F}{3}\\right)^{2}\\right) + \\left(F^{2} + \\left(\\frac{1}{3} - \\frac{F}{3}\\right)^{2}\\right) \\left(\\eta^{2} + \\left(1 - \\eta\\right)^{2}\\right) + \\frac{\\left(- \\epsilon_{g}^{2} + 2 \\epsilon_{g}\\right) \\left(2 F p_{z} \\left(\\frac{1}{3} - \\frac{F}{3}\\right) + 2 p_{x} \\left(\\frac{1}{3} - \\frac{F}{3}\\right)^{2} + 2 p_{y} \\left(\\frac{1}{3} - \\frac{F}{3}\\right)^{2}\\right)}{\\left(1 - \\epsilon_{g}\\right)^{2}}\\right)}{2 \\eta \\left(\\frac{2}{3} - \\frac{2 F}{3}\\right) \\left(1 - \\eta\\right) \\left(\\frac{4 F}{3} + \\frac{2}{3}\\right) + \\left(\\eta^{2} + \\left(1 - \\eta\\right)^{2}\\right) \\left(\\left(\\frac{2}{3} - \\frac{2 F}{3}\\right)^{2} + \\left(\\frac{2 F}{3} + \\frac{1}{3}\\right)^{2}\\right)}\\right)}{\\left(1 - \\epsilon_{g}\\right)^{2}}\\right)}{2 \\eta \\left(\\frac{2}{3} - \\frac{2 F}{3}\\right) \\left(1 - \\eta\\right) \\left(- \\frac{2 F}{3} + \\frac{2 \\left(1 - \\epsilon_{g}\\right)^{2} \\left(2 \\eta \\left(1 - \\eta\\right) \\left(F \\left(\\frac{1}{3} - \\frac{F}{3}\\right) + \\left(\\frac{1}{3} - \\frac{F}{3}\\right)^{2}\\right) + \\left(F^{2} + \\left(\\frac{1}{3} - \\frac{F}{3}\\right)^{2}\\right) \\left(\\eta^{2} + \\left(1 - \\eta\\right)^{2}\\right) + \\frac{\\left(- \\epsilon_{g}^{2} + 2 \\epsilon_{g}\\right) \\left(2 F p_{z} \\left(\\frac{1}{3} - \\frac{F}{3}\\right) + 2 p_{x} \\left(\\frac{1}{3} - \\frac{F}{3}\\right)^{2} + 2 p_{y} \\left(\\frac{1}{3} - \\frac{F}{3}\\right)^{2}\\right)}{\\left(1 - \\epsilon_{g}\\right)^{2}}\\right)}{2 \\eta \\left(\\frac{2}{3} - \\frac{2 F}{3}\\right) \\left(1 - \\eta\\right) \\left(\\frac{4 F}{3} + \\frac{2}{3}\\right) + \\left(\\eta^{2} + \\left(1 - \\eta\\right)^{2}\\right) \\left(\\left(\\frac{2}{3} - \\frac{2 F}{3}\\right)^{2} + \\left(\\frac{2 F}{3} + \\frac{1}{3}\\right)^{2}\\right)} + \\frac{2}{3}\\right) + \\left(\\eta^{2} + \\left(1 - \\eta\\right)^{2}\\right) \\left(\\left(\\frac{2}{3} - \\frac{2 F}{3}\\right)^{2} + \\left(- \\frac{F}{3} + \\frac{\\left(1 - \\epsilon_{g}\\right)^{2} \\left(2 \\eta \\left(1 - \\eta\\right) \\left(F \\left(\\frac{1}{3} - \\frac{F}{3}\\right) + \\left(\\frac{1}{3} - \\frac{F}{3}\\right)^{2}\\right) + \\left(F^{2} + \\left(\\frac{1}{3} - \\frac{F}{3}\\right)^{2}\\right) \\left(\\eta^{2} + \\left(1 - \\eta\\right)^{2}\\right) + \\frac{\\left(- \\epsilon_{g}^{2} + 2 \\epsilon_{g}\\right) \\left(2 F p_{z} \\left(\\frac{1}{3} - \\frac{F}{3}\\right) + 2 p_{x} \\left(\\frac{1}{3} - \\frac{F}{3}\\right)^{2} + 2 p_{y} \\left(\\frac{1}{3} - \\frac{F}{3}\\right)^{2}\\right)}{\\left(1 - \\epsilon_{g}\\right)^{2}}\\right)}{2 \\eta \\left(\\frac{2}{3} - \\frac{2 F}{3}\\right) \\left(1 - \\eta\\right) \\left(\\frac{4 F}{3} + \\frac{2}{3}\\right) + \\left(\\eta^{2} + \\left(1 - \\eta\\right)^{2}\\right) \\left(\\left(\\frac{2}{3} - \\frac{2 F}{3}\\right)^{2} + \\left(\\frac{2 F}{3} + \\frac{1}{3}\\right)^{2}\\right)} + \\frac{1}{3}\\right)^{2}\\right)}$"
      ],
      "text/plain": [
       "(1 - epsilon_g)**2*(2*eta*(1 - eta)*((1/3 - F/3)**2 + (1/3 - F/3)*(1 - epsilon_g)**2*(2*eta*(1 - eta)*(F*(1/3 - F/3) + (1/3 - F/3)**2) + (F**2 + (1/3 - F/3)**2)*(eta**2 + (1 - eta)**2) + (-epsilon_g**2 + 2*epsilon_g)*(2*F*p_z*(1/3 - F/3) + 2*p_x*(1/3 - F/3)**2 + 2*p_y*(1/3 - F/3)**2)/(1 - epsilon_g)**2)/(2*eta*(2/3 - 2*F/3)*(1 - eta)*(4*F/3 + 2/3) + (eta**2 + (1 - eta)**2)*((2/3 - 2*F/3)**2 + (2*F/3 + 1/3)**2))) + (eta**2 + (1 - eta)**2)*((1/3 - F/3)**2 + (1 - epsilon_g)**4*(2*eta*(1 - eta)*(F*(1/3 - F/3) + (1/3 - F/3)**2) + (F**2 + (1/3 - F/3)**2)*(eta**2 + (1 - eta)**2) + (-epsilon_g**2 + 2*epsilon_g)*(2*F*p_z*(1/3 - F/3) + 2*p_x*(1/3 - F/3)**2 + 2*p_y*(1/3 - F/3)**2)/(1 - epsilon_g)**2)**2/(2*eta*(2/3 - 2*F/3)*(1 - eta)*(4*F/3 + 2/3) + (eta**2 + (1 - eta)**2)*((2/3 - 2*F/3)**2 + (2*F/3 + 1/3)**2))**2) + (-epsilon_g**2 + 2*epsilon_g)*(2*p_x*(1/3 - F/3)**2 + 2*p_y*(1/3 - F/3)**2 + 2*p_z*(1/3 - F/3)*(1 - epsilon_g)**2*(2*eta*(1 - eta)*(F*(1/3 - F/3) + (1/3 - F/3)**2) + (F**2 + (1/3 - F/3)**2)*(eta**2 + (1 - eta)**2) + (-epsilon_g**2 + 2*epsilon_g)*(2*F*p_z*(1/3 - F/3) + 2*p_x*(1/3 - F/3)**2 + 2*p_y*(1/3 - F/3)**2)/(1 - epsilon_g)**2)/(2*eta*(2/3 - 2*F/3)*(1 - eta)*(4*F/3 + 2/3) + (eta**2 + (1 - eta)**2)*((2/3 - 2*F/3)**2 + (2*F/3 + 1/3)**2)))/(1 - epsilon_g)**2)/(2*eta*(2/3 - 2*F/3)*(1 - eta)*(-2*F/3 + 2*(1 - epsilon_g)**2*(2*eta*(1 - eta)*(F*(1/3 - F/3) + (1/3 - F/3)**2) + (F**2 + (1/3 - F/3)**2)*(eta**2 + (1 - eta)**2) + (-epsilon_g**2 + 2*epsilon_g)*(2*F*p_z*(1/3 - F/3) + 2*p_x*(1/3 - F/3)**2 + 2*p_y*(1/3 - F/3)**2)/(1 - epsilon_g)**2)/(2*eta*(2/3 - 2*F/3)*(1 - eta)*(4*F/3 + 2/3) + (eta**2 + (1 - eta)**2)*((2/3 - 2*F/3)**2 + (2*F/3 + 1/3)**2)) + 2/3) + (eta**2 + (1 - eta)**2)*((2/3 - 2*F/3)**2 + (-F/3 + (1 - epsilon_g)**2*(2*eta*(1 - eta)*(F*(1/3 - F/3) + (1/3 - F/3)**2) + (F**2 + (1/3 - F/3)**2)*(eta**2 + (1 - eta)**2) + (-epsilon_g**2 + 2*epsilon_g)*(2*F*p_z*(1/3 - F/3) + 2*p_x*(1/3 - F/3)**2 + 2*p_y*(1/3 - F/3)**2)/(1 - epsilon_g)**2)/(2*eta*(2/3 - 2*F/3)*(1 - eta)*(4*F/3 + 2/3) + (eta**2 + (1 - eta)**2)*((2/3 - 2*F/3)**2 + (2*F/3 + 1/3)**2)) + 1/3)**2))"
      ]
     },
     "execution_count": 12,
     "metadata": {},
     "output_type": "execute_result"
    }
   ],
   "source": [
    "A_prime_sub\n",
    "# this writes functions on a txt file\n",
    "# with open(\"dejm2.txt\", \"w+\") as f:\n",
    "#     f.write(str(A_prime_sub))"
   ]
  },
  {
   "cell_type": "code",
   "execution_count": 13,
   "metadata": {},
   "outputs": [],
   "source": [
    "simplified_num=-2*epsilon_g*(F - 1)*(epsilon_g - 2)*(-3*p_z*(-2*epsilon_g*(F - 1)*(epsilon_g - 2)*(-3*F*p_z + p_x*(F - 1) + p_y*(F - 1)) + (epsilon_g - 1)**2*(2*eta*(F - 1)*(2*F + 1)*(eta - 1) + (9*F**2 + (F - 1)**2)*(eta**2 + (eta - 1)**2))) + (F - 1)*(p_x + p_y)*(8*eta*(F - 1)*(2*F + 1)*(eta - 1) + (eta**2 + (eta - 1)**2)*(4*(F - 1)**2 + (2*F + 1)**2)))*(8*eta*(F - 1)*(2*F + 1)*(eta - 1) + (eta**2 + (eta - 1)**2)*(4*(F - 1)**2 + (2*F + 1)**2)) - 2*eta*(F - 1)*(epsilon_g - 1)**2*(eta - 1)*(8*eta*(F - 1)*(2*F + 1)*(eta - 1) + (eta**2 + (eta - 1)**2)*(4*(F - 1)**2 + (2*F + 1)**2))*(6*epsilon_g*(F - 1)*(epsilon_g - 2)*(-3*F*p_z + p_x*(F - 1) + p_y*(F - 1)) + (F - 1)*(8*eta*(F - 1)*(2*F + 1)*(eta - 1) + (eta**2 + (eta - 1)**2)*(4*(F - 1)**2 + (2*F + 1)**2)) - 3*(epsilon_g - 1)**2*(2*eta*(F - 1)*(2*F + 1)*(eta - 1) + (9*F**2 + (F - 1)**2)*(eta**2 + (eta - 1)**2))) + (epsilon_g - 1)**2*(eta**2 + (eta - 1)**2)*((F - 1)**2*(8*eta*(F - 1)*(2*F + 1)*(eta - 1) + (eta**2 + (eta - 1)**2)*(4*(F - 1)**2 + (2*F + 1)**2))**2 + 9*(-2*epsilon_g*(F - 1)*(epsilon_g - 2)*(-3*F*p_z + p_x*(F - 1) + p_y*(F - 1)) + (epsilon_g - 1)**2*(2*eta*(F - 1)*(2*F + 1)*(eta - 1) + (9*F**2 + (F - 1)**2)*(eta**2 + (eta - 1)**2)))**2)\n",
    "simplified_den=8*eta*(F - 1)*(eta - 1)*(8*eta*(F - 1)*(2*F + 1)*(eta - 1) + (eta**2 + (eta - 1)**2)*(4*(F - 1)**2 + (2*F + 1)**2))*(-6*epsilon_g*(F - 1)*(epsilon_g - 2)*(-3*F*p_z + p_x*(F - 1) + p_y*(F - 1)) + (1 - F)*(8*eta*(F - 1)*(2*F + 1)*(eta - 1) + (eta**2 + (eta - 1)**2)*(4*(F - 1)**2 + (2*F + 1)**2)) + 3*(epsilon_g - 1)**2*(2*eta*(F - 1)*(2*F + 1)*(eta - 1) + (9*F**2 + (F - 1)**2)*(eta**2 + (eta - 1)**2))) + (eta**2 + (eta - 1)**2)*(4*(F - 1)**2*(8*eta*(F - 1)*(2*F + 1)*(eta - 1) + (eta**2 + (eta - 1)**2)*(4*(F - 1)**2 + (2*F + 1)**2))**2 + (-6*epsilon_g*(F - 1)*(epsilon_g - 2)*(-3*F*p_z + p_x*(F - 1) + p_y*(F - 1)) + (1 - F)*(8*eta*(F - 1)*(2*F + 1)*(eta - 1) + (eta**2 + (eta - 1)**2)*(4*(F - 1)**2 + (2*F + 1)**2)) + 3*(epsilon_g - 1)**2*(2*eta*(F - 1)*(2*F + 1)*(eta - 1) + (9*F**2 + (F - 1)**2)*(eta**2 + (eta - 1)**2)))**2)\n",
    "# hybrid_num=sy.simplify(simplified_num)\n",
    "# hybrid_den=sy.simplify(simplified_den)\n",
    "# hybrid_eq=(hybrid_num/hybrid_den)\n",
    "# hu=sy.simplify(hybrid_eq)\n",
    "# After simplifying again this is the eq\n",
    "hu=(2*epsilon_g*(F - 1)*(epsilon_g - 2)*(3*p_z*(2*epsilon_g*(F - 1)*(epsilon_g - 2)*(-3*F*p_z + p_x*(F - 1) + p_y*(F - 1)) - (epsilon_g - 1)**2*(2*eta*(F - 1)*(2*F + 1)*(eta - 1) + (9*F**2 + (F - 1)**2)*(eta**2 + (eta - 1)**2))) + (F - 1)*(p_x + p_y)*(8*eta*(F - 1)*(2*F + 1)*(eta - 1) + (eta**2 + (eta - 1)**2)*(4*(F - 1)**2 + (2*F + 1)**2)))*(8*eta*(F - 1)*(2*F + 1)*(eta - 1) + (eta**2 + (eta - 1)**2)*(4*(F - 1)**2 + (2*F + 1)**2)) + 2*eta*(F - 1)*(epsilon_g - 1)**2*(eta - 1)*(8*eta*(F - 1)*(2*F + 1)*(eta - 1) + (eta**2 + (eta - 1)**2)*(4*(F - 1)**2 + (2*F + 1)**2))*(6*epsilon_g*(F - 1)*(epsilon_g - 2)*(-3*F*p_z + p_x*(F - 1) + p_y*(F - 1)) + (F - 1)*(8*eta*(F - 1)*(2*F + 1)*(eta - 1) + (eta**2 + (eta - 1)**2)*(4*(F - 1)**2 + (2*F + 1)**2)) - 3*(epsilon_g - 1)**2*(2*eta*(F - 1)*(2*F + 1)*(eta - 1) + (9*F**2 + (F - 1)**2)*(eta**2 + (eta - 1)**2))) - (epsilon_g - 1)**2*(eta**2 + (eta - 1)**2)*((F - 1)**2*(8*eta*(F - 1)*(2*F + 1)*(eta - 1) + (eta**2 + (eta - 1)**2)*(4*(F - 1)**2 + (2*F + 1)**2))**2 + 9*(2*epsilon_g*(F - 1)*(epsilon_g - 2)*(-3*F*p_z + p_x*(F - 1) + p_y*(F - 1)) - (epsilon_g - 1)**2*(2*eta*(F - 1)*(2*F + 1)*(eta - 1) + (9*F**2 + (F - 1)**2)*(eta**2 + (eta - 1)**2)))**2))/(8*eta*(F - 1)*(eta - 1)*(8*eta*(F - 1)*(2*F + 1)*(eta - 1) + (eta**2 + (eta - 1)**2)*(4*(F - 1)**2 + (2*F + 1)**2))*(6*epsilon_g*(F - 1)*(epsilon_g - 2)*(-3*F*p_z + p_x*(F - 1) + p_y*(F - 1)) + (F - 1)*(8*eta*(F - 1)*(2*F + 1)*(eta - 1) + (eta**2 + (eta - 1)**2)*(4*(F - 1)**2 + (2*F + 1)**2)) - 3*(epsilon_g - 1)**2*(2*eta*(F - 1)*(2*F + 1)*(eta - 1) + (9*F**2 + (F - 1)**2)*(eta**2 + (eta - 1)**2))) - (eta**2 + (eta - 1)**2)*(4*(F - 1)**2*(8*eta*(F - 1)*(2*F + 1)*(eta - 1) + (eta**2 + (eta - 1)**2)*(4*(F - 1)**2 + (2*F + 1)**2))**2 + (6*epsilon_g*(F - 1)*(epsilon_g - 2)*(-3*F*p_z + p_x*(F - 1) + p_y*(F - 1)) + (F - 1)*(8*eta*(F - 1)*(2*F + 1)*(eta - 1) + (eta**2 + (eta - 1)**2)*(4*(F - 1)**2 + (2*F + 1)**2)) - 3*(epsilon_g - 1)**2*(2*eta*(F - 1)*(2*F + 1)*(eta - 1) + (9*F**2 + (F - 1)**2)*(eta**2 + (eta - 1)**2)))**2))"
   ]
  },
  {
   "cell_type": "code",
   "execution_count": 14,
   "metadata": {},
   "outputs": [
    {
     "data": {
      "text/latex": [
       "$\\displaystyle \\left(\\epsilon_{g} - 1\\right)^{2} \\left(- 729 \\eta^{2} \\left(2 \\epsilon_{g}^{2} \\eta^{2} - 2 \\epsilon_{g}^{2} \\eta + \\epsilon_{g}^{2} - 4 \\epsilon_{g} \\eta^{2} + 4 \\epsilon_{g} \\eta - 2 \\epsilon_{g} + 2 \\eta^{2} - 2 \\eta + 1\\right) \\left(- 2 \\epsilon_{g}^{2} \\eta^{2} + 2 \\epsilon_{g}^{2} \\eta - \\epsilon_{g}^{2} + 4 \\epsilon_{g} \\eta^{2} - 4 \\epsilon_{g} \\eta + 2 \\epsilon_{g} + 2 \\eta^{2} \\left(\\epsilon_{g} - 1\\right)^{2} - 2 \\eta^{2} + 2 \\eta + 2 \\left(\\epsilon_{g} - 1\\right)^{2} \\left(\\eta - 1\\right)^{2} - 1\\right) - 486 \\left(F - 1\\right) \\left(\\epsilon_{g}^{2} \\eta^{4} p_{z} + 2 \\epsilon_{g}^{2} \\eta^{2} p_{z} \\left(\\eta - 1\\right)^{2} + \\epsilon_{g}^{2} p_{z} \\left(\\eta - 1\\right)^{4} - 2 \\epsilon_{g} \\eta^{4} p_{z} - 4 \\epsilon_{g} \\eta^{2} p_{z} \\left(\\eta - 1\\right)^{2} - 2 \\epsilon_{g} p_{z} \\left(\\eta - 1\\right)^{4} + \\eta^{6} \\left(\\epsilon_{g} - 1\\right)^{2} - \\eta^{5} \\left(\\epsilon_{g} - 1\\right)^{2} + 2 \\eta^{4} \\left(\\epsilon_{g} - 1\\right)^{2} \\left(\\eta - 1\\right)^{2} - 2 \\eta^{3} \\left(\\epsilon_{g} - 1\\right)^{2} \\left(\\eta - 1\\right)^{2} + \\eta^{2} \\left(\\epsilon_{g} - 1\\right)^{2} \\left(\\eta - 1\\right)^{4} + 2 \\eta^{2} \\left(\\epsilon_{g}^{2} p_{z} - 2 \\epsilon_{g} p_{z} + 4 \\eta^{2} \\left(\\epsilon_{g} - 1\\right)^{2} - \\eta \\left(\\epsilon_{g} - 1\\right)^{2} + 3 \\left(\\epsilon_{g} - 1\\right)^{2} \\left(\\eta - 1\\right)^{2}\\right) \\left(2 \\epsilon_{g}^{2} \\eta^{2} - 2 \\epsilon_{g}^{2} \\eta + \\epsilon_{g}^{2} - 4 \\epsilon_{g} \\eta^{2} + 4 \\epsilon_{g} \\eta - 2 \\epsilon_{g} + 2 \\eta^{2} - 2 \\eta + 1\\right) - \\eta \\left(\\epsilon_{g} - 1\\right)^{2} \\left(\\eta - 1\\right)^{4} + 2 \\left(\\eta - 1\\right)^{2} \\left(\\epsilon_{g}^{2} p_{z} - 2 \\epsilon_{g} p_{z} + 4 \\eta^{2} \\left(\\epsilon_{g} - 1\\right)^{2} - \\eta \\left(\\epsilon_{g} - 1\\right)^{2} + 3 \\left(\\epsilon_{g} - 1\\right)^{2} \\left(\\eta - 1\\right)^{2}\\right) \\left(2 \\epsilon_{g}^{2} \\eta^{2} - 2 \\epsilon_{g}^{2} \\eta + \\epsilon_{g}^{2} - 4 \\epsilon_{g} \\eta^{2} + 4 \\epsilon_{g} \\eta - 2 \\epsilon_{g} + 2 \\eta^{2} - 2 \\eta + 1\\right)\\right) - 729 \\left(\\eta - 1\\right)^{2} \\left(2 \\epsilon_{g}^{2} \\eta^{2} - 2 \\epsilon_{g}^{2} \\eta + \\epsilon_{g}^{2} - 4 \\epsilon_{g} \\eta^{2} + 4 \\epsilon_{g} \\eta - 2 \\epsilon_{g} + 2 \\eta^{2} - 2 \\eta + 1\\right) \\left(- 2 \\epsilon_{g}^{2} \\eta^{2} + 2 \\epsilon_{g}^{2} \\eta - \\epsilon_{g}^{2} + 4 \\epsilon_{g} \\eta^{2} - 4 \\epsilon_{g} \\eta + 2 \\epsilon_{g} + 2 \\eta^{2} \\left(\\epsilon_{g} - 1\\right)^{2} - 2 \\eta^{2} + 2 \\eta + 2 \\left(\\epsilon_{g} - 1\\right)^{2} \\left(\\eta - 1\\right)^{2} - 1\\right)\\right)$"
      ],
      "text/plain": [
       "(epsilon_g - 1)**2*(-729*eta**2*(2*epsilon_g**2*eta**2 - 2*epsilon_g**2*eta + epsilon_g**2 - 4*epsilon_g*eta**2 + 4*epsilon_g*eta - 2*epsilon_g + 2*eta**2 - 2*eta + 1)*(-2*epsilon_g**2*eta**2 + 2*epsilon_g**2*eta - epsilon_g**2 + 4*epsilon_g*eta**2 - 4*epsilon_g*eta + 2*epsilon_g + 2*eta**2*(epsilon_g - 1)**2 - 2*eta**2 + 2*eta + 2*(epsilon_g - 1)**2*(eta - 1)**2 - 1) - 486*(F - 1)*(epsilon_g**2*eta**4*p_z + 2*epsilon_g**2*eta**2*p_z*(eta - 1)**2 + epsilon_g**2*p_z*(eta - 1)**4 - 2*epsilon_g*eta**4*p_z - 4*epsilon_g*eta**2*p_z*(eta - 1)**2 - 2*epsilon_g*p_z*(eta - 1)**4 + eta**6*(epsilon_g - 1)**2 - eta**5*(epsilon_g - 1)**2 + 2*eta**4*(epsilon_g - 1)**2*(eta - 1)**2 - 2*eta**3*(epsilon_g - 1)**2*(eta - 1)**2 + eta**2*(epsilon_g - 1)**2*(eta - 1)**4 + 2*eta**2*(epsilon_g**2*p_z - 2*epsilon_g*p_z + 4*eta**2*(epsilon_g - 1)**2 - eta*(epsilon_g - 1)**2 + 3*(epsilon_g - 1)**2*(eta - 1)**2)*(2*epsilon_g**2*eta**2 - 2*epsilon_g**2*eta + epsilon_g**2 - 4*epsilon_g*eta**2 + 4*epsilon_g*eta - 2*epsilon_g + 2*eta**2 - 2*eta + 1) - eta*(epsilon_g - 1)**2*(eta - 1)**4 + 2*(eta - 1)**2*(epsilon_g**2*p_z - 2*epsilon_g*p_z + 4*eta**2*(epsilon_g - 1)**2 - eta*(epsilon_g - 1)**2 + 3*(epsilon_g - 1)**2*(eta - 1)**2)*(2*epsilon_g**2*eta**2 - 2*epsilon_g**2*eta + epsilon_g**2 - 4*epsilon_g*eta**2 + 4*epsilon_g*eta - 2*epsilon_g + 2*eta**2 - 2*eta + 1)) - 729*(eta - 1)**2*(2*epsilon_g**2*eta**2 - 2*epsilon_g**2*eta + epsilon_g**2 - 4*epsilon_g*eta**2 + 4*epsilon_g*eta - 2*epsilon_g + 2*eta**2 - 2*eta + 1)*(-2*epsilon_g**2*eta**2 + 2*epsilon_g**2*eta - epsilon_g**2 + 4*epsilon_g*eta**2 - 4*epsilon_g*eta + 2*epsilon_g + 2*eta**2*(epsilon_g - 1)**2 - 2*eta**2 + 2*eta + 2*(epsilon_g - 1)**2*(eta - 1)**2 - 1))"
      ]
     },
     "execution_count": 14,
     "metadata": {},
     "output_type": "execute_result"
    }
   ],
   "source": [
    "hunum, hudenom= hu.as_numer_denom()\n",
    "# print(hunum)\n",
    "# print(hudenom)\n",
    "upint_eq=sy.series(hunum,F,1,2).removeO()\n",
    "dodint_eq=sy.series(hudenom,F,1,2).removeO()\n",
    "mic=sy.simplify(upint_eq)\n",
    "mic\n",
    "# # # this writes functions on a txt file\n",
    "# # with open(\"simplifiedhybrideq.txt\", \"w+\") as f:\n",
    "# #     f.write(str(hu))\n",
    "# sy.integrate(hu,F)\n"
   ]
  },
  {
   "cell_type": "code",
   "execution_count": 15,
   "metadata": {},
   "outputs": [
    {
     "data": {
      "text/latex": [
       "$\\displaystyle - F + \\frac{28 F \\epsilon_{g}^{4} \\eta^{2} - 28 F \\epsilon_{g}^{4} \\eta + 4 F \\epsilon_{g}^{4} p_{z} + 12 F \\epsilon_{g}^{4} - 112 F \\epsilon_{g}^{3} \\eta^{2} + 112 F \\epsilon_{g}^{3} \\eta - 16 F \\epsilon_{g}^{3} p_{z} - 48 F \\epsilon_{g}^{3} + 170 F \\epsilon_{g}^{2} \\eta^{2} - 170 F \\epsilon_{g}^{2} \\eta + 22 F \\epsilon_{g}^{2} p_{z} + 72 F \\epsilon_{g}^{2} - 116 F \\epsilon_{g} \\eta^{2} + 116 F \\epsilon_{g} \\eta - 12 F \\epsilon_{g} p_{z} - 48 F \\epsilon_{g} + 30 F \\eta^{2} - 30 F \\eta + 12 F - 22 \\epsilon_{g}^{4} \\eta^{2} + 22 \\epsilon_{g}^{4} \\eta - 4 \\epsilon_{g}^{4} p_{z} - 9 \\epsilon_{g}^{4} + 88 \\epsilon_{g}^{3} \\eta^{2} - 88 \\epsilon_{g}^{3} \\eta + 16 \\epsilon_{g}^{3} p_{z} + 36 \\epsilon_{g}^{3} - 134 \\epsilon_{g}^{2} \\eta^{2} + 134 \\epsilon_{g}^{2} \\eta - 22 \\epsilon_{g}^{2} p_{z} - 54 \\epsilon_{g}^{2} + 92 \\epsilon_{g} \\eta^{2} - 92 \\epsilon_{g} \\eta + 12 \\epsilon_{g} p_{z} + 36 \\epsilon_{g} - 24 \\eta^{2} + 24 \\eta - 9}{28 F \\epsilon_{g}^{2} \\eta^{2} - 28 F \\epsilon_{g}^{2} \\eta + 4 F \\epsilon_{g}^{2} p_{z} + 12 F \\epsilon_{g}^{2} - 56 F \\epsilon_{g} \\eta^{2} + 56 F \\epsilon_{g} \\eta - 8 F \\epsilon_{g} p_{z} - 24 F \\epsilon_{g} + 32 F \\eta^{2} - 32 F \\eta + 10 F - 22 \\epsilon_{g}^{2} \\eta^{2} + 22 \\epsilon_{g}^{2} \\eta - 4 \\epsilon_{g}^{2} p_{z} - 9 \\epsilon_{g}^{2} + 44 \\epsilon_{g} \\eta^{2} - 44 \\epsilon_{g} \\eta + 8 \\epsilon_{g} p_{z} + 18 \\epsilon_{g} - 26 \\eta^{2} + 26 \\eta - 7}$"
      ],
      "text/plain": [
       "-F + (28*F*epsilon_g**4*eta**2 - 28*F*epsilon_g**4*eta + 4*F*epsilon_g**4*p_z + 12*F*epsilon_g**4 - 112*F*epsilon_g**3*eta**2 + 112*F*epsilon_g**3*eta - 16*F*epsilon_g**3*p_z - 48*F*epsilon_g**3 + 170*F*epsilon_g**2*eta**2 - 170*F*epsilon_g**2*eta + 22*F*epsilon_g**2*p_z + 72*F*epsilon_g**2 - 116*F*epsilon_g*eta**2 + 116*F*epsilon_g*eta - 12*F*epsilon_g*p_z - 48*F*epsilon_g + 30*F*eta**2 - 30*F*eta + 12*F - 22*epsilon_g**4*eta**2 + 22*epsilon_g**4*eta - 4*epsilon_g**4*p_z - 9*epsilon_g**4 + 88*epsilon_g**3*eta**2 - 88*epsilon_g**3*eta + 16*epsilon_g**3*p_z + 36*epsilon_g**3 - 134*epsilon_g**2*eta**2 + 134*epsilon_g**2*eta - 22*epsilon_g**2*p_z - 54*epsilon_g**2 + 92*epsilon_g*eta**2 - 92*epsilon_g*eta + 12*epsilon_g*p_z + 36*epsilon_g - 24*eta**2 + 24*eta - 9)/(28*F*epsilon_g**2*eta**2 - 28*F*epsilon_g**2*eta + 4*F*epsilon_g**2*p_z + 12*F*epsilon_g**2 - 56*F*epsilon_g*eta**2 + 56*F*epsilon_g*eta - 8*F*epsilon_g*p_z - 24*F*epsilon_g + 32*F*eta**2 - 32*F*eta + 10*F - 22*epsilon_g**2*eta**2 + 22*epsilon_g**2*eta - 4*epsilon_g**2*p_z - 9*epsilon_g**2 + 44*epsilon_g*eta**2 - 44*epsilon_g*eta + 8*epsilon_g*p_z + 18*epsilon_g - 26*eta**2 + 26*eta - 7)"
      ]
     },
     "execution_count": 15,
     "metadata": {},
     "output_type": "execute_result"
    }
   ],
   "source": [
    "# m=sy.simplify(int_eq)\n",
    "moc=sy.simplify(dodint_eq)\n",
    "newF=(sy.simplify(mic/moc)-F)\n",
    "#try expand around Eplsilon_g\n",
    "newF"
   ]
  },
  {
   "cell_type": "code",
   "execution_count": 16,
   "metadata": {},
   "outputs": [
    {
     "data": {
      "text/latex": [
       "$\\displaystyle \\frac{- F^{2} \\left(14 \\epsilon_{g}^{2} \\eta^{2} - 14 \\epsilon_{g}^{2} \\eta + 2 \\epsilon_{g}^{2} p_{z} + 6 \\epsilon_{g}^{2} - 28 \\epsilon_{g} \\eta^{2} + 28 \\epsilon_{g} \\eta - 4 \\epsilon_{g} p_{z} - 12 \\epsilon_{g} + 16 \\eta^{2} - 16 \\eta + 5\\right)^{2} + 2 F \\left(14 \\epsilon_{g}^{2} \\eta^{2} - 14 \\epsilon_{g}^{2} \\eta + 2 \\epsilon_{g}^{2} p_{z} + 6 \\epsilon_{g}^{2} - 28 \\epsilon_{g} \\eta^{2} + 28 \\epsilon_{g} \\eta - 4 \\epsilon_{g} p_{z} - 12 \\epsilon_{g} + 16 \\eta^{2} - 16 \\eta + 5\\right) \\left(14 \\epsilon_{g}^{4} \\eta^{2} - 14 \\epsilon_{g}^{4} \\eta + 2 \\epsilon_{g}^{4} p_{z} + 6 \\epsilon_{g}^{4} - 56 \\epsilon_{g}^{3} \\eta^{2} + 56 \\epsilon_{g}^{3} \\eta - 8 \\epsilon_{g}^{3} p_{z} - 24 \\epsilon_{g}^{3} + 85 \\epsilon_{g}^{2} \\eta^{2} - 85 \\epsilon_{g}^{2} \\eta + 11 \\epsilon_{g}^{2} p_{z} + 36 \\epsilon_{g}^{2} - 58 \\epsilon_{g} \\eta^{2} + 58 \\epsilon_{g} \\eta - 6 \\epsilon_{g} p_{z} - 24 \\epsilon_{g} + 15 \\eta^{2} - 15 \\eta + 6\\right) - 3 \\left(\\epsilon_{g} - 1\\right)^{2} \\left(2 \\eta^{2} - 2 \\eta + 1\\right) \\left(- \\epsilon_{g}^{2} \\eta^{2} + \\epsilon_{g}^{2} \\eta + \\epsilon_{g}^{2} p_{z} + \\epsilon_{g}^{2} + 2 \\epsilon_{g} \\eta^{2} - 2 \\epsilon_{g} \\eta - 2 \\epsilon_{g} p_{z} - 2 \\epsilon_{g} - \\eta^{2} + \\eta + 1\\right) \\log{\\left(2 F \\left(14 \\epsilon_{g}^{2} \\eta^{2} - 14 \\epsilon_{g}^{2} \\eta + 2 \\epsilon_{g}^{2} p_{z} + 6 \\epsilon_{g}^{2} - 28 \\epsilon_{g} \\eta^{2} + 28 \\epsilon_{g} \\eta - 4 \\epsilon_{g} p_{z} - 12 \\epsilon_{g} + 16 \\eta^{2} - 16 \\eta + 5\\right) - 22 \\epsilon_{g}^{2} \\eta^{2} + 22 \\epsilon_{g}^{2} \\eta - 4 \\epsilon_{g}^{2} p_{z} - 9 \\epsilon_{g}^{2} + 44 \\epsilon_{g} \\eta^{2} - 44 \\epsilon_{g} \\eta + 8 \\epsilon_{g} p_{z} + 18 \\epsilon_{g} - 26 \\eta^{2} + 26 \\eta - 7 \\right)}}{2 \\left(14 \\epsilon_{g}^{2} \\eta^{2} - 14 \\epsilon_{g}^{2} \\eta + 2 \\epsilon_{g}^{2} p_{z} + 6 \\epsilon_{g}^{2} - 28 \\epsilon_{g} \\eta^{2} + 28 \\epsilon_{g} \\eta - 4 \\epsilon_{g} p_{z} - 12 \\epsilon_{g} + 16 \\eta^{2} - 16 \\eta + 5\\right)^{2}}$"
      ],
      "text/plain": [
       "(-F**2*(14*epsilon_g**2*eta**2 - 14*epsilon_g**2*eta + 2*epsilon_g**2*p_z + 6*epsilon_g**2 - 28*epsilon_g*eta**2 + 28*epsilon_g*eta - 4*epsilon_g*p_z - 12*epsilon_g + 16*eta**2 - 16*eta + 5)**2 + 2*F*(14*epsilon_g**2*eta**2 - 14*epsilon_g**2*eta + 2*epsilon_g**2*p_z + 6*epsilon_g**2 - 28*epsilon_g*eta**2 + 28*epsilon_g*eta - 4*epsilon_g*p_z - 12*epsilon_g + 16*eta**2 - 16*eta + 5)*(14*epsilon_g**4*eta**2 - 14*epsilon_g**4*eta + 2*epsilon_g**4*p_z + 6*epsilon_g**4 - 56*epsilon_g**3*eta**2 + 56*epsilon_g**3*eta - 8*epsilon_g**3*p_z - 24*epsilon_g**3 + 85*epsilon_g**2*eta**2 - 85*epsilon_g**2*eta + 11*epsilon_g**2*p_z + 36*epsilon_g**2 - 58*epsilon_g*eta**2 + 58*epsilon_g*eta - 6*epsilon_g*p_z - 24*epsilon_g + 15*eta**2 - 15*eta + 6) - 3*(epsilon_g - 1)**2*(2*eta**2 - 2*eta + 1)*(-epsilon_g**2*eta**2 + epsilon_g**2*eta + epsilon_g**2*p_z + epsilon_g**2 + 2*epsilon_g*eta**2 - 2*epsilon_g*eta - 2*epsilon_g*p_z - 2*epsilon_g - eta**2 + eta + 1)*log(2*F*(14*epsilon_g**2*eta**2 - 14*epsilon_g**2*eta + 2*epsilon_g**2*p_z + 6*epsilon_g**2 - 28*epsilon_g*eta**2 + 28*epsilon_g*eta - 4*epsilon_g*p_z - 12*epsilon_g + 16*eta**2 - 16*eta + 5) - 22*epsilon_g**2*eta**2 + 22*epsilon_g**2*eta - 4*epsilon_g**2*p_z - 9*epsilon_g**2 + 44*epsilon_g*eta**2 - 44*epsilon_g*eta + 8*epsilon_g*p_z + 18*epsilon_g - 26*eta**2 + 26*eta - 7))/(2*(14*epsilon_g**2*eta**2 - 14*epsilon_g**2*eta + 2*epsilon_g**2*p_z + 6*epsilon_g**2 - 28*epsilon_g*eta**2 + 28*epsilon_g*eta - 4*epsilon_g*p_z - 12*epsilon_g + 16*eta**2 - 16*eta + 5)**2)"
      ]
     },
     "execution_count": 16,
     "metadata": {},
     "output_type": "execute_result"
    }
   ],
   "source": [
    "#eq 13\n",
    "fineq=sy.integrate(newF,F)\n",
    "eq13=sy.simplify(fineq)\n",
    "eq13"
   ]
  },
  {
   "cell_type": "code",
   "execution_count": 17,
   "metadata": {},
   "outputs": [
    {
     "name": "stdout",
     "output_type": "stream",
     "text": [
      "(-F**2*(14*epsilon_g**2*eta**2 - 14*epsilon_g**2*eta + 2*epsilon_g**2*p_z + 6*epsilon_g**2 - 28*epsilon_g*eta**2 + 28*epsilon_g*eta - 4*epsilon_g*p_z - 12*epsilon_g + 16*eta**2 - 16*eta + 5)**2 + 2*F*(14*epsilon_g**2*eta**2 - 14*epsilon_g**2*eta + 2*epsilon_g**2*p_z + 6*epsilon_g**2 - 28*epsilon_g*eta**2 + 28*epsilon_g*eta - 4*epsilon_g*p_z - 12*epsilon_g + 16*eta**2 - 16*eta + 5)*(14*epsilon_g**4*eta**2 - 14*epsilon_g**4*eta + 2*epsilon_g**4*p_z + 6*epsilon_g**4 - 56*epsilon_g**3*eta**2 + 56*epsilon_g**3*eta - 8*epsilon_g**3*p_z - 24*epsilon_g**3 + 85*epsilon_g**2*eta**2 - 85*epsilon_g**2*eta + 11*epsilon_g**2*p_z + 36*epsilon_g**2 - 58*epsilon_g*eta**2 + 58*epsilon_g*eta - 6*epsilon_g*p_z - 24*epsilon_g + 15*eta**2 - 15*eta + 6) - 3*(epsilon_g - 1)**2*(2*eta**2 - 2*eta + 1)*(-epsilon_g**2*eta**2 + epsilon_g**2*eta + epsilon_g**2*p_z + epsilon_g**2 + 2*epsilon_g*eta**2 - 2*epsilon_g*eta - 2*epsilon_g*p_z - 2*epsilon_g - eta**2 + eta + 1)*log(2*F*(14*epsilon_g**2*eta**2 - 14*epsilon_g**2*eta + 2*epsilon_g**2*p_z + 6*epsilon_g**2 - 28*epsilon_g*eta**2 + 28*epsilon_g*eta - 4*epsilon_g*p_z - 12*epsilon_g + 16*eta**2 - 16*eta + 5) - 22*epsilon_g**2*eta**2 + 22*epsilon_g**2*eta - 4*epsilon_g**2*p_z - 9*epsilon_g**2 + 44*epsilon_g*eta**2 - 44*epsilon_g*eta + 8*epsilon_g*p_z + 18*epsilon_g - 26*eta**2 + 26*eta - 7))/(2*(14*epsilon_g**2*eta**2 - 14*epsilon_g**2*eta + 2*epsilon_g**2*p_z + 6*epsilon_g**2 - 28*epsilon_g*eta**2 + 28*epsilon_g*eta - 4*epsilon_g*p_z - 12*epsilon_g + 16*eta**2 - 16*eta + 5)**2)\n"
     ]
    }
   ],
   "source": [
    "#Now for the other probablility, lets start with the original mapping, the denominator of the first equation A\n",
    "acc_prob\n",
    "print(eq13)"
   ]
  },
  {
   "cell_type": "code",
   "execution_count": 18,
   "metadata": {},
   "outputs": [
    {
     "data": {
      "text/latex": [
       "$\\displaystyle \\left(1 - \\epsilon_{g}\\right)^{2} \\left(2 \\eta \\left(\\frac{2}{3} - \\frac{2 F}{3}\\right) \\left(1 - \\eta\\right) \\left(\\frac{4 F}{3} + \\frac{2}{3}\\right) + \\left(\\eta^{2} + \\left(1 - \\eta\\right)^{2}\\right) \\left(\\left(\\frac{2}{3} - \\frac{2 F}{3}\\right)^{2} + \\left(\\frac{2 F}{3} + \\frac{1}{3}\\right)^{2}\\right)\\right)$"
      ],
      "text/plain": [
       "(1 - epsilon_g)**2*(2*eta*(2/3 - 2*F/3)*(1 - eta)*(4*F/3 + 2/3) + (eta**2 + (1 - eta)**2)*((2/3 - 2*F/3)**2 + (2*F/3 + 1/3)**2))"
      ]
     },
     "execution_count": 18,
     "metadata": {},
     "output_type": "execute_result"
    }
   ],
   "source": [
    "Facc_prob=acc_prob.subs(subs_dict)\n",
    "Facc_prob"
   ]
  },
  {
   "cell_type": "code",
   "execution_count": 19,
   "metadata": {},
   "outputs": [
    {
     "data": {
      "text/latex": [
       "$\\displaystyle 8 \\eta \\left(F - 1\\right) \\left(\\eta - 1\\right) \\left(8 \\eta \\left(F - 1\\right) \\left(2 F + 1\\right) \\left(\\eta - 1\\right) + \\left(\\eta^{2} + \\left(\\eta - 1\\right)^{2}\\right) \\left(4 \\left(F - 1\\right)^{2} + \\left(2 F + 1\\right)^{2}\\right)\\right) \\left(- 6 \\epsilon_{g} \\left(F - 1\\right) \\left(\\epsilon_{g} - 2\\right) \\left(- 3 F p_{z} + p_{x} \\left(F - 1\\right) + p_{y} \\left(F - 1\\right)\\right) + \\left(1 - F\\right) \\left(8 \\eta \\left(F - 1\\right) \\left(2 F + 1\\right) \\left(\\eta - 1\\right) + \\left(\\eta^{2} + \\left(\\eta - 1\\right)^{2}\\right) \\left(4 \\left(F - 1\\right)^{2} + \\left(2 F + 1\\right)^{2}\\right)\\right) + 3 \\left(\\epsilon_{g} - 1\\right)^{2} \\left(2 \\eta \\left(F - 1\\right) \\left(2 F + 1\\right) \\left(\\eta - 1\\right) + \\left(9 F^{2} + \\left(F - 1\\right)^{2}\\right) \\left(\\eta^{2} + \\left(\\eta - 1\\right)^{2}\\right)\\right)\\right) + \\left(\\eta^{2} + \\left(\\eta - 1\\right)^{2}\\right) \\left(4 \\left(F - 1\\right)^{2} \\left(8 \\eta \\left(F - 1\\right) \\left(2 F + 1\\right) \\left(\\eta - 1\\right) + \\left(\\eta^{2} + \\left(\\eta - 1\\right)^{2}\\right) \\left(4 \\left(F - 1\\right)^{2} + \\left(2 F + 1\\right)^{2}\\right)\\right)^{2} + \\left(- 6 \\epsilon_{g} \\left(F - 1\\right) \\left(\\epsilon_{g} - 2\\right) \\left(- 3 F p_{z} + p_{x} \\left(F - 1\\right) + p_{y} \\left(F - 1\\right)\\right) + \\left(1 - F\\right) \\left(8 \\eta \\left(F - 1\\right) \\left(2 F + 1\\right) \\left(\\eta - 1\\right) + \\left(\\eta^{2} + \\left(\\eta - 1\\right)^{2}\\right) \\left(4 \\left(F - 1\\right)^{2} + \\left(2 F + 1\\right)^{2}\\right)\\right) + 3 \\left(\\epsilon_{g} - 1\\right)^{2} \\left(2 \\eta \\left(F - 1\\right) \\left(2 F + 1\\right) \\left(\\eta - 1\\right) + \\left(9 F^{2} + \\left(F - 1\\right)^{2}\\right) \\left(\\eta^{2} + \\left(\\eta - 1\\right)^{2}\\right)\\right)\\right)^{2}\\right)$"
      ],
      "text/plain": [
       "8*eta*(F - 1)*(eta - 1)*(8*eta*(F - 1)*(2*F + 1)*(eta - 1) + (eta**2 + (eta - 1)**2)*(4*(F - 1)**2 + (2*F + 1)**2))*(-6*epsilon_g*(F - 1)*(epsilon_g - 2)*(-3*F*p_z + p_x*(F - 1) + p_y*(F - 1)) + (1 - F)*(8*eta*(F - 1)*(2*F + 1)*(eta - 1) + (eta**2 + (eta - 1)**2)*(4*(F - 1)**2 + (2*F + 1)**2)) + 3*(epsilon_g - 1)**2*(2*eta*(F - 1)*(2*F + 1)*(eta - 1) + (9*F**2 + (F - 1)**2)*(eta**2 + (eta - 1)**2))) + (eta**2 + (eta - 1)**2)*(4*(F - 1)**2*(8*eta*(F - 1)*(2*F + 1)*(eta - 1) + (eta**2 + (eta - 1)**2)*(4*(F - 1)**2 + (2*F + 1)**2))**2 + (-6*epsilon_g*(F - 1)*(epsilon_g - 2)*(-3*F*p_z + p_x*(F - 1) + p_y*(F - 1)) + (1 - F)*(8*eta*(F - 1)*(2*F + 1)*(eta - 1) + (eta**2 + (eta - 1)**2)*(4*(F - 1)**2 + (2*F + 1)**2)) + 3*(epsilon_g - 1)**2*(2*eta*(F - 1)*(2*F + 1)*(eta - 1) + (9*F**2 + (F - 1)**2)*(eta**2 + (eta - 1)**2)))**2)"
      ]
     },
     "execution_count": 19,
     "metadata": {},
     "output_type": "execute_result"
    }
   ],
   "source": [
    "#The acceptance probability of the A prime (mapped into itself) is already stored as simplifiedden\n",
    "simplified_den"
   ]
  },
  {
   "cell_type": "code",
   "execution_count": 20,
   "metadata": {},
   "outputs": [
    {
     "data": {
      "text/latex": [
       "$\\displaystyle \\frac{\\left(\\epsilon_{g} - 1\\right)^{2} \\left(8 \\eta \\left(F - 1\\right) \\left(2 F + 1\\right) \\left(\\eta - 1\\right) + \\left(\\eta^{2} + \\left(\\eta - 1\\right)^{2}\\right) \\left(4 \\left(F - 1\\right)^{2} + \\left(2 F + 1\\right)^{2}\\right)\\right) \\left(- 8 \\eta \\left(F - 1\\right) \\left(\\eta - 1\\right) \\left(8 \\eta \\left(F - 1\\right) \\left(2 F + 1\\right) \\left(\\eta - 1\\right) + \\left(\\eta^{2} + \\left(\\eta - 1\\right)^{2}\\right) \\left(4 \\left(F - 1\\right)^{2} + \\left(2 F + 1\\right)^{2}\\right)\\right) \\left(6 \\epsilon_{g} \\left(F - 1\\right) \\left(\\epsilon_{g} - 2\\right) \\left(- 3 F p_{z} + p_{x} \\left(F - 1\\right) + p_{y} \\left(F - 1\\right)\\right) + \\left(F - 1\\right) \\left(8 \\eta \\left(F - 1\\right) \\left(2 F + 1\\right) \\left(\\eta - 1\\right) + \\left(\\eta^{2} + \\left(\\eta - 1\\right)^{2}\\right) \\left(4 \\left(F - 1\\right)^{2} + \\left(2 F + 1\\right)^{2}\\right)\\right) - 3 \\left(\\epsilon_{g} - 1\\right)^{2} \\left(2 \\eta \\left(F - 1\\right) \\left(2 F + 1\\right) \\left(\\eta - 1\\right) + \\left(9 F^{2} + \\left(F - 1\\right)^{2}\\right) \\left(\\eta^{2} + \\left(\\eta - 1\\right)^{2}\\right)\\right)\\right) + \\left(\\eta^{2} + \\left(\\eta - 1\\right)^{2}\\right) \\left(4 \\left(F - 1\\right)^{2} \\left(8 \\eta \\left(F - 1\\right) \\left(2 F + 1\\right) \\left(\\eta - 1\\right) + \\left(\\eta^{2} + \\left(\\eta - 1\\right)^{2}\\right) \\left(4 \\left(F - 1\\right)^{2} + \\left(2 F + 1\\right)^{2}\\right)\\right)^{2} + \\left(6 \\epsilon_{g} \\left(F - 1\\right) \\left(\\epsilon_{g} - 2\\right) \\left(- 3 F p_{z} + p_{x} \\left(F - 1\\right) + p_{y} \\left(F - 1\\right)\\right) + \\left(F - 1\\right) \\left(8 \\eta \\left(F - 1\\right) \\left(2 F + 1\\right) \\left(\\eta - 1\\right) + \\left(\\eta^{2} + \\left(\\eta - 1\\right)^{2}\\right) \\left(4 \\left(F - 1\\right)^{2} + \\left(2 F + 1\\right)^{2}\\right)\\right) - 3 \\left(\\epsilon_{g} - 1\\right)^{2} \\left(2 \\eta \\left(F - 1\\right) \\left(2 F + 1\\right) \\left(\\eta - 1\\right) + \\left(9 F^{2} + \\left(F - 1\\right)^{2}\\right) \\left(\\eta^{2} + \\left(\\eta - 1\\right)^{2}\\right)\\right)\\right)^{2}\\right)\\right)}{9}$"
      ],
      "text/plain": [
       "(epsilon_g - 1)**2*(8*eta*(F - 1)*(2*F + 1)*(eta - 1) + (eta**2 + (eta - 1)**2)*(4*(F - 1)**2 + (2*F + 1)**2))*(-8*eta*(F - 1)*(eta - 1)*(8*eta*(F - 1)*(2*F + 1)*(eta - 1) + (eta**2 + (eta - 1)**2)*(4*(F - 1)**2 + (2*F + 1)**2))*(6*epsilon_g*(F - 1)*(epsilon_g - 2)*(-3*F*p_z + p_x*(F - 1) + p_y*(F - 1)) + (F - 1)*(8*eta*(F - 1)*(2*F + 1)*(eta - 1) + (eta**2 + (eta - 1)**2)*(4*(F - 1)**2 + (2*F + 1)**2)) - 3*(epsilon_g - 1)**2*(2*eta*(F - 1)*(2*F + 1)*(eta - 1) + (9*F**2 + (F - 1)**2)*(eta**2 + (eta - 1)**2))) + (eta**2 + (eta - 1)**2)*(4*(F - 1)**2*(8*eta*(F - 1)*(2*F + 1)*(eta - 1) + (eta**2 + (eta - 1)**2)*(4*(F - 1)**2 + (2*F + 1)**2))**2 + (6*epsilon_g*(F - 1)*(epsilon_g - 2)*(-3*F*p_z + p_x*(F - 1) + p_y*(F - 1)) + (F - 1)*(8*eta*(F - 1)*(2*F + 1)*(eta - 1) + (eta**2 + (eta - 1)**2)*(4*(F - 1)**2 + (2*F + 1)**2)) - 3*(epsilon_g - 1)**2*(2*eta*(F - 1)*(2*F + 1)*(eta - 1) + (9*F**2 + (F - 1)**2)*(eta**2 + (eta - 1)**2)))**2))/9"
      ]
     },
     "execution_count": 20,
     "metadata": {},
     "output_type": "execute_result"
    }
   ],
   "source": [
    "#multiplying each other and simplifying:\n",
    "avg_acc_prob=(sy.simplify(Facc_prob*simplified_den))\n",
    "avg_acc_prob"
   ]
  },
  {
   "cell_type": "code",
   "execution_count": 21,
   "metadata": {},
   "outputs": [
    {
     "data": {
      "text/latex": [
       "$\\displaystyle - 544320 F \\epsilon_{g} \\eta^{8} + 2177280 F \\epsilon_{g} \\eta^{7} - 15552 F \\epsilon_{g} \\eta^{6} p_{z} - 4253472 F \\epsilon_{g} \\eta^{6} + 46656 F \\epsilon_{g} \\eta^{5} p_{z} + 5139936 F \\epsilon_{g} \\eta^{5} - 69984 F \\epsilon_{g} \\eta^{4} p_{z} - 4171824 F \\epsilon_{g} \\eta^{4} + 62208 F \\epsilon_{g} \\eta^{3} p_{z} + 2317248 F \\epsilon_{g} \\eta^{3} - 34992 F \\epsilon_{g} \\eta^{2} p_{z} - 861192 F \\epsilon_{g} \\eta^{2} + 11664 F \\epsilon_{g} \\eta p_{z} + 196344 F \\epsilon_{g} \\eta - 1944 F \\epsilon_{g} p_{z} - 21384 F \\epsilon_{g} + 93312 F \\eta^{8} - 373248 F \\eta^{7} + 727056 F \\eta^{6} - 874800 F \\eta^{5} + 705672 F \\eta^{4} - 388800 F \\eta^{3} + 142884 F \\eta^{2} - 32076 F \\eta + 3402 F + 474336 \\epsilon_{g} \\eta^{8} - 1897344 \\epsilon_{g} \\eta^{7} + 15552 \\epsilon_{g} \\eta^{6} p_{z} + 3693600 \\epsilon_{g} \\eta^{6} - 46656 \\epsilon_{g} \\eta^{5} p_{z} - 4440096 \\epsilon_{g} \\eta^{5} + 69984 \\epsilon_{g} \\eta^{4} p_{z} + 3576960 \\epsilon_{g} \\eta^{4} - 62208 \\epsilon_{g} \\eta^{3} p_{z} - 1967328 \\epsilon_{g} \\eta^{3} + 34992 \\epsilon_{g} \\eta^{2} p_{z} + 721224 \\epsilon_{g} \\eta^{2} - 11664 \\epsilon_{g} \\eta p_{z} - 161352 \\epsilon_{g} \\eta + 1944 \\epsilon_{g} p_{z} + 17010 \\epsilon_{g} - 81648 \\eta^{8} + 326592 \\eta^{7} - 633744 \\eta^{6} + 758160 \\eta^{5} - 606528 \\eta^{4} + 330480 \\eta^{3} - 119556 \\eta^{2} + 26244 \\eta - 2673$"
      ],
      "text/plain": [
       "-544320*F*epsilon_g*eta**8 + 2177280*F*epsilon_g*eta**7 - 15552*F*epsilon_g*eta**6*p_z - 4253472*F*epsilon_g*eta**6 + 46656*F*epsilon_g*eta**5*p_z + 5139936*F*epsilon_g*eta**5 - 69984*F*epsilon_g*eta**4*p_z - 4171824*F*epsilon_g*eta**4 + 62208*F*epsilon_g*eta**3*p_z + 2317248*F*epsilon_g*eta**3 - 34992*F*epsilon_g*eta**2*p_z - 861192*F*epsilon_g*eta**2 + 11664*F*epsilon_g*eta*p_z + 196344*F*epsilon_g*eta - 1944*F*epsilon_g*p_z - 21384*F*epsilon_g + 93312*F*eta**8 - 373248*F*eta**7 + 727056*F*eta**6 - 874800*F*eta**5 + 705672*F*eta**4 - 388800*F*eta**3 + 142884*F*eta**2 - 32076*F*eta + 3402*F + 474336*epsilon_g*eta**8 - 1897344*epsilon_g*eta**7 + 15552*epsilon_g*eta**6*p_z + 3693600*epsilon_g*eta**6 - 46656*epsilon_g*eta**5*p_z - 4440096*epsilon_g*eta**5 + 69984*epsilon_g*eta**4*p_z + 3576960*epsilon_g*eta**4 - 62208*epsilon_g*eta**3*p_z - 1967328*epsilon_g*eta**3 + 34992*epsilon_g*eta**2*p_z + 721224*epsilon_g*eta**2 - 11664*epsilon_g*eta*p_z - 161352*epsilon_g*eta + 1944*epsilon_g*p_z + 17010*epsilon_g - 81648*eta**8 + 326592*eta**7 - 633744*eta**6 + 758160*eta**5 - 606528*eta**4 + 330480*eta**3 - 119556*eta**2 + 26244*eta - 2673"
      ]
     },
     "execution_count": 21,
     "metadata": {},
     "output_type": "execute_result"
    }
   ],
   "source": [
    "# now let's try to integrate the log of this stuff\n",
    "Pf=sy.simplify(sy.series(sy.series(avg_acc_prob,F,1,2).removeO(),epsilon_g,0,2).removeO())\n",
    "Pf"
   ]
  },
  {
   "cell_type": "code",
   "execution_count": 22,
   "metadata": {},
   "outputs": [
    {
     "data": {
      "text/latex": [
       "$\\displaystyle 243 F \\left(F \\left(- 1120 \\epsilon_{g} \\eta^{8} + 4480 \\epsilon_{g} \\eta^{7} - 32 \\epsilon_{g} \\eta^{6} p_{z} - 8752 \\epsilon_{g} \\eta^{6} + 96 \\epsilon_{g} \\eta^{5} p_{z} + 10576 \\epsilon_{g} \\eta^{5} - 144 \\epsilon_{g} \\eta^{4} p_{z} - 8584 \\epsilon_{g} \\eta^{4} + 128 \\epsilon_{g} \\eta^{3} p_{z} + 4768 \\epsilon_{g} \\eta^{3} - 72 \\epsilon_{g} \\eta^{2} p_{z} - 1772 \\epsilon_{g} \\eta^{2} + 24 \\epsilon_{g} \\eta p_{z} + 404 \\epsilon_{g} \\eta - 4 \\epsilon_{g} p_{z} - 44 \\epsilon_{g} + 192 \\eta^{8} - 768 \\eta^{7} + 1496 \\eta^{6} - 1800 \\eta^{5} + 1452 \\eta^{4} - 800 \\eta^{3} + 294 \\eta^{2} - 66 \\eta + 7\\right) + 1952 \\epsilon_{g} \\eta^{8} - 7808 \\epsilon_{g} \\eta^{7} + 64 \\epsilon_{g} \\eta^{6} p_{z} + 15200 \\epsilon_{g} \\eta^{6} - 192 \\epsilon_{g} \\eta^{5} p_{z} - 18272 \\epsilon_{g} \\eta^{5} + 288 \\epsilon_{g} \\eta^{4} p_{z} + 14720 \\epsilon_{g} \\eta^{4} - 256 \\epsilon_{g} \\eta^{3} p_{z} - 8096 \\epsilon_{g} \\eta^{3} + 144 \\epsilon_{g} \\eta^{2} p_{z} + 2968 \\epsilon_{g} \\eta^{2} - 48 \\epsilon_{g} \\eta p_{z} - 664 \\epsilon_{g} \\eta + 8 \\epsilon_{g} p_{z} + 70 \\epsilon_{g} - 336 \\eta^{8} + 1344 \\eta^{7} - 2608 \\eta^{6} + 3120 \\eta^{5} - 2496 \\eta^{4} + 1360 \\eta^{3} - 492 \\eta^{2} + 108 \\eta - 11\\right)$"
      ],
      "text/plain": [
       "243*F*(F*(-1120*epsilon_g*eta**8 + 4480*epsilon_g*eta**7 - 32*epsilon_g*eta**6*p_z - 8752*epsilon_g*eta**6 + 96*epsilon_g*eta**5*p_z + 10576*epsilon_g*eta**5 - 144*epsilon_g*eta**4*p_z - 8584*epsilon_g*eta**4 + 128*epsilon_g*eta**3*p_z + 4768*epsilon_g*eta**3 - 72*epsilon_g*eta**2*p_z - 1772*epsilon_g*eta**2 + 24*epsilon_g*eta*p_z + 404*epsilon_g*eta - 4*epsilon_g*p_z - 44*epsilon_g + 192*eta**8 - 768*eta**7 + 1496*eta**6 - 1800*eta**5 + 1452*eta**4 - 800*eta**3 + 294*eta**2 - 66*eta + 7) + 1952*epsilon_g*eta**8 - 7808*epsilon_g*eta**7 + 64*epsilon_g*eta**6*p_z + 15200*epsilon_g*eta**6 - 192*epsilon_g*eta**5*p_z - 18272*epsilon_g*eta**5 + 288*epsilon_g*eta**4*p_z + 14720*epsilon_g*eta**4 - 256*epsilon_g*eta**3*p_z - 8096*epsilon_g*eta**3 + 144*epsilon_g*eta**2*p_z + 2968*epsilon_g*eta**2 - 48*epsilon_g*eta*p_z - 664*epsilon_g*eta + 8*epsilon_g*p_z + 70*epsilon_g - 336*eta**8 + 1344*eta**7 - 2608*eta**6 + 3120*eta**5 - 2496*eta**4 + 1360*eta**3 - 492*eta**2 + 108*eta - 11)"
      ]
     },
     "execution_count": 22,
     "metadata": {},
     "output_type": "execute_result"
    }
   ],
   "source": [
    "eq15=sy.simplify(sy.integrate(Pf,F))\n",
    "eq15\n"
   ]
  },
  {
   "cell_type": "code",
   "execution_count": 23,
   "metadata": {},
   "outputs": [
    {
     "name": "stdout",
     "output_type": "stream",
     "text": [
      "243*F*(F*(-1120*epsilon_g*eta**8 + 4480*epsilon_g*eta**7 - 32*epsilon_g*eta**6*p_z - 8752*epsilon_g*eta**6 + 96*epsilon_g*eta**5*p_z + 10576*epsilon_g*eta**5 - 144*epsilon_g*eta**4*p_z - 8584*epsilon_g*eta**4 + 128*epsilon_g*eta**3*p_z + 4768*epsilon_g*eta**3 - 72*epsilon_g*eta**2*p_z - 1772*epsilon_g*eta**2 + 24*epsilon_g*eta*p_z + 404*epsilon_g*eta - 4*epsilon_g*p_z - 44*epsilon_g + 192*eta**8 - 768*eta**7 + 1496*eta**6 - 1800*eta**5 + 1452*eta**4 - 800*eta**3 + 294*eta**2 - 66*eta + 7) + 1952*epsilon_g*eta**8 - 7808*epsilon_g*eta**7 + 64*epsilon_g*eta**6*p_z + 15200*epsilon_g*eta**6 - 192*epsilon_g*eta**5*p_z - 18272*epsilon_g*eta**5 + 288*epsilon_g*eta**4*p_z + 14720*epsilon_g*eta**4 - 256*epsilon_g*eta**3*p_z - 8096*epsilon_g*eta**3 + 144*epsilon_g*eta**2*p_z + 2968*epsilon_g*eta**2 - 48*epsilon_g*eta*p_z - 664*epsilon_g*eta + 8*epsilon_g*p_z + 70*epsilon_g - 336*eta**8 + 1344*eta**7 - 2608*eta**6 + 3120*eta**5 - 2496*eta**4 + 1360*eta**3 - 492*eta**2 + 108*eta - 11)\n"
     ]
    }
   ],
   "source": [
    "print(eq15)"
   ]
  },
  {
   "cell_type": "code",
   "execution_count": 24,
   "metadata": {},
   "outputs": [
    {
     "data": {
      "text/plain": [
       "(0.002800450609091551, 5.820633596651222e-17)"
      ]
     },
     "execution_count": 24,
     "metadata": {},
     "output_type": "execute_result"
    }
   ],
   "source": [
    "import scipy.integrate as integrate\n",
    "# Define the function f(F)\n",
    "def f(F):\n",
    "    numerator = 0.993480876366247*F**6 + 0.0213331388552155*F**5 + 0.0362243378449057*F**4 + 3.08126810766791e-5*F**3 + 8.78141857498906e-6*F**2 + 1.21140388953197e-8*F + 5.65014499441148e-9\n",
    "    denominator = 1.05073774624012*F**6 + 0.0244441474176712*F**5 + 0.0416944320404583*F**4 + 0.000224467116927246*F**3 + 0.000178676781517583*F**2 + 2.96049853832737e-6*F + 1.7152311682832e-6\n",
    "    return numerator / denominator\n",
    "\n",
    "# Define the integrand: f(F) - F\n",
    "def integrand(F):\n",
    "    return f(F) - F\n",
    "\n",
    "# Compute the definite integral from 0.85 to 0.99\n",
    "result, error = integrate.quad(integrand, 0.85, 0.99)\n",
    "result, error"
   ]
  },
  {
   "cell_type": "code",
   "execution_count": 25,
   "metadata": {},
   "outputs": [
    {
     "data": {
      "text/plain": [
       "0.020003218636368218"
      ]
     },
     "execution_count": 25,
     "metadata": {},
     "output_type": "execute_result"
    }
   ],
   "source": [
    "g=result/(0.99-0.85)\n",
    "g"
   ]
  },
  {
   "cell_type": "code",
   "execution_count": 26,
   "metadata": {},
   "outputs": [
    {
     "data": {
      "text/plain": [
       "6.998873658535304"
      ]
     },
     "execution_count": 26,
     "metadata": {},
     "output_type": "execute_result"
    }
   ],
   "source": [
    "delta_F=(0.99-0.85)/g\n",
    "delta_F"
   ]
  }
 ],
 "metadata": {
  "kernelspec": {
   "display_name": "Python 3",
   "language": "python",
   "name": "python3"
  },
  "language_info": {
   "codemirror_mode": {
    "name": "ipython",
    "version": 3
   },
   "file_extension": ".py",
   "mimetype": "text/x-python",
   "name": "python",
   "nbconvert_exporter": "python",
   "pygments_lexer": "ipython3",
   "version": "3.8.20"
  }
 },
 "nbformat": 4,
 "nbformat_minor": 2
}
