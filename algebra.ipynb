{
 "cells": [
  {
   "cell_type": "code",
   "execution_count": 379,
   "metadata": {},
   "outputs": [
    {
     "data": {
      "text/latex": [
       "$\\displaystyle 2 \\sqrt{2}$"
      ],
      "text/plain": [
       "2*sqrt(2)"
      ]
     },
     "execution_count": 379,
     "metadata": {},
     "output_type": "execute_result"
    }
   ],
   "source": [
    "import sympy as sy\n",
    "from sympy import symbols\n",
    "import math\n",
    "x,y = symbols('x y')\n",
    "expr=5*x\n",
    "# err_quad=(((x1**2)+(x2**2))*(no_readerror(eta)) + (((x1*y1)+(x2*y2))*(readerror(eta))) +(egate_er(epsilon_g))*(PauliErrors))/(N/((1-epsilon_g)**2))\n",
    "# sy.err_quad\n",
    "math.sqrt(9)\n",
    "sy.sqrt(8)\n"
   ]
  },
  {
   "cell_type": "code",
   "execution_count": 380,
   "metadata": {},
   "outputs": [
    {
     "data": {
      "text/latex": [
       "$\\displaystyle x \\left(5 x - y\\right)$"
      ],
      "text/plain": [
       "x*(5*x - y)"
      ]
     },
     "execution_count": 380,
     "metadata": {},
     "output_type": "execute_result"
    }
   ],
   "source": [
    "#declaring some symbols here\n",
    "p_x,p_y,p_z=symbols('p_x p_y p_z')\n",
    "F,A,B,C,D = symbols('F A B C D')\n",
    "x1,x2,y1,y2,eta,N,epsilon_g,PauliErrors = symbols('x1 x2 y1 y2 eta N epsilon_g PauliErrors')\n",
    "\n",
    "x*(expr - y)"
   ]
  },
  {
   "cell_type": "code",
   "execution_count": 381,
   "metadata": {},
   "outputs": [
    {
     "data": {
      "text/latex": [
       "$\\displaystyle \\frac{\\left(1 - \\epsilon_{g}\\right)^{2} \\left(\\frac{PauliErrors \\left(- \\epsilon_{g}^{2} + 2 \\epsilon_{g}\\right)}{\\left(1 - \\epsilon_{g}\\right)^{2}} + 2 \\eta \\left(1 - \\eta\\right) \\left(x_{1} y_{1} + x_{2} y_{2}\\right) + \\left(\\eta^{2} + \\left(1 - \\eta\\right)^{2}\\right) \\left(x_{1}^{2} + x_{2}^{2}\\right)\\right)}{2 \\eta \\left(1 - \\eta\\right) \\left(2 x_{1} + 2 x_{2}\\right) \\left(y_{1} + y_{2}\\right) + \\left(\\eta^{2} + \\left(1 - \\eta\\right)^{2}\\right) \\left(\\left(x_{1} + x_{2}\\right)^{2} + \\left(y_{1} + y_{2}\\right)^{2}\\right)}$"
      ],
      "text/plain": [
       "(1 - epsilon_g)**2*(PauliErrors*(-epsilon_g**2 + 2*epsilon_g)/(1 - epsilon_g)**2 + 2*eta*(1 - eta)*(x1*y1 + x2*y2) + (eta**2 + (1 - eta)**2)*(x1**2 + x2**2))/(2*eta*(1 - eta)*(2*x1 + 2*x2)*(y1 + y2) + (eta**2 + (1 - eta)**2)*((x1 + x2)**2 + (y1 + y2)**2))"
      ]
     },
     "execution_count": 381,
     "metadata": {},
     "output_type": "execute_result"
    }
   ],
   "source": [
    "err_quad=(((x1**2)+(x2**2))*((eta**2)+((1-eta)**2)) + (((x1*y1)+(x2*y2))*(2*(eta)*(1-eta))) + ((2*(epsilon_g) - (epsilon_g**2))/((1-epsilon_g)**2))*(PauliErrors))/((((x1+x2)**2+(y1+y2)**2)*((eta**2)+((1-eta)**2)) + (2*(x1+x2)*(y1+y2)*(2*(eta)*(1-eta))))/((1-epsilon_g)**2))\n",
    "err_quad\n",
    "# integrate(err_quad,PauliErrors)\n",
    "# input this into this \n"
   ]
  },
  {
   "cell_type": "code",
   "execution_count": 382,
   "metadata": {},
   "outputs": [
    {
     "data": {
      "text/latex": [
       "$\\displaystyle \\frac{\\frac{PauliErrors \\left(- \\epsilon_{g}^{2} + 2 \\epsilon_{g}\\right)}{\\left(1 - \\epsilon_{g}\\right)^{2}} + 2 \\eta \\left(1 - \\eta\\right) \\left(x_{1} y_{2} + x_{2} y_{1}\\right) + 2 y_{1} y_{2} \\left(\\eta^{2} + \\left(1 - \\eta\\right)^{2}\\right)}{\\left(1 - \\epsilon_{g}\\right)^{2} \\left(2 \\epsilon_{g} \\eta \\left(2 x_{1} + 2 x_{2}\\right) \\left(y_{1} + y_{2}\\right) + \\left(\\eta^{2} + \\left(1 - \\eta\\right)^{2}\\right) \\left(\\left(x_{1} + x_{2}\\right)^{2} + \\left(y_{1} + y_{2}\\right)^{2}\\right)\\right)}$"
      ],
      "text/plain": [
       "(PauliErrors*(-epsilon_g**2 + 2*epsilon_g)/(1 - epsilon_g)**2 + 2*eta*(1 - eta)*(x1*y2 + x2*y1) + 2*y1*y2*(eta**2 + (1 - eta)**2))/((1 - epsilon_g)**2*(2*epsilon_g*eta*(2*x1 + 2*x2)*(y1 + y2) + (eta**2 + (1 - eta)**2)*((x1 + x2)**2 + (y1 + y2)**2)))"
      ]
     },
     "execution_count": 382,
     "metadata": {},
     "output_type": "execute_result"
    }
   ],
   "source": [
    "err_line= ((2*y1*y2)*((eta**2)+((1-eta)**2)) + (((x1*y2)+(y1*x2))*(2*(eta)*(1-eta))) + ((2*(epsilon_g) - (epsilon_g**2))/((1-epsilon_g)**2))*(PauliErrors))/((((x1+x2)**2+(y1+y2)**2)*((eta**2)+((1-eta)**2)) + (2*(x1+x2)*(y1+y2)*(2*(eta)*epsilon_g))))/((1-epsilon_g)**2)\n",
    "err_line\n"
   ]
  },
  {
   "cell_type": "code",
   "execution_count": 383,
   "metadata": {},
   "outputs": [
    {
     "data": {
      "text/latex": [
       "$\\displaystyle \\frac{\\left(1 - \\epsilon_{g}\\right)^{2} \\left(2 A B \\left(\\eta^{2} + \\left(1 - \\eta\\right)^{2}\\right) + 2 \\eta \\left(1 - \\eta\\right) \\left(A D + B C\\right) + \\frac{\\left(- \\epsilon_{g}^{2} + 2 \\epsilon_{g}\\right) \\left(p_{x} \\left(A D + B C\\right) + p_{y} \\left(A C + B D\\right) + p_{z} \\left(A C + B D\\right)\\right)}{\\left(1 - \\epsilon_{g}\\right)^{2}}\\right)}{2 \\eta \\left(1 - \\eta\\right) \\left(2 A + 2 B\\right) \\left(C + D\\right) + \\left(\\eta^{2} + \\left(1 - \\eta\\right)^{2}\\right) \\left(\\left(A + B\\right)^{2} + \\left(C + D\\right)^{2}\\right)}$"
      ],
      "text/plain": [
       "(1 - epsilon_g)**2*(2*A*B*(eta**2 + (1 - eta)**2) + 2*eta*(1 - eta)*(A*D + B*C) + (-epsilon_g**2 + 2*epsilon_g)*(p_x*(A*D + B*C) + p_y*(A*C + B*D) + p_z*(A*C + B*D))/(1 - epsilon_g)**2)/(2*eta*(1 - eta)*(2*A + 2*B)*(C + D) + (eta**2 + (1 - eta)**2)*((A + B)**2 + (C + D)**2))"
      ]
     },
     "execution_count": 383,
     "metadata": {},
     "output_type": "execute_result"
    }
   ],
   "source": [
    "#this will be all the equations:(here to get the latex script)\n",
    "A_error=(((A**2)+(B**2))*((eta**2)+((1-eta)**2)) + (((A*C)+(B*D))*(2*(eta)*(1-eta))) +((2*(epsilon_g) - (epsilon_g**2))/((1-epsilon_g)**2))*((p_x*((C*C)+(D*D)))+(p_y*((C*D)+(C*D)))+(p_z*((A*B)+(A*B)))))/((((A+B)**2+(C+D)**2)*((eta**2)+((1-eta)**2)) + (2*(A+B)*(C+D)*(2*(eta)*(1-eta))))/((1-epsilon_g)**2))\n",
    "C_error=(((C**2)+(D**2))*((eta**2)+((1-eta)**2)) + (((C*A)+(D*B))*(2*(eta)*(1-eta))) +((2*(epsilon_g) - (epsilon_g**2))/((1-epsilon_g)**2))*((p_x*((C*A)+(D*B)))+(p_y*((C*B)+(D*A)))+(p_z*((D*A)+(B*C)))))/((((A+B)**2+(C+D)**2)*((eta**2)+((1-eta)**2)) + (2*(C+D)*(A+B)*(2*(eta)*(1-eta))))/((1-epsilon_g)**2))\n",
    "B_error=((2*A*B)*((eta**2)+((1-eta)**2)) + (((C*B)+(A*D))*(2*(eta)*(1-eta))) + ((2*(epsilon_g) - (epsilon_g**2))/((1-epsilon_g)**2))*((p_x*((A*D)+(B*C)))+(p_y*((A*C)+(B*D)))+(p_z*((A*C)+(B*D)))))/((((A+B)**2+(C+D)**2)*((eta**2)+((1-eta)**2)) + (2*(A+B)*(C+D)*(2*(eta)*(1-eta))))/((1-epsilon_g)**2))\n",
    "D_error=((2*C*D)*((eta**2)+((1-eta)**2)) + (((A*D)+(C*B))*(2*(eta)*(1-eta))) + ((2*(epsilon_g) - (epsilon_g**2))/((1-epsilon_g)**2))*((p_x*((C*D)+(D*C)))+(p_y*((C*C)+(D*D)))+(p_z*((A*A)+(B*B)))))/((((A+B)**2+(C+D)**2)*((eta**2)+((1-eta)**2)) + (2*(A+B)*(C+D)*(2*(eta)*(1-eta))))/((1-epsilon_g)**2))\n",
    "B_error\n",
    "# sy.print_latex(A_error)"
   ]
  },
  {
   "cell_type": "code",
   "execution_count": 384,
   "metadata": {},
   "outputs": [
    {
     "data": {
      "text/latex": [
       "$\\displaystyle \\frac{\\left(1 - \\epsilon_{g}\\right)^{2} \\left(2 C D \\left(\\eta^{2} + \\left(1 - \\eta\\right)^{2}\\right) + 2 \\eta \\left(1 - \\eta\\right) \\left(A D + B C\\right) + \\frac{\\left(- \\epsilon_{g}^{2} + 2 \\epsilon_{g}\\right) \\left(2 C D p_{x} + p_{y} \\left(C^{2} + D^{2}\\right) + p_{z} \\left(A^{2} + B^{2}\\right)\\right)}{\\left(1 - \\epsilon_{g}\\right)^{2}}\\right)}{2 \\eta \\left(1 - \\eta\\right) \\left(2 A + 2 B\\right) \\left(C + D\\right) + \\left(\\eta^{2} + \\left(1 - \\eta\\right)^{2}\\right) \\left(\\left(A + B\\right)^{2} + \\left(C + D\\right)^{2}\\right)}$"
      ],
      "text/plain": [
       "(1 - epsilon_g)**2*(2*C*D*(eta**2 + (1 - eta)**2) + 2*eta*(1 - eta)*(A*D + B*C) + (-epsilon_g**2 + 2*epsilon_g)*(2*C*D*p_x + p_y*(C**2 + D**2) + p_z*(A**2 + B**2))/(1 - epsilon_g)**2)/(2*eta*(1 - eta)*(2*A + 2*B)*(C + D) + (eta**2 + (1 - eta)**2)*((A + B)**2 + (C + D)**2))"
      ]
     },
     "execution_count": 384,
     "metadata": {},
     "output_type": "execute_result"
    }
   ],
   "source": [
    "D_error\n",
    "# sy.print_latex(A_error)"
   ]
  },
  {
   "cell_type": "code",
   "execution_count": 385,
   "metadata": {},
   "outputs": [
    {
     "data": {
      "text/latex": [
       "$\\displaystyle \\frac{\\left(1 - \\epsilon_{g}\\right)^{2} \\left(2 \\eta \\left(1 - \\eta\\right) \\left(B D + C F\\right) + \\left(B^{2} + F^{2}\\right) \\left(\\eta^{2} + \\left(1 - \\eta\\right)^{2}\\right) + \\frac{\\left(- \\epsilon_{g}^{2} + 2 \\epsilon_{g}\\right) \\left(2 B F p_{z} + 2 C D p_{y} + p_{x} \\left(C^{2} + D^{2}\\right)\\right)}{\\left(1 - \\epsilon_{g}\\right)^{2}}\\right)}{2 \\eta \\left(1 - \\eta\\right) \\left(2 B + 2 F\\right) \\left(C + D\\right) + \\left(\\eta^{2} + \\left(1 - \\eta\\right)^{2}\\right) \\left(\\left(B + F\\right)^{2} + \\left(C + D\\right)^{2}\\right)}$"
      ],
      "text/plain": [
       "(1 - epsilon_g)**2*(2*eta*(1 - eta)*(B*D + C*F) + (B**2 + F**2)*(eta**2 + (1 - eta)**2) + (-epsilon_g**2 + 2*epsilon_g)*(2*B*F*p_z + 2*C*D*p_y + p_x*(C**2 + D**2))/(1 - epsilon_g)**2)/(2*eta*(1 - eta)*(2*B + 2*F)*(C + D) + (eta**2 + (1 - eta)**2)*((B + F)**2 + (C + D)**2))"
      ]
     },
     "execution_count": 385,
     "metadata": {},
     "output_type": "execute_result"
    }
   ],
   "source": [
    "#lets substitute A for F so we can insert in into itself\n",
    "A=(((F**2)+(B**2))*((eta**2)+((1-eta)**2)) + (((F*C)+(B*D))*(2*(eta)*(1-eta))) +((2*(epsilon_g) - (epsilon_g**2))/((1-epsilon_g)**2))*((p_x*((C*C)+(D*D)))+(p_y*((C*D)+(C*D)))+(p_z*((F*B)+(F*B)))))/((((F+B)**2+(C+D)**2)*((eta**2)+((1-eta)**2)) + (2*(F+B)*(C+D)*(2*(eta)*(1-eta))))/((1-epsilon_g)**2))\n",
    "A"
   ]
  },
  {
   "cell_type": "code",
   "execution_count": 386,
   "metadata": {},
   "outputs": [
    {
     "data": {
      "text/latex": [
       "$\\displaystyle \\frac{0.99900025 \\left(0.998002 F^{2} + 0.000349667505003127 F + 0.000109231573265322\\right)}{0.000759240000000001 F + 0.998002 \\left(F + 0.01\\right)^{2} + 0.0360354646}$"
      ],
      "text/plain": [
       "0.99900025*(0.998002*F**2 + 0.000349667505003127*F + 0.000109231573265322)/(0.000759240000000001*F + 0.998002*(F + 0.01)**2 + 0.0360354646)"
      ]
     },
     "execution_count": 386,
     "metadata": {},
     "output_type": "execute_result"
    }
   ],
   "source": [
    "subs_dict = {\n",
    "    eta: 1 - 10e-4,\n",
    "    epsilon_g: 5e-4,\n",
    "    p_x: 0.25,\n",
    "    p_y: 0.25,\n",
    "    p_z: 0.5,\n",
    "    B: 0.01,\n",
    "    C: 0.17,\n",
    "    D: 0.02\n",
    "}\n",
    "A_substituted = A.subs(subs_dict)\n",
    "A_substituted\n",
    "A_simplified = sy.simplify(A_substituted)\n",
    "A_substituted\n",
    "# print(A_substituted)\n",
    "\n"
   ]
  },
  {
   "cell_type": "code",
   "execution_count": 387,
   "metadata": {},
   "outputs": [
    {
     "name": "stdout",
     "output_type": "stream",
     "text": [
      "0.993480876366247*F**6 + 0.0213331388552155*F**5 + 0.0362243378449057*F**4 + 3.08126810766791e-5*F**3 + 8.78141857498906e-6*F**2 + 1.21140388953197e-8*F + 5.65014499441148e-9\n",
      "1.05073774624012*F**6 + 0.0244441474176712*F**5 + 0.0416944320404583*F**4 + 0.000224467116927246*F**3 + 0.000178676781517583*F**2 + 2.96049853832737e-6*F + 1.7152311682832e-6\n"
     ]
    }
   ],
   "source": [
    "Aprime=(((A**2)+(B**2))*((eta**2)+((1-eta)**2)) + (((A*C)+(B*D))*(2*(eta)*(1-eta))) +((2*(epsilon_g) - (epsilon_g**2))/((1-epsilon_g)**2))*((p_x*((C*C)+(D*D)))+(p_y*((C*D)+(C*D)))+(p_z*((A*B)+(A*B)))))/((((A+B)**2+(C+D)**2)*((eta**2)+((1-eta)**2)) + (2*(A+B)*(C+D)*(2*(eta)*(1-eta))))/((1-epsilon_g)**2))\n",
    "A_prime_sub = Aprime.subs(subs_dict)\n",
    "A_prime_sub\n",
    "Asimple=sy.simplify(A_prime_sub)\n",
    "Asimple\n",
    "num, denom= Asimple.as_numer_denom()\n",
    "\n",
    "# Now you can work with each part independently:\n",
    "print(num)\n",
    "print(denom)"
   ]
  },
  {
   "cell_type": "code",
   "execution_count": 388,
   "metadata": {},
   "outputs": [
    {
     "data": {
      "text/plain": [
       "(0.002800450609091551, 5.820633596651222e-17)"
      ]
     },
     "execution_count": 388,
     "metadata": {},
     "output_type": "execute_result"
    }
   ],
   "source": [
    "import scipy.integrate as integrate\n",
    "\n",
    "# Define the function f(F)\n",
    "def f(F):\n",
    "    numerator = 0.993480876366247*F**6 + 0.0213331388552155*F**5 + 0.0362243378449057*F**4 + 3.08126810766791e-5*F**3 + 8.78141857498906e-6*F**2 + 1.21140388953197e-8*F + 5.65014499441148e-9\n",
    "    denominator = 1.05073774624012*F**6 + 0.0244441474176712*F**5 + 0.0416944320404583*F**4 + 0.000224467116927246*F**3 + 0.000178676781517583*F**2 + 2.96049853832737e-6*F + 1.7152311682832e-6\n",
    "    return numerator / denominator\n",
    "\n",
    "# Define the integrand: f(F) - F\n",
    "def integrand(F):\n",
    "    return f(F) - F\n",
    "\n",
    "# Compute the definite integral from 0.85 to 0.99\n",
    "result, error = integrate.quad(integrand, 0.85, 0.99)\n",
    "result, error"
   ]
  },
  {
   "cell_type": "code",
   "execution_count": 389,
   "metadata": {},
   "outputs": [
    {
     "data": {
      "text/plain": [
       "0.020003218636368218"
      ]
     },
     "execution_count": 389,
     "metadata": {},
     "output_type": "execute_result"
    }
   ],
   "source": [
    "g=result/(0.99-0.85)\n",
    "g"
   ]
  },
  {
   "cell_type": "code",
   "execution_count": 390,
   "metadata": {},
   "outputs": [
    {
     "data": {
      "text/plain": [
       "6.998873658535304"
      ]
     },
     "execution_count": 390,
     "metadata": {},
     "output_type": "execute_result"
    }
   ],
   "source": [
    "delta_F=(0.99-0.85)/g\n",
    "delta_F"
   ]
  }
 ],
 "metadata": {
  "kernelspec": {
   "display_name": "Python 3",
   "language": "python",
   "name": "python3"
  },
  "language_info": {
   "codemirror_mode": {
    "name": "ipython",
    "version": 3
   },
   "file_extension": ".py",
   "mimetype": "text/x-python",
   "name": "python",
   "nbconvert_exporter": "python",
   "pygments_lexer": "ipython3",
   "version": "3.8.20"
  }
 },
 "nbformat": 4,
 "nbformat_minor": 2
}
