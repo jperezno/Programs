{
 "cells": [
  {
   "cell_type": "code",
   "execution_count": 1,
   "id": "cb167bb3",
   "metadata": {},
   "outputs": [],
   "source": [
    "import sympy as sy\n",
    "from sympy import symbols\n",
    "p_x,p_y,p_z=symbols('p_x p_y p_z')\n",
    "F,A,B,C,D = symbols('F A B C D')\n",
    "x1,x2,y1,y2,eta,E,epsilon_g,epsilon_r = symbols('x1 x2 y1 y2 eta E epsilon_g epsilon_r')\n",
    "F_t,F_o = symbols('F_t F_0')"
   ]
  },
  {
   "cell_type": "code",
   "execution_count": 2,
   "id": "4fb22d96",
   "metadata": {},
   "outputs": [
    {
     "data": {
      "text/latex": [
       "$\\displaystyle \\frac{\\left(1 - \\epsilon_{g}\\right)^{2} \\left(2 \\eta \\left(1 - \\eta\\right) \\left(A C + B D\\right) + \\left(A^{2} + B^{2}\\right) \\left(\\eta^{2} + \\left(1 - \\eta\\right)^{2}\\right) + \\frac{\\left(- \\epsilon_{g}^{2} + 2 \\epsilon_{g}\\right) \\left(2 A B p_{z} + 2 C D p_{y} + p_{x} \\left(C^{2} + D^{2}\\right)\\right)}{\\left(1 - \\epsilon_{g}\\right)^{2}}\\right)}{2 \\eta \\left(1 - \\eta\\right) \\left(2 A + 2 B\\right) \\left(C + D\\right) + \\left(\\eta^{2} + \\left(1 - \\eta\\right)^{2}\\right) \\left(\\left(A + B\\right)^{2} + \\left(C + D\\right)^{2}\\right)}$"
      ],
      "text/plain": [
       "(1 - epsilon_g)**2*(2*eta*(1 - eta)*(A*C + B*D) + (A**2 + B**2)*(eta**2 + (1 - eta)**2) + (-epsilon_g**2 + 2*epsilon_g)*(2*A*B*p_z + 2*C*D*p_y + p_x*(C**2 + D**2))/(1 - epsilon_g)**2)/(2*eta*(1 - eta)*(2*A + 2*B)*(C + D) + (eta**2 + (1 - eta)**2)*((A + B)**2 + (C + D)**2))"
      ]
     },
     "execution_count": 2,
     "metadata": {},
     "output_type": "execute_result"
    }
   ],
   "source": [
    "#First we declare the equations\n",
    "A_error=(((A**2)+(B**2))*((eta**2)+((1-eta)**2)) + (((A*C)+(B*D))*(2*(eta)*(1-eta))) +((2*(epsilon_g) - (epsilon_g**2))/((1-epsilon_g)**2))*((p_x*((C*C)+(D*D)))+(p_y*((C*D)+(C*D)))+(p_z*((A*B)+(A*B)))))/((((A+B)**2+(C+D)**2)*((eta**2)+((1-eta)**2)) + (2*(A+B)*(C+D)*(2*(eta)*(1-eta))))/((1-epsilon_g)**2))\n",
    "C_error=(((C**2)+(D**2))*((eta**2)+((1-eta)**2)) + (((C*A)+(D*B))*(2*(eta)*(1-eta))) +((2*(epsilon_g) - (epsilon_g**2))/((1-epsilon_g)**2))*((p_x*((C*A)+(D*B)))+(p_y*((C*B)+(D*A)))+(p_z*((D*A)+(B*C)))))/((((A+B)**2+(C+D)**2)*((eta**2)+((1-eta)**2)) + (2*(C+D)*(A+B)*(2*(eta)*(1-eta))))/((1-epsilon_g)**2))\n",
    "B_error=((2*A*B)*((eta**2)+((1-eta)**2)) + (((C*B)+(A*D))*(2*(eta)*(1-eta))) + ((2*(epsilon_g) - (epsilon_g**2))/((1-epsilon_g)**2))*((p_x*((A*D)+(B*C)))+(p_y*((A*C)+(B*D)))+(p_z*((A*C)+(B*D)))))/((((A+B)**2+(C+D)**2)*((eta**2)+((1-eta)**2)) + (2*(A+B)*(C+D)*(2*(eta)*(1-eta))))/((1-epsilon_g)**2))\n",
    "D_error=((2*C*D)*((eta**2)+((1-eta)**2)) + (((A*D)+(C*B))*(2*(eta)*(1-eta))) + ((2*(epsilon_g) - (epsilon_g**2))/((1-epsilon_g)**2))*((p_x*((C*D)+(D*C)))+(p_y*((C*C)+(D*D)))+(p_z*((A*A)+(B*B)))))/((((A+B)**2+(C+D)**2)*((eta**2)+((1-eta)**2)) + (2*(A+B)*(C+D)*(2*(eta)*(1-eta))))/((1-epsilon_g)**2))\n",
    "A_error"
   ]
  },
  {
   "cell_type": "code",
   "execution_count": 3,
   "id": "eeeffe20",
   "metadata": {},
   "outputs": [
    {
     "data": {
      "text/latex": [
       "$\\displaystyle \\frac{\\left(1 - \\epsilon_{g}\\right)^{2} \\left(2 \\eta \\left(1 - \\eta\\right) \\left(B D + C F\\right) + \\left(B^{2} + F^{2}\\right) \\left(\\eta^{2} + \\left(1 - \\eta\\right)^{2}\\right) + \\frac{\\left(- \\epsilon_{g}^{2} + 2 \\epsilon_{g}\\right) \\left(2 B F p_{z} + 2 C D p_{y} + p_{x} \\left(C^{2} + D^{2}\\right)\\right)}{\\left(1 - \\epsilon_{g}\\right)^{2}}\\right)}{2 \\eta \\left(1 - \\eta\\right) \\left(2 B + 2 F\\right) \\left(C + D\\right) + \\left(\\eta^{2} + \\left(1 - \\eta\\right)^{2}\\right) \\left(\\left(B + F\\right)^{2} + \\left(C + D\\right)^{2}\\right)}$"
      ],
      "text/plain": [
       "(1 - epsilon_g)**2*(2*eta*(1 - eta)*(B*D + C*F) + (B**2 + F**2)*(eta**2 + (1 - eta)**2) + (-epsilon_g**2 + 2*epsilon_g)*(2*B*F*p_z + 2*C*D*p_y + p_x*(C**2 + D**2))/(1 - epsilon_g)**2)/(2*eta*(1 - eta)*(2*B + 2*F)*(C + D) + (eta**2 + (1 - eta)**2)*((B + F)**2 + (C + D)**2))"
      ]
     },
     "execution_count": 3,
     "metadata": {},
     "output_type": "execute_result"
    }
   ],
   "source": [
    "# Now let's declare an intermediate directory substitute\n",
    "changeA = {\n",
    "    A:F}\n",
    "changevar={\n",
    "    eta:1-epsilon_r,\n",
    "    F:1-E}\n",
    "AtoF = A_error.subs(changeA)\n",
    "intermsub={\n",
    "    E:1-F\n",
    "}\n",
    "hybridsubstitution = {\n",
    "    B:(1-F)/3,\n",
    "    C:(1-F)/3,\n",
    "    D:(1-F)/3}\n",
    "AtoF = A_error.subs(changeA)\n",
    "Anum,normalization = AtoF.as_numer_denom()\n",
    "AtoF\n"
   ]
  },
  {
   "cell_type": "code",
   "execution_count": 4,
   "id": "3f88307a",
   "metadata": {},
   "outputs": [
    {
     "data": {
      "text/latex": [
       "$\\displaystyle \\frac{\\left(1 - \\epsilon_{g}\\right)^{2} \\left(2 \\eta \\left(1 - \\eta\\right) \\left(B D + \\frac{C \\left(1 - \\epsilon_{g}\\right)^{2} \\left(2 \\eta \\left(1 - \\eta\\right) \\left(B D + C F\\right) + \\left(B^{2} + F^{2}\\right) \\left(\\eta^{2} + \\left(1 - \\eta\\right)^{2}\\right) + \\frac{\\left(- \\epsilon_{g}^{2} + 2 \\epsilon_{g}\\right) \\left(2 B F p_{z} + 2 C D p_{y} + p_{x} \\left(C^{2} + D^{2}\\right)\\right)}{\\left(1 - \\epsilon_{g}\\right)^{2}}\\right)}{2 \\eta \\left(1 - \\eta\\right) \\left(2 B + 2 F\\right) \\left(C + D\\right) + \\left(\\eta^{2} + \\left(1 - \\eta\\right)^{2}\\right) \\left(\\left(B + F\\right)^{2} + \\left(C + D\\right)^{2}\\right)}\\right) + \\left(B^{2} + \\frac{\\left(1 - \\epsilon_{g}\\right)^{4} \\left(2 \\eta \\left(1 - \\eta\\right) \\left(B D + C F\\right) + \\left(B^{2} + F^{2}\\right) \\left(\\eta^{2} + \\left(1 - \\eta\\right)^{2}\\right) + \\frac{\\left(- \\epsilon_{g}^{2} + 2 \\epsilon_{g}\\right) \\left(2 B F p_{z} + 2 C D p_{y} + p_{x} \\left(C^{2} + D^{2}\\right)\\right)}{\\left(1 - \\epsilon_{g}\\right)^{2}}\\right)^{2}}{\\left(2 \\eta \\left(1 - \\eta\\right) \\left(2 B + 2 F\\right) \\left(C + D\\right) + \\left(\\eta^{2} + \\left(1 - \\eta\\right)^{2}\\right) \\left(\\left(B + F\\right)^{2} + \\left(C + D\\right)^{2}\\right)\\right)^{2}}\\right) \\left(\\eta^{2} + \\left(1 - \\eta\\right)^{2}\\right) + \\frac{\\left(- \\epsilon_{g}^{2} + 2 \\epsilon_{g}\\right) \\left(\\frac{2 B p_{z} \\left(1 - \\epsilon_{g}\\right)^{2} \\left(2 \\eta \\left(1 - \\eta\\right) \\left(B D + C F\\right) + \\left(B^{2} + F^{2}\\right) \\left(\\eta^{2} + \\left(1 - \\eta\\right)^{2}\\right) + \\frac{\\left(- \\epsilon_{g}^{2} + 2 \\epsilon_{g}\\right) \\left(2 B F p_{z} + 2 C D p_{y} + p_{x} \\left(C^{2} + D^{2}\\right)\\right)}{\\left(1 - \\epsilon_{g}\\right)^{2}}\\right)}{2 \\eta \\left(1 - \\eta\\right) \\left(2 B + 2 F\\right) \\left(C + D\\right) + \\left(\\eta^{2} + \\left(1 - \\eta\\right)^{2}\\right) \\left(\\left(B + F\\right)^{2} + \\left(C + D\\right)^{2}\\right)} + 2 C D p_{y} + p_{x} \\left(C^{2} + D^{2}\\right)\\right)}{\\left(1 - \\epsilon_{g}\\right)^{2}}\\right)}{2 \\eta \\left(1 - \\eta\\right) \\left(2 B + \\frac{2 \\left(1 - \\epsilon_{g}\\right)^{2} \\left(2 \\eta \\left(1 - \\eta\\right) \\left(B D + C F\\right) + \\left(B^{2} + F^{2}\\right) \\left(\\eta^{2} + \\left(1 - \\eta\\right)^{2}\\right) + \\frac{\\left(- \\epsilon_{g}^{2} + 2 \\epsilon_{g}\\right) \\left(2 B F p_{z} + 2 C D p_{y} + p_{x} \\left(C^{2} + D^{2}\\right)\\right)}{\\left(1 - \\epsilon_{g}\\right)^{2}}\\right)}{2 \\eta \\left(1 - \\eta\\right) \\left(2 B + 2 F\\right) \\left(C + D\\right) + \\left(\\eta^{2} + \\left(1 - \\eta\\right)^{2}\\right) \\left(\\left(B + F\\right)^{2} + \\left(C + D\\right)^{2}\\right)}\\right) \\left(C + D\\right) + \\left(\\eta^{2} + \\left(1 - \\eta\\right)^{2}\\right) \\left(\\left(B + \\frac{\\left(1 - \\epsilon_{g}\\right)^{2} \\left(2 \\eta \\left(1 - \\eta\\right) \\left(B D + C F\\right) + \\left(B^{2} + F^{2}\\right) \\left(\\eta^{2} + \\left(1 - \\eta\\right)^{2}\\right) + \\frac{\\left(- \\epsilon_{g}^{2} + 2 \\epsilon_{g}\\right) \\left(2 B F p_{z} + 2 C D p_{y} + p_{x} \\left(C^{2} + D^{2}\\right)\\right)}{\\left(1 - \\epsilon_{g}\\right)^{2}}\\right)}{2 \\eta \\left(1 - \\eta\\right) \\left(2 B + 2 F\\right) \\left(C + D\\right) + \\left(\\eta^{2} + \\left(1 - \\eta\\right)^{2}\\right) \\left(\\left(B + F\\right)^{2} + \\left(C + D\\right)^{2}\\right)}\\right)^{2} + \\left(C + D\\right)^{2}\\right)}$"
      ],
      "text/plain": [
       "(1 - epsilon_g)**2*(2*eta*(1 - eta)*(B*D + C*(1 - epsilon_g)**2*(2*eta*(1 - eta)*(B*D + C*F) + (B**2 + F**2)*(eta**2 + (1 - eta)**2) + (-epsilon_g**2 + 2*epsilon_g)*(2*B*F*p_z + 2*C*D*p_y + p_x*(C**2 + D**2))/(1 - epsilon_g)**2)/(2*eta*(1 - eta)*(2*B + 2*F)*(C + D) + (eta**2 + (1 - eta)**2)*((B + F)**2 + (C + D)**2))) + (B**2 + (1 - epsilon_g)**4*(2*eta*(1 - eta)*(B*D + C*F) + (B**2 + F**2)*(eta**2 + (1 - eta)**2) + (-epsilon_g**2 + 2*epsilon_g)*(2*B*F*p_z + 2*C*D*p_y + p_x*(C**2 + D**2))/(1 - epsilon_g)**2)**2/(2*eta*(1 - eta)*(2*B + 2*F)*(C + D) + (eta**2 + (1 - eta)**2)*((B + F)**2 + (C + D)**2))**2)*(eta**2 + (1 - eta)**2) + (-epsilon_g**2 + 2*epsilon_g)*(2*B*p_z*(1 - epsilon_g)**2*(2*eta*(1 - eta)*(B*D + C*F) + (B**2 + F**2)*(eta**2 + (1 - eta)**2) + (-epsilon_g**2 + 2*epsilon_g)*(2*B*F*p_z + 2*C*D*p_y + p_x*(C**2 + D**2))/(1 - epsilon_g)**2)/(2*eta*(1 - eta)*(2*B + 2*F)*(C + D) + (eta**2 + (1 - eta)**2)*((B + F)**2 + (C + D)**2)) + 2*C*D*p_y + p_x*(C**2 + D**2))/(1 - epsilon_g)**2)/(2*eta*(1 - eta)*(2*B + 2*(1 - epsilon_g)**2*(2*eta*(1 - eta)*(B*D + C*F) + (B**2 + F**2)*(eta**2 + (1 - eta)**2) + (-epsilon_g**2 + 2*epsilon_g)*(2*B*F*p_z + 2*C*D*p_y + p_x*(C**2 + D**2))/(1 - epsilon_g)**2)/(2*eta*(1 - eta)*(2*B + 2*F)*(C + D) + (eta**2 + (1 - eta)**2)*((B + F)**2 + (C + D)**2)))*(C + D) + (eta**2 + (1 - eta)**2)*((B + (1 - epsilon_g)**2*(2*eta*(1 - eta)*(B*D + C*F) + (B**2 + F**2)*(eta**2 + (1 - eta)**2) + (-epsilon_g**2 + 2*epsilon_g)*(2*B*F*p_z + 2*C*D*p_y + p_x*(C**2 + D**2))/(1 - epsilon_g)**2)/(2*eta*(1 - eta)*(2*B + 2*F)*(C + D) + (eta**2 + (1 - eta)**2)*((B + F)**2 + (C + D)**2)))**2 + (C + D)**2))"
      ]
     },
     "execution_count": 4,
     "metadata": {},
     "output_type": "execute_result"
    }
   ],
   "source": [
    "Ahyb=(((AtoF**2)+(B**2))*((eta**2)+((1-eta)**2)) + (((AtoF*C)+(B*D))*(2*(eta)*(1-eta))) +((2*(epsilon_g) - (epsilon_g**2))/((1-epsilon_g)**2))*((p_x*((C*C)+(D*D)))+(p_y*((C*D)+(C*D)))+(p_z*((AtoF*B)+(AtoF*B)))))/((((AtoF+B)**2+(C+D)**2)*((eta**2)+((1-eta)**2)) + (2*(AtoF+B)*(C+D)*(2*(eta)*(1-eta))))/((1-epsilon_g)**2))\n",
    "Ahyb"
   ]
  },
  {
   "cell_type": "code",
   "execution_count": 5,
   "id": "82df5ca8",
   "metadata": {},
   "outputs": [
    {
     "data": {
      "text/latex": [
       "$\\displaystyle \\frac{\\left(1 - \\epsilon_{g}\\right)^{2} \\left(2 \\eta \\left(1 - \\eta\\right) \\left(\\left(\\frac{1}{3} - \\frac{F}{3}\\right)^{2} + \\frac{\\left(\\frac{1}{3} - \\frac{F}{3}\\right) \\left(1 - \\epsilon_{g}\\right)^{2} \\left(2 \\eta \\left(1 - \\eta\\right) \\left(F \\left(\\frac{1}{3} - \\frac{F}{3}\\right) + \\left(\\frac{1}{3} - \\frac{F}{3}\\right)^{2}\\right) + \\left(F^{2} + \\left(\\frac{1}{3} - \\frac{F}{3}\\right)^{2}\\right) \\left(\\eta^{2} + \\left(1 - \\eta\\right)^{2}\\right) + \\frac{\\left(- \\epsilon_{g}^{2} + 2 \\epsilon_{g}\\right) \\left(2 F p_{z} \\left(\\frac{1}{3} - \\frac{F}{3}\\right) + 2 p_{x} \\left(\\frac{1}{3} - \\frac{F}{3}\\right)^{2} + 2 p_{y} \\left(\\frac{1}{3} - \\frac{F}{3}\\right)^{2}\\right)}{\\left(1 - \\epsilon_{g}\\right)^{2}}\\right)}{2 \\eta \\left(\\frac{2}{3} - \\frac{2 F}{3}\\right) \\left(1 - \\eta\\right) \\left(\\frac{4 F}{3} + \\frac{2}{3}\\right) + \\left(\\eta^{2} + \\left(1 - \\eta\\right)^{2}\\right) \\left(\\left(\\frac{2}{3} - \\frac{2 F}{3}\\right)^{2} + \\left(\\frac{2 F}{3} + \\frac{1}{3}\\right)^{2}\\right)}\\right) + \\left(\\eta^{2} + \\left(1 - \\eta\\right)^{2}\\right) \\left(\\left(\\frac{1}{3} - \\frac{F}{3}\\right)^{2} + \\frac{\\left(1 - \\epsilon_{g}\\right)^{4} \\left(2 \\eta \\left(1 - \\eta\\right) \\left(F \\left(\\frac{1}{3} - \\frac{F}{3}\\right) + \\left(\\frac{1}{3} - \\frac{F}{3}\\right)^{2}\\right) + \\left(F^{2} + \\left(\\frac{1}{3} - \\frac{F}{3}\\right)^{2}\\right) \\left(\\eta^{2} + \\left(1 - \\eta\\right)^{2}\\right) + \\frac{\\left(- \\epsilon_{g}^{2} + 2 \\epsilon_{g}\\right) \\left(2 F p_{z} \\left(\\frac{1}{3} - \\frac{F}{3}\\right) + 2 p_{x} \\left(\\frac{1}{3} - \\frac{F}{3}\\right)^{2} + 2 p_{y} \\left(\\frac{1}{3} - \\frac{F}{3}\\right)^{2}\\right)}{\\left(1 - \\epsilon_{g}\\right)^{2}}\\right)^{2}}{\\left(2 \\eta \\left(\\frac{2}{3} - \\frac{2 F}{3}\\right) \\left(1 - \\eta\\right) \\left(\\frac{4 F}{3} + \\frac{2}{3}\\right) + \\left(\\eta^{2} + \\left(1 - \\eta\\right)^{2}\\right) \\left(\\left(\\frac{2}{3} - \\frac{2 F}{3}\\right)^{2} + \\left(\\frac{2 F}{3} + \\frac{1}{3}\\right)^{2}\\right)\\right)^{2}}\\right) + \\frac{\\left(- \\epsilon_{g}^{2} + 2 \\epsilon_{g}\\right) \\left(2 p_{x} \\left(\\frac{1}{3} - \\frac{F}{3}\\right)^{2} + 2 p_{y} \\left(\\frac{1}{3} - \\frac{F}{3}\\right)^{2} + \\frac{2 p_{z} \\left(\\frac{1}{3} - \\frac{F}{3}\\right) \\left(1 - \\epsilon_{g}\\right)^{2} \\left(2 \\eta \\left(1 - \\eta\\right) \\left(F \\left(\\frac{1}{3} - \\frac{F}{3}\\right) + \\left(\\frac{1}{3} - \\frac{F}{3}\\right)^{2}\\right) + \\left(F^{2} + \\left(\\frac{1}{3} - \\frac{F}{3}\\right)^{2}\\right) \\left(\\eta^{2} + \\left(1 - \\eta\\right)^{2}\\right) + \\frac{\\left(- \\epsilon_{g}^{2} + 2 \\epsilon_{g}\\right) \\left(2 F p_{z} \\left(\\frac{1}{3} - \\frac{F}{3}\\right) + 2 p_{x} \\left(\\frac{1}{3} - \\frac{F}{3}\\right)^{2} + 2 p_{y} \\left(\\frac{1}{3} - \\frac{F}{3}\\right)^{2}\\right)}{\\left(1 - \\epsilon_{g}\\right)^{2}}\\right)}{2 \\eta \\left(\\frac{2}{3} - \\frac{2 F}{3}\\right) \\left(1 - \\eta\\right) \\left(\\frac{4 F}{3} + \\frac{2}{3}\\right) + \\left(\\eta^{2} + \\left(1 - \\eta\\right)^{2}\\right) \\left(\\left(\\frac{2}{3} - \\frac{2 F}{3}\\right)^{2} + \\left(\\frac{2 F}{3} + \\frac{1}{3}\\right)^{2}\\right)}\\right)}{\\left(1 - \\epsilon_{g}\\right)^{2}}\\right)}{2 \\eta \\left(\\frac{2}{3} - \\frac{2 F}{3}\\right) \\left(1 - \\eta\\right) \\left(- \\frac{2 F}{3} + \\frac{2 \\left(1 - \\epsilon_{g}\\right)^{2} \\left(2 \\eta \\left(1 - \\eta\\right) \\left(F \\left(\\frac{1}{3} - \\frac{F}{3}\\right) + \\left(\\frac{1}{3} - \\frac{F}{3}\\right)^{2}\\right) + \\left(F^{2} + \\left(\\frac{1}{3} - \\frac{F}{3}\\right)^{2}\\right) \\left(\\eta^{2} + \\left(1 - \\eta\\right)^{2}\\right) + \\frac{\\left(- \\epsilon_{g}^{2} + 2 \\epsilon_{g}\\right) \\left(2 F p_{z} \\left(\\frac{1}{3} - \\frac{F}{3}\\right) + 2 p_{x} \\left(\\frac{1}{3} - \\frac{F}{3}\\right)^{2} + 2 p_{y} \\left(\\frac{1}{3} - \\frac{F}{3}\\right)^{2}\\right)}{\\left(1 - \\epsilon_{g}\\right)^{2}}\\right)}{2 \\eta \\left(\\frac{2}{3} - \\frac{2 F}{3}\\right) \\left(1 - \\eta\\right) \\left(\\frac{4 F}{3} + \\frac{2}{3}\\right) + \\left(\\eta^{2} + \\left(1 - \\eta\\right)^{2}\\right) \\left(\\left(\\frac{2}{3} - \\frac{2 F}{3}\\right)^{2} + \\left(\\frac{2 F}{3} + \\frac{1}{3}\\right)^{2}\\right)} + \\frac{2}{3}\\right) + \\left(\\eta^{2} + \\left(1 - \\eta\\right)^{2}\\right) \\left(\\left(\\frac{2}{3} - \\frac{2 F}{3}\\right)^{2} + \\left(- \\frac{F}{3} + \\frac{\\left(1 - \\epsilon_{g}\\right)^{2} \\left(2 \\eta \\left(1 - \\eta\\right) \\left(F \\left(\\frac{1}{3} - \\frac{F}{3}\\right) + \\left(\\frac{1}{3} - \\frac{F}{3}\\right)^{2}\\right) + \\left(F^{2} + \\left(\\frac{1}{3} - \\frac{F}{3}\\right)^{2}\\right) \\left(\\eta^{2} + \\left(1 - \\eta\\right)^{2}\\right) + \\frac{\\left(- \\epsilon_{g}^{2} + 2 \\epsilon_{g}\\right) \\left(2 F p_{z} \\left(\\frac{1}{3} - \\frac{F}{3}\\right) + 2 p_{x} \\left(\\frac{1}{3} - \\frac{F}{3}\\right)^{2} + 2 p_{y} \\left(\\frac{1}{3} - \\frac{F}{3}\\right)^{2}\\right)}{\\left(1 - \\epsilon_{g}\\right)^{2}}\\right)}{2 \\eta \\left(\\frac{2}{3} - \\frac{2 F}{3}\\right) \\left(1 - \\eta\\right) \\left(\\frac{4 F}{3} + \\frac{2}{3}\\right) + \\left(\\eta^{2} + \\left(1 - \\eta\\right)^{2}\\right) \\left(\\left(\\frac{2}{3} - \\frac{2 F}{3}\\right)^{2} + \\left(\\frac{2 F}{3} + \\frac{1}{3}\\right)^{2}\\right)} + \\frac{1}{3}\\right)^{2}\\right)}$"
      ],
      "text/plain": [
       "(1 - epsilon_g)**2*(2*eta*(1 - eta)*((1/3 - F/3)**2 + (1/3 - F/3)*(1 - epsilon_g)**2*(2*eta*(1 - eta)*(F*(1/3 - F/3) + (1/3 - F/3)**2) + (F**2 + (1/3 - F/3)**2)*(eta**2 + (1 - eta)**2) + (-epsilon_g**2 + 2*epsilon_g)*(2*F*p_z*(1/3 - F/3) + 2*p_x*(1/3 - F/3)**2 + 2*p_y*(1/3 - F/3)**2)/(1 - epsilon_g)**2)/(2*eta*(2/3 - 2*F/3)*(1 - eta)*(4*F/3 + 2/3) + (eta**2 + (1 - eta)**2)*((2/3 - 2*F/3)**2 + (2*F/3 + 1/3)**2))) + (eta**2 + (1 - eta)**2)*((1/3 - F/3)**2 + (1 - epsilon_g)**4*(2*eta*(1 - eta)*(F*(1/3 - F/3) + (1/3 - F/3)**2) + (F**2 + (1/3 - F/3)**2)*(eta**2 + (1 - eta)**2) + (-epsilon_g**2 + 2*epsilon_g)*(2*F*p_z*(1/3 - F/3) + 2*p_x*(1/3 - F/3)**2 + 2*p_y*(1/3 - F/3)**2)/(1 - epsilon_g)**2)**2/(2*eta*(2/3 - 2*F/3)*(1 - eta)*(4*F/3 + 2/3) + (eta**2 + (1 - eta)**2)*((2/3 - 2*F/3)**2 + (2*F/3 + 1/3)**2))**2) + (-epsilon_g**2 + 2*epsilon_g)*(2*p_x*(1/3 - F/3)**2 + 2*p_y*(1/3 - F/3)**2 + 2*p_z*(1/3 - F/3)*(1 - epsilon_g)**2*(2*eta*(1 - eta)*(F*(1/3 - F/3) + (1/3 - F/3)**2) + (F**2 + (1/3 - F/3)**2)*(eta**2 + (1 - eta)**2) + (-epsilon_g**2 + 2*epsilon_g)*(2*F*p_z*(1/3 - F/3) + 2*p_x*(1/3 - F/3)**2 + 2*p_y*(1/3 - F/3)**2)/(1 - epsilon_g)**2)/(2*eta*(2/3 - 2*F/3)*(1 - eta)*(4*F/3 + 2/3) + (eta**2 + (1 - eta)**2)*((2/3 - 2*F/3)**2 + (2*F/3 + 1/3)**2)))/(1 - epsilon_g)**2)/(2*eta*(2/3 - 2*F/3)*(1 - eta)*(-2*F/3 + 2*(1 - epsilon_g)**2*(2*eta*(1 - eta)*(F*(1/3 - F/3) + (1/3 - F/3)**2) + (F**2 + (1/3 - F/3)**2)*(eta**2 + (1 - eta)**2) + (-epsilon_g**2 + 2*epsilon_g)*(2*F*p_z*(1/3 - F/3) + 2*p_x*(1/3 - F/3)**2 + 2*p_y*(1/3 - F/3)**2)/(1 - epsilon_g)**2)/(2*eta*(2/3 - 2*F/3)*(1 - eta)*(4*F/3 + 2/3) + (eta**2 + (1 - eta)**2)*((2/3 - 2*F/3)**2 + (2*F/3 + 1/3)**2)) + 2/3) + (eta**2 + (1 - eta)**2)*((2/3 - 2*F/3)**2 + (-F/3 + (1 - epsilon_g)**2*(2*eta*(1 - eta)*(F*(1/3 - F/3) + (1/3 - F/3)**2) + (F**2 + (1/3 - F/3)**2)*(eta**2 + (1 - eta)**2) + (-epsilon_g**2 + 2*epsilon_g)*(2*F*p_z*(1/3 - F/3) + 2*p_x*(1/3 - F/3)**2 + 2*p_y*(1/3 - F/3)**2)/(1 - epsilon_g)**2)/(2*eta*(2/3 - 2*F/3)*(1 - eta)*(4*F/3 + 2/3) + (eta**2 + (1 - eta)**2)*((2/3 - 2*F/3)**2 + (2*F/3 + 1/3)**2)) + 1/3)**2))"
      ]
     },
     "execution_count": 5,
     "metadata": {},
     "output_type": "execute_result"
    }
   ],
   "source": [
    "# now we substitute by depolarizing the variables into F and we store the num and denom for later\n",
    "hybeq=Ahyb.subs(hybridsubstitution)\n",
    "something,secondnormalization= hybeq.as_numer_denom()\n",
    "hybeq"
   ]
  },
  {
   "cell_type": "code",
   "execution_count": 6,
   "id": "5706426c",
   "metadata": {},
   "outputs": [],
   "source": [
    "##### THIS PART TAKES 15 MIN TO RUN UNCOMMENT IF YOU WANT, RESULT OF CELL IS UNDER IT #####\n",
    "\n",
    "# # we simplify this equation and we separate the numerator and denominator for later\n",
    "# simplified_hybeq=sy.simplify(hybeq)\n",
    "# hybnum,hybden=simplified_hybeq.as_numer_denom()\n",
    "\n",
    "# # here we write this into a text file because this takes long to run\n",
    "# with open(\"simp_hybeq.txt\", \"w+\") as f:\n",
    "#     f.write(str(simplified_hybeq))\n",
    "##### RESULT #####\n",
    "hybnum=(-2*epsilon_g*(F - 1)*(epsilon_g - 2)*(-3*p_z*(-2*epsilon_g*(F - 1)*(epsilon_g - 2)*(-3*F*p_z + p_x*(F - 1) + p_y*(F - 1)) + (epsilon_g - 1)**2*(2*eta*(F - 1)*(2*F + 1)*(eta - 1) + (9*F**2 + (F - 1)**2)*(eta**2 + (eta - 1)**2))) + (F - 1)*(p_x + p_y)*(8*eta*(F - 1)*(2*F + 1)*(eta - 1) + (eta**2 + (eta - 1)**2)*(4*(F - 1)**2 + (2*F + 1)**2)))*(8*eta*(F - 1)*(2*F + 1)*(eta - 1) + (eta**2 + (eta - 1)**2)*(4*(F - 1)**2 + (2*F + 1)**2)) - 2*eta*(F - 1)*(epsilon_g - 1)**2*(eta - 1)*(8*eta*(F - 1)*(2*F + 1)*(eta - 1) + (eta**2 + (eta - 1)**2)*(4*(F - 1)**2 + (2*F + 1)**2))*(6*epsilon_g*(F - 1)*(epsilon_g - 2)*(-3*F*p_z + p_x*(F - 1) + p_y*(F - 1)) + (F - 1)*(8*eta*(F - 1)*(2*F + 1)*(eta - 1) + (eta**2 + (eta - 1)**2)*(4*(F - 1)**2 + (2*F + 1)**2)) - 3*(epsilon_g - 1)**2*(2*eta*(F - 1)*(2*F + 1)*(eta - 1) + (9*F**2 + (F - 1)**2)*(eta**2 + (eta - 1)**2))) + (epsilon_g - 1)**2*(eta**2 + (eta - 1)**2)*((F - 1)**2*(8*eta*(F - 1)*(2*F + 1)*(eta - 1) + (eta**2 + (eta - 1)**2)*(4*(F - 1)**2 + (2*F + 1)**2))**2 + 9*(-2*epsilon_g*(F - 1)*(epsilon_g - 2)*(-3*F*p_z + p_x*(F - 1) + p_y*(F - 1)) + (epsilon_g - 1)**2*(2*eta*(F - 1)*(2*F + 1)*(eta - 1) + (9*F**2 + (F - 1)**2)*(eta**2 + (eta - 1)**2)))**2))\n",
    "hybden=(8*eta*(F - 1)*(eta - 1)*(8*eta*(F - 1)*(2*F + 1)*(eta - 1) + (eta**2 + (eta - 1)**2)*(4*(F - 1)**2 + (2*F + 1)**2))*(-6*epsilon_g*(F - 1)*(epsilon_g - 2)*(-3*F*p_z + p_x*(F - 1) + p_y*(F - 1)) + (1 - F)*(8*eta*(F - 1)*(2*F + 1)*(eta - 1) + (eta**2 + (eta - 1)**2)*(4*(F - 1)**2 + (2*F + 1)**2)) + 3*(epsilon_g - 1)**2*(2*eta*(F - 1)*(2*F + 1)*(eta - 1) + (9*F**2 + (F - 1)**2)*(eta**2 + (eta - 1)**2))) + (eta**2 + (eta - 1)**2)*(4*(F - 1)**2*(8*eta*(F - 1)*(2*F + 1)*(eta - 1) + (eta**2 + (eta - 1)**2)*(4*(F - 1)**2 + (2*F + 1)**2))**2 + (-6*epsilon_g*(F - 1)*(epsilon_g - 2)*(-3*F*p_z + p_x*(F - 1) + p_y*(F - 1)) + (1 - F)*(8*eta*(F - 1)*(2*F + 1)*(eta - 1) + (eta**2 + (eta - 1)**2)*(4*(F - 1)**2 + (2*F + 1)**2)) + 3*(epsilon_g - 1)**2*(2*eta*(F - 1)*(2*F + 1)*(eta - 1) + (9*F**2 + (F - 1)**2)*(eta**2 + (eta - 1)**2)))**2))\n",
    "ecua=hybnum/hybden"
   ]
  },
  {
   "cell_type": "code",
   "execution_count": 7,
   "id": "a37d4bb6",
   "metadata": {},
   "outputs": [
    {
     "data": {
      "text/latex": [
       "$\\displaystyle \\frac{2 E \\epsilon_{g} \\left(\\epsilon_{g} - 2\\right) \\left(E \\left(p_{x} + p_{y}\\right) \\left(8 E \\epsilon_{r} \\left(1 - \\epsilon_{r}\\right) \\left(3 - 2 E\\right) + \\left(4 E^{2} + \\left(3 - 2 E\\right)^{2}\\right) \\left(\\epsilon_{r}^{2} + \\left(1 - \\epsilon_{r}\\right)^{2}\\right)\\right) + 3 p_{z} \\left(- 2 E \\epsilon_{g} \\left(\\epsilon_{g} - 2\\right) \\left(E p_{x} + E p_{y} + 3 p_{z} \\left(1 - E\\right)\\right) + \\left(\\epsilon_{g} - 1\\right)^{2} \\left(2 E \\epsilon_{r} \\left(1 - \\epsilon_{r}\\right) \\left(3 - 2 E\\right) + \\left(E^{2} + 9 \\left(1 - E\\right)^{2}\\right) \\left(\\epsilon_{r}^{2} + \\left(1 - \\epsilon_{r}\\right)^{2}\\right)\\right)\\right)\\right) \\left(8 E \\epsilon_{r} \\left(2 E - 3\\right) \\left(\\epsilon_{r} - 1\\right) + \\left(4 E^{2} + \\left(2 E - 3\\right)^{2}\\right) \\left(\\epsilon_{r}^{2} + \\left(\\epsilon_{r} - 1\\right)^{2}\\right)\\right) + 2 E \\epsilon_{r} \\left(\\epsilon_{g} - 1\\right)^{2} \\left(\\epsilon_{r} - 1\\right) \\left(8 E \\epsilon_{r} \\left(2 E - 3\\right) \\left(\\epsilon_{r} - 1\\right) + \\left(4 E^{2} + \\left(2 E - 3\\right)^{2}\\right) \\left(\\epsilon_{r}^{2} + \\left(\\epsilon_{r} - 1\\right)^{2}\\right)\\right) \\left(- 6 E \\epsilon_{g} \\left(\\epsilon_{g} - 2\\right) \\left(E p_{x} + E p_{y} + 3 p_{z} \\left(1 - E\\right)\\right) + E \\left(8 E \\epsilon_{r} \\left(1 - \\epsilon_{r}\\right) \\left(3 - 2 E\\right) + \\left(4 E^{2} + \\left(3 - 2 E\\right)^{2}\\right) \\left(\\epsilon_{r}^{2} + \\left(1 - \\epsilon_{r}\\right)^{2}\\right)\\right) + 3 \\left(\\epsilon_{g} - 1\\right)^{2} \\left(2 E \\epsilon_{r} \\left(1 - \\epsilon_{r}\\right) \\left(3 - 2 E\\right) + \\left(E^{2} + 9 \\left(1 - E\\right)^{2}\\right) \\left(\\epsilon_{r}^{2} + \\left(1 - \\epsilon_{r}\\right)^{2}\\right)\\right)\\right) - \\left(\\epsilon_{g} - 1\\right)^{2} \\left(\\epsilon_{r}^{2} + \\left(\\epsilon_{r} - 1\\right)^{2}\\right) \\left(E^{2} \\left(8 E \\epsilon_{r} \\left(2 E - 3\\right) \\left(\\epsilon_{r} - 1\\right) + \\left(4 E^{2} + \\left(2 E - 3\\right)^{2}\\right) \\left(\\epsilon_{r}^{2} + \\left(\\epsilon_{r} - 1\\right)^{2}\\right)\\right)^{2} + 9 \\left(- 2 E \\epsilon_{g} \\left(\\epsilon_{g} - 2\\right) \\left(E p_{x} + E p_{y} + 3 p_{z} \\left(1 - E\\right)\\right) + \\left(\\epsilon_{g} - 1\\right)^{2} \\left(2 E \\epsilon_{r} \\left(2 E - 3\\right) \\left(\\epsilon_{r} - 1\\right) + \\left(E^{2} + 9 \\left(E - 1\\right)^{2}\\right) \\left(\\epsilon_{r}^{2} + \\left(\\epsilon_{r} - 1\\right)^{2}\\right)\\right)\\right)^{2}\\right)}{8 E \\epsilon_{r} \\left(\\epsilon_{r} - 1\\right) \\left(8 E \\epsilon_{r} \\left(2 E - 3\\right) \\left(\\epsilon_{r} - 1\\right) + \\left(4 E^{2} + \\left(2 E - 3\\right)^{2}\\right) \\left(\\epsilon_{r}^{2} + \\left(\\epsilon_{r} - 1\\right)^{2}\\right)\\right) \\left(- 6 E \\epsilon_{g} \\left(\\epsilon_{g} - 2\\right) \\left(E p_{x} + E p_{y} + 3 p_{z} \\left(1 - E\\right)\\right) + E \\left(8 E \\epsilon_{r} \\left(2 E - 3\\right) \\left(\\epsilon_{r} - 1\\right) + \\left(4 E^{2} + \\left(2 E - 3\\right)^{2}\\right) \\left(\\epsilon_{r}^{2} + \\left(\\epsilon_{r} - 1\\right)^{2}\\right)\\right) + 3 \\left(\\epsilon_{g} - 1\\right)^{2} \\left(2 E \\epsilon_{r} \\left(2 E - 3\\right) \\left(\\epsilon_{r} - 1\\right) + \\left(E^{2} + 9 \\left(E - 1\\right)^{2}\\right) \\left(\\epsilon_{r}^{2} + \\left(\\epsilon_{r} - 1\\right)^{2}\\right)\\right)\\right) - \\left(\\epsilon_{r}^{2} + \\left(\\epsilon_{r} - 1\\right)^{2}\\right) \\left(4 E^{2} \\left(8 E \\epsilon_{r} \\left(2 E - 3\\right) \\left(\\epsilon_{r} - 1\\right) + \\left(4 E^{2} + \\left(2 E - 3\\right)^{2}\\right) \\left(\\epsilon_{r}^{2} + \\left(\\epsilon_{r} - 1\\right)^{2}\\right)\\right)^{2} + \\left(- 6 E \\epsilon_{g} \\left(\\epsilon_{g} - 2\\right) \\left(E p_{x} + E p_{y} + 3 p_{z} \\left(1 - E\\right)\\right) + E \\left(8 E \\epsilon_{r} \\left(2 E - 3\\right) \\left(\\epsilon_{r} - 1\\right) + \\left(4 E^{2} + \\left(2 E - 3\\right)^{2}\\right) \\left(\\epsilon_{r}^{2} + \\left(\\epsilon_{r} - 1\\right)^{2}\\right)\\right) + 3 \\left(\\epsilon_{g} - 1\\right)^{2} \\left(2 E \\epsilon_{r} \\left(2 E - 3\\right) \\left(\\epsilon_{r} - 1\\right) + \\left(E^{2} + 9 \\left(E - 1\\right)^{2}\\right) \\left(\\epsilon_{r}^{2} + \\left(\\epsilon_{r} - 1\\right)^{2}\\right)\\right)\\right)^{2}\\right)}$"
      ],
      "text/plain": [
       "(2*E*epsilon_g*(epsilon_g - 2)*(E*(p_x + p_y)*(8*E*epsilon_r*(1 - epsilon_r)*(3 - 2*E) + (4*E**2 + (3 - 2*E)**2)*(epsilon_r**2 + (1 - epsilon_r)**2)) + 3*p_z*(-2*E*epsilon_g*(epsilon_g - 2)*(E*p_x + E*p_y + 3*p_z*(1 - E)) + (epsilon_g - 1)**2*(2*E*epsilon_r*(1 - epsilon_r)*(3 - 2*E) + (E**2 + 9*(1 - E)**2)*(epsilon_r**2 + (1 - epsilon_r)**2))))*(8*E*epsilon_r*(2*E - 3)*(epsilon_r - 1) + (4*E**2 + (2*E - 3)**2)*(epsilon_r**2 + (epsilon_r - 1)**2)) + 2*E*epsilon_r*(epsilon_g - 1)**2*(epsilon_r - 1)*(8*E*epsilon_r*(2*E - 3)*(epsilon_r - 1) + (4*E**2 + (2*E - 3)**2)*(epsilon_r**2 + (epsilon_r - 1)**2))*(-6*E*epsilon_g*(epsilon_g - 2)*(E*p_x + E*p_y + 3*p_z*(1 - E)) + E*(8*E*epsilon_r*(1 - epsilon_r)*(3 - 2*E) + (4*E**2 + (3 - 2*E)**2)*(epsilon_r**2 + (1 - epsilon_r)**2)) + 3*(epsilon_g - 1)**2*(2*E*epsilon_r*(1 - epsilon_r)*(3 - 2*E) + (E**2 + 9*(1 - E)**2)*(epsilon_r**2 + (1 - epsilon_r)**2))) - (epsilon_g - 1)**2*(epsilon_r**2 + (epsilon_r - 1)**2)*(E**2*(8*E*epsilon_r*(2*E - 3)*(epsilon_r - 1) + (4*E**2 + (2*E - 3)**2)*(epsilon_r**2 + (epsilon_r - 1)**2))**2 + 9*(-2*E*epsilon_g*(epsilon_g - 2)*(E*p_x + E*p_y + 3*p_z*(1 - E)) + (epsilon_g - 1)**2*(2*E*epsilon_r*(2*E - 3)*(epsilon_r - 1) + (E**2 + 9*(E - 1)**2)*(epsilon_r**2 + (epsilon_r - 1)**2)))**2))/(8*E*epsilon_r*(epsilon_r - 1)*(8*E*epsilon_r*(2*E - 3)*(epsilon_r - 1) + (4*E**2 + (2*E - 3)**2)*(epsilon_r**2 + (epsilon_r - 1)**2))*(-6*E*epsilon_g*(epsilon_g - 2)*(E*p_x + E*p_y + 3*p_z*(1 - E)) + E*(8*E*epsilon_r*(2*E - 3)*(epsilon_r - 1) + (4*E**2 + (2*E - 3)**2)*(epsilon_r**2 + (epsilon_r - 1)**2)) + 3*(epsilon_g - 1)**2*(2*E*epsilon_r*(2*E - 3)*(epsilon_r - 1) + (E**2 + 9*(E - 1)**2)*(epsilon_r**2 + (epsilon_r - 1)**2))) - (epsilon_r**2 + (epsilon_r - 1)**2)*(4*E**2*(8*E*epsilon_r*(2*E - 3)*(epsilon_r - 1) + (4*E**2 + (2*E - 3)**2)*(epsilon_r**2 + (epsilon_r - 1)**2))**2 + (-6*E*epsilon_g*(epsilon_g - 2)*(E*p_x + E*p_y + 3*p_z*(1 - E)) + E*(8*E*epsilon_r*(2*E - 3)*(epsilon_r - 1) + (4*E**2 + (2*E - 3)**2)*(epsilon_r**2 + (epsilon_r - 1)**2)) + 3*(epsilon_g - 1)**2*(2*E*epsilon_r*(2*E - 3)*(epsilon_r - 1) + (E**2 + 9*(E - 1)**2)*(epsilon_r**2 + (epsilon_r - 1)**2)))**2))"
      ]
     },
     "execution_count": 7,
     "metadata": {},
     "output_type": "execute_result"
    }
   ],
   "source": [
    "# look for fixed points of this equation\n",
    "# expansion not working\n",
    "# lets try to expand first on the other variables\n",
    "# ec_ofE=sy.simplify(ecua.subs(changevar))\n",
    "ec_ofE=(2*E*epsilon_g*(epsilon_g - 2)*(E*(p_x + p_y)*(8*E*epsilon_r*(1 - epsilon_r)*(3 - 2*E) + (4*E**2 + (3 - 2*E)**2)*(epsilon_r**2 + (1 - epsilon_r)**2)) + 3*p_z*(-2*E*epsilon_g*(epsilon_g - 2)*(E*p_x + E*p_y + 3*p_z*(1 - E)) + (epsilon_g - 1)**2*(2*E*epsilon_r*(1 - epsilon_r)*(3 - 2*E) + (E**2 + 9*(1 - E)**2)*(epsilon_r**2 + (1 - epsilon_r)**2))))*(8*E*epsilon_r*(2*E - 3)*(epsilon_r - 1) + (4*E**2 + (2*E - 3)**2)*(epsilon_r**2 + (epsilon_r - 1)**2)) + 2*E*epsilon_r*(epsilon_g - 1)**2*(epsilon_r - 1)*(8*E*epsilon_r*(2*E - 3)*(epsilon_r - 1) + (4*E**2 + (2*E - 3)**2)*(epsilon_r**2 + (epsilon_r - 1)**2))*(-6*E*epsilon_g*(epsilon_g - 2)*(E*p_x + E*p_y + 3*p_z*(1 - E)) + E*(8*E*epsilon_r*(1 - epsilon_r)*(3 - 2*E) + (4*E**2 + (3 - 2*E)**2)*(epsilon_r**2 + (1 - epsilon_r)**2)) + 3*(epsilon_g - 1)**2*(2*E*epsilon_r*(1 - epsilon_r)*(3 - 2*E) + (E**2 + 9*(1 - E)**2)*(epsilon_r**2 + (1 - epsilon_r)**2))) - (epsilon_g - 1)**2*(epsilon_r**2 + (epsilon_r - 1)**2)*(E**2*(8*E*epsilon_r*(2*E - 3)*(epsilon_r - 1) + (4*E**2 + (2*E - 3)**2)*(epsilon_r**2 + (epsilon_r - 1)**2))**2 + 9*(-2*E*epsilon_g*(epsilon_g - 2)*(E*p_x + E*p_y + 3*p_z*(1 - E)) + (epsilon_g - 1)**2*(2*E*epsilon_r*(2*E - 3)*(epsilon_r - 1) + (E**2 + 9*(E - 1)**2)*(epsilon_r**2 + (epsilon_r - 1)**2)))**2))/(8*E*epsilon_r*(epsilon_r - 1)*(8*E*epsilon_r*(2*E - 3)*(epsilon_r - 1) + (4*E**2 + (2*E - 3)**2)*(epsilon_r**2 + (epsilon_r - 1)**2))*(-6*E*epsilon_g*(epsilon_g - 2)*(E*p_x + E*p_y + 3*p_z*(1 - E)) + E*(8*E*epsilon_r*(2*E - 3)*(epsilon_r - 1) + (4*E**2 + (2*E - 3)**2)*(epsilon_r**2 + (epsilon_r - 1)**2)) + 3*(epsilon_g - 1)**2*(2*E*epsilon_r*(2*E - 3)*(epsilon_r - 1) + (E**2 + 9*(E - 1)**2)*(epsilon_r**2 + (epsilon_r - 1)**2))) - (epsilon_r**2 + (epsilon_r - 1)**2)*(4*E**2*(8*E*epsilon_r*(2*E - 3)*(epsilon_r - 1) + (4*E**2 + (2*E - 3)**2)*(epsilon_r**2 + (epsilon_r - 1)**2))**2 + (-6*E*epsilon_g*(epsilon_g - 2)*(E*p_x + E*p_y + 3*p_z*(1 - E)) + E*(8*E*epsilon_r*(2*E - 3)*(epsilon_r - 1) + (4*E**2 + (2*E - 3)**2)*(epsilon_r**2 + (epsilon_r - 1)**2)) + 3*(epsilon_g - 1)**2*(2*E*epsilon_r*(2*E - 3)*(epsilon_r - 1) + (E**2 + 9*(E - 1)**2)*(epsilon_r**2 + (epsilon_r - 1)**2)))**2))\n",
    "ec_ofE"
   ]
  },
  {
   "cell_type": "code",
   "execution_count": 8,
   "id": "dc7c8e77",
   "metadata": {},
   "outputs": [],
   "source": [
    "# #here we do a multivariable taylor expansion up to second order first around F=1 and then one around E_g around 0\n",
    "# simp_expansion=sy.simplify(sy.series((sy.series((sy.series(ec_ofE,E,0,2).removeO()),epsilon_g,0,2).removeO()),epsilon_r,0,2).removeO())\n",
    "# # simp_expansion_den=sy.simplify(sy.series((sy.series((sy.series(hybden,F,1,2).removeO()),epsilon_g,0,2).removeO()),eta,1,2).removeO())\n",
    "# integrandF=(sy.simplify((simp_expansion)-(1-E)))\n",
    "# integrandF\n",
    "# uncomment to get expression"
   ]
  },
  {
   "cell_type": "code",
   "execution_count": 9,
   "id": "681943aa",
   "metadata": {},
   "outputs": [],
   "source": [
    "integrandF= -2*epsilon_g + (4*E*epsilon_g*p_z + 2*E*epsilon_r*(4*epsilon_g*p_z - 3) + E)/3"
   ]
  },
  {
   "cell_type": "code",
   "execution_count": 10,
   "id": "d68aec59",
   "metadata": {},
   "outputs": [
    {
     "data": {
      "text/latex": [
       "$\\displaystyle - \\frac{F}{3} + \\frac{4 \\epsilon_{g} p_{z} \\left(1 - F\\right)}{3} - 2 \\epsilon_{g} + \\frac{2 \\epsilon_{r} \\left(1 - F\\right) \\left(4 \\epsilon_{g} p_{z} - 3\\right)}{3} + \\frac{1}{3}$"
      ],
      "text/plain": [
       "-F/3 + 4*epsilon_g*p_z*(1 - F)/3 - 2*epsilon_g + 2*epsilon_r*(1 - F)*(4*epsilon_g*p_z - 3)/3 + 1/3"
      ]
     },
     "execution_count": 10,
     "metadata": {},
     "output_type": "execute_result"
    }
   ],
   "source": [
    "#lets say that we want to expand over zeros here we change variables F->(1-E) and eta->(1-epsilon_r)\n",
    "neweq=integrandF.subs(intermsub)\n",
    "neweq"
   ]
  },
  {
   "cell_type": "code",
   "execution_count": 11,
   "id": "c8d8686e",
   "metadata": {},
   "outputs": [
    {
     "data": {
      "text/latex": [
       "$\\displaystyle \\frac{F \\left(F \\left(- 8 \\epsilon_{g} \\epsilon_{r} p_{z} - 4 \\epsilon_{g} p_{z} + 6 \\epsilon_{r} - 1\\right) + 16 \\epsilon_{g} \\epsilon_{r} p_{z} + 8 \\epsilon_{g} p_{z} - 12 \\epsilon_{g} - 12 \\epsilon_{r} + 2\\right)}{6}$"
      ],
      "text/plain": [
       "F*(F*(-8*epsilon_g*epsilon_r*p_z - 4*epsilon_g*p_z + 6*epsilon_r - 1) + 16*epsilon_g*epsilon_r*p_z + 8*epsilon_g*p_z - 12*epsilon_g - 12*epsilon_r + 2)/6"
      ]
     },
     "execution_count": 11,
     "metadata": {},
     "output_type": "execute_result"
    }
   ],
   "source": [
    "# now we can integrate the new variable \n",
    "eq13=sy.simplify(sy.integrate(neweq,F))\n",
    "eq13"
   ]
  },
  {
   "cell_type": "code",
   "execution_count": 12,
   "id": "8f74d04b",
   "metadata": {},
   "outputs": [
    {
     "name": "stdout",
     "output_type": "stream",
     "text": [
      "F*(F*(-8*epsilon_g*epsilon_r*p_z - 4*epsilon_g*p_z + 6*epsilon_r - 1) + 16*epsilon_g*epsilon_r*p_z + 8*epsilon_g*p_z - 12*epsilon_g - 12*epsilon_r + 2)/6\n"
     ]
    }
   ],
   "source": [
    "# this cell just print the previous eq in python format to do numerical integration\n",
    "print(eq13)\n",
    "evaluaF_t={\n",
    "    F:F_t}\n",
    "evaluaF_0={\n",
    "    F:F_o}"
   ]
  },
  {
   "cell_type": "code",
   "execution_count": 13,
   "id": "223d318f",
   "metadata": {},
   "outputs": [
    {
     "data": {
      "text/latex": [
       "$\\displaystyle - \\frac{4 F_{0} \\epsilon_{g} \\epsilon_{r} p_{z}}{3} - \\frac{2 F_{0} \\epsilon_{g} p_{z}}{3} + F_{0} \\epsilon_{r} - \\frac{F_{0}}{6} - \\frac{4 F_{t} \\epsilon_{g} \\epsilon_{r} p_{z}}{3} - \\frac{2 F_{t} \\epsilon_{g} p_{z}}{3} + F_{t} \\epsilon_{r} - \\frac{F_{t}}{6} + \\frac{8 \\epsilon_{g} \\epsilon_{r} p_{z}}{3} + \\frac{4 \\epsilon_{g} p_{z}}{3} - 2 \\epsilon_{g} - 2 \\epsilon_{r} + \\frac{1}{3}$"
      ],
      "text/plain": [
       "-4*F_0*epsilon_g*epsilon_r*p_z/3 - 2*F_0*epsilon_g*p_z/3 + F_0*epsilon_r - F_0/6 - 4*F_t*epsilon_g*epsilon_r*p_z/3 - 2*F_t*epsilon_g*p_z/3 + F_t*epsilon_r - F_t/6 + 8*epsilon_g*epsilon_r*p_z/3 + 4*epsilon_g*p_z/3 - 2*epsilon_g - 2*epsilon_r + 1/3"
      ]
     },
     "execution_count": 13,
     "metadata": {},
     "output_type": "execute_result"
    }
   ],
   "source": [
    "#lets try to get a expresion for the evaluation of the integral\n",
    "avg_stp=sy.simplify((eq13.subs(evaluaF_t)-eq13.subs(evaluaF_0))/(F_t-F_o))\n",
    "avg_stp"
   ]
  },
  {
   "cell_type": "code",
   "execution_count": 14,
   "id": "d95b7b61",
   "metadata": {},
   "outputs": [
    {
     "name": "stdout",
     "output_type": "stream",
     "text": [
      "-4*F_0*epsilon_g*epsilon_r*p_z/3 - 2*F_0*epsilon_g*p_z/3 + F_0*epsilon_r - F_0/6 - 4*F_t*epsilon_g*epsilon_r*p_z/3 - 2*F_t*epsilon_g*p_z/3 + F_t*epsilon_r - F_t/6 + 8*epsilon_g*epsilon_r*p_z/3 + 4*epsilon_g*p_z/3 - 2*epsilon_g - 2*epsilon_r + 1/3\n"
     ]
    }
   ],
   "source": [
    "print(avg_stp)"
   ]
  },
  {
   "cell_type": "code",
   "execution_count": 15,
   "id": "d3e70fb3",
   "metadata": {},
   "outputs": [
    {
     "data": {
      "text/latex": [
       "$\\displaystyle 2 \\eta \\left(1 - \\eta\\right) \\left(2 B + 2 F\\right) \\left(C + D\\right) + \\left(\\eta^{2} + \\left(1 - \\eta\\right)^{2}\\right) \\left(\\left(B + F\\right)^{2} + \\left(C + D\\right)^{2}\\right)$"
      ],
      "text/plain": [
       "2*eta*(1 - eta)*(2*B + 2*F)*(C + D) + (eta**2 + (1 - eta)**2)*((B + F)**2 + (C + D)**2)"
      ]
     },
     "execution_count": 15,
     "metadata": {},
     "output_type": "execute_result"
    }
   ],
   "source": [
    "#Now we can calculate the average acceptance probability of the protocol and calculate the geometrical integral\n",
    "# recall that we have saved the following eqs\n",
    "residuo,firstnorm=A_error.as_numer_denom()\n",
    "prob_of_ok=normalization/(1-epsilon_g)**2\n",
    "prob_of_ok"
   ]
  },
  {
   "cell_type": "code",
   "execution_count": 16,
   "id": "91e16a38",
   "metadata": {},
   "outputs": [
    {
     "data": {
      "text/latex": [
       "$\\displaystyle \\frac{- 4 \\eta \\left(C + D\\right) \\left(\\eta - 1\\right) \\left(4 \\eta \\left(B + F\\right) \\left(C + D\\right) \\left(\\eta - 1\\right) - \\left(\\eta^{2} + \\left(\\eta - 1\\right)^{2}\\right) \\left(\\left(B + F\\right)^{2} + \\left(C + D\\right)^{2}\\right)\\right) \\left(B \\left(4 \\eta \\left(B + F\\right) \\left(C + D\\right) \\left(\\eta - 1\\right) - \\left(\\eta^{2} + \\left(\\eta - 1\\right)^{2}\\right) \\left(\\left(B + F\\right)^{2} + \\left(C + D\\right)^{2}\\right)\\right) + \\epsilon_{g} \\left(\\epsilon_{g} - 2\\right) \\left(2 B F p_{z} + 2 C D p_{y} + p_{x} \\left(C^{2} + D^{2}\\right)\\right) + \\left(\\epsilon_{g} - 1\\right)^{2} \\left(2 \\eta \\left(\\eta - 1\\right) \\left(B D + C F\\right) - \\left(B^{2} + F^{2}\\right) \\left(\\eta^{2} + \\left(\\eta - 1\\right)^{2}\\right)\\right)\\right) + \\left(\\eta^{2} + \\left(\\eta - 1\\right)^{2}\\right) \\left(\\left(C + D\\right)^{2} \\left(4 \\eta \\left(B + F\\right) \\left(C + D\\right) \\left(\\eta - 1\\right) - \\left(\\eta^{2} + \\left(\\eta - 1\\right)^{2}\\right) \\left(\\left(B + F\\right)^{2} + \\left(C + D\\right)^{2}\\right)\\right)^{2} + \\left(B \\left(4 \\eta \\left(B + F\\right) \\left(C + D\\right) \\left(\\eta - 1\\right) - \\left(\\eta^{2} + \\left(\\eta - 1\\right)^{2}\\right) \\left(\\left(B + F\\right)^{2} + \\left(C + D\\right)^{2}\\right)\\right) + \\epsilon_{g} \\left(\\epsilon_{g} - 2\\right) \\left(2 B F p_{z} + 2 C D p_{y} + p_{x} \\left(C^{2} + D^{2}\\right)\\right) + \\left(\\epsilon_{g} - 1\\right)^{2} \\left(2 \\eta \\left(\\eta - 1\\right) \\left(B D + C F\\right) - \\left(B^{2} + F^{2}\\right) \\left(\\eta^{2} + \\left(\\eta - 1\\right)^{2}\\right)\\right)\\right)^{2}\\right)}{\\left(4 \\eta \\left(B + F\\right) \\left(C + D\\right) \\left(\\eta - 1\\right) - \\left(\\eta^{2} + \\left(\\eta - 1\\right)^{2}\\right) \\left(\\left(B + F\\right)^{2} + \\left(C + D\\right)^{2}\\right)\\right)^{2}}$"
      ],
      "text/plain": [
       "(-4*eta*(C + D)*(eta - 1)*(4*eta*(B + F)*(C + D)*(eta - 1) - (eta**2 + (eta - 1)**2)*((B + F)**2 + (C + D)**2))*(B*(4*eta*(B + F)*(C + D)*(eta - 1) - (eta**2 + (eta - 1)**2)*((B + F)**2 + (C + D)**2)) + epsilon_g*(epsilon_g - 2)*(2*B*F*p_z + 2*C*D*p_y + p_x*(C**2 + D**2)) + (epsilon_g - 1)**2*(2*eta*(eta - 1)*(B*D + C*F) - (B**2 + F**2)*(eta**2 + (eta - 1)**2))) + (eta**2 + (eta - 1)**2)*((C + D)**2*(4*eta*(B + F)*(C + D)*(eta - 1) - (eta**2 + (eta - 1)**2)*((B + F)**2 + (C + D)**2))**2 + (B*(4*eta*(B + F)*(C + D)*(eta - 1) - (eta**2 + (eta - 1)**2)*((B + F)**2 + (C + D)**2)) + epsilon_g*(epsilon_g - 2)*(2*B*F*p_z + 2*C*D*p_y + p_x*(C**2 + D**2)) + (epsilon_g - 1)**2*(2*eta*(eta - 1)*(B*D + C*F) - (B**2 + F**2)*(eta**2 + (eta - 1)**2)))**2))/(4*eta*(B + F)*(C + D)*(eta - 1) - (eta**2 + (eta - 1)**2)*((B + F)**2 + (C + D)**2))**2"
      ]
     },
     "execution_count": 16,
     "metadata": {},
     "output_type": "execute_result"
    }
   ],
   "source": [
    "# here we substitute as we did in the past when we see a we apply the protocol\n",
    "prob_of_ok_prime=sy.simplify(2*eta*(1 - eta)*(2*AtoF + 2*B)*(C + D) + (eta**2 + (1 - eta)**2)*((AtoF + B)**2 + (C + D)**2))\n",
    "prob_of_ok_prime"
   ]
  },
  {
   "cell_type": "code",
   "execution_count": 17,
   "id": "80badffe",
   "metadata": {},
   "outputs": [
    {
     "data": {
      "text/latex": [
       "$\\displaystyle \\frac{8 E \\epsilon_{r} \\left(\\epsilon_{r} - 1\\right) \\left(8 E \\epsilon_{r} \\left(1 - \\epsilon_{r}\\right) \\left(3 - 2 E\\right) + \\left(4 E^{2} + \\left(3 - 2 E\\right)^{2}\\right) \\left(\\epsilon_{r}^{2} + \\left(1 - \\epsilon_{r}\\right)^{2}\\right)\\right) \\left(6 E \\epsilon_{g} \\left(\\epsilon_{g} - 2\\right) \\left(E p_{x} + E p_{y} - 3 p_{z} \\left(E - 1\\right)\\right) - E \\left(8 E \\epsilon_{r} \\left(1 - \\epsilon_{r}\\right) \\left(3 - 2 E\\right) + \\left(4 E^{2} + \\left(3 - 2 E\\right)^{2}\\right) \\left(\\epsilon_{r}^{2} + \\left(1 - \\epsilon_{r}\\right)^{2}\\right)\\right) - 3 \\left(\\epsilon_{g} - 1\\right)^{2} \\left(2 E \\epsilon_{r} \\left(1 - \\epsilon_{r}\\right) \\left(3 - 2 E\\right) + \\left(E^{2} + 9 \\left(1 - E\\right)^{2}\\right) \\left(\\epsilon_{r}^{2} + \\left(1 - \\epsilon_{r}\\right)^{2}\\right)\\right)\\right) + \\left(\\epsilon_{r}^{2} + \\left(\\epsilon_{r} - 1\\right)^{2}\\right) \\left(4 E^{2} \\left(8 E \\epsilon_{r} \\left(1 - \\epsilon_{r}\\right) \\left(3 - 2 E\\right) + \\left(4 E^{2} + \\left(3 - 2 E\\right)^{2}\\right) \\left(\\epsilon_{r}^{2} + \\left(1 - \\epsilon_{r}\\right)^{2}\\right)\\right)^{2} + \\left(6 E \\epsilon_{g} \\left(\\epsilon_{g} - 2\\right) \\left(E p_{x} + E p_{y} - 3 p_{z} \\left(E - 1\\right)\\right) - E \\left(8 E \\epsilon_{r} \\left(1 - \\epsilon_{r}\\right) \\left(3 - 2 E\\right) + \\left(4 E^{2} + \\left(3 - 2 E\\right)^{2}\\right) \\left(\\epsilon_{r}^{2} + \\left(1 - \\epsilon_{r}\\right)^{2}\\right)\\right) - 3 \\left(\\epsilon_{g} - 1\\right)^{2} \\left(2 E \\epsilon_{r} \\left(1 - \\epsilon_{r}\\right) \\left(3 - 2 E\\right) + \\left(E^{2} + 9 \\left(1 - E\\right)^{2}\\right) \\left(\\epsilon_{r}^{2} + \\left(1 - \\epsilon_{r}\\right)^{2}\\right)\\right)\\right)^{2}\\right)}{81 \\left(8 E \\epsilon_{r} \\left(2 E - 3\\right) \\left(\\epsilon_{r} - 1\\right) + \\left(4 E^{2} + \\left(2 E - 3\\right)^{2}\\right) \\left(\\epsilon_{r}^{2} + \\left(\\epsilon_{r} - 1\\right)^{2}\\right)\\right)}$"
      ],
      "text/plain": [
       "(8*E*epsilon_r*(epsilon_r - 1)*(8*E*epsilon_r*(1 - epsilon_r)*(3 - 2*E) + (4*E**2 + (3 - 2*E)**2)*(epsilon_r**2 + (1 - epsilon_r)**2))*(6*E*epsilon_g*(epsilon_g - 2)*(E*p_x + E*p_y - 3*p_z*(E - 1)) - E*(8*E*epsilon_r*(1 - epsilon_r)*(3 - 2*E) + (4*E**2 + (3 - 2*E)**2)*(epsilon_r**2 + (1 - epsilon_r)**2)) - 3*(epsilon_g - 1)**2*(2*E*epsilon_r*(1 - epsilon_r)*(3 - 2*E) + (E**2 + 9*(1 - E)**2)*(epsilon_r**2 + (1 - epsilon_r)**2))) + (epsilon_r**2 + (epsilon_r - 1)**2)*(4*E**2*(8*E*epsilon_r*(1 - epsilon_r)*(3 - 2*E) + (4*E**2 + (3 - 2*E)**2)*(epsilon_r**2 + (1 - epsilon_r)**2))**2 + (6*E*epsilon_g*(epsilon_g - 2)*(E*p_x + E*p_y - 3*p_z*(E - 1)) - E*(8*E*epsilon_r*(1 - epsilon_r)*(3 - 2*E) + (4*E**2 + (3 - 2*E)**2)*(epsilon_r**2 + (1 - epsilon_r)**2)) - 3*(epsilon_g - 1)**2*(2*E*epsilon_r*(1 - epsilon_r)*(3 - 2*E) + (E**2 + 9*(1 - E)**2)*(epsilon_r**2 + (1 - epsilon_r)**2)))**2))/(81*(8*E*epsilon_r*(2*E - 3)*(epsilon_r - 1) + (4*E**2 + (2*E - 3)**2)*(epsilon_r**2 + (epsilon_r - 1)**2)))"
      ]
     },
     "execution_count": 17,
     "metadata": {},
     "output_type": "execute_result"
    }
   ],
   "source": [
    "# we multiply them and then substitute it with the hybrid variables\n",
    "multiply=sy.simplify(prob_of_ok*prob_of_ok_prime)\n",
    "mean_acceptance=multiply.subs(hybridsubstitution)\n",
    "# # we only take the numerator of this eq\n",
    "# algo,mean_acceptance=multiplied_eq.as_numer_denom()\n",
    "# simplifying\n",
    "simplified_mean_acc=sy.simplify(mean_acceptance.subs(changevar))\n",
    "simplified_mean_acc"
   ]
  },
  {
   "cell_type": "code",
   "execution_count": 18,
   "id": "a22863d2",
   "metadata": {},
   "outputs": [
    {
     "data": {
      "text/latex": [
       "$\\displaystyle \\frac{8 E \\epsilon_{g} p_{z}}{3} + \\frac{28 E \\epsilon_{g}}{3} - 2 E - 4 \\epsilon_{g} - \\frac{4 \\epsilon_{r} \\left(4 E \\epsilon_{g} p_{z} + 28 E \\epsilon_{g} - 7 E - 12 \\epsilon_{g} + 3\\right)}{3} + 1$"
      ],
      "text/plain": [
       "8*E*epsilon_g*p_z/3 + 28*E*epsilon_g/3 - 2*E - 4*epsilon_g - 4*epsilon_r*(4*E*epsilon_g*p_z + 28*E*epsilon_g - 7*E - 12*epsilon_g + 3)/3 + 1"
      ]
     },
     "execution_count": 18,
     "metadata": {},
     "output_type": "execute_result"
    }
   ],
   "source": [
    "fbeur=sy.simplify(sy.series((sy.series((sy.series(simplified_mean_acc,E,0,2).removeO()),epsilon_g,0,2).removeO()),epsilon_r,0,2).removeO())\n",
    "fbeur"
   ]
  },
  {
   "cell_type": "code",
   "execution_count": 19,
   "id": "2c59e0ec",
   "metadata": {},
   "outputs": [
    {
     "data": {
      "text/latex": [
       "$\\displaystyle 2 F - \\frac{8 \\epsilon_{g} p_{z} \\left(F - 1\\right)}{3} - \\frac{28 \\epsilon_{g} \\left(F - 1\\right)}{3} - 4 \\epsilon_{g} + \\frac{4 \\epsilon_{r} \\left(- 7 F + 4 \\epsilon_{g} p_{z} \\left(F - 1\\right) + 28 \\epsilon_{g} \\left(F - 1\\right) + 12 \\epsilon_{g} + 4\\right)}{3} - 1$"
      ],
      "text/plain": [
       "2*F - 8*epsilon_g*p_z*(F - 1)/3 - 28*epsilon_g*(F - 1)/3 - 4*epsilon_g + 4*epsilon_r*(-7*F + 4*epsilon_g*p_z*(F - 1) + 28*epsilon_g*(F - 1) + 12*epsilon_g + 4)/3 - 1"
      ]
     },
     "execution_count": 19,
     "metadata": {},
     "output_type": "execute_result"
    }
   ],
   "source": [
    "# we expand this thing as with the previous step\n",
    "from sympy import log\n",
    "integrandP=sy.simplify(fbeur.subs(intermsub))\n",
    "integrandP"
   ]
  },
  {
   "cell_type": "code",
   "execution_count": 36,
   "id": "f8b6bc20",
   "metadata": {},
   "outputs": [
    {
     "data": {
      "text/latex": [
       "$\\displaystyle \\frac{F \\left(8 \\epsilon_{g} \\epsilon_{r} p_{z} + 56 \\epsilon_{g} \\epsilon_{r} - 4 \\epsilon_{g} p_{z} - 14 \\epsilon_{g} - 14 \\epsilon_{r} + 3\\right) \\log{\\left(2 F - \\frac{8 \\epsilon_{g} p_{z} \\left(F - 1\\right)}{3} - \\frac{28 \\epsilon_{g} \\left(F - 1\\right)}{3} - 4 \\epsilon_{g} + \\frac{4 \\epsilon_{r} \\left(- 7 F + 4 \\epsilon_{g} p_{z} \\left(F - 1\\right) + 28 \\epsilon_{g} \\left(F - 1\\right) + 12 \\epsilon_{g} + 4\\right)}{3} - 1 \\right)} - F \\left(8 \\epsilon_{g} \\epsilon_{r} p_{z} + 56 \\epsilon_{g} \\epsilon_{r} - 4 \\epsilon_{g} p_{z} - 14 \\epsilon_{g} - 14 \\epsilon_{r} + 3\\right) - \\frac{\\left(16 \\epsilon_{g} \\epsilon_{r} p_{z} + 64 \\epsilon_{g} \\epsilon_{r} - 8 \\epsilon_{g} p_{z} - 16 \\epsilon_{g} - 16 \\epsilon_{r} + 3\\right) \\log{\\left(2 F \\left(8 \\epsilon_{g} \\epsilon_{r} p_{z} + 56 \\epsilon_{g} \\epsilon_{r} - 4 \\epsilon_{g} p_{z} - 14 \\epsilon_{g} - 14 \\epsilon_{r} + 3\\right) - 16 \\epsilon_{g} \\epsilon_{r} p_{z} - 64 \\epsilon_{g} \\epsilon_{r} + 8 \\epsilon_{g} p_{z} + 16 \\epsilon_{g} + 16 \\epsilon_{r} - 3 \\right)}}{2}}{8 \\epsilon_{g} \\epsilon_{r} p_{z} + 56 \\epsilon_{g} \\epsilon_{r} - 4 \\epsilon_{g} p_{z} - 14 \\epsilon_{g} - 14 \\epsilon_{r} + 3}$"
      ],
      "text/plain": [
       "(F*(8*epsilon_g*epsilon_r*p_z + 56*epsilon_g*epsilon_r - 4*epsilon_g*p_z - 14*epsilon_g - 14*epsilon_r + 3)*log(2*F - 8*epsilon_g*p_z*(F - 1)/3 - 28*epsilon_g*(F - 1)/3 - 4*epsilon_g + 4*epsilon_r*(-7*F + 4*epsilon_g*p_z*(F - 1) + 28*epsilon_g*(F - 1) + 12*epsilon_g + 4)/3 - 1) - F*(8*epsilon_g*epsilon_r*p_z + 56*epsilon_g*epsilon_r - 4*epsilon_g*p_z - 14*epsilon_g - 14*epsilon_r + 3) - (16*epsilon_g*epsilon_r*p_z + 64*epsilon_g*epsilon_r - 8*epsilon_g*p_z - 16*epsilon_g - 16*epsilon_r + 3)*log(2*F*(8*epsilon_g*epsilon_r*p_z + 56*epsilon_g*epsilon_r - 4*epsilon_g*p_z - 14*epsilon_g - 14*epsilon_r + 3) - 16*epsilon_g*epsilon_r*p_z - 64*epsilon_g*epsilon_r + 8*epsilon_g*p_z + 16*epsilon_g + 16*epsilon_r - 3)/2)/(8*epsilon_g*epsilon_r*p_z + 56*epsilon_g*epsilon_r - 4*epsilon_g*p_z - 14*epsilon_g - 14*epsilon_r + 3)"
      ]
     },
     "execution_count": 36,
     "metadata": {},
     "output_type": "execute_result"
    }
   ],
   "source": [
    "# we integrate this and then simplify\n",
    "eq15=sy.simplify(sy.integrate(log(integrandP),F))\n",
    "eq15"
   ]
  },
  {
   "cell_type": "code",
   "execution_count": 37,
   "id": "3a94ee9f",
   "metadata": {},
   "outputs": [
    {
     "name": "stdout",
     "output_type": "stream",
     "text": [
      "2*F*(8*epsilon_g*epsilon_r*p_z + 56*epsilon_g*epsilon_r - 4*epsilon_g*p_z - 14*epsilon_g - 14*epsilon_r + 3)*log(2*F - 8*epsilon_g*p_z*(F - 1)/3 - 28*epsilon_g*(F - 1)/3 - 4*epsilon_g + 4*epsilon_r*(-7*F + 4*epsilon_g*p_z*(F - 1) + 28*epsilon_g*(F - 1) + 12*epsilon_g + 4)/3 - 1) - 2*F*(8*epsilon_g*epsilon_r*p_z + 56*epsilon_g*epsilon_r - 4*epsilon_g*p_z - 14*epsilon_g - 14*epsilon_r + 3) - (16*epsilon_g*epsilon_r*p_z + 64*epsilon_g*epsilon_r - 8*epsilon_g*p_z - 16*epsilon_g - 16*epsilon_r + 3)*log(2*F*(8*epsilon_g*epsilon_r*p_z + 56*epsilon_g*epsilon_r - 4*epsilon_g*p_z - 14*epsilon_g - 14*epsilon_r + 3) - 16*epsilon_g*epsilon_r*p_z - 64*epsilon_g*epsilon_r + 8*epsilon_g*p_z + 16*epsilon_g + 16*epsilon_r - 3)\n"
     ]
    }
   ],
   "source": [
    "# Lets evaluate the integral:\n",
    "numer15,denom15=eq15.as_numer_denom()\n",
    "numr=sy.simplify(numer15)\n",
    "print(numr)"
   ]
  },
  {
   "cell_type": "code",
   "execution_count": 38,
   "id": "f762c1e5",
   "metadata": {},
   "outputs": [
    {
     "name": "stdout",
     "output_type": "stream",
     "text": [
      "16*epsilon_g*epsilon_r*p_z + 112*epsilon_g*epsilon_r - 8*epsilon_g*p_z - 28*epsilon_g - 28*epsilon_r + 6\n"
     ]
    }
   ],
   "source": [
    "denr=sy.simplify(denom15)\n",
    "print(denr)"
   ]
  },
  {
   "cell_type": "code",
   "execution_count": 39,
   "id": "145a30af",
   "metadata": {},
   "outputs": [
    {
     "data": {
      "text/plain": [
       "(2*F*(8*epsilon_g*epsilon_r*p_z + 56*epsilon_g*epsilon_r - 4*epsilon_g*p_z - 14*epsilon_g - 14*epsilon_r + 3)*log(2*F - 8*epsilon_g*p_z*(F - 1)/3 - 28*epsilon_g*(F - 1)/3 - 4*epsilon_g + 4*epsilon_r*(-7*F + 4*epsilon_g*p_z*(F - 1) + 28*epsilon_g*(F - 1) + 12*epsilon_g + 4)/3 - 1) - 2*F*(8*epsilon_g*epsilon_r*p_z + 56*epsilon_g*epsilon_r - 4*epsilon_g*p_z - 14*epsilon_g - 14*epsilon_r + 3) - (16*epsilon_g*epsilon_r*p_z + 64*epsilon_g*epsilon_r - 8*epsilon_g*p_z - 16*epsilon_g - 16*epsilon_r + 3)*log(2*F*(8*epsilon_g*epsilon_r*p_z + 56*epsilon_g*epsilon_r - 4*epsilon_g*p_z - 14*epsilon_g - 14*epsilon_r + 3) - 16*epsilon_g*epsilon_r*p_z - 64*epsilon_g*epsilon_r + 8*epsilon_g*p_z + 16*epsilon_g + 16*epsilon_r - 3),\n",
       " 16*epsilon_g*epsilon_r*p_z + 112*epsilon_g*epsilon_r - 8*epsilon_g*p_z - 28*epsilon_g - 28*epsilon_r + 6)"
      ]
     },
     "execution_count": 39,
     "metadata": {},
     "output_type": "execute_result"
    }
   ],
   "source": [
    "eq15.as_numer_denom()"
   ]
  }
 ],
 "metadata": {
  "kernelspec": {
   "display_name": "Python 3",
   "language": "python",
   "name": "python3"
  },
  "language_info": {
   "codemirror_mode": {
    "name": "ipython",
    "version": 3
   },
   "file_extension": ".py",
   "mimetype": "text/x-python",
   "name": "python",
   "nbconvert_exporter": "python",
   "pygments_lexer": "ipython3",
   "version": "3.8.20"
  }
 },
 "nbformat": 4,
 "nbformat_minor": 5
}
