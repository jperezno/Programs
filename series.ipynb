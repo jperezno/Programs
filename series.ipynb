{
 "cells": [
  {
   "cell_type": "code",
   "execution_count": 1,
   "id": "cb167bb3",
   "metadata": {},
   "outputs": [],
   "source": [
    "import sympy as sy\n",
    "from sympy import symbols\n",
    "p_x,p_y,p_z=symbols('p_x p_y p_z')\n",
    "F,A,B,C,D = symbols('F A B C D')\n",
    "x, x1,x2,y1,y2,eta,E,epsilon_g,epsilon_r = symbols('x x1 x2 y1 y2 eta E epsilon_g epsilon_r')\n",
    "F_t,F_o = symbols('F_t F_0')\n",
    "alfa, beta, gama, dlta, K, L, M, P_prime =symbols('alfa beta gama dlta K L M P_prime')\n",
    "A1,B1,C1,D1 = symbols('A1 B1 C1 D1')\n",
    "A2,B2,C2,D2 = symbols('A2 B2 C2 D2')\n",
    "        "
   ]
  },
  {
   "cell_type": "code",
   "execution_count": 8,
   "id": "4fb22d96",
   "metadata": {},
   "outputs": [
    {
     "data": {
      "text/latex": [
       "$\\displaystyle \\frac{\\left(1 - \\epsilon_{g}\\right)^{2} \\left(2 A B \\left(\\eta^{2} + \\left(1 - \\eta\\right)^{2}\\right) + 2 \\eta \\left(1 - \\eta\\right) \\left(A D + B C\\right) + \\left(- \\epsilon_{g}^{2} + 2 \\epsilon_{g}\\right) \\left(p_{x} \\left(A D + B C\\right) + p_{y} \\left(A C + B D\\right) + p_{z} \\left(A C + B D\\right)\\right)\\right)}{2 \\eta \\left(1 - \\eta\\right) \\left(2 A + 2 B\\right) \\left(C + D\\right) + \\left(\\eta^{2} + \\left(1 - \\eta\\right)^{2}\\right) \\left(\\left(A + B\\right)^{2} + \\left(C + D\\right)^{2}\\right)}$"
      ],
      "text/plain": [
       "(1 - epsilon_g)**2*(2*A*B*(eta**2 + (1 - eta)**2) + 2*eta*(1 - eta)*(A*D + B*C) + (-epsilon_g**2 + 2*epsilon_g)*(p_x*(A*D + B*C) + p_y*(A*C + B*D) + p_z*(A*C + B*D)))/(2*eta*(1 - eta)*(2*A + 2*B)*(C + D) + (eta**2 + (1 - eta)**2)*((A + B)**2 + (C + D)**2))"
      ]
     },
     "execution_count": 8,
     "metadata": {},
     "output_type": "execute_result"
    }
   ],
   "source": [
    "#First we declare the equations\n",
    "A_error=(((A**2)+(B**2))*((eta**2)+((1-eta)**2)) + (((A*C)+(B*D))*(2*(eta)*(1-eta))) +(2*(epsilon_g) - (epsilon_g**2))*((p_x*((C*C)+(D*D)))+(p_y*((C*D)+(C*D)))+(p_z*((A*B)+(A*B)))))/((((A+B)**2+(C+D)**2)*((eta**2)+((1-eta)**2)) + (2*(A+B)*(C+D)*(2*(eta)*(1-eta))))/((1-epsilon_g)**2))\n",
    "# make same\n",
    "C_error=(((C**2)+(D**2))*((eta**2)+((1-eta)**2)) + (((C*A)+(D*B))*(2*(eta)*(1-eta))) +(2*(epsilon_g) - (epsilon_g**2))*((p_x*((C*A)+(D*B)))+(p_y*((C*B)+(D*A)))+(p_z*((D*A)+(B*C)))))/((((A+B)**2+(C+D)**2)*((eta**2)+((1-eta)**2)) + (2*(A+B)*(C+D)*(2*(eta)*(1-eta))))/((1-epsilon_g)**2))\n",
    "B_error=((2*A*B)*((eta**2)+((1-eta)**2)) + (((C*B)+(A*D))*(2*(eta)*(1-eta))) + (2*(epsilon_g) - (epsilon_g**2))*((p_x*((A*D)+(B*C)))+(p_y*((A*C)+(B*D)))+(p_z*((A*C)+(B*D)))))/((((A+B)**2+(C+D)**2)*((eta**2)+((1-eta)**2)) + (2*(A+B)*(C+D)*(2*(eta)*(1-eta))))/((1-epsilon_g)**2))\n",
    "D_error=((2*C*D)*((eta**2)+((1-eta)**2)) + (((A*D)+(C*B))*(2*(eta)*(1-eta))) + (2*(epsilon_g) - (epsilon_g**2))*((p_x*((C*D)+(D*C)))+(p_y*((C*C)+(D*D)))+(p_z*((A*A)+(B*B)))))/((((A+B)**2+(C+D)**2)*((eta**2)+((1-eta)**2)) + (2*(A+B)*(C+D)*(2*(eta)*(1-eta))))/((1-epsilon_g)**2))\n",
    "B_error"
   ]
  },
  {
   "cell_type": "code",
   "execution_count": 9,
   "id": "c419a6c1",
   "metadata": {},
   "outputs": [
    {
     "name": "stdout",
     "output_type": "stream",
     "text": [
      "\\frac{\\left(1 - \\epsilon_{g}\\right)^{2} \\left(2 A B \\left(\\eta^{2} + \\left(1 - \\eta\\right)^{2}\\right) + 2 \\eta \\left(1 - \\eta\\right) \\left(A D + B C\\right) + \\left(- \\epsilon_{g}^{2} + 2 \\epsilon_{g}\\right) \\left(p_{x} \\left(A D + B C\\right) + p_{y} \\left(A C + B D\\right) + p_{z} \\left(A C + B D\\right)\\right)\\right)}{2 \\eta \\left(1 - \\eta\\right) \\left(2 A + 2 B\\right) \\left(C + D\\right) + \\left(\\eta^{2} + \\left(1 - \\eta\\right)^{2}\\right) \\left(\\left(A + B\\right)^{2} + \\left(C + D\\right)^{2}\\right)}\n"
     ]
    }
   ],
   "source": [
    "print(sy.latex(B_error))"
   ]
  },
  {
   "cell_type": "code",
   "execution_count": 19,
   "id": "3dee0b0f",
   "metadata": {},
   "outputs": [
    {
     "data": {
      "text/latex": [
       "$\\displaystyle 2 K \\left(A + B\\right) \\left(C + D\\right) + L \\left(\\left(A + B\\right)^{2} + \\left(C + D\\right)^{2}\\right)$"
      ],
      "text/plain": [
       "2*K*(A + B)*(C + D) + L*((A + B)**2 + (C + D)**2)"
      ]
     },
     "execution_count": 19,
     "metadata": {},
     "output_type": "execute_result"
    }
   ],
   "source": [
    "alfa = ((A*C)+(B*D))*K + ((A**2)+(B**2))*L + M*((p_x*((C*C)+(D*D)))+(p_y*((C*D)+(C*D)))+(p_z*((A*B)+(A*B))))\n",
    "beta = ((A*D)+(B*C))*K + (2*(A*B))*L + M*((p_x*((A*D)+(B*C)))+(p_y*((A*C)+(B*D)))+(p_z*((A*C)+(B*D))))\n",
    "gama = ((A*C)+(B*D))*K + ((C**2)+(D**2))*L + M*((p_x*((C*A)+(D*B)))+(p_y*((C*B)+(D*A)))+(p_z*((D*A)+(B*C))))\n",
    "dlta = ((A*D)+(B*C))*K + (2*(C*D))*L + M*((p_x*((C*D)+(D*C)))+(p_y*((C*C)+(D*D)))+(p_z*((A*A)+(B*B))))\n",
    "P_prime = 2*K*((A+B)*(C+D)) + L*((A+B)**2 + (C+D)**2)\n",
    "P_prime"
   ]
  },
  {
   "cell_type": "code",
   "execution_count": 23,
   "id": "24526dd6",
   "metadata": {},
   "outputs": [
    {
     "data": {
      "text/latex": [
       "$\\displaystyle 2 K \\left(A_{1} + D_{1}\\right) \\left(B_{1} + C_{1}\\right) + L \\left(\\left(A_{1} + D_{1}\\right)^{2} + \\left(B_{1} + C_{1}\\right)^{2}\\right)$"
      ],
      "text/plain": [
       "2*K*(A1 + D1)*(B1 + C1) + L*((A1 + D1)**2 + (B1 + C1)**2)"
      ]
     },
     "execution_count": 23,
     "metadata": {},
     "output_type": "execute_result"
    }
   ],
   "source": [
    "P_biprime = 2*K*((A1+D1)*(C1+B1)) + L*((A1+D1)**2 + (C1+B1)**2)\n",
    "P_biprime"
   ]
  },
  {
   "cell_type": "code",
   "execution_count": 24,
   "id": "eeeffe20",
   "metadata": {},
   "outputs": [
    {
     "data": {
      "text/latex": [
       "$\\displaystyle \\frac{\\left(1 - \\epsilon_{g}\\right)^{2} \\left(2 \\eta \\left(1 - \\eta\\right) \\left(B D + C F\\right) + \\left(B^{2} + F^{2}\\right) \\left(\\eta^{2} + \\left(1 - \\eta\\right)^{2}\\right) + \\left(- \\epsilon_{g}^{2} + 2 \\epsilon_{g}\\right) \\left(2 B F p_{z} + 2 C D p_{y} + p_{x} \\left(C^{2} + D^{2}\\right)\\right)\\right)}{2 \\eta \\left(1 - \\eta\\right) \\left(2 B + 2 F\\right) \\left(C + D\\right) + \\left(\\eta^{2} + \\left(1 - \\eta\\right)^{2}\\right) \\left(\\left(B + F\\right)^{2} + \\left(C + D\\right)^{2}\\right)}$"
      ],
      "text/plain": [
       "(1 - epsilon_g)**2*(2*eta*(1 - eta)*(B*D + C*F) + (B**2 + F**2)*(eta**2 + (1 - eta)**2) + (-epsilon_g**2 + 2*epsilon_g)*(2*B*F*p_z + 2*C*D*p_y + p_x*(C**2 + D**2)))/(2*eta*(1 - eta)*(2*B + 2*F)*(C + D) + (eta**2 + (1 - eta)**2)*((B + F)**2 + (C + D)**2))"
      ]
     },
     "execution_count": 24,
     "metadata": {},
     "output_type": "execute_result"
    }
   ],
   "source": [
    "# Now let's declare an intermediate directory substitute\n",
    "changeA = {\n",
    "    A:F}\n",
    "changevar={\n",
    "    eta:1-epsilon_r,\n",
    "    F:1-E}\n",
    "AtoF = A_error.subs(changeA)\n",
    "intermsub={\n",
    "    E:1-F\n",
    "}\n",
    "hybridsubstitution = {\n",
    "    B:(1-F)/3,\n",
    "    C:(1-F)/3,\n",
    "    D:(1-F)/3}\n",
    "klmsubs = {\n",
    "    K:2*eta*(1-eta),\n",
    "    L:eta**2 + (1-eta)**2,\n",
    "    M:2*epsilon_g - epsilon_g**2\n",
    "}\n",
    "AtoF = A_error.subs(changeA)\n",
    "Anum,normalization = AtoF.as_numer_denom()\n",
    "AtoF\n"
   ]
  },
  {
   "cell_type": "code",
   "execution_count": 27,
   "id": "2679b824",
   "metadata": {},
   "outputs": [
    {
     "data": {
      "text/latex": [
       "$\\displaystyle \\left(4 \\eta \\left(A + B\\right) \\left(C + D\\right) \\left(\\eta - 1\\right) - \\left(\\eta^{2} + \\left(\\eta - 1\\right)^{2}\\right) \\left(\\left(A + B\\right)^{2} + \\left(C + D\\right)^{2}\\right)\\right) \\left(4 \\eta \\left(A_{1} + D_{1}\\right) \\left(B_{1} + C_{1}\\right) \\left(\\eta - 1\\right) - \\left(\\eta^{2} + \\left(\\eta - 1\\right)^{2}\\right) \\left(\\left(A_{1} + D_{1}\\right)^{2} + \\left(B_{1} + C_{1}\\right)^{2}\\right)\\right)$"
      ],
      "text/plain": [
       "(4*eta*(A + B)*(C + D)*(eta - 1) - (eta**2 + (eta - 1)**2)*((A + B)**2 + (C + D)**2))*(4*eta*(A1 + D1)*(B1 + C1)*(eta - 1) - (eta**2 + (eta - 1)**2)*((A1 + D1)**2 + (B1 + C1)**2))"
      ]
     },
     "execution_count": 27,
     "metadata": {},
     "output_type": "execute_result"
    }
   ],
   "source": [
    "Pprod=sy.simplify((P_prime*P_biprime).subs(klmsubs))\n",
    "Pprod"
   ]
  },
  {
   "cell_type": "code",
   "execution_count": 29,
   "id": "251a627d",
   "metadata": {},
   "outputs": [
    {
     "data": {
      "text/latex": [
       "$\\displaystyle \\frac{4}{\\left(4 \\eta \\left(A + B\\right) \\left(C + D\\right) \\left(\\eta - 1\\right) - \\left(\\eta^{2} + \\left(\\eta - 1\\right)^{2}\\right) \\left(\\left(A + B\\right)^{2} + \\left(C + D\\right)^{2}\\right)\\right) \\left(4 \\eta \\left(A_{1} + D_{1}\\right) \\left(B_{1} + C_{1}\\right) \\left(\\eta - 1\\right) - \\left(\\eta^{2} + \\left(\\eta - 1\\right)^{2}\\right) \\left(\\left(A_{1} + D_{1}\\right)^{2} + \\left(B_{1} + C_{1}\\right)^{2}\\right)\\right)}$"
      ],
      "text/plain": [
       "4/((4*eta*(A + B)*(C + D)*(eta - 1) - (eta**2 + (eta - 1)**2)*((A + B)**2 + (C + D)**2))*(4*eta*(A1 + D1)*(B1 + C1)*(eta - 1) - (eta**2 + (eta - 1)**2)*((A1 + D1)**2 + (B1 + C1)**2)))"
      ]
     },
     "execution_count": 29,
     "metadata": {},
     "output_type": "execute_result"
    }
   ],
   "source": [
    "# print(sy.latex(finProb))\n",
    "B2Dejmps=4/Pprod\n",
    "B2Dejmps"
   ]
  },
  {
   "cell_type": "code",
   "execution_count": 30,
   "id": "37eb5998",
   "metadata": {},
   "outputs": [],
   "source": [
    "with open(\"CalcB2dejmps.txt\", \"w+\") as f:\n",
    "    f.write(str(B2Dejmps))"
   ]
  },
  {
   "cell_type": "code",
   "execution_count": 10,
   "id": "38667084",
   "metadata": {},
   "outputs": [
    {
     "data": {
      "text/latex": [
       "$\\displaystyle \\frac{\\left(\\epsilon_{g} - 1\\right)^{2} \\left(- 2 E \\epsilon_{g} \\left(\\epsilon_{g} - 2\\right) \\left(E p_{x} + E p_{y} - 3 p_{z} \\left(E - 1\\right)\\right) + 2 E \\eta \\left(2 E - 3\\right) \\left(\\eta - 1\\right) + \\left(E^{2} + 9 \\left(E - 1\\right)^{2}\\right) \\left(\\eta^{2} + \\left(\\eta - 1\\right)^{2}\\right)\\right)}{8 E \\eta \\left(2 E - 3\\right) \\left(\\eta - 1\\right) + \\left(4 E^{2} + \\left(2 E - 3\\right)^{2}\\right) \\left(\\eta^{2} + \\left(\\eta - 1\\right)^{2}\\right)}$"
      ],
      "text/plain": [
       "(epsilon_g - 1)**2*(-2*E*epsilon_g*(epsilon_g - 2)*(E*p_x + E*p_y - 3*p_z*(E - 1)) + 2*E*eta*(2*E - 3)*(eta - 1) + (E**2 + 9*(E - 1)**2)*(eta**2 + (eta - 1)**2))/(8*E*eta*(2*E - 3)*(eta - 1) + (4*E**2 + (2*E - 3)**2)*(eta**2 + (eta - 1)**2))"
      ]
     },
     "execution_count": 10,
     "metadata": {},
     "output_type": "execute_result"
    }
   ],
   "source": [
    "\n",
    "# AFTER PUR\n",
    "firstroundsubstitution = {\n",
    "    A:1-E,\n",
    "    B:(E)/3,\n",
    "    C:(E)/3,\n",
    "    D:(E)/3}\n",
    "A_1=sy.simplify(A_error.subs(firstroundsubstitution))\n",
    "B_1=sy.simplify(B_error.subs(firstroundsubstitution))\n",
    "C_1=sy.simplify(C_error.subs(firstroundsubstitution))\n",
    "D_1=sy.simplify(D_error.subs(firstroundsubstitution))\n",
    "sy.simplify(A_1)"
   ]
  },
  {
   "cell_type": "code",
   "execution_count": 11,
   "id": "a560eb5f",
   "metadata": {},
   "outputs": [
    {
     "data": {
      "text/latex": [
       "$\\displaystyle \\frac{\\left(1 - \\epsilon_{g}\\right)^{2} \\left(2 \\eta \\left(1 - \\eta\\right) \\left(\\frac{E \\left(\\epsilon_{g} - 1\\right)^{4} \\left(2 E \\left(\\eta^{2} + \\left(\\eta - 1\\right)^{2}\\right) - \\epsilon_{g} \\left(3 - 2 E\\right) \\left(\\epsilon_{g} - 2\\right) \\left(p_{x} + p_{y} + p_{z}\\right) - 2 \\eta \\left(3 - 2 E\\right) \\left(\\eta - 1\\right)\\right) \\left(- 2 E \\epsilon_{g} \\left(\\epsilon_{g} - 2\\right) \\left(E p_{x} + E p_{y} - 3 p_{z} \\left(E - 1\\right)\\right) - 2 E \\eta \\left(3 - 2 E\\right) \\left(\\eta - 1\\right) + \\left(E^{2} + 9 \\left(E - 1\\right)^{2}\\right) \\left(\\eta^{2} + \\left(\\eta - 1\\right)^{2}\\right)\\right)}{\\left(8 E \\eta \\left(2 E - 3\\right) \\left(\\eta - 1\\right) + \\left(4 E^{2} + \\left(2 E - 3\\right)^{2}\\right) \\left(\\eta^{2} + \\left(\\eta - 1\\right)^{2}\\right)\\right)^{2}} + \\frac{E \\left(\\epsilon_{g} - 1\\right)^{4} \\left(2 E^{2} \\left(\\eta^{2} + \\left(\\eta - 1\\right)^{2}\\right) - 2 E \\eta \\left(3 - 2 E\\right) \\left(\\eta - 1\\right) - \\epsilon_{g} \\left(\\epsilon_{g} - 2\\right) \\left(2 E^{2} p_{x} + 2 E^{2} p_{y} + p_{z} \\left(E^{2} + 9 \\left(E - 1\\right)^{2}\\right)\\right)\\right) \\left(- \\epsilon_{g} \\left(3 - 2 E\\right) \\left(\\epsilon_{g} - 2\\right) \\left(p_{x} + p_{y} + p_{z}\\right) - 2 \\eta \\left(3 - 2 E\\right) \\left(\\eta - 1\\right) - 6 \\left(E - 1\\right) \\left(\\eta^{2} + \\left(\\eta - 1\\right)^{2}\\right)\\right)}{\\left(8 E \\eta \\left(2 E - 3\\right) \\left(\\eta - 1\\right) + \\left(4 E^{2} + \\left(2 E - 3\\right)^{2}\\right) \\left(\\eta^{2} + \\left(\\eta - 1\\right)^{2}\\right)\\right)^{2}}\\right) + \\left(- \\epsilon_{g}^{2} + 2 \\epsilon_{g}\\right) \\left(\\frac{2 E^{2} p_{y} \\left(\\epsilon_{g} - 1\\right)^{4} \\left(2 E \\left(\\eta^{2} + \\left(\\eta - 1\\right)^{2}\\right) - \\epsilon_{g} \\left(3 - 2 E\\right) \\left(\\epsilon_{g} - 2\\right) \\left(p_{x} + p_{y} + p_{z}\\right) - 2 \\eta \\left(3 - 2 E\\right) \\left(\\eta - 1\\right)\\right) \\left(- \\epsilon_{g} \\left(3 - 2 E\\right) \\left(\\epsilon_{g} - 2\\right) \\left(p_{x} + p_{y} + p_{z}\\right) - 2 \\eta \\left(3 - 2 E\\right) \\left(\\eta - 1\\right) - 6 \\left(E - 1\\right) \\left(\\eta^{2} + \\left(\\eta - 1\\right)^{2}\\right)\\right)}{\\left(8 E \\eta \\left(2 E - 3\\right) \\left(\\eta - 1\\right) + \\left(4 E^{2} + \\left(2 E - 3\\right)^{2}\\right) \\left(\\eta^{2} + \\left(\\eta - 1\\right)^{2}\\right)\\right)^{2}} + p_{x} \\left(\\frac{E^{2} \\left(\\epsilon_{g} - 1\\right)^{4} \\left(2 E \\left(\\eta^{2} + \\left(\\eta - 1\\right)^{2}\\right) - \\epsilon_{g} \\left(3 - 2 E\\right) \\left(\\epsilon_{g} - 2\\right) \\left(p_{x} + p_{y} + p_{z}\\right) - 2 \\eta \\left(3 - 2 E\\right) \\left(\\eta - 1\\right)\\right)^{2}}{\\left(8 E \\eta \\left(2 E - 3\\right) \\left(\\eta - 1\\right) + \\left(4 E^{2} + \\left(2 E - 3\\right)^{2}\\right) \\left(\\eta^{2} + \\left(\\eta - 1\\right)^{2}\\right)\\right)^{2}} + \\frac{E^{2} \\left(\\epsilon_{g} - 1\\right)^{4} \\left(- \\epsilon_{g} \\left(3 - 2 E\\right) \\left(\\epsilon_{g} - 2\\right) \\left(p_{x} + p_{y} + p_{z}\\right) - 2 \\eta \\left(3 - 2 E\\right) \\left(\\eta - 1\\right) - 6 \\left(E - 1\\right) \\left(\\eta^{2} + \\left(\\eta - 1\\right)^{2}\\right)\\right)^{2}}{\\left(8 E \\eta \\left(2 E - 3\\right) \\left(\\eta - 1\\right) + \\left(4 E^{2} + \\left(2 E - 3\\right)^{2}\\right) \\left(\\eta^{2} + \\left(\\eta - 1\\right)^{2}\\right)\\right)^{2}}\\right) + \\frac{2 p_{z} \\left(\\epsilon_{g} - 1\\right)^{4} \\left(2 E^{2} \\left(\\eta^{2} + \\left(\\eta - 1\\right)^{2}\\right) - 2 E \\eta \\left(3 - 2 E\\right) \\left(\\eta - 1\\right) - \\epsilon_{g} \\left(\\epsilon_{g} - 2\\right) \\left(2 E^{2} p_{x} + 2 E^{2} p_{y} + p_{z} \\left(E^{2} + 9 \\left(E - 1\\right)^{2}\\right)\\right)\\right) \\left(- 2 E \\epsilon_{g} \\left(\\epsilon_{g} - 2\\right) \\left(E p_{x} + E p_{y} - 3 p_{z} \\left(E - 1\\right)\\right) - 2 E \\eta \\left(3 - 2 E\\right) \\left(\\eta - 1\\right) + \\left(E^{2} + 9 \\left(E - 1\\right)^{2}\\right) \\left(\\eta^{2} + \\left(\\eta - 1\\right)^{2}\\right)\\right)}{\\left(8 E \\eta \\left(2 E - 3\\right) \\left(\\eta - 1\\right) + \\left(4 E^{2} + \\left(2 E - 3\\right)^{2}\\right) \\left(\\eta^{2} + \\left(\\eta - 1\\right)^{2}\\right)\\right)^{2}}\\right) + \\left(\\eta^{2} + \\left(1 - \\eta\\right)^{2}\\right) \\left(\\frac{\\left(\\epsilon_{g} - 1\\right)^{4} \\left(2 E^{2} \\left(\\eta^{2} + \\left(\\eta - 1\\right)^{2}\\right) - 2 E \\eta \\left(3 - 2 E\\right) \\left(\\eta - 1\\right) - \\epsilon_{g} \\left(\\epsilon_{g} - 2\\right) \\left(2 E^{2} p_{x} + 2 E^{2} p_{y} + p_{z} \\left(E^{2} + 9 \\left(E - 1\\right)^{2}\\right)\\right)\\right)^{2}}{\\left(8 E \\eta \\left(2 E - 3\\right) \\left(\\eta - 1\\right) + \\left(4 E^{2} + \\left(2 E - 3\\right)^{2}\\right) \\left(\\eta^{2} + \\left(\\eta - 1\\right)^{2}\\right)\\right)^{2}} + \\frac{\\left(\\epsilon_{g} - 1\\right)^{4} \\left(- 2 E \\epsilon_{g} \\left(\\epsilon_{g} - 2\\right) \\left(E p_{x} + E p_{y} - 3 p_{z} \\left(E - 1\\right)\\right) - 2 E \\eta \\left(3 - 2 E\\right) \\left(\\eta - 1\\right) + \\left(E^{2} + 9 \\left(E - 1\\right)^{2}\\right) \\left(\\eta^{2} + \\left(\\eta - 1\\right)^{2}\\right)\\right)^{2}}{\\left(8 E \\eta \\left(2 E - 3\\right) \\left(\\eta - 1\\right) + \\left(4 E^{2} + \\left(2 E - 3\\right)^{2}\\right) \\left(\\eta^{2} + \\left(\\eta - 1\\right)^{2}\\right)\\right)^{2}}\\right)\\right)}{2 \\eta \\left(1 - \\eta\\right) \\left(\\frac{2 \\left(\\epsilon_{g} - 1\\right)^{2} \\left(2 E^{2} \\left(\\eta^{2} + \\left(\\eta - 1\\right)^{2}\\right) - 2 E \\eta \\left(3 - 2 E\\right) \\left(\\eta - 1\\right) - \\epsilon_{g} \\left(\\epsilon_{g} - 2\\right) \\left(2 E^{2} p_{x} + 2 E^{2} p_{y} + p_{z} \\left(E^{2} + 9 \\left(E - 1\\right)^{2}\\right)\\right)\\right)}{8 E \\eta \\left(2 E - 3\\right) \\left(\\eta - 1\\right) + \\left(4 E^{2} + \\left(2 E - 3\\right)^{2}\\right) \\left(\\eta^{2} + \\left(\\eta - 1\\right)^{2}\\right)} + \\frac{2 \\left(\\epsilon_{g} - 1\\right)^{2} \\left(- 2 E \\epsilon_{g} \\left(\\epsilon_{g} - 2\\right) \\left(E p_{x} + E p_{y} - 3 p_{z} \\left(E - 1\\right)\\right) - 2 E \\eta \\left(3 - 2 E\\right) \\left(\\eta - 1\\right) + \\left(E^{2} + 9 \\left(E - 1\\right)^{2}\\right) \\left(\\eta^{2} + \\left(\\eta - 1\\right)^{2}\\right)\\right)}{8 E \\eta \\left(2 E - 3\\right) \\left(\\eta - 1\\right) + \\left(4 E^{2} + \\left(2 E - 3\\right)^{2}\\right) \\left(\\eta^{2} + \\left(\\eta - 1\\right)^{2}\\right)}\\right) \\left(\\frac{E \\left(\\epsilon_{g} - 1\\right)^{2} \\left(2 E \\left(\\eta^{2} + \\left(\\eta - 1\\right)^{2}\\right) - \\epsilon_{g} \\left(3 - 2 E\\right) \\left(\\epsilon_{g} - 2\\right) \\left(p_{x} + p_{y} + p_{z}\\right) - 2 \\eta \\left(3 - 2 E\\right) \\left(\\eta - 1\\right)\\right)}{8 E \\eta \\left(2 E - 3\\right) \\left(\\eta - 1\\right) + \\left(4 E^{2} + \\left(2 E - 3\\right)^{2}\\right) \\left(\\eta^{2} + \\left(\\eta - 1\\right)^{2}\\right)} + \\frac{E \\left(\\epsilon_{g} - 1\\right)^{2} \\left(- \\epsilon_{g} \\left(3 - 2 E\\right) \\left(\\epsilon_{g} - 2\\right) \\left(p_{x} + p_{y} + p_{z}\\right) - 2 \\eta \\left(3 - 2 E\\right) \\left(\\eta - 1\\right) - 6 \\left(E - 1\\right) \\left(\\eta^{2} + \\left(\\eta - 1\\right)^{2}\\right)\\right)}{8 E \\eta \\left(2 E - 3\\right) \\left(\\eta - 1\\right) + \\left(4 E^{2} + \\left(2 E - 3\\right)^{2}\\right) \\left(\\eta^{2} + \\left(\\eta - 1\\right)^{2}\\right)}\\right) + \\left(\\eta^{2} + \\left(1 - \\eta\\right)^{2}\\right) \\left(\\left(\\frac{\\left(\\epsilon_{g} - 1\\right)^{2} \\left(2 E^{2} \\left(\\eta^{2} + \\left(\\eta - 1\\right)^{2}\\right) - 2 E \\eta \\left(3 - 2 E\\right) \\left(\\eta - 1\\right) - \\epsilon_{g} \\left(\\epsilon_{g} - 2\\right) \\left(2 E^{2} p_{x} + 2 E^{2} p_{y} + p_{z} \\left(E^{2} + 9 \\left(E - 1\\right)^{2}\\right)\\right)\\right)}{8 E \\eta \\left(2 E - 3\\right) \\left(\\eta - 1\\right) + \\left(4 E^{2} + \\left(2 E - 3\\right)^{2}\\right) \\left(\\eta^{2} + \\left(\\eta - 1\\right)^{2}\\right)} + \\frac{\\left(\\epsilon_{g} - 1\\right)^{2} \\left(- 2 E \\epsilon_{g} \\left(\\epsilon_{g} - 2\\right) \\left(E p_{x} + E p_{y} - 3 p_{z} \\left(E - 1\\right)\\right) - 2 E \\eta \\left(3 - 2 E\\right) \\left(\\eta - 1\\right) + \\left(E^{2} + 9 \\left(E - 1\\right)^{2}\\right) \\left(\\eta^{2} + \\left(\\eta - 1\\right)^{2}\\right)\\right)}{8 E \\eta \\left(2 E - 3\\right) \\left(\\eta - 1\\right) + \\left(4 E^{2} + \\left(2 E - 3\\right)^{2}\\right) \\left(\\eta^{2} + \\left(\\eta - 1\\right)^{2}\\right)}\\right)^{2} + \\left(\\frac{E \\left(\\epsilon_{g} - 1\\right)^{2} \\left(2 E \\left(\\eta^{2} + \\left(\\eta - 1\\right)^{2}\\right) - \\epsilon_{g} \\left(3 - 2 E\\right) \\left(\\epsilon_{g} - 2\\right) \\left(p_{x} + p_{y} + p_{z}\\right) - 2 \\eta \\left(3 - 2 E\\right) \\left(\\eta - 1\\right)\\right)}{8 E \\eta \\left(2 E - 3\\right) \\left(\\eta - 1\\right) + \\left(4 E^{2} + \\left(2 E - 3\\right)^{2}\\right) \\left(\\eta^{2} + \\left(\\eta - 1\\right)^{2}\\right)} + \\frac{E \\left(\\epsilon_{g} - 1\\right)^{2} \\left(- \\epsilon_{g} \\left(3 - 2 E\\right) \\left(\\epsilon_{g} - 2\\right) \\left(p_{x} + p_{y} + p_{z}\\right) - 2 \\eta \\left(3 - 2 E\\right) \\left(\\eta - 1\\right) - 6 \\left(E - 1\\right) \\left(\\eta^{2} + \\left(\\eta - 1\\right)^{2}\\right)\\right)}{8 E \\eta \\left(2 E - 3\\right) \\left(\\eta - 1\\right) + \\left(4 E^{2} + \\left(2 E - 3\\right)^{2}\\right) \\left(\\eta^{2} + \\left(\\eta - 1\\right)^{2}\\right)}\\right)^{2}\\right)}$"
      ],
      "text/plain": [
       "(1 - epsilon_g)**2*(2*eta*(1 - eta)*(E*(epsilon_g - 1)**4*(2*E*(eta**2 + (eta - 1)**2) - epsilon_g*(3 - 2*E)*(epsilon_g - 2)*(p_x + p_y + p_z) - 2*eta*(3 - 2*E)*(eta - 1))*(-2*E*epsilon_g*(epsilon_g - 2)*(E*p_x + E*p_y - 3*p_z*(E - 1)) - 2*E*eta*(3 - 2*E)*(eta - 1) + (E**2 + 9*(E - 1)**2)*(eta**2 + (eta - 1)**2))/(8*E*eta*(2*E - 3)*(eta - 1) + (4*E**2 + (2*E - 3)**2)*(eta**2 + (eta - 1)**2))**2 + E*(epsilon_g - 1)**4*(2*E**2*(eta**2 + (eta - 1)**2) - 2*E*eta*(3 - 2*E)*(eta - 1) - epsilon_g*(epsilon_g - 2)*(2*E**2*p_x + 2*E**2*p_y + p_z*(E**2 + 9*(E - 1)**2)))*(-epsilon_g*(3 - 2*E)*(epsilon_g - 2)*(p_x + p_y + p_z) - 2*eta*(3 - 2*E)*(eta - 1) - 6*(E - 1)*(eta**2 + (eta - 1)**2))/(8*E*eta*(2*E - 3)*(eta - 1) + (4*E**2 + (2*E - 3)**2)*(eta**2 + (eta - 1)**2))**2) + (-epsilon_g**2 + 2*epsilon_g)*(2*E**2*p_y*(epsilon_g - 1)**4*(2*E*(eta**2 + (eta - 1)**2) - epsilon_g*(3 - 2*E)*(epsilon_g - 2)*(p_x + p_y + p_z) - 2*eta*(3 - 2*E)*(eta - 1))*(-epsilon_g*(3 - 2*E)*(epsilon_g - 2)*(p_x + p_y + p_z) - 2*eta*(3 - 2*E)*(eta - 1) - 6*(E - 1)*(eta**2 + (eta - 1)**2))/(8*E*eta*(2*E - 3)*(eta - 1) + (4*E**2 + (2*E - 3)**2)*(eta**2 + (eta - 1)**2))**2 + p_x*(E**2*(epsilon_g - 1)**4*(2*E*(eta**2 + (eta - 1)**2) - epsilon_g*(3 - 2*E)*(epsilon_g - 2)*(p_x + p_y + p_z) - 2*eta*(3 - 2*E)*(eta - 1))**2/(8*E*eta*(2*E - 3)*(eta - 1) + (4*E**2 + (2*E - 3)**2)*(eta**2 + (eta - 1)**2))**2 + E**2*(epsilon_g - 1)**4*(-epsilon_g*(3 - 2*E)*(epsilon_g - 2)*(p_x + p_y + p_z) - 2*eta*(3 - 2*E)*(eta - 1) - 6*(E - 1)*(eta**2 + (eta - 1)**2))**2/(8*E*eta*(2*E - 3)*(eta - 1) + (4*E**2 + (2*E - 3)**2)*(eta**2 + (eta - 1)**2))**2) + 2*p_z*(epsilon_g - 1)**4*(2*E**2*(eta**2 + (eta - 1)**2) - 2*E*eta*(3 - 2*E)*(eta - 1) - epsilon_g*(epsilon_g - 2)*(2*E**2*p_x + 2*E**2*p_y + p_z*(E**2 + 9*(E - 1)**2)))*(-2*E*epsilon_g*(epsilon_g - 2)*(E*p_x + E*p_y - 3*p_z*(E - 1)) - 2*E*eta*(3 - 2*E)*(eta - 1) + (E**2 + 9*(E - 1)**2)*(eta**2 + (eta - 1)**2))/(8*E*eta*(2*E - 3)*(eta - 1) + (4*E**2 + (2*E - 3)**2)*(eta**2 + (eta - 1)**2))**2) + (eta**2 + (1 - eta)**2)*((epsilon_g - 1)**4*(2*E**2*(eta**2 + (eta - 1)**2) - 2*E*eta*(3 - 2*E)*(eta - 1) - epsilon_g*(epsilon_g - 2)*(2*E**2*p_x + 2*E**2*p_y + p_z*(E**2 + 9*(E - 1)**2)))**2/(8*E*eta*(2*E - 3)*(eta - 1) + (4*E**2 + (2*E - 3)**2)*(eta**2 + (eta - 1)**2))**2 + (epsilon_g - 1)**4*(-2*E*epsilon_g*(epsilon_g - 2)*(E*p_x + E*p_y - 3*p_z*(E - 1)) - 2*E*eta*(3 - 2*E)*(eta - 1) + (E**2 + 9*(E - 1)**2)*(eta**2 + (eta - 1)**2))**2/(8*E*eta*(2*E - 3)*(eta - 1) + (4*E**2 + (2*E - 3)**2)*(eta**2 + (eta - 1)**2))**2))/(2*eta*(1 - eta)*(2*(epsilon_g - 1)**2*(2*E**2*(eta**2 + (eta - 1)**2) - 2*E*eta*(3 - 2*E)*(eta - 1) - epsilon_g*(epsilon_g - 2)*(2*E**2*p_x + 2*E**2*p_y + p_z*(E**2 + 9*(E - 1)**2)))/(8*E*eta*(2*E - 3)*(eta - 1) + (4*E**2 + (2*E - 3)**2)*(eta**2 + (eta - 1)**2)) + 2*(epsilon_g - 1)**2*(-2*E*epsilon_g*(epsilon_g - 2)*(E*p_x + E*p_y - 3*p_z*(E - 1)) - 2*E*eta*(3 - 2*E)*(eta - 1) + (E**2 + 9*(E - 1)**2)*(eta**2 + (eta - 1)**2))/(8*E*eta*(2*E - 3)*(eta - 1) + (4*E**2 + (2*E - 3)**2)*(eta**2 + (eta - 1)**2)))*(E*(epsilon_g - 1)**2*(2*E*(eta**2 + (eta - 1)**2) - epsilon_g*(3 - 2*E)*(epsilon_g - 2)*(p_x + p_y + p_z) - 2*eta*(3 - 2*E)*(eta - 1))/(8*E*eta*(2*E - 3)*(eta - 1) + (4*E**2 + (2*E - 3)**2)*(eta**2 + (eta - 1)**2)) + E*(epsilon_g - 1)**2*(-epsilon_g*(3 - 2*E)*(epsilon_g - 2)*(p_x + p_y + p_z) - 2*eta*(3 - 2*E)*(eta - 1) - 6*(E - 1)*(eta**2 + (eta - 1)**2))/(8*E*eta*(2*E - 3)*(eta - 1) + (4*E**2 + (2*E - 3)**2)*(eta**2 + (eta - 1)**2))) + (eta**2 + (1 - eta)**2)*(((epsilon_g - 1)**2*(2*E**2*(eta**2 + (eta - 1)**2) - 2*E*eta*(3 - 2*E)*(eta - 1) - epsilon_g*(epsilon_g - 2)*(2*E**2*p_x + 2*E**2*p_y + p_z*(E**2 + 9*(E - 1)**2)))/(8*E*eta*(2*E - 3)*(eta - 1) + (4*E**2 + (2*E - 3)**2)*(eta**2 + (eta - 1)**2)) + (epsilon_g - 1)**2*(-2*E*epsilon_g*(epsilon_g - 2)*(E*p_x + E*p_y - 3*p_z*(E - 1)) - 2*E*eta*(3 - 2*E)*(eta - 1) + (E**2 + 9*(E - 1)**2)*(eta**2 + (eta - 1)**2))/(8*E*eta*(2*E - 3)*(eta - 1) + (4*E**2 + (2*E - 3)**2)*(eta**2 + (eta - 1)**2)))**2 + (E*(epsilon_g - 1)**2*(2*E*(eta**2 + (eta - 1)**2) - epsilon_g*(3 - 2*E)*(epsilon_g - 2)*(p_x + p_y + p_z) - 2*eta*(3 - 2*E)*(eta - 1))/(8*E*eta*(2*E - 3)*(eta - 1) + (4*E**2 + (2*E - 3)**2)*(eta**2 + (eta - 1)**2)) + E*(epsilon_g - 1)**2*(-epsilon_g*(3 - 2*E)*(epsilon_g - 2)*(p_x + p_y + p_z) - 2*eta*(3 - 2*E)*(eta - 1) - 6*(E - 1)*(eta**2 + (eta - 1)**2))/(8*E*eta*(2*E - 3)*(eta - 1) + (4*E**2 + (2*E - 3)**2)*(eta**2 + (eta - 1)**2)))**2))"
      ]
     },
     "execution_count": 11,
     "metadata": {},
     "output_type": "execute_result"
    }
   ],
   "source": [
    "secondroundsubstitution = {\n",
    "    # WE SWAP B TO D HERE\n",
    "    A:A_1,\n",
    "    B:D_1,\n",
    "    C:C_1,\n",
    "    D:B_1}\n",
    "A_2=A_error.subs(secondroundsubstitution)\n",
    "B_2=B_error.subs(secondroundsubstitution)\n",
    "C_2=C_error.subs(secondroundsubstitution)\n",
    "D_2=D_error.subs(secondroundsubstitution)\n",
    "A_2"
   ]
  },
  {
   "cell_type": "code",
   "execution_count": 15,
   "id": "72ee851c",
   "metadata": {},
   "outputs": [],
   "source": [
    "with open(\"Ddouble.txt\", \"w+\") as f:\n",
    "    f.write(str(D_2))"
   ]
  },
  {
   "cell_type": "code",
   "execution_count": 101,
   "id": "3f88307a",
   "metadata": {},
   "outputs": [],
   "source": [
    "# Ahyb=(((AtoF**2)+(B**2))*((eta**2)+((1-eta)**2)) + (((AtoF*C)+(B*D))*(2*(eta)*(1-eta))) +((2*(epsilon_g) - (epsilon_g**2))/((1-epsilon_g)**2))*((p_x*((C*C)+(D*D)))+(p_y*((C*D)+(C*D)))+(p_z*((AtoF*B)+(AtoF*B)))))/((((AtoF+B)**2+(C+D)**2)*((eta**2)+((1-eta)**2)) + (2*(AtoF+B)*(C+D)*(2*(eta)*(1-eta))))/((1-epsilon_g)**2))\n",
    "# Ahyb"
   ]
  },
  {
   "cell_type": "code",
   "execution_count": 102,
   "id": "82df5ca8",
   "metadata": {},
   "outputs": [],
   "source": [
    "# # now we substitute by depolarizing the variables into F and we store the num and denom for later\n",
    "# hybeq=Ahyb.subs(hybridsubstitution)\n",
    "# something,secondnormalization= hybeq.as_numer_denom()\n",
    "# hybeq"
   ]
  },
  {
   "cell_type": "code",
   "execution_count": null,
   "id": "5706426c",
   "metadata": {},
   "outputs": [],
   "source": [
    "#### THIS PART TAKES 4 MIN TO RUN UNCOMMENT IF YOU WANT, RESULT OF CELL IS UNDER IT #####\n",
    "\n",
    "# we simplify this equation and we separate the numerator and denominator for later\n",
    "# simplified_hybeq=sy.simplify(A_2)\n",
    "# hybnum,hybden=simplified_hybeq.as_numer_denom()\n",
    "\n",
    "# here we write this into a text file because this takes long to run\n",
    "# with open(\"simp_hybeq_ralf.txt\", \"w+\") as f:\n",
    "#     f.write(str(simplified_hybeq))\n",
    "##### RESULT #####\n",
    "hybnum=(epsilon_g - 1)**2*(2*E*eta*(eta - 1)*((-2*E*(eta**2 + (eta - 1)**2) + epsilon_g*(3 - 2*E)*(epsilon_g - 2)*(p_x + p_y + p_z) + 2*eta*(3 - 2*E)*(eta - 1))*(2*E*epsilon_g*(epsilon_g - 2)*(E*p_x + E*p_y - 3*p_z*(E - 1)) + 2*E*eta*(3 - 2*E)*(eta - 1) - (E**2 + 9*(E - 1)**2)*(eta**2 + (eta - 1)**2)) + (-2*E**2*(eta**2 + (eta - 1)**2) + 2*E*eta*(3 - 2*E)*(eta - 1) + epsilon_g*(epsilon_g - 2)*(2*E**2*p_x + 2*E**2*p_y + p_z*(E**2 + 9*(E - 1)**2)))*(epsilon_g*(3 - 2*E)*(epsilon_g - 2)*(p_x + p_y + p_z) + 2*eta*(3 - 2*E)*(eta - 1) + 6*(E - 1)*(eta**2 + (eta - 1)**2))) + epsilon_g*(epsilon_g - 2)*(E**2*p_x*((-2*E*(eta**2 + (eta - 1)**2) + epsilon_g*(3 - 2*E)*(epsilon_g - 2)*(p_x + p_y + p_z) + 2*eta*(3 - 2*E)*(eta - 1))**2 + (epsilon_g*(3 - 2*E)*(epsilon_g - 2)*(p_x + p_y + p_z) + 2*eta*(3 - 2*E)*(eta - 1) + 6*(E - 1)*(eta**2 + (eta - 1)**2))**2) + 2*E**2*p_y*(-2*E*(eta**2 + (eta - 1)**2) + epsilon_g*(3 - 2*E)*(epsilon_g - 2)*(p_x + p_y + p_z) + 2*eta*(3 - 2*E)*(eta - 1))*(epsilon_g*(3 - 2*E)*(epsilon_g - 2)*(p_x + p_y + p_z) + 2*eta*(3 - 2*E)*(eta - 1) + 6*(E - 1)*(eta**2 + (eta - 1)**2)) + 2*p_z*(-2*E**2*(eta**2 + (eta - 1)**2) + 2*E*eta*(3 - 2*E)*(eta - 1) + epsilon_g*(epsilon_g - 2)*(2*E**2*p_x + 2*E**2*p_y + p_z*(E**2 + 9*(E - 1)**2)))*(2*E*epsilon_g*(epsilon_g - 2)*(E*p_x + E*p_y - 3*p_z*(E - 1)) + 2*E*eta*(3 - 2*E)*(eta - 1) - (E**2 + 9*(E - 1)**2)*(eta**2 + (eta - 1)**2))) - (eta**2 + (eta - 1)**2)*((-2*E**2*(eta**2 + (eta - 1)**2) + 2*E*eta*(3 - 2*E)*(eta - 1) + epsilon_g*(epsilon_g - 2)*(2*E**2*p_x + 2*E**2*p_y + p_z*(E**2 + 9*(E - 1)**2)))**2 + (2*E*epsilon_g*(epsilon_g - 2)*(E*p_x + E*p_y - 3*p_z*(E - 1)) + 2*E*eta*(3 - 2*E)*(eta - 1) - (E**2 + 9*(E - 1)**2)*(eta**2 + (eta - 1)**2))**2))\n",
    "hybden=8*E*eta*(eta - 1)*(E*(eta**2 + (eta - 1)**2) - epsilon_g*(3 - 2*E)*(epsilon_g - 2)*(p_x + p_y + p_z) - 2*eta*(3 - 2*E)*(eta - 1) - 3*(E - 1)*(eta**2 + (eta - 1)**2))*(2*E**2*(eta**2 + (eta - 1)**2) - 2*E*epsilon_g*(epsilon_g - 2)*(E*p_x + E*p_y - 3*p_z*(E - 1)) - 4*E*eta*(3 - 2*E)*(eta - 1) - epsilon_g*(epsilon_g - 2)*(2*E**2*p_x + 2*E**2*p_y + p_z*(E**2 + 9*(E - 1)**2)) + (E**2 + 9*(E - 1)**2)*(eta**2 + (eta - 1)**2)) - (eta**2 + (eta - 1)**2)*(4*E**2*(E*(eta**2 + (eta - 1)**2) - epsilon_g*(3 - 2*E)*(epsilon_g - 2)*(p_x + p_y + p_z) - 2*eta*(3 - 2*E)*(eta - 1) - 3*(E - 1)*(eta**2 + (eta - 1)**2))**2 + (2*E**2*(eta**2 + (eta - 1)**2) - 2*E*epsilon_g*(epsilon_g - 2)*(E*p_x + E*p_y - 3*p_z*(E - 1)) - 4*E*eta*(3 - 2*E)*(eta - 1) - epsilon_g*(epsilon_g - 2)*(2*E**2*p_x + 2*E**2*p_y + p_z*(E**2 + 9*(E - 1)**2)) + (E**2 + 9*(E - 1)**2)*(eta**2 + (eta - 1)**2))**2)\n",
    "ecua=hybnum/hybden"
   ]
  },
  {
   "cell_type": "code",
   "execution_count": 104,
   "id": "e89732e7",
   "metadata": {},
   "outputs": [],
   "source": [
    "# ec_ofE=sy.simplify(ecua.subs(changevar))\n",
    "# ec_ofE"
   ]
  },
  {
   "cell_type": "code",
   "execution_count": 105,
   "id": "a37d4bb6",
   "metadata": {},
   "outputs": [
    {
     "data": {
      "text/latex": [
       "$\\displaystyle \\frac{\\left(\\epsilon_{g} - 1\\right)^{2} \\left(- 2 E \\epsilon_{r} \\left(\\epsilon_{r} - 1\\right) \\left(\\left(2 E \\left(\\epsilon_{r}^{2} + \\left(1 - \\epsilon_{r}\\right)^{2}\\right) - \\epsilon_{g} \\left(3 - 2 E\\right) \\left(\\epsilon_{g} - 2\\right) \\left(p_{x} + p_{y} + p_{z}\\right) + 2 \\epsilon_{r} \\left(1 - \\epsilon_{r}\\right) \\left(3 - 2 E\\right)\\right) \\left(- 2 E \\epsilon_{g} \\left(\\epsilon_{g} - 2\\right) \\left(E p_{x} + E p_{y} - 3 p_{z} \\left(E - 1\\right)\\right) + 2 E \\epsilon_{r} \\left(1 - \\epsilon_{r}\\right) \\left(3 - 2 E\\right) + \\left(E^{2} + 9 \\left(E - 1\\right)^{2}\\right) \\left(\\epsilon_{r}^{2} + \\left(1 - \\epsilon_{r}\\right)^{2}\\right)\\right) - \\left(2 E^{2} \\left(\\epsilon_{r}^{2} + \\left(1 - \\epsilon_{r}\\right)^{2}\\right) + 2 E \\epsilon_{r} \\left(1 - \\epsilon_{r}\\right) \\left(3 - 2 E\\right) - \\epsilon_{g} \\left(\\epsilon_{g} - 2\\right) \\left(2 E^{2} p_{x} + 2 E^{2} p_{y} + p_{z} \\left(E^{2} + 9 \\left(E - 1\\right)^{2}\\right)\\right)\\right) \\left(- \\epsilon_{g} \\left(2 E - 3\\right) \\left(\\epsilon_{g} - 2\\right) \\left(p_{x} + p_{y} + p_{z}\\right) - 2 \\epsilon_{r} \\left(2 E - 3\\right) \\left(\\epsilon_{r} - 1\\right) + \\left(6 E - 6\\right) \\left(\\epsilon_{r}^{2} + \\left(\\epsilon_{r} - 1\\right)^{2}\\right)\\right)\\right) - \\epsilon_{g} \\left(\\epsilon_{g} - 2\\right) \\left(E^{2} p_{x} \\left(\\left(2 E \\left(\\epsilon_{r}^{2} + \\left(1 - \\epsilon_{r}\\right)^{2}\\right) - \\epsilon_{g} \\left(3 - 2 E\\right) \\left(\\epsilon_{g} - 2\\right) \\left(p_{x} + p_{y} + p_{z}\\right) + 2 \\epsilon_{r} \\left(1 - \\epsilon_{r}\\right) \\left(3 - 2 E\\right)\\right)^{2} + \\left(- \\epsilon_{g} \\left(2 E - 3\\right) \\left(\\epsilon_{g} - 2\\right) \\left(p_{x} + p_{y} + p_{z}\\right) - 2 \\epsilon_{r} \\left(2 E - 3\\right) \\left(\\epsilon_{r} - 1\\right) + \\left(6 E - 6\\right) \\left(\\epsilon_{r}^{2} + \\left(\\epsilon_{r} - 1\\right)^{2}\\right)\\right)^{2}\\right) - 2 E^{2} p_{y} \\left(2 E \\left(\\epsilon_{r}^{2} + \\left(1 - \\epsilon_{r}\\right)^{2}\\right) - \\epsilon_{g} \\left(3 - 2 E\\right) \\left(\\epsilon_{g} - 2\\right) \\left(p_{x} + p_{y} + p_{z}\\right) + 2 \\epsilon_{r} \\left(1 - \\epsilon_{r}\\right) \\left(3 - 2 E\\right)\\right) \\left(- \\epsilon_{g} \\left(2 E - 3\\right) \\left(\\epsilon_{g} - 2\\right) \\left(p_{x} + p_{y} + p_{z}\\right) - 2 \\epsilon_{r} \\left(2 E - 3\\right) \\left(\\epsilon_{r} - 1\\right) + \\left(6 E - 6\\right) \\left(\\epsilon_{r}^{2} + \\left(\\epsilon_{r} - 1\\right)^{2}\\right)\\right) + 2 p_{z} \\left(2 E^{2} \\left(\\epsilon_{r}^{2} + \\left(1 - \\epsilon_{r}\\right)^{2}\\right) + 2 E \\epsilon_{r} \\left(1 - \\epsilon_{r}\\right) \\left(3 - 2 E\\right) - \\epsilon_{g} \\left(\\epsilon_{g} - 2\\right) \\left(2 E^{2} p_{x} + 2 E^{2} p_{y} + p_{z} \\left(E^{2} + 9 \\left(E - 1\\right)^{2}\\right)\\right)\\right) \\left(- 2 E \\epsilon_{g} \\left(\\epsilon_{g} - 2\\right) \\left(E p_{x} + E p_{y} - 3 p_{z} \\left(E - 1\\right)\\right) + 2 E \\epsilon_{r} \\left(1 - \\epsilon_{r}\\right) \\left(3 - 2 E\\right) + \\left(E^{2} + 9 \\left(E - 1\\right)^{2}\\right) \\left(\\epsilon_{r}^{2} + \\left(1 - \\epsilon_{r}\\right)^{2}\\right)\\right)\\right) + \\left(\\epsilon_{r}^{2} + \\left(\\epsilon_{r} - 1\\right)^{2}\\right) \\left(\\left(2 E^{2} \\left(\\epsilon_{r}^{2} + \\left(1 - \\epsilon_{r}\\right)^{2}\\right) + 2 E \\epsilon_{r} \\left(1 - \\epsilon_{r}\\right) \\left(3 - 2 E\\right) - \\epsilon_{g} \\left(\\epsilon_{g} - 2\\right) \\left(2 E^{2} p_{x} + 2 E^{2} p_{y} + p_{z} \\left(E^{2} + 9 \\left(E - 1\\right)^{2}\\right)\\right)\\right)^{2} + \\left(- 2 E \\epsilon_{g} \\left(\\epsilon_{g} - 2\\right) \\left(E p_{x} + E p_{y} - 3 p_{z} \\left(E - 1\\right)\\right) + 2 E \\epsilon_{r} \\left(1 - \\epsilon_{r}\\right) \\left(3 - 2 E\\right) + \\left(E^{2} + 9 \\left(E - 1\\right)^{2}\\right) \\left(\\epsilon_{r}^{2} + \\left(1 - \\epsilon_{r}\\right)^{2}\\right)\\right)^{2}\\right)\\right)}{- 8 E \\epsilon_{r} \\left(\\epsilon_{r} - 1\\right) \\left(E \\left(\\epsilon_{r}^{2} + \\left(\\epsilon_{r} - 1\\right)^{2}\\right) + \\epsilon_{g} \\left(2 E - 3\\right) \\left(\\epsilon_{g} - 2\\right) \\left(p_{x} + p_{y} + p_{z}\\right) + 2 \\epsilon_{r} \\left(2 E - 3\\right) \\left(\\epsilon_{r} - 1\\right) - \\left(3 E - 3\\right) \\left(\\epsilon_{r}^{2} + \\left(\\epsilon_{r} - 1\\right)^{2}\\right)\\right) \\left(2 E^{2} \\left(\\epsilon_{r}^{2} + \\left(\\epsilon_{r} - 1\\right)^{2}\\right) - 2 E \\epsilon_{g} \\left(\\epsilon_{g} - 2\\right) \\left(E p_{x} + E p_{y} - 3 p_{z} \\left(E - 1\\right)\\right) + 4 E \\epsilon_{r} \\left(2 E - 3\\right) \\left(\\epsilon_{r} - 1\\right) - \\epsilon_{g} \\left(\\epsilon_{g} - 2\\right) \\left(2 E^{2} p_{x} + 2 E^{2} p_{y} + p_{z} \\left(E^{2} + 9 \\left(E - 1\\right)^{2}\\right)\\right) + \\left(E^{2} + 9 \\left(E - 1\\right)^{2}\\right) \\left(\\epsilon_{r}^{2} + \\left(\\epsilon_{r} - 1\\right)^{2}\\right)\\right) + \\left(\\epsilon_{r}^{2} + \\left(\\epsilon_{r} - 1\\right)^{2}\\right) \\left(4 E^{2} \\left(E \\left(\\epsilon_{r}^{2} + \\left(\\epsilon_{r} - 1\\right)^{2}\\right) + \\epsilon_{g} \\left(2 E - 3\\right) \\left(\\epsilon_{g} - 2\\right) \\left(p_{x} + p_{y} + p_{z}\\right) + 2 \\epsilon_{r} \\left(2 E - 3\\right) \\left(\\epsilon_{r} - 1\\right) - \\left(3 E - 3\\right) \\left(\\epsilon_{r}^{2} + \\left(\\epsilon_{r} - 1\\right)^{2}\\right)\\right)^{2} + \\left(2 E^{2} \\left(\\epsilon_{r}^{2} + \\left(\\epsilon_{r} - 1\\right)^{2}\\right) - 2 E \\epsilon_{g} \\left(\\epsilon_{g} - 2\\right) \\left(E p_{x} + E p_{y} - 3 p_{z} \\left(E - 1\\right)\\right) + 4 E \\epsilon_{r} \\left(2 E - 3\\right) \\left(\\epsilon_{r} - 1\\right) - \\epsilon_{g} \\left(\\epsilon_{g} - 2\\right) \\left(2 E^{2} p_{x} + 2 E^{2} p_{y} + p_{z} \\left(E^{2} + 9 \\left(E - 1\\right)^{2}\\right)\\right) + \\left(E^{2} + 9 \\left(E - 1\\right)^{2}\\right) \\left(\\epsilon_{r}^{2} + \\left(\\epsilon_{r} - 1\\right)^{2}\\right)\\right)^{2}\\right)}$"
      ],
      "text/plain": [
       "(epsilon_g - 1)**2*(-2*E*epsilon_r*(epsilon_r - 1)*((2*E*(epsilon_r**2 + (1 - epsilon_r)**2) - epsilon_g*(3 - 2*E)*(epsilon_g - 2)*(p_x + p_y + p_z) + 2*epsilon_r*(1 - epsilon_r)*(3 - 2*E))*(-2*E*epsilon_g*(epsilon_g - 2)*(E*p_x + E*p_y - 3*p_z*(E - 1)) + 2*E*epsilon_r*(1 - epsilon_r)*(3 - 2*E) + (E**2 + 9*(E - 1)**2)*(epsilon_r**2 + (1 - epsilon_r)**2)) - (2*E**2*(epsilon_r**2 + (1 - epsilon_r)**2) + 2*E*epsilon_r*(1 - epsilon_r)*(3 - 2*E) - epsilon_g*(epsilon_g - 2)*(2*E**2*p_x + 2*E**2*p_y + p_z*(E**2 + 9*(E - 1)**2)))*(-epsilon_g*(2*E - 3)*(epsilon_g - 2)*(p_x + p_y + p_z) - 2*epsilon_r*(2*E - 3)*(epsilon_r - 1) + (6*E - 6)*(epsilon_r**2 + (epsilon_r - 1)**2))) - epsilon_g*(epsilon_g - 2)*(E**2*p_x*((2*E*(epsilon_r**2 + (1 - epsilon_r)**2) - epsilon_g*(3 - 2*E)*(epsilon_g - 2)*(p_x + p_y + p_z) + 2*epsilon_r*(1 - epsilon_r)*(3 - 2*E))**2 + (-epsilon_g*(2*E - 3)*(epsilon_g - 2)*(p_x + p_y + p_z) - 2*epsilon_r*(2*E - 3)*(epsilon_r - 1) + (6*E - 6)*(epsilon_r**2 + (epsilon_r - 1)**2))**2) - 2*E**2*p_y*(2*E*(epsilon_r**2 + (1 - epsilon_r)**2) - epsilon_g*(3 - 2*E)*(epsilon_g - 2)*(p_x + p_y + p_z) + 2*epsilon_r*(1 - epsilon_r)*(3 - 2*E))*(-epsilon_g*(2*E - 3)*(epsilon_g - 2)*(p_x + p_y + p_z) - 2*epsilon_r*(2*E - 3)*(epsilon_r - 1) + (6*E - 6)*(epsilon_r**2 + (epsilon_r - 1)**2)) + 2*p_z*(2*E**2*(epsilon_r**2 + (1 - epsilon_r)**2) + 2*E*epsilon_r*(1 - epsilon_r)*(3 - 2*E) - epsilon_g*(epsilon_g - 2)*(2*E**2*p_x + 2*E**2*p_y + p_z*(E**2 + 9*(E - 1)**2)))*(-2*E*epsilon_g*(epsilon_g - 2)*(E*p_x + E*p_y - 3*p_z*(E - 1)) + 2*E*epsilon_r*(1 - epsilon_r)*(3 - 2*E) + (E**2 + 9*(E - 1)**2)*(epsilon_r**2 + (1 - epsilon_r)**2))) + (epsilon_r**2 + (epsilon_r - 1)**2)*((2*E**2*(epsilon_r**2 + (1 - epsilon_r)**2) + 2*E*epsilon_r*(1 - epsilon_r)*(3 - 2*E) - epsilon_g*(epsilon_g - 2)*(2*E**2*p_x + 2*E**2*p_y + p_z*(E**2 + 9*(E - 1)**2)))**2 + (-2*E*epsilon_g*(epsilon_g - 2)*(E*p_x + E*p_y - 3*p_z*(E - 1)) + 2*E*epsilon_r*(1 - epsilon_r)*(3 - 2*E) + (E**2 + 9*(E - 1)**2)*(epsilon_r**2 + (1 - epsilon_r)**2))**2))/(-8*E*epsilon_r*(epsilon_r - 1)*(E*(epsilon_r**2 + (epsilon_r - 1)**2) + epsilon_g*(2*E - 3)*(epsilon_g - 2)*(p_x + p_y + p_z) + 2*epsilon_r*(2*E - 3)*(epsilon_r - 1) - (3*E - 3)*(epsilon_r**2 + (epsilon_r - 1)**2))*(2*E**2*(epsilon_r**2 + (epsilon_r - 1)**2) - 2*E*epsilon_g*(epsilon_g - 2)*(E*p_x + E*p_y - 3*p_z*(E - 1)) + 4*E*epsilon_r*(2*E - 3)*(epsilon_r - 1) - epsilon_g*(epsilon_g - 2)*(2*E**2*p_x + 2*E**2*p_y + p_z*(E**2 + 9*(E - 1)**2)) + (E**2 + 9*(E - 1)**2)*(epsilon_r**2 + (epsilon_r - 1)**2)) + (epsilon_r**2 + (epsilon_r - 1)**2)*(4*E**2*(E*(epsilon_r**2 + (epsilon_r - 1)**2) + epsilon_g*(2*E - 3)*(epsilon_g - 2)*(p_x + p_y + p_z) + 2*epsilon_r*(2*E - 3)*(epsilon_r - 1) - (3*E - 3)*(epsilon_r**2 + (epsilon_r - 1)**2))**2 + (2*E**2*(epsilon_r**2 + (epsilon_r - 1)**2) - 2*E*epsilon_g*(epsilon_g - 2)*(E*p_x + E*p_y - 3*p_z*(E - 1)) + 4*E*epsilon_r*(2*E - 3)*(epsilon_r - 1) - epsilon_g*(epsilon_g - 2)*(2*E**2*p_x + 2*E**2*p_y + p_z*(E**2 + 9*(E - 1)**2)) + (E**2 + 9*(E - 1)**2)*(epsilon_r**2 + (epsilon_r - 1)**2))**2))"
      ]
     },
     "execution_count": 105,
     "metadata": {},
     "output_type": "execute_result"
    }
   ],
   "source": [
    "# look for fixed points of this equation\n",
    "# expansion not working\n",
    "# lets try to expand first on the other variables\n",
    "# ec_ofE=sy.simplify(ecua.subs(changevar))\n",
    "ec_ofE=(epsilon_g - 1)**2*(-2*E*epsilon_r*(epsilon_r - 1)*((2*E*(epsilon_r**2 + (1 - epsilon_r)**2) - epsilon_g*(3 - 2*E)*(epsilon_g - 2)*(p_x + p_y + p_z) + 2*epsilon_r*(1 - epsilon_r)*(3 - 2*E))*(-2*E*epsilon_g*(epsilon_g - 2)*(E*p_x + E*p_y - 3*p_z*(E - 1)) + 2*E*epsilon_r*(1 - epsilon_r)*(3 - 2*E) + (E**2 + 9*(E - 1)**2)*(epsilon_r**2 + (1 - epsilon_r)**2)) - (2*E**2*(epsilon_r**2 + (1 - epsilon_r)**2) + 2*E*epsilon_r*(1 - epsilon_r)*(3 - 2*E) - epsilon_g*(epsilon_g - 2)*(2*E**2*p_x + 2*E**2*p_y + p_z*(E**2 + 9*(E - 1)**2)))*(-epsilon_g*(2*E - 3)*(epsilon_g - 2)*(p_x + p_y + p_z) - 2*epsilon_r*(2*E - 3)*(epsilon_r - 1) + 6*(E - 1)*(epsilon_r**2 + (epsilon_r - 1)**2))) - epsilon_g*(epsilon_g - 2)*(E**2*p_x*((2*E*(epsilon_r**2 + (1 - epsilon_r)**2) - epsilon_g*(3 - 2*E)*(epsilon_g - 2)*(p_x + p_y + p_z) + 2*epsilon_r*(1 - epsilon_r)*(3 - 2*E))**2 + (-epsilon_g*(2*E - 3)*(epsilon_g - 2)*(p_x + p_y + p_z) - 2*epsilon_r*(2*E - 3)*(epsilon_r - 1) + 6*(E - 1)*(epsilon_r**2 + (epsilon_r - 1)**2))**2) - 2*E**2*p_y*(2*E*(epsilon_r**2 + (1 - epsilon_r)**2) - epsilon_g*(3 - 2*E)*(epsilon_g - 2)*(p_x + p_y + p_z) + 2*epsilon_r*(1 - epsilon_r)*(3 - 2*E))*(-epsilon_g*(2*E - 3)*(epsilon_g - 2)*(p_x + p_y + p_z) - 2*epsilon_r*(2*E - 3)*(epsilon_r - 1) + 6*(E - 1)*(epsilon_r**2 + (epsilon_r - 1)**2)) + 2*p_z*(2*E**2*(epsilon_r**2 + (1 - epsilon_r)**2) + 2*E*epsilon_r*(1 - epsilon_r)*(3 - 2*E) - epsilon_g*(epsilon_g - 2)*(2*E**2*p_x + 2*E**2*p_y + p_z*(E**2 + 9*(E - 1)**2)))*(-2*E*epsilon_g*(epsilon_g - 2)*(E*p_x + E*p_y - 3*p_z*(E - 1)) + 2*E*epsilon_r*(1 - epsilon_r)*(3 - 2*E) + (E**2 + 9*(E - 1)**2)*(epsilon_r**2 + (1 - epsilon_r)**2))) + (epsilon_r**2 + (epsilon_r - 1)**2)*((2*E**2*(epsilon_r**2 + (1 - epsilon_r)**2) + 2*E*epsilon_r*(1 - epsilon_r)*(3 - 2*E) - epsilon_g*(epsilon_g - 2)*(2*E**2*p_x + 2*E**2*p_y + p_z*(E**2 + 9*(E - 1)**2)))**2 + (-2*E*epsilon_g*(epsilon_g - 2)*(E*p_x + E*p_y - 3*p_z*(E - 1)) + 2*E*epsilon_r*(1 - epsilon_r)*(3 - 2*E) + (E**2 + 9*(E - 1)**2)*(epsilon_r**2 + (1 - epsilon_r)**2))**2))/(-8*E*epsilon_r*(epsilon_r - 1)*(E*(epsilon_r**2 + (epsilon_r - 1)**2) + epsilon_g*(2*E - 3)*(epsilon_g - 2)*(p_x + p_y + p_z) + 2*epsilon_r*(2*E - 3)*(epsilon_r - 1) - 3*(E - 1)*(epsilon_r**2 + (epsilon_r - 1)**2))*(2*E**2*(epsilon_r**2 + (epsilon_r - 1)**2) - 2*E*epsilon_g*(epsilon_g - 2)*(E*p_x + E*p_y - 3*p_z*(E - 1)) + 4*E*epsilon_r*(2*E - 3)*(epsilon_r - 1) - epsilon_g*(epsilon_g - 2)*(2*E**2*p_x + 2*E**2*p_y + p_z*(E**2 + 9*(E - 1)**2)) + (E**2 + 9*(E - 1)**2)*(epsilon_r**2 + (epsilon_r - 1)**2)) + (epsilon_r**2 + (epsilon_r - 1)**2)*(4*E**2*(E*(epsilon_r**2 + (epsilon_r - 1)**2) + epsilon_g*(2*E - 3)*(epsilon_g - 2)*(p_x + p_y + p_z) + 2*epsilon_r*(2*E - 3)*(epsilon_r - 1) - 3*(E - 1)*(epsilon_r**2 + (epsilon_r - 1)**2))**2 + (2*E**2*(epsilon_r**2 + (epsilon_r - 1)**2) - 2*E*epsilon_g*(epsilon_g - 2)*(E*p_x + E*p_y - 3*p_z*(E - 1)) + 4*E*epsilon_r*(2*E - 3)*(epsilon_r - 1) - epsilon_g*(epsilon_g - 2)*(2*E**2*p_x + 2*E**2*p_y + p_z*(E**2 + 9*(E - 1)**2)) + (E**2 + 9*(E - 1)**2)*(epsilon_r**2 + (epsilon_r - 1)**2))**2))\n",
    "ec_ofE"
   ]
  },
  {
   "cell_type": "code",
   "execution_count": null,
   "id": "dc7c8e77",
   "metadata": {},
   "outputs": [],
   "source": [
    "# here we do a multivariable taylor expansion up to second order first around F=1 and then one around E_g around 0\n",
    "simp_expansion=sy.simplify(sy.series((sy.series((sy.series(ec_ofE,E,0,2).removeO()),epsilon_g,0,2).removeO()),epsilon_r,0,2).removeO())\n",
    "#simp_expansion_den=sy.simplify(sy.series((sy.series((sy.series(hybden,F,1,2).removeO()),epsilon_g,0,2).removeO()),eta,1,2).removeO())\n",
    "integrandF=(sy.simplify((simp_expansion)-(1-E)))\n",
    "integrandF\n",
    "#uncomment to get next cell expression (takes 22 min to run)"
   ]
  },
  {
   "cell_type": "code",
   "execution_count": 107,
   "id": "681943aa",
   "metadata": {},
   "outputs": [
    {
     "data": {
      "text/latex": [
       "$\\displaystyle E - 4 \\epsilon_{g} p_{z} - 2 \\epsilon_{g} - \\frac{4 \\epsilon_{r} \\left(3 E \\epsilon_{g} p_{x} + 3 E \\epsilon_{g} p_{y} - 23 E \\epsilon_{g} p_{z} - 6 E \\epsilon_{g} + 3 E + 6 \\epsilon_{g} p_{z}\\right)}{3}$"
      ],
      "text/plain": [
       "E - 4*epsilon_g*p_z - 2*epsilon_g - 4*epsilon_r*(3*E*epsilon_g*p_x + 3*E*epsilon_g*p_y - 23*E*epsilon_g*p_z - 6*E*epsilon_g + 3*E + 6*epsilon_g*p_z)/3"
      ]
     },
     "execution_count": 107,
     "metadata": {},
     "output_type": "execute_result"
    }
   ],
   "source": [
    "integrandF= E - 4*epsilon_g*p_z - 2*epsilon_g - 4*epsilon_r*(3*E*epsilon_g*p_x + 3*E*epsilon_g*p_y - 23*E*epsilon_g*p_z - 6*E*epsilon_g + 3*E + 6*epsilon_g*p_z)/3\n",
    "integrandF"
   ]
  },
  {
   "cell_type": "code",
   "execution_count": 108,
   "id": "d68aec59",
   "metadata": {},
   "outputs": [
    {
     "data": {
      "text/latex": [
       "$\\displaystyle - F - 4 \\epsilon_{g} p_{z} - 2 \\epsilon_{g} - \\frac{4 \\epsilon_{r} \\left(- 3 F + 3 \\epsilon_{g} p_{x} \\left(1 - F\\right) + 3 \\epsilon_{g} p_{y} \\left(1 - F\\right) - 23 \\epsilon_{g} p_{z} \\left(1 - F\\right) + 6 \\epsilon_{g} p_{z} - 6 \\epsilon_{g} \\left(1 - F\\right) + 3\\right)}{3} + 1$"
      ],
      "text/plain": [
       "-F - 4*epsilon_g*p_z - 2*epsilon_g - 4*epsilon_r*(-3*F + 3*epsilon_g*p_x*(1 - F) + 3*epsilon_g*p_y*(1 - F) - 23*epsilon_g*p_z*(1 - F) + 6*epsilon_g*p_z - 6*epsilon_g*(1 - F) + 3)/3 + 1"
      ]
     },
     "execution_count": 108,
     "metadata": {},
     "output_type": "execute_result"
    }
   ],
   "source": [
    "#lets say that we want to expand over zeros here we change variables F->(1-E) and eta->(1-epsilon_r)\n",
    "neweq=integrandF.subs(intermsub)\n",
    "neweq"
   ]
  },
  {
   "cell_type": "code",
   "execution_count": 109,
   "id": "c8d8686e",
   "metadata": {},
   "outputs": [
    {
     "data": {
      "text/latex": [
       "$\\displaystyle \\frac{F \\left(F \\left(12 \\epsilon_{g} \\epsilon_{r} p_{x} + 12 \\epsilon_{g} \\epsilon_{r} p_{y} - 92 \\epsilon_{g} \\epsilon_{r} p_{z} - 24 \\epsilon_{g} \\epsilon_{r} + 12 \\epsilon_{r} - 3\\right) - 24 \\epsilon_{g} \\epsilon_{r} p_{x} - 24 \\epsilon_{g} \\epsilon_{r} p_{y} + 136 \\epsilon_{g} \\epsilon_{r} p_{z} + 48 \\epsilon_{g} \\epsilon_{r} - 24 \\epsilon_{g} p_{z} - 12 \\epsilon_{g} - 24 \\epsilon_{r} + 6\\right)}{6}$"
      ],
      "text/plain": [
       "F*(F*(12*epsilon_g*epsilon_r*p_x + 12*epsilon_g*epsilon_r*p_y - 92*epsilon_g*epsilon_r*p_z - 24*epsilon_g*epsilon_r + 12*epsilon_r - 3) - 24*epsilon_g*epsilon_r*p_x - 24*epsilon_g*epsilon_r*p_y + 136*epsilon_g*epsilon_r*p_z + 48*epsilon_g*epsilon_r - 24*epsilon_g*p_z - 12*epsilon_g - 24*epsilon_r + 6)/6"
      ]
     },
     "execution_count": 109,
     "metadata": {},
     "output_type": "execute_result"
    }
   ],
   "source": [
    "# now we can integrate the new variable \n",
    "eq13=sy.simplify(sy.integrate(neweq,F))\n",
    "eq13"
   ]
  },
  {
   "cell_type": "code",
   "execution_count": 110,
   "id": "8f74d04b",
   "metadata": {},
   "outputs": [
    {
     "name": "stdout",
     "output_type": "stream",
     "text": [
      "F*(F*(12*epsilon_g*epsilon_r*p_x + 12*epsilon_g*epsilon_r*p_y - 92*epsilon_g*epsilon_r*p_z - 24*epsilon_g*epsilon_r + 12*epsilon_r - 3) - 24*epsilon_g*epsilon_r*p_x - 24*epsilon_g*epsilon_r*p_y + 136*epsilon_g*epsilon_r*p_z + 48*epsilon_g*epsilon_r - 24*epsilon_g*p_z - 12*epsilon_g - 24*epsilon_r + 6)/6\n"
     ]
    }
   ],
   "source": [
    "# this cell just print the previous eq in python format to do numerical integration\n",
    "print(eq13)\n",
    "evaluaF_t={\n",
    "    F:F_t}\n",
    "evaluaF_0={\n",
    "    F:F_o}"
   ]
  },
  {
   "cell_type": "code",
   "execution_count": 111,
   "id": "223d318f",
   "metadata": {},
   "outputs": [
    {
     "data": {
      "text/latex": [
       "$\\displaystyle 2 F_{0} \\epsilon_{g} \\epsilon_{r} p_{x} + 2 F_{0} \\epsilon_{g} \\epsilon_{r} p_{y} - \\frac{46 F_{0} \\epsilon_{g} \\epsilon_{r} p_{z}}{3} - 4 F_{0} \\epsilon_{g} \\epsilon_{r} + 2 F_{0} \\epsilon_{r} - \\frac{F_{0}}{2} + 2 F_{t} \\epsilon_{g} \\epsilon_{r} p_{x} + 2 F_{t} \\epsilon_{g} \\epsilon_{r} p_{y} - \\frac{46 F_{t} \\epsilon_{g} \\epsilon_{r} p_{z}}{3} - 4 F_{t} \\epsilon_{g} \\epsilon_{r} + 2 F_{t} \\epsilon_{r} - \\frac{F_{t}}{2} - 4 \\epsilon_{g} \\epsilon_{r} p_{x} - 4 \\epsilon_{g} \\epsilon_{r} p_{y} + \\frac{68 \\epsilon_{g} \\epsilon_{r} p_{z}}{3} + 8 \\epsilon_{g} \\epsilon_{r} - 4 \\epsilon_{g} p_{z} - 2 \\epsilon_{g} - 4 \\epsilon_{r} + 1$"
      ],
      "text/plain": [
       "2*F_0*epsilon_g*epsilon_r*p_x + 2*F_0*epsilon_g*epsilon_r*p_y - 46*F_0*epsilon_g*epsilon_r*p_z/3 - 4*F_0*epsilon_g*epsilon_r + 2*F_0*epsilon_r - F_0/2 + 2*F_t*epsilon_g*epsilon_r*p_x + 2*F_t*epsilon_g*epsilon_r*p_y - 46*F_t*epsilon_g*epsilon_r*p_z/3 - 4*F_t*epsilon_g*epsilon_r + 2*F_t*epsilon_r - F_t/2 - 4*epsilon_g*epsilon_r*p_x - 4*epsilon_g*epsilon_r*p_y + 68*epsilon_g*epsilon_r*p_z/3 + 8*epsilon_g*epsilon_r - 4*epsilon_g*p_z - 2*epsilon_g - 4*epsilon_r + 1"
      ]
     },
     "execution_count": 111,
     "metadata": {},
     "output_type": "execute_result"
    }
   ],
   "source": [
    "#lets try to get a expresion for the evaluation of the integral\n",
    "avg_stp=sy.simplify((eq13.subs(evaluaF_t)-eq13.subs(evaluaF_0))/(F_t-F_o))\n",
    "avg_stp"
   ]
  },
  {
   "cell_type": "code",
   "execution_count": 112,
   "id": "d95b7b61",
   "metadata": {},
   "outputs": [
    {
     "name": "stdout",
     "output_type": "stream",
     "text": [
      "2*F_0*epsilon_g*epsilon_r*p_x + 2*F_0*epsilon_g*epsilon_r*p_y - 46*F_0*epsilon_g*epsilon_r*p_z/3 - 4*F_0*epsilon_g*epsilon_r + 2*F_0*epsilon_r - F_0/2 + 2*F_t*epsilon_g*epsilon_r*p_x + 2*F_t*epsilon_g*epsilon_r*p_y - 46*F_t*epsilon_g*epsilon_r*p_z/3 - 4*F_t*epsilon_g*epsilon_r + 2*F_t*epsilon_r - F_t/2 - 4*epsilon_g*epsilon_r*p_x - 4*epsilon_g*epsilon_r*p_y + 68*epsilon_g*epsilon_r*p_z/3 + 8*epsilon_g*epsilon_r - 4*epsilon_g*p_z - 2*epsilon_g - 4*epsilon_r + 1\n"
     ]
    }
   ],
   "source": [
    "print(avg_stp)"
   ]
  },
  {
   "cell_type": "code",
   "execution_count": 113,
   "id": "d3e70fb3",
   "metadata": {},
   "outputs": [
    {
     "data": {
      "text/latex": [
       "$\\displaystyle 2 \\eta \\left(1 - \\eta\\right) \\left(2 A + 2 B\\right) \\left(C + D\\right) + \\left(\\eta^{2} + \\left(1 - \\eta\\right)^{2}\\right) \\left(\\left(A + B\\right)^{2} + \\left(C + D\\right)^{2}\\right)$"
      ],
      "text/plain": [
       "2*eta*(1 - eta)*(2*A + 2*B)*(C + D) + (eta**2 + (1 - eta)**2)*((A + B)**2 + (C + D)**2)"
      ]
     },
     "execution_count": 113,
     "metadata": {},
     "output_type": "execute_result"
    }
   ],
   "source": [
    "#Now we can calculate the average acceptance probability of the protocol and calculate the geometrical integral\n",
    "# recall that we have saved the following eqs\n",
    "residuo,firstnorm=A_error.as_numer_denom()\n",
    "firstnorm"
   ]
  },
  {
   "cell_type": "code",
   "execution_count": 114,
   "id": "91e16a38",
   "metadata": {},
   "outputs": [
    {
     "data": {
      "text/latex": [
       "$\\displaystyle \\frac{8 E \\eta \\left(2 E - 3\\right) \\left(\\eta - 1\\right)}{9} + \\frac{\\left(4 E^{2} + \\left(2 E - 3\\right)^{2}\\right) \\left(\\eta^{2} + \\left(\\eta - 1\\right)^{2}\\right)}{9}$"
      ],
      "text/plain": [
       "8*E*eta*(2*E - 3)*(eta - 1)/9 + (4*E**2 + (2*E - 3)**2)*(eta**2 + (eta - 1)**2)/9"
      ]
     },
     "execution_count": 114,
     "metadata": {},
     "output_type": "execute_result"
    }
   ],
   "source": [
    "# here we substitute as we did in the past when we see a we apply the protocol\n",
    "Anorm_1=sy.simplify(firstnorm.subs(firstroundsubstitution))\n",
    "Anorm_1"
   ]
  },
  {
   "cell_type": "code",
   "execution_count": 115,
   "id": "e03ad66b",
   "metadata": {},
   "outputs": [
    {
     "data": {
      "text/latex": [
       "$\\displaystyle \\frac{\\left(\\epsilon_{g} - 1\\right)^{4} \\left(- 8 E \\eta \\left(\\eta - 1\\right) \\left(- E \\left(\\eta^{2} + \\left(\\eta - 1\\right)^{2}\\right) - \\epsilon_{g} \\left(2 E - 3\\right) \\left(\\epsilon_{g} - 2\\right) \\left(p_{x} + p_{y} + p_{z}\\right) - 2 \\eta \\left(2 E - 3\\right) \\left(\\eta - 1\\right) + 3 \\left(E - 1\\right) \\left(\\eta^{2} + \\left(\\eta - 1\\right)^{2}\\right)\\right) \\left(- 2 E^{2} \\left(\\eta^{2} + \\left(\\eta - 1\\right)^{2}\\right) + 2 E \\epsilon_{g} \\left(\\epsilon_{g} - 2\\right) \\left(E p_{x} + E p_{y} - 3 p_{z} \\left(E - 1\\right)\\right) - 4 E \\eta \\left(2 E - 3\\right) \\left(\\eta - 1\\right) + \\epsilon_{g} \\left(\\epsilon_{g} - 2\\right) \\left(2 E^{2} p_{x} + 2 E^{2} p_{y} + p_{z} \\left(E^{2} + 9 \\left(E - 1\\right)^{2}\\right)\\right) - \\left(E^{2} + 9 \\left(E - 1\\right)^{2}\\right) \\left(\\eta^{2} + \\left(\\eta - 1\\right)^{2}\\right)\\right) + \\left(\\eta^{2} + \\left(\\eta - 1\\right)^{2}\\right) \\left(4 E^{2} \\left(- E \\left(\\eta^{2} + \\left(\\eta - 1\\right)^{2}\\right) - \\epsilon_{g} \\left(2 E - 3\\right) \\left(\\epsilon_{g} - 2\\right) \\left(p_{x} + p_{y} + p_{z}\\right) - 2 \\eta \\left(2 E - 3\\right) \\left(\\eta - 1\\right) + 3 \\left(E - 1\\right) \\left(\\eta^{2} + \\left(\\eta - 1\\right)^{2}\\right)\\right)^{2} + \\left(- 2 E^{2} \\left(\\eta^{2} + \\left(\\eta - 1\\right)^{2}\\right) + 2 E \\epsilon_{g} \\left(\\epsilon_{g} - 2\\right) \\left(E p_{x} + E p_{y} - 3 p_{z} \\left(E - 1\\right)\\right) - 4 E \\eta \\left(2 E - 3\\right) \\left(\\eta - 1\\right) + \\epsilon_{g} \\left(\\epsilon_{g} - 2\\right) \\left(2 E^{2} p_{x} + 2 E^{2} p_{y} + p_{z} \\left(E^{2} + 9 \\left(E - 1\\right)^{2}\\right)\\right) - \\left(E^{2} + 9 \\left(E - 1\\right)^{2}\\right) \\left(\\eta^{2} + \\left(\\eta - 1\\right)^{2}\\right)\\right)^{2}\\right)\\right)}{\\left(8 E \\eta \\left(2 E - 3\\right) \\left(\\eta - 1\\right) + \\left(4 E^{2} + \\left(2 E - 3\\right)^{2}\\right) \\left(\\eta^{2} + \\left(\\eta - 1\\right)^{2}\\right)\\right)^{2}}$"
      ],
      "text/plain": [
       "(epsilon_g - 1)**4*(-8*E*eta*(eta - 1)*(-E*(eta**2 + (eta - 1)**2) - epsilon_g*(2*E - 3)*(epsilon_g - 2)*(p_x + p_y + p_z) - 2*eta*(2*E - 3)*(eta - 1) + 3*(E - 1)*(eta**2 + (eta - 1)**2))*(-2*E**2*(eta**2 + (eta - 1)**2) + 2*E*epsilon_g*(epsilon_g - 2)*(E*p_x + E*p_y - 3*p_z*(E - 1)) - 4*E*eta*(2*E - 3)*(eta - 1) + epsilon_g*(epsilon_g - 2)*(2*E**2*p_x + 2*E**2*p_y + p_z*(E**2 + 9*(E - 1)**2)) - (E**2 + 9*(E - 1)**2)*(eta**2 + (eta - 1)**2)) + (eta**2 + (eta - 1)**2)*(4*E**2*(-E*(eta**2 + (eta - 1)**2) - epsilon_g*(2*E - 3)*(epsilon_g - 2)*(p_x + p_y + p_z) - 2*eta*(2*E - 3)*(eta - 1) + 3*(E - 1)*(eta**2 + (eta - 1)**2))**2 + (-2*E**2*(eta**2 + (eta - 1)**2) + 2*E*epsilon_g*(epsilon_g - 2)*(E*p_x + E*p_y - 3*p_z*(E - 1)) - 4*E*eta*(2*E - 3)*(eta - 1) + epsilon_g*(epsilon_g - 2)*(2*E**2*p_x + 2*E**2*p_y + p_z*(E**2 + 9*(E - 1)**2)) - (E**2 + 9*(E - 1)**2)*(eta**2 + (eta - 1)**2))**2))/(8*E*eta*(2*E - 3)*(eta - 1) + (4*E**2 + (2*E - 3)**2)*(eta**2 + (eta - 1)**2))**2"
      ]
     },
     "execution_count": 115,
     "metadata": {},
     "output_type": "execute_result"
    }
   ],
   "source": [
    "Anorm_2=sy.simplify(firstnorm.subs(secondroundsubstitution))\n",
    "Anorm_2"
   ]
  },
  {
   "cell_type": "code",
   "execution_count": 116,
   "id": "80badffe",
   "metadata": {},
   "outputs": [
    {
     "data": {
      "text/latex": [
       "$\\displaystyle \\frac{\\left(\\epsilon_{g} - 1\\right)^{4} \\left(8 E \\epsilon_{r} \\left(\\epsilon_{r} - 1\\right) \\left(E \\left(\\epsilon_{r}^{2} + \\left(\\epsilon_{r} - 1\\right)^{2}\\right) + \\epsilon_{g} \\left(2 E - 3\\right) \\left(\\epsilon_{g} - 2\\right) \\left(p_{x} + p_{y} + p_{z}\\right) + 2 \\epsilon_{r} \\left(2 E - 3\\right) \\left(\\epsilon_{r} - 1\\right) - 3 \\left(E - 1\\right) \\left(\\epsilon_{r}^{2} + \\left(\\epsilon_{r} - 1\\right)^{2}\\right)\\right) \\left(- 2 E^{2} \\left(\\epsilon_{r}^{2} + \\left(\\epsilon_{r} - 1\\right)^{2}\\right) + 2 E \\epsilon_{g} \\left(\\epsilon_{g} - 2\\right) \\left(E p_{x} + E p_{y} - 3 p_{z} \\left(E - 1\\right)\\right) - 4 E \\epsilon_{r} \\left(2 E - 3\\right) \\left(\\epsilon_{r} - 1\\right) + \\epsilon_{g} \\left(\\epsilon_{g} - 2\\right) \\left(2 E^{2} p_{x} + 2 E^{2} p_{y} + p_{z} \\left(E^{2} + 9 \\left(E - 1\\right)^{2}\\right)\\right) - \\left(E^{2} + 9 \\left(E - 1\\right)^{2}\\right) \\left(\\epsilon_{r}^{2} + \\left(\\epsilon_{r} - 1\\right)^{2}\\right)\\right) + \\left(\\epsilon_{r}^{2} + \\left(\\epsilon_{r} - 1\\right)^{2}\\right) \\left(4 E^{2} \\left(E \\left(\\epsilon_{r}^{2} + \\left(\\epsilon_{r} - 1\\right)^{2}\\right) + \\epsilon_{g} \\left(2 E - 3\\right) \\left(\\epsilon_{g} - 2\\right) \\left(p_{x} + p_{y} + p_{z}\\right) + 2 \\epsilon_{r} \\left(2 E - 3\\right) \\left(\\epsilon_{r} - 1\\right) - 3 \\left(E - 1\\right) \\left(\\epsilon_{r}^{2} + \\left(\\epsilon_{r} - 1\\right)^{2}\\right)\\right)^{2} + \\left(- 2 E^{2} \\left(\\epsilon_{r}^{2} + \\left(\\epsilon_{r} - 1\\right)^{2}\\right) + 2 E \\epsilon_{g} \\left(\\epsilon_{g} - 2\\right) \\left(E p_{x} + E p_{y} - 3 p_{z} \\left(E - 1\\right)\\right) - 4 E \\epsilon_{r} \\left(2 E - 3\\right) \\left(\\epsilon_{r} - 1\\right) + \\epsilon_{g} \\left(\\epsilon_{g} - 2\\right) \\left(2 E^{2} p_{x} + 2 E^{2} p_{y} + p_{z} \\left(E^{2} + 9 \\left(E - 1\\right)^{2}\\right)\\right) - \\left(E^{2} + 9 \\left(E - 1\\right)^{2}\\right) \\left(\\epsilon_{r}^{2} + \\left(\\epsilon_{r} - 1\\right)^{2}\\right)\\right)^{2}\\right)\\right)}{9 \\left(8 E \\epsilon_{r} \\left(2 E - 3\\right) \\left(\\epsilon_{r} - 1\\right) + \\left(4 E^{2} + \\left(2 E - 3\\right)^{2}\\right) \\left(\\epsilon_{r}^{2} + \\left(\\epsilon_{r} - 1\\right)^{2}\\right)\\right)}$"
      ],
      "text/plain": [
       "(epsilon_g - 1)**4*(8*E*epsilon_r*(epsilon_r - 1)*(E*(epsilon_r**2 + (epsilon_r - 1)**2) + epsilon_g*(2*E - 3)*(epsilon_g - 2)*(p_x + p_y + p_z) + 2*epsilon_r*(2*E - 3)*(epsilon_r - 1) - 3*(E - 1)*(epsilon_r**2 + (epsilon_r - 1)**2))*(-2*E**2*(epsilon_r**2 + (epsilon_r - 1)**2) + 2*E*epsilon_g*(epsilon_g - 2)*(E*p_x + E*p_y - 3*p_z*(E - 1)) - 4*E*epsilon_r*(2*E - 3)*(epsilon_r - 1) + epsilon_g*(epsilon_g - 2)*(2*E**2*p_x + 2*E**2*p_y + p_z*(E**2 + 9*(E - 1)**2)) - (E**2 + 9*(E - 1)**2)*(epsilon_r**2 + (epsilon_r - 1)**2)) + (epsilon_r**2 + (epsilon_r - 1)**2)*(4*E**2*(E*(epsilon_r**2 + (epsilon_r - 1)**2) + epsilon_g*(2*E - 3)*(epsilon_g - 2)*(p_x + p_y + p_z) + 2*epsilon_r*(2*E - 3)*(epsilon_r - 1) - 3*(E - 1)*(epsilon_r**2 + (epsilon_r - 1)**2))**2 + (-2*E**2*(epsilon_r**2 + (epsilon_r - 1)**2) + 2*E*epsilon_g*(epsilon_g - 2)*(E*p_x + E*p_y - 3*p_z*(E - 1)) - 4*E*epsilon_r*(2*E - 3)*(epsilon_r - 1) + epsilon_g*(epsilon_g - 2)*(2*E**2*p_x + 2*E**2*p_y + p_z*(E**2 + 9*(E - 1)**2)) - (E**2 + 9*(E - 1)**2)*(epsilon_r**2 + (epsilon_r - 1)**2))**2))/(9*(8*E*epsilon_r*(2*E - 3)*(epsilon_r - 1) + (4*E**2 + (2*E - 3)**2)*(epsilon_r**2 + (epsilon_r - 1)**2)))"
      ]
     },
     "execution_count": 116,
     "metadata": {},
     "output_type": "execute_result"
    }
   ],
   "source": [
    "# we multiply them and then substitute it with the hybrid variables\n",
    "from sympy import sqrt\n",
    "multiply=sy.simplify(Anorm_1*Anorm_2)\n",
    "mean_acceptance=multiply\n",
    "# # we only take the numerator of this eq\n",
    "# algo,mean_acceptance=multiplied_eq.as_numer_denom()\n",
    "# simplifying\n",
    "simplified_mean_acc=sy.simplify(mean_acceptance.subs(changevar))\n",
    "simplified_mean_acc"
   ]
  },
  {
   "cell_type": "code",
   "execution_count": 117,
   "id": "c886c2e7",
   "metadata": {},
   "outputs": [
    {
     "name": "stdout",
     "output_type": "stream",
     "text": [
      "(epsilon_g - 1)**4*(8*E*epsilon_r*(epsilon_r - 1)*(E*(epsilon_r**2 + (epsilon_r - 1)**2) + epsilon_g*(2*E - 3)*(epsilon_g - 2)*(p_x + p_y + p_z) + 2*epsilon_r*(2*E - 3)*(epsilon_r - 1) - 3*(E - 1)*(epsilon_r**2 + (epsilon_r - 1)**2))*(-2*E**2*(epsilon_r**2 + (epsilon_r - 1)**2) + 2*E*epsilon_g*(epsilon_g - 2)*(E*p_x + E*p_y - 3*p_z*(E - 1)) - 4*E*epsilon_r*(2*E - 3)*(epsilon_r - 1) + epsilon_g*(epsilon_g - 2)*(2*E**2*p_x + 2*E**2*p_y + p_z*(E**2 + 9*(E - 1)**2)) - (E**2 + 9*(E - 1)**2)*(epsilon_r**2 + (epsilon_r - 1)**2)) + (epsilon_r**2 + (epsilon_r - 1)**2)*(4*E**2*(E*(epsilon_r**2 + (epsilon_r - 1)**2) + epsilon_g*(2*E - 3)*(epsilon_g - 2)*(p_x + p_y + p_z) + 2*epsilon_r*(2*E - 3)*(epsilon_r - 1) - 3*(E - 1)*(epsilon_r**2 + (epsilon_r - 1)**2))**2 + (-2*E**2*(epsilon_r**2 + (epsilon_r - 1)**2) + 2*E*epsilon_g*(epsilon_g - 2)*(E*p_x + E*p_y - 3*p_z*(E - 1)) - 4*E*epsilon_r*(2*E - 3)*(epsilon_r - 1) + epsilon_g*(epsilon_g - 2)*(2*E**2*p_x + 2*E**2*p_y + p_z*(E**2 + 9*(E - 1)**2)) - (E**2 + 9*(E - 1)**2)*(epsilon_r**2 + (epsilon_r - 1)**2))**2))/(9*(8*E*epsilon_r*(2*E - 3)*(epsilon_r - 1) + (4*E**2 + (2*E - 3)**2)*(epsilon_r**2 + (epsilon_r - 1)**2)))\n"
     ]
    }
   ],
   "source": [
    "print(simplified_mean_acc)"
   ]
  },
  {
   "cell_type": "code",
   "execution_count": 118,
   "id": "a22863d2",
   "metadata": {},
   "outputs": [
    {
     "data": {
      "text/latex": [
       "$\\displaystyle - 8 E \\epsilon_{g} p_{z} + \\frac{32 E \\epsilon_{g}}{3} - \\frac{8 E}{3} + 4 \\epsilon_{g} p_{z} - 4 \\epsilon_{g} + \\frac{4 \\epsilon_{r} \\left(4 E \\epsilon_{g} p_{x} + 4 E \\epsilon_{g} p_{y} + 16 E \\epsilon_{g} p_{z} - 40 E \\epsilon_{g} + 10 E - 6 \\epsilon_{g} p_{z} + 12 \\epsilon_{g} - 3\\right)}{3} + 1$"
      ],
      "text/plain": [
       "-8*E*epsilon_g*p_z + 32*E*epsilon_g/3 - 8*E/3 + 4*epsilon_g*p_z - 4*epsilon_g + 4*epsilon_r*(4*E*epsilon_g*p_x + 4*E*epsilon_g*p_y + 16*E*epsilon_g*p_z - 40*E*epsilon_g + 10*E - 6*epsilon_g*p_z + 12*epsilon_g - 3)/3 + 1"
      ]
     },
     "execution_count": 118,
     "metadata": {},
     "output_type": "execute_result"
    }
   ],
   "source": [
    "from sympy import sqrt\n",
    "fbeur=sy.simplify(sy.series((sy.series((sy.series(simplified_mean_acc,E,0,2).removeO()),epsilon_g,0,2).removeO()),epsilon_r,0,2).removeO())\n",
    "fbeur"
   ]
  },
  {
   "cell_type": "code",
   "execution_count": 119,
   "id": "f017c56c",
   "metadata": {},
   "outputs": [],
   "source": [
    "# substitute px py and pz assuming p_z is 0.5\n",
    "changepauli = {\n",
    "    p_x:p_z/2,\n",
    "    p_y:p_z/2}\n"
   ]
  },
  {
   "cell_type": "code",
   "execution_count": 120,
   "id": "2c59e0ec",
   "metadata": {},
   "outputs": [
    {
     "data": {
      "text/latex": [
       "$\\displaystyle \\frac{\\log{\\left(8 F + 24 \\epsilon_{g} p_{z} \\left(F - 1\\right) + 12 \\epsilon_{g} p_{z} - 32 \\epsilon_{g} \\left(F - 1\\right) - 12 \\epsilon_{g} - 4 \\epsilon_{r} \\left(10 F + 4 \\epsilon_{g} p_{x} \\left(F - 1\\right) + 4 \\epsilon_{g} p_{y} \\left(F - 1\\right) + 16 \\epsilon_{g} p_{z} \\left(F - 1\\right) + 6 \\epsilon_{g} p_{z} - 40 \\epsilon_{g} \\left(F - 1\\right) - 12 \\epsilon_{g} - 7\\right) - 5 \\right)}}{2} - \\frac{\\log{\\left(3 \\right)}}{2}$"
      ],
      "text/plain": [
       "log(8*F + 24*epsilon_g*p_z*(F - 1) + 12*epsilon_g*p_z - 32*epsilon_g*(F - 1) - 12*epsilon_g - 4*epsilon_r*(10*F + 4*epsilon_g*p_x*(F - 1) + 4*epsilon_g*p_y*(F - 1) + 16*epsilon_g*p_z*(F - 1) + 6*epsilon_g*p_z - 40*epsilon_g*(F - 1) - 12*epsilon_g - 7) - 5)/2 - log(3)/2"
      ]
     },
     "execution_count": 120,
     "metadata": {},
     "output_type": "execute_result"
    }
   ],
   "source": [
    "# we expand this thing as with the previous step\n",
    "from sympy import log, sqrt\n",
    "integrandP=sy.simplify(log(sqrt(fbeur.subs(intermsub))))\n",
    "integrandP"
   ]
  },
  {
   "cell_type": "code",
   "execution_count": 121,
   "id": "f8b6bc20",
   "metadata": {},
   "outputs": [
    {
     "data": {
      "text/latex": [
       "$\\displaystyle \\frac{8 F \\left(\\log{\\left(8 F + 24 \\epsilon_{g} p_{z} \\left(F - 1\\right) + 12 \\epsilon_{g} p_{z} - 32 \\epsilon_{g} \\left(F - 1\\right) - 12 \\epsilon_{g} - 4 \\epsilon_{r} \\left(10 F + 20 \\epsilon_{g} p_{z} \\left(F - 1\\right) + 6 \\epsilon_{g} p_{z} - 40 \\epsilon_{g} \\left(F - 1\\right) - 12 \\epsilon_{g} - 7\\right) - 5 \\right)} - \\log{\\left(3 \\right)} - 1\\right) \\left(10 \\epsilon_{g} \\epsilon_{r} p_{z} - 20 \\epsilon_{g} \\epsilon_{r} - 3 \\epsilon_{g} p_{z} + 4 \\epsilon_{g} + 5 \\epsilon_{r} - 1\\right) - \\left(56 \\epsilon_{g} \\epsilon_{r} p_{z} - 112 \\epsilon_{g} \\epsilon_{r} - 12 \\epsilon_{g} p_{z} + 20 \\epsilon_{g} + 28 \\epsilon_{r} - 5\\right) \\log{\\left(8 F \\left(10 \\epsilon_{g} \\epsilon_{r} p_{z} - 20 \\epsilon_{g} \\epsilon_{r} - 3 \\epsilon_{g} p_{z} + 4 \\epsilon_{g} + 5 \\epsilon_{r} - 1\\right) - 56 \\epsilon_{g} \\epsilon_{r} p_{z} + 112 \\epsilon_{g} \\epsilon_{r} + 12 \\epsilon_{g} p_{z} - 20 \\epsilon_{g} - 28 \\epsilon_{r} + 5 \\right)}}{16 \\left(10 \\epsilon_{g} \\epsilon_{r} p_{z} - 20 \\epsilon_{g} \\epsilon_{r} - 3 \\epsilon_{g} p_{z} + 4 \\epsilon_{g} + 5 \\epsilon_{r} - 1\\right)}$"
      ],
      "text/plain": [
       "(8*F*(log(8*F + 24*epsilon_g*p_z*(F - 1) + 12*epsilon_g*p_z - 32*epsilon_g*(F - 1) - 12*epsilon_g - 4*epsilon_r*(10*F + 20*epsilon_g*p_z*(F - 1) + 6*epsilon_g*p_z - 40*epsilon_g*(F - 1) - 12*epsilon_g - 7) - 5) - log(3) - 1)*(10*epsilon_g*epsilon_r*p_z - 20*epsilon_g*epsilon_r - 3*epsilon_g*p_z + 4*epsilon_g + 5*epsilon_r - 1) - (56*epsilon_g*epsilon_r*p_z - 112*epsilon_g*epsilon_r - 12*epsilon_g*p_z + 20*epsilon_g + 28*epsilon_r - 5)*log(8*F*(10*epsilon_g*epsilon_r*p_z - 20*epsilon_g*epsilon_r - 3*epsilon_g*p_z + 4*epsilon_g + 5*epsilon_r - 1) - 56*epsilon_g*epsilon_r*p_z + 112*epsilon_g*epsilon_r + 12*epsilon_g*p_z - 20*epsilon_g - 28*epsilon_r + 5))/(16*(10*epsilon_g*epsilon_r*p_z - 20*epsilon_g*epsilon_r - 3*epsilon_g*p_z + 4*epsilon_g + 5*epsilon_r - 1))"
      ]
     },
     "execution_count": 121,
     "metadata": {},
     "output_type": "execute_result"
    }
   ],
   "source": [
    "# we integrate this and then simplify\n",
    "eq15=sy.simplify(sy.integrate(integrandP,F).subs(changepauli))\n",
    "eq15"
   ]
  },
  {
   "cell_type": "code",
   "execution_count": 122,
   "id": "3a94ee9f",
   "metadata": {},
   "outputs": [
    {
     "name": "stdout",
     "output_type": "stream",
     "text": [
      "-8*F*(-log(8*F + 24*epsilon_g*p_z*(F - 1) + 12*epsilon_g*p_z - 32*epsilon_g*(F - 1) - 12*epsilon_g - 4*epsilon_r*(10*F + 20*epsilon_g*p_z*(F - 1) + 6*epsilon_g*p_z - 40*epsilon_g*(F - 1) - 12*epsilon_g - 7) - 5) + 1 + log(3))*(10*epsilon_g*epsilon_r*p_z - 20*epsilon_g*epsilon_r - 3*epsilon_g*p_z + 4*epsilon_g + 5*epsilon_r - 1) - (56*epsilon_g*epsilon_r*p_z - 112*epsilon_g*epsilon_r - 12*epsilon_g*p_z + 20*epsilon_g + 28*epsilon_r - 5)*log(8*F*(10*epsilon_g*epsilon_r*p_z - 20*epsilon_g*epsilon_r - 3*epsilon_g*p_z + 4*epsilon_g + 5*epsilon_r - 1) - 56*epsilon_g*epsilon_r*p_z + 112*epsilon_g*epsilon_r + 12*epsilon_g*p_z - 20*epsilon_g - 28*epsilon_r + 5)\n"
     ]
    }
   ],
   "source": [
    "# Lets evaluate the integral:\n",
    "numer15,denom15=eq15.as_numer_denom()\n",
    "numr=sy.simplify(numer15)\n",
    "print(numr)"
   ]
  },
  {
   "cell_type": "code",
   "execution_count": 123,
   "id": "f762c1e5",
   "metadata": {},
   "outputs": [
    {
     "name": "stdout",
     "output_type": "stream",
     "text": [
      "160*epsilon_g*epsilon_r*p_z - 320*epsilon_g*epsilon_r - 48*epsilon_g*p_z + 64*epsilon_g + 80*epsilon_r - 16\n"
     ]
    }
   ],
   "source": [
    "denr=sy.simplify(denom15)\n",
    "print(denr)"
   ]
  },
  {
   "cell_type": "code",
   "execution_count": 124,
   "id": "145a30af",
   "metadata": {},
   "outputs": [
    {
     "data": {
      "text/plain": [
       "(8*F*(log(8*F + 24*epsilon_g*p_z*(F - 1) + 12*epsilon_g*p_z - 32*epsilon_g*(F - 1) - 12*epsilon_g - 4*epsilon_r*(10*F + 20*epsilon_g*p_z*(F - 1) + 6*epsilon_g*p_z - 40*epsilon_g*(F - 1) - 12*epsilon_g - 7) - 5) - log(3) - 1)*(10*epsilon_g*epsilon_r*p_z - 20*epsilon_g*epsilon_r - 3*epsilon_g*p_z + 4*epsilon_g + 5*epsilon_r - 1) - (56*epsilon_g*epsilon_r*p_z - 112*epsilon_g*epsilon_r - 12*epsilon_g*p_z + 20*epsilon_g + 28*epsilon_r - 5)*log(8*F*(10*epsilon_g*epsilon_r*p_z - 20*epsilon_g*epsilon_r - 3*epsilon_g*p_z + 4*epsilon_g + 5*epsilon_r - 1) - 56*epsilon_g*epsilon_r*p_z + 112*epsilon_g*epsilon_r + 12*epsilon_g*p_z - 20*epsilon_g - 28*epsilon_r + 5),\n",
       " 160*epsilon_g*epsilon_r*p_z - 320*epsilon_g*epsilon_r - 48*epsilon_g*p_z + 64*epsilon_g + 80*epsilon_r - 16)"
      ]
     },
     "execution_count": 124,
     "metadata": {},
     "output_type": "execute_result"
    }
   ],
   "source": [
    "eq15.as_numer_denom()"
   ]
  },
  {
   "cell_type": "markdown",
   "id": "c5aadb0a",
   "metadata": {},
   "source": [
    "Calculation of 2 order expansion of eq13 and 15\n"
   ]
  },
  {
   "cell_type": "markdown",
   "id": "53000000",
   "metadata": {},
   "source": [
    "expand the whole equation and integrate\n",
    "if not\n",
    "intergrate first the original eq and then expand"
   ]
  },
  {
   "cell_type": "code",
   "execution_count": null,
   "id": "0d575b92",
   "metadata": {},
   "outputs": [],
   "source": [
    "## This is for equation 13\n",
    "# xo13=sy.simplify(sy.series(ec_ofE,E,0,3).removeO())\n",
    "# print(xo13)\n",
    "## takes 22 min to run\n"
   ]
  },
  {
   "cell_type": "code",
   "execution_count": 126,
   "id": "7ed51525",
   "metadata": {},
   "outputs": [
    {
     "name": "stdout",
     "output_type": "stream",
     "text": [
      "(16*E**2*epsilon_g**8*epsilon_r**4*p_x**2 + 32*E**2*epsilon_g**8*epsilon_r**4*p_x*p_y + 32*E**2*epsilon_g**8*epsilon_r**4*p_x*p_z + 16*E**2*epsilon_g**8*epsilon_r**4*p_y**2 + 32*E**2*epsilon_g**8*epsilon_r**4*p_y*p_z + 16*E**2*epsilon_g**8*epsilon_r**4*p_z**2 - 32*E**2*epsilon_g**8*epsilon_r**3*p_x**2 - 64*E**2*epsilon_g**8*epsilon_r**3*p_x*p_y - 64*E**2*epsilon_g**8*epsilon_r**3*p_x*p_z - 32*E**2*epsilon_g**8*epsilon_r**3*p_y**2 - 64*E**2*epsilon_g**8*epsilon_r**3*p_y*p_z - 32*E**2*epsilon_g**8*epsilon_r**3*p_z**2 + 32*E**2*epsilon_g**8*epsilon_r**2*p_x**2 + 64*E**2*epsilon_g**8*epsilon_r**2*p_x*p_y + 112*E**2*epsilon_g**8*epsilon_r**2*p_x*p_z + 32*E**2*epsilon_g**8*epsilon_r**2*p_y**2 + 112*E**2*epsilon_g**8*epsilon_r**2*p_y*p_z + 32*E**2*epsilon_g**8*epsilon_r**2*p_z**2 - 16*E**2*epsilon_g**8*epsilon_r*p_x**2 - 32*E**2*epsilon_g**8*epsilon_r*p_x*p_y - 80*E**2*epsilon_g**8*epsilon_r*p_x*p_z - 16*E**2*epsilon_g**8*epsilon_r*p_y**2 - 80*E**2*epsilon_g**8*epsilon_r*p_y*p_z - 16*E**2*epsilon_g**8*epsilon_r*p_z**2 + 4*E**2*epsilon_g**8*p_x**2 + 8*E**2*epsilon_g**8*p_x*p_y + 16*E**2*epsilon_g**8*p_x*p_z + 4*E**2*epsilon_g**8*p_y**2 + 16*E**2*epsilon_g**8*p_y*p_z + 4*E**2*epsilon_g**8*p_z**2 - 128*E**2*epsilon_g**7*epsilon_r**4*p_x**2 - 256*E**2*epsilon_g**7*epsilon_r**4*p_x*p_y - 256*E**2*epsilon_g**7*epsilon_r**4*p_x*p_z - 128*E**2*epsilon_g**7*epsilon_r**4*p_y**2 - 256*E**2*epsilon_g**7*epsilon_r**4*p_y*p_z - 128*E**2*epsilon_g**7*epsilon_r**4*p_z**2 + 256*E**2*epsilon_g**7*epsilon_r**3*p_x**2 + 512*E**2*epsilon_g**7*epsilon_r**3*p_x*p_y + 512*E**2*epsilon_g**7*epsilon_r**3*p_x*p_z + 256*E**2*epsilon_g**7*epsilon_r**3*p_y**2 + 512*E**2*epsilon_g**7*epsilon_r**3*p_y*p_z + 256*E**2*epsilon_g**7*epsilon_r**3*p_z**2 - 256*E**2*epsilon_g**7*epsilon_r**2*p_x**2 - 512*E**2*epsilon_g**7*epsilon_r**2*p_x*p_y - 896*E**2*epsilon_g**7*epsilon_r**2*p_x*p_z - 256*E**2*epsilon_g**7*epsilon_r**2*p_y**2 - 896*E**2*epsilon_g**7*epsilon_r**2*p_y*p_z - 256*E**2*epsilon_g**7*epsilon_r**2*p_z**2 + 128*E**2*epsilon_g**7*epsilon_r*p_x**2 + 256*E**2*epsilon_g**7*epsilon_r*p_x*p_y + 640*E**2*epsilon_g**7*epsilon_r*p_x*p_z + 128*E**2*epsilon_g**7*epsilon_r*p_y**2 + 640*E**2*epsilon_g**7*epsilon_r*p_y*p_z + 128*E**2*epsilon_g**7*epsilon_r*p_z**2 - 32*E**2*epsilon_g**7*p_x**2 - 64*E**2*epsilon_g**7*p_x*p_y - 128*E**2*epsilon_g**7*p_x*p_z - 32*E**2*epsilon_g**7*p_y**2 - 128*E**2*epsilon_g**7*p_y*p_z - 32*E**2*epsilon_g**7*p_z**2 - 128*E**2*epsilon_g**6*epsilon_r**6*p_x - 128*E**2*epsilon_g**6*epsilon_r**6*p_y - 128*E**2*epsilon_g**6*epsilon_r**6*p_z + 384*E**2*epsilon_g**6*epsilon_r**5*p_x + 384*E**2*epsilon_g**6*epsilon_r**5*p_y + 384*E**2*epsilon_g**6*epsilon_r**5*p_z + 416*E**2*epsilon_g**6*epsilon_r**4*p_x**2 + 832*E**2*epsilon_g**6*epsilon_r**4*p_x*p_y + 832*E**2*epsilon_g**6*epsilon_r**4*p_x*p_z - 608*E**2*epsilon_g**6*epsilon_r**4*p_x + 416*E**2*epsilon_g**6*epsilon_r**4*p_y**2 + 832*E**2*epsilon_g**6*epsilon_r**4*p_y*p_z - 608*E**2*epsilon_g**6*epsilon_r**4*p_y + 416*E**2*epsilon_g**6*epsilon_r**4*p_z**2 - 544*E**2*epsilon_g**6*epsilon_r**4*p_z - 832*E**2*epsilon_g**6*epsilon_r**3*p_x**2 - 1664*E**2*epsilon_g**6*epsilon_r**3*p_x*p_y - 1664*E**2*epsilon_g**6*epsilon_r**3*p_x*p_z + 576*E**2*epsilon_g**6*epsilon_r**3*p_x - 832*E**2*epsilon_g**6*epsilon_r**3*p_y**2 - 1664*E**2*epsilon_g**6*epsilon_r**3*p_y*p_z + 576*E**2*epsilon_g**6*epsilon_r**3*p_y - 832*E**2*epsilon_g**6*epsilon_r**3*p_z**2 + 448*E**2*epsilon_g**6*epsilon_r**3*p_z + 832*E**2*epsilon_g**6*epsilon_r**2*p_x**2 + 1664*E**2*epsilon_g**6*epsilon_r**2*p_x*p_y + 2912*E**2*epsilon_g**6*epsilon_r**2*p_x*p_z - 336*E**2*epsilon_g**6*epsilon_r**2*p_x + 832*E**2*epsilon_g**6*epsilon_r**2*p_y**2 + 2912*E**2*epsilon_g**6*epsilon_r**2*p_y*p_z - 336*E**2*epsilon_g**6*epsilon_r**2*p_y + 832*E**2*epsilon_g**6*epsilon_r**2*p_z**2 - 288*E**2*epsilon_g**6*epsilon_r**2*p_z - 416*E**2*epsilon_g**6*epsilon_r*p_x**2 - 832*E**2*epsilon_g**6*epsilon_r*p_x*p_y - 2080*E**2*epsilon_g**6*epsilon_r*p_x*p_z + 112*E**2*epsilon_g**6*epsilon_r*p_x - 416*E**2*epsilon_g**6*epsilon_r*p_y**2 - 2080*E**2*epsilon_g**6*epsilon_r*p_y*p_z + 112*E**2*epsilon_g**6*epsilon_r*p_y - 416*E**2*epsilon_g**6*epsilon_r*p_z**2 + 128*E**2*epsilon_g**6*epsilon_r*p_z + 104*E**2*epsilon_g**6*p_x**2 + 208*E**2*epsilon_g**6*p_x*p_y + 416*E**2*epsilon_g**6*p_x*p_z - 16*E**2*epsilon_g**6*p_x + 104*E**2*epsilon_g**6*p_y**2 + 416*E**2*epsilon_g**6*p_y*p_z - 16*E**2*epsilon_g**6*p_y + 104*E**2*epsilon_g**6*p_z**2 - 24*E**2*epsilon_g**6*p_z + 768*E**2*epsilon_g**5*epsilon_r**6*p_x + 768*E**2*epsilon_g**5*epsilon_r**6*p_y + 768*E**2*epsilon_g**5*epsilon_r**6*p_z - 2304*E**2*epsilon_g**5*epsilon_r**5*p_x - 2304*E**2*epsilon_g**5*epsilon_r**5*p_y - 2304*E**2*epsilon_g**5*epsilon_r**5*p_z - 704*E**2*epsilon_g**5*epsilon_r**4*p_x**2 - 1408*E**2*epsilon_g**5*epsilon_r**4*p_x*p_y - 1408*E**2*epsilon_g**5*epsilon_r**4*p_x*p_z + 3648*E**2*epsilon_g**5*epsilon_r**4*p_x - 704*E**2*epsilon_g**5*epsilon_r**4*p_y**2 - 1408*E**2*epsilon_g**5*epsilon_r**4*p_y*p_z + 3648*E**2*epsilon_g**5*epsilon_r**4*p_y - 704*E**2*epsilon_g**5*epsilon_r**4*p_z**2 + 3264*E**2*epsilon_g**5*epsilon_r**4*p_z + 1408*E**2*epsilon_g**5*epsilon_r**3*p_x**2 + 2816*E**2*epsilon_g**5*epsilon_r**3*p_x*p_y + 2816*E**2*epsilon_g**5*epsilon_r**3*p_x*p_z - 3456*E**2*epsilon_g**5*epsilon_r**3*p_x + 1408*E**2*epsilon_g**5*epsilon_r**3*p_y**2 + 2816*E**2*epsilon_g**5*epsilon_r**3*p_y*p_z - 3456*E**2*epsilon_g**5*epsilon_r**3*p_y + 1408*E**2*epsilon_g**5*epsilon_r**3*p_z**2 - 2688*E**2*epsilon_g**5*epsilon_r**3*p_z - 1408*E**2*epsilon_g**5*epsilon_r**2*p_x**2 - 2816*E**2*epsilon_g**5*epsilon_r**2*p_x*p_y - 4928*E**2*epsilon_g**5*epsilon_r**2*p_x*p_z + 2016*E**2*epsilon_g**5*epsilon_r**2*p_x - 1408*E**2*epsilon_g**5*epsilon_r**2*p_y**2 - 4928*E**2*epsilon_g**5*epsilon_r**2*p_y*p_z + 2016*E**2*epsilon_g**5*epsilon_r**2*p_y - 1408*E**2*epsilon_g**5*epsilon_r**2*p_z**2 + 1728*E**2*epsilon_g**5*epsilon_r**2*p_z + 704*E**2*epsilon_g**5*epsilon_r*p_x**2 + 1408*E**2*epsilon_g**5*epsilon_r*p_x*p_y + 3520*E**2*epsilon_g**5*epsilon_r*p_x*p_z - 672*E**2*epsilon_g**5*epsilon_r*p_x + 704*E**2*epsilon_g**5*epsilon_r*p_y**2 + 3520*E**2*epsilon_g**5*epsilon_r*p_y*p_z - 672*E**2*epsilon_g**5*epsilon_r*p_y + 704*E**2*epsilon_g**5*epsilon_r*p_z**2 - 768*E**2*epsilon_g**5*epsilon_r*p_z - 176*E**2*epsilon_g**5*p_x**2 - 352*E**2*epsilon_g**5*p_x*p_y - 704*E**2*epsilon_g**5*p_x*p_z + 96*E**2*epsilon_g**5*p_x - 176*E**2*epsilon_g**5*p_y**2 - 704*E**2*epsilon_g**5*p_y*p_z + 96*E**2*epsilon_g**5*p_y - 176*E**2*epsilon_g**5*p_z**2 + 144*E**2*epsilon_g**5*p_z + 256*E**2*epsilon_g**4*epsilon_r**8 - 1024*E**2*epsilon_g**4*epsilon_r**7 - 1792*E**2*epsilon_g**4*epsilon_r**6*p_x - 1792*E**2*epsilon_g**4*epsilon_r**6*p_y - 1792*E**2*epsilon_g**4*epsilon_r**6*p_z + 2112*E**2*epsilon_g**4*epsilon_r**6 + 5376*E**2*epsilon_g**4*epsilon_r**5*p_x + 5376*E**2*epsilon_g**4*epsilon_r**5*p_y + 5376*E**2*epsilon_g**4*epsilon_r**5*p_z - 2752*E**2*epsilon_g**4*epsilon_r**5 + 656*E**2*epsilon_g**4*epsilon_r**4*p_x**2 + 1312*E**2*epsilon_g**4*epsilon_r**4*p_x*p_y + 1312*E**2*epsilon_g**4*epsilon_r**4*p_x*p_z - 8512*E**2*epsilon_g**4*epsilon_r**4*p_x + 656*E**2*epsilon_g**4*epsilon_r**4*p_y**2 + 1312*E**2*epsilon_g**4*epsilon_r**4*p_y*p_z - 8512*E**2*epsilon_g**4*epsilon_r**4*p_y + 656*E**2*epsilon_g**4*epsilon_r**4*p_z**2 - 7616*E**2*epsilon_g**4*epsilon_r**4*p_z + 2496*E**2*epsilon_g**4*epsilon_r**4 - 1312*E**2*epsilon_g**4*epsilon_r**3*p_x**2 - 2624*E**2*epsilon_g**4*epsilon_r**3*p_x*p_y - 2624*E**2*epsilon_g**4*epsilon_r**3*p_x*p_z + 8064*E**2*epsilon_g**4*epsilon_r**3*p_x - 1312*E**2*epsilon_g**4*epsilon_r**3*p_y**2 - 2624*E**2*epsilon_g**4*epsilon_r**3*p_y*p_z + 8064*E**2*epsilon_g**4*epsilon_r**3*p_y - 1312*E**2*epsilon_g**4*epsilon_r**3*p_z**2 + 6272*E**2*epsilon_g**4*epsilon_r**3*p_z - 1600*E**2*epsilon_g**4*epsilon_r**3 + 1312*E**2*epsilon_g**4*epsilon_r**2*p_x**2 + 2624*E**2*epsilon_g**4*epsilon_r**2*p_x*p_y + 4592*E**2*epsilon_g**4*epsilon_r**2*p_x*p_z - 4704*E**2*epsilon_g**4*epsilon_r**2*p_x + 1312*E**2*epsilon_g**4*epsilon_r**2*p_y**2 + 4592*E**2*epsilon_g**4*epsilon_r**2*p_y*p_z - 4704*E**2*epsilon_g**4*epsilon_r**2*p_y + 1312*E**2*epsilon_g**4*epsilon_r**2*p_z**2 - 4032*E**2*epsilon_g**4*epsilon_r**2*p_z + 704*E**2*epsilon_g**4*epsilon_r**2 - 656*E**2*epsilon_g**4*epsilon_r*p_x**2 - 1312*E**2*epsilon_g**4*epsilon_r*p_x*p_y - 3280*E**2*epsilon_g**4*epsilon_r*p_x*p_z + 1568*E**2*epsilon_g**4*epsilon_r*p_x - 656*E**2*epsilon_g**4*epsilon_r*p_y**2 - 3280*E**2*epsilon_g**4*epsilon_r*p_y*p_z + 1568*E**2*epsilon_g**4*epsilon_r*p_y - 656*E**2*epsilon_g**4*epsilon_r*p_z**2 + 1792*E**2*epsilon_g**4*epsilon_r*p_z - 192*E**2*epsilon_g**4*epsilon_r + 164*E**2*epsilon_g**4*p_x**2 + 328*E**2*epsilon_g**4*p_x*p_y + 656*E**2*epsilon_g**4*p_x*p_z - 224*E**2*epsilon_g**4*p_x + 164*E**2*epsilon_g**4*p_y**2 + 656*E**2*epsilon_g**4*p_y*p_z - 224*E**2*epsilon_g**4*p_y + 164*E**2*epsilon_g**4*p_z**2 - 336*E**2*epsilon_g**4*p_z + 24*E**2*epsilon_g**4 - 1024*E**2*epsilon_g**3*epsilon_r**8 + 4096*E**2*epsilon_g**3*epsilon_r**7 + 2048*E**2*epsilon_g**3*epsilon_r**6*p_x + 2048*E**2*epsilon_g**3*epsilon_r**6*p_y + 2048*E**2*epsilon_g**3*epsilon_r**6*p_z - 8448*E**2*epsilon_g**3*epsilon_r**6 - 6144*E**2*epsilon_g**3*epsilon_r**5*p_x - 6144*E**2*epsilon_g**3*epsilon_r**5*p_y - 6144*E**2*epsilon_g**3*epsilon_r**5*p_z + 11008*E**2*epsilon_g**3*epsilon_r**5 - 320*E**2*epsilon_g**3*epsilon_r**4*p_x**2 - 640*E**2*epsilon_g**3*epsilon_r**4*p_x*p_y - 640*E**2*epsilon_g**3*epsilon_r**4*p_x*p_z + 9728*E**2*epsilon_g**3*epsilon_r**4*p_x - 320*E**2*epsilon_g**3*epsilon_r**4*p_y**2 - 640*E**2*epsilon_g**3*epsilon_r**4*p_y*p_z + 9728*E**2*epsilon_g**3*epsilon_r**4*p_y - 320*E**2*epsilon_g**3*epsilon_r**4*p_z**2 + 8704*E**2*epsilon_g**3*epsilon_r**4*p_z - 9984*E**2*epsilon_g**3*epsilon_r**4 + 640*E**2*epsilon_g**3*epsilon_r**3*p_x**2 + 1280*E**2*epsilon_g**3*epsilon_r**3*p_x*p_y + 1280*E**2*epsilon_g**3*epsilon_r**3*p_x*p_z - 9216*E**2*epsilon_g**3*epsilon_r**3*p_x + 640*E**2*epsilon_g**3*epsilon_r**3*p_y**2 + 1280*E**2*epsilon_g**3*epsilon_r**3*p_y*p_z - 9216*E**2*epsilon_g**3*epsilon_r**3*p_y + 640*E**2*epsilon_g**3*epsilon_r**3*p_z**2 - 7168*E**2*epsilon_g**3*epsilon_r**3*p_z + 6400*E**2*epsilon_g**3*epsilon_r**3 - 640*E**2*epsilon_g**3*epsilon_r**2*p_x**2 - 1280*E**2*epsilon_g**3*epsilon_r**2*p_x*p_y - 2240*E**2*epsilon_g**3*epsilon_r**2*p_x*p_z + 5376*E**2*epsilon_g**3*epsilon_r**2*p_x - 640*E**2*epsilon_g**3*epsilon_r**2*p_y**2 - 2240*E**2*epsilon_g**3*epsilon_r**2*p_y*p_z + 5376*E**2*epsilon_g**3*epsilon_r**2*p_y - 640*E**2*epsilon_g**3*epsilon_r**2*p_z**2 + 4608*E**2*epsilon_g**3*epsilon_r**2*p_z - 2816*E**2*epsilon_g**3*epsilon_r**2 + 320*E**2*epsilon_g**3*epsilon_r*p_x**2 + 640*E**2*epsilon_g**3*epsilon_r*p_x*p_y + 1600*E**2*epsilon_g**3*epsilon_r*p_x*p_z - 1792*E**2*epsilon_g**3*epsilon_r*p_x + 320*E**2*epsilon_g**3*epsilon_r*p_y**2 + 1600*E**2*epsilon_g**3*epsilon_r*p_y*p_z - 1792*E**2*epsilon_g**3*epsilon_r*p_y + 320*E**2*epsilon_g**3*epsilon_r*p_z**2 - 2048*E**2*epsilon_g**3*epsilon_r*p_z + 768*E**2*epsilon_g**3*epsilon_r - 80*E**2*epsilon_g**3*p_x**2 - 160*E**2*epsilon_g**3*p_x*p_y - 320*E**2*epsilon_g**3*p_x*p_z + 256*E**2*epsilon_g**3*p_x - 80*E**2*epsilon_g**3*p_y**2 - 320*E**2*epsilon_g**3*p_y*p_z + 256*E**2*epsilon_g**3*p_y - 80*E**2*epsilon_g**3*p_z**2 + 384*E**2*epsilon_g**3*p_z - 96*E**2*epsilon_g**3 + 1536*E**2*epsilon_g**2*epsilon_r**8 - 6144*E**2*epsilon_g**2*epsilon_r**7 - 1152*E**2*epsilon_g**2*epsilon_r**6*p_x - 1152*E**2*epsilon_g**2*epsilon_r**6*p_y - 1152*E**2*epsilon_g**2*epsilon_r**6*p_z + 12672*E**2*epsilon_g**2*epsilon_r**6 + 3456*E**2*epsilon_g**2*epsilon_r**5*p_x + 3456*E**2*epsilon_g**2*epsilon_r**5*p_y + 3456*E**2*epsilon_g**2*epsilon_r**5*p_z - 16512*E**2*epsilon_g**2*epsilon_r**5 + 64*E**2*epsilon_g**2*epsilon_r**4*p_x**2 + 128*E**2*epsilon_g**2*epsilon_r**4*p_x*p_y + 128*E**2*epsilon_g**2*epsilon_r**4*p_x*p_z - 5472*E**2*epsilon_g**2*epsilon_r**4*p_x + 64*E**2*epsilon_g**2*epsilon_r**4*p_y**2 + 128*E**2*epsilon_g**2*epsilon_r**4*p_y*p_z - 5472*E**2*epsilon_g**2*epsilon_r**4*p_y + 64*E**2*epsilon_g**2*epsilon_r**4*p_z**2 - 4896*E**2*epsilon_g**2*epsilon_r**4*p_z + 14976*E**2*epsilon_g**2*epsilon_r**4 - 128*E**2*epsilon_g**2*epsilon_r**3*p_x**2 - 256*E**2*epsilon_g**2*epsilon_r**3*p_x*p_y - 256*E**2*epsilon_g**2*epsilon_r**3*p_x*p_z + 5184*E**2*epsilon_g**2*epsilon_r**3*p_x - 128*E**2*epsilon_g**2*epsilon_r**3*p_y**2 - 256*E**2*epsilon_g**2*epsilon_r**3*p_y*p_z + 5184*E**2*epsilon_g**2*epsilon_r**3*p_y - 128*E**2*epsilon_g**2*epsilon_r**3*p_z**2 + 4032*E**2*epsilon_g**2*epsilon_r**3*p_z - 9600*E**2*epsilon_g**2*epsilon_r**3 + 128*E**2*epsilon_g**2*epsilon_r**2*p_x**2 + 256*E**2*epsilon_g**2*epsilon_r**2*p_x*p_y + 448*E**2*epsilon_g**2*epsilon_r**2*p_x*p_z - 3024*E**2*epsilon_g**2*epsilon_r**2*p_x + 128*E**2*epsilon_g**2*epsilon_r**2*p_y**2 + 448*E**2*epsilon_g**2*epsilon_r**2*p_y*p_z - 3024*E**2*epsilon_g**2*epsilon_r**2*p_y + 128*E**2*epsilon_g**2*epsilon_r**2*p_z**2 - 2592*E**2*epsilon_g**2*epsilon_r**2*p_z + 4224*E**2*epsilon_g**2*epsilon_r**2 - 64*E**2*epsilon_g**2*epsilon_r*p_x**2 - 128*E**2*epsilon_g**2*epsilon_r*p_x*p_y - 320*E**2*epsilon_g**2*epsilon_r*p_x*p_z + 1008*E**2*epsilon_g**2*epsilon_r*p_x - 64*E**2*epsilon_g**2*epsilon_r*p_y**2 - 320*E**2*epsilon_g**2*epsilon_r*p_y*p_z + 1008*E**2*epsilon_g**2*epsilon_r*p_y - 64*E**2*epsilon_g**2*epsilon_r*p_z**2 + 1152*E**2*epsilon_g**2*epsilon_r*p_z - 1152*E**2*epsilon_g**2*epsilon_r + 16*E**2*epsilon_g**2*p_x**2 + 32*E**2*epsilon_g**2*p_x*p_y + 64*E**2*epsilon_g**2*p_x*p_z - 144*E**2*epsilon_g**2*p_x + 16*E**2*epsilon_g**2*p_y**2 + 64*E**2*epsilon_g**2*p_y*p_z - 144*E**2*epsilon_g**2*p_y + 16*E**2*epsilon_g**2*p_z**2 - 216*E**2*epsilon_g**2*p_z + 144*E**2*epsilon_g**2 - 1024*E**2*epsilon_g*epsilon_r**8 + 4096*E**2*epsilon_g*epsilon_r**7 + 256*E**2*epsilon_g*epsilon_r**6*p_x + 256*E**2*epsilon_g*epsilon_r**6*p_y + 256*E**2*epsilon_g*epsilon_r**6*p_z - 8448*E**2*epsilon_g*epsilon_r**6 - 768*E**2*epsilon_g*epsilon_r**5*p_x - 768*E**2*epsilon_g*epsilon_r**5*p_y - 768*E**2*epsilon_g*epsilon_r**5*p_z + 11008*E**2*epsilon_g*epsilon_r**5 + 1216*E**2*epsilon_g*epsilon_r**4*p_x + 1216*E**2*epsilon_g*epsilon_r**4*p_y + 1088*E**2*epsilon_g*epsilon_r**4*p_z - 9984*E**2*epsilon_g*epsilon_r**4 - 1152*E**2*epsilon_g*epsilon_r**3*p_x - 1152*E**2*epsilon_g*epsilon_r**3*p_y - 896*E**2*epsilon_g*epsilon_r**3*p_z + 6400*E**2*epsilon_g*epsilon_r**3 + 672*E**2*epsilon_g*epsilon_r**2*p_x + 672*E**2*epsilon_g*epsilon_r**2*p_y + 576*E**2*epsilon_g*epsilon_r**2*p_z - 2816*E**2*epsilon_g*epsilon_r**2 - 224*E**2*epsilon_g*epsilon_r*p_x - 224*E**2*epsilon_g*epsilon_r*p_y - 256*E**2*epsilon_g*epsilon_r*p_z + 768*E**2*epsilon_g*epsilon_r + 32*E**2*epsilon_g*p_x + 32*E**2*epsilon_g*p_y + 48*E**2*epsilon_g*p_z - 96*E**2*epsilon_g + 256*E**2*epsilon_r**8 - 1024*E**2*epsilon_r**7 + 2112*E**2*epsilon_r**6 - 2752*E**2*epsilon_r**5 + 2496*E**2*epsilon_r**4 - 1600*E**2*epsilon_r**3 + 704*E**2*epsilon_r**2 - 192*E**2*epsilon_r + 24*E**2 - 48*E*epsilon_g**8*epsilon_r**4*p_x*p_z - 48*E*epsilon_g**8*epsilon_r**4*p_y*p_z - 48*E*epsilon_g**8*epsilon_r**4*p_z**2 + 96*E*epsilon_g**8*epsilon_r**3*p_x*p_z + 96*E*epsilon_g**8*epsilon_r**3*p_y*p_z + 96*E*epsilon_g**8*epsilon_r**3*p_z**2 - 72*E*epsilon_g**8*epsilon_r**2*p_x*p_z - 72*E*epsilon_g**8*epsilon_r**2*p_y*p_z - 96*E*epsilon_g**8*epsilon_r**2*p_z**2 + 24*E*epsilon_g**8*epsilon_r*p_x*p_z + 24*E*epsilon_g**8*epsilon_r*p_y*p_z + 48*E*epsilon_g**8*epsilon_r*p_z**2 - 12*E*epsilon_g**8*p_z**2 + 384*E*epsilon_g**7*epsilon_r**4*p_x*p_z + 384*E*epsilon_g**7*epsilon_r**4*p_y*p_z + 384*E*epsilon_g**7*epsilon_r**4*p_z**2 - 768*E*epsilon_g**7*epsilon_r**3*p_x*p_z - 768*E*epsilon_g**7*epsilon_r**3*p_y*p_z - 768*E*epsilon_g**7*epsilon_r**3*p_z**2 + 576*E*epsilon_g**7*epsilon_r**2*p_x*p_z + 576*E*epsilon_g**7*epsilon_r**2*p_y*p_z + 768*E*epsilon_g**7*epsilon_r**2*p_z**2 - 192*E*epsilon_g**7*epsilon_r*p_x*p_z - 192*E*epsilon_g**7*epsilon_r*p_y*p_z - 384*E*epsilon_g**7*epsilon_r*p_z**2 + 96*E*epsilon_g**7*p_z**2 + 96*E*epsilon_g**6*epsilon_r**6*p_x + 96*E*epsilon_g**6*epsilon_r**6*p_y + 288*E*epsilon_g**6*epsilon_r**6*p_z - 288*E*epsilon_g**6*epsilon_r**5*p_x - 288*E*epsilon_g**6*epsilon_r**5*p_y - 864*E*epsilon_g**6*epsilon_r**5*p_z - 1248*E*epsilon_g**6*epsilon_r**4*p_x*p_z + 384*E*epsilon_g**6*epsilon_r**4*p_x - 1248*E*epsilon_g**6*epsilon_r**4*p_y*p_z + 384*E*epsilon_g**6*epsilon_r**4*p_y - 1248*E*epsilon_g**6*epsilon_r**4*p_z**2 + 1344*E*epsilon_g**6*epsilon_r**4*p_z + 2496*E*epsilon_g**6*epsilon_r**3*p_x*p_z - 288*E*epsilon_g**6*epsilon_r**3*p_x + 2496*E*epsilon_g**6*epsilon_r**3*p_y*p_z - 288*E*epsilon_g**6*epsilon_r**3*p_y + 2496*E*epsilon_g**6*epsilon_r**3*p_z**2 - 1248*E*epsilon_g**6*epsilon_r**3*p_z - 1872*E*epsilon_g**6*epsilon_r**2*p_x*p_z + 120*E*epsilon_g**6*epsilon_r**2*p_x - 1872*E*epsilon_g**6*epsilon_r**2*p_y*p_z + 120*E*epsilon_g**6*epsilon_r**2*p_y - 2496*E*epsilon_g**6*epsilon_r**2*p_z**2 + 720*E*epsilon_g**6*epsilon_r**2*p_z + 624*E*epsilon_g**6*epsilon_r*p_x*p_z - 24*E*epsilon_g**6*epsilon_r*p_x + 624*E*epsilon_g**6*epsilon_r*p_y*p_z - 24*E*epsilon_g**6*epsilon_r*p_y + 1248*E*epsilon_g**6*epsilon_r*p_z**2 - 240*E*epsilon_g**6*epsilon_r*p_z - 312*E*epsilon_g**6*p_z**2 + 36*E*epsilon_g**6*p_z - 576*E*epsilon_g**5*epsilon_r**6*p_x - 576*E*epsilon_g**5*epsilon_r**6*p_y - 1728*E*epsilon_g**5*epsilon_r**6*p_z + 1728*E*epsilon_g**5*epsilon_r**5*p_x + 1728*E*epsilon_g**5*epsilon_r**5*p_y + 5184*E*epsilon_g**5*epsilon_r**5*p_z + 2112*E*epsilon_g**5*epsilon_r**4*p_x*p_z - 2304*E*epsilon_g**5*epsilon_r**4*p_x + 2112*E*epsilon_g**5*epsilon_r**4*p_y*p_z - 2304*E*epsilon_g**5*epsilon_r**4*p_y + 2112*E*epsilon_g**5*epsilon_r**4*p_z**2 - 8064*E*epsilon_g**5*epsilon_r**4*p_z - 4224*E*epsilon_g**5*epsilon_r**3*p_x*p_z + 1728*E*epsilon_g**5*epsilon_r**3*p_x - 4224*E*epsilon_g**5*epsilon_r**3*p_y*p_z + 1728*E*epsilon_g**5*epsilon_r**3*p_y - 4224*E*epsilon_g**5*epsilon_r**3*p_z**2 + 7488*E*epsilon_g**5*epsilon_r**3*p_z + 3168*E*epsilon_g**5*epsilon_r**2*p_x*p_z - 720*E*epsilon_g**5*epsilon_r**2*p_x + 3168*E*epsilon_g**5*epsilon_r**2*p_y*p_z - 720*E*epsilon_g**5*epsilon_r**2*p_y + 4224*E*epsilon_g**5*epsilon_r**2*p_z**2 - 4320*E*epsilon_g**5*epsilon_r**2*p_z - 1056*E*epsilon_g**5*epsilon_r*p_x*p_z + 144*E*epsilon_g**5*epsilon_r*p_x - 1056*E*epsilon_g**5*epsilon_r*p_y*p_z + 144*E*epsilon_g**5*epsilon_r*p_y - 2112*E*epsilon_g**5*epsilon_r*p_z**2 + 1440*E*epsilon_g**5*epsilon_r*p_z + 528*E*epsilon_g**5*p_z**2 - 216*E*epsilon_g**5*p_z - 384*E*epsilon_g**4*epsilon_r**8 + 1536*E*epsilon_g**4*epsilon_r**7 + 1344*E*epsilon_g**4*epsilon_r**6*p_x + 1344*E*epsilon_g**4*epsilon_r**6*p_y + 4032*E*epsilon_g**4*epsilon_r**6*p_z - 3168*E*epsilon_g**4*epsilon_r**6 - 4032*E*epsilon_g**4*epsilon_r**5*p_x - 4032*E*epsilon_g**4*epsilon_r**5*p_y - 12096*E*epsilon_g**4*epsilon_r**5*p_z + 4128*E*epsilon_g**4*epsilon_r**5 - 1968*E*epsilon_g**4*epsilon_r**4*p_x*p_z + 5376*E*epsilon_g**4*epsilon_r**4*p_x - 1968*E*epsilon_g**4*epsilon_r**4*p_y*p_z + 5376*E*epsilon_g**4*epsilon_r**4*p_y - 1968*E*epsilon_g**4*epsilon_r**4*p_z**2 + 18816*E*epsilon_g**4*epsilon_r**4*p_z - 3648*E*epsilon_g**4*epsilon_r**4 + 3936*E*epsilon_g**4*epsilon_r**3*p_x*p_z - 4032*E*epsilon_g**4*epsilon_r**3*p_x + 3936*E*epsilon_g**4*epsilon_r**3*p_y*p_z - 4032*E*epsilon_g**4*epsilon_r**3*p_y + 3936*E*epsilon_g**4*epsilon_r**3*p_z**2 - 17472*E*epsilon_g**4*epsilon_r**3*p_z + 2208*E*epsilon_g**4*epsilon_r**3 - 2952*E*epsilon_g**4*epsilon_r**2*p_x*p_z + 1680*E*epsilon_g**4*epsilon_r**2*p_x - 2952*E*epsilon_g**4*epsilon_r**2*p_y*p_z + 1680*E*epsilon_g**4*epsilon_r**2*p_y - 3936*E*epsilon_g**4*epsilon_r**2*p_z**2 + 10080*E*epsilon_g**4*epsilon_r**2*p_z - 888*E*epsilon_g**4*epsilon_r**2 + 984*E*epsilon_g**4*epsilon_r*p_x*p_z - 336*E*epsilon_g**4*epsilon_r*p_x + 984*E*epsilon_g**4*epsilon_r*p_y*p_z - 336*E*epsilon_g**4*epsilon_r*p_y + 1968*E*epsilon_g**4*epsilon_r*p_z**2 - 3360*E*epsilon_g**4*epsilon_r*p_z + 216*E*epsilon_g**4*epsilon_r - 492*E*epsilon_g**4*p_z**2 + 504*E*epsilon_g**4*p_z - 24*E*epsilon_g**4 + 1536*E*epsilon_g**3*epsilon_r**8 - 6144*E*epsilon_g**3*epsilon_r**7 - 1536*E*epsilon_g**3*epsilon_r**6*p_x - 1536*E*epsilon_g**3*epsilon_r**6*p_y - 4608*E*epsilon_g**3*epsilon_r**6*p_z + 12672*E*epsilon_g**3*epsilon_r**6 + 4608*E*epsilon_g**3*epsilon_r**5*p_x + 4608*E*epsilon_g**3*epsilon_r**5*p_y + 13824*E*epsilon_g**3*epsilon_r**5*p_z - 16512*E*epsilon_g**3*epsilon_r**5 + 960*E*epsilon_g**3*epsilon_r**4*p_x*p_z - 6144*E*epsilon_g**3*epsilon_r**4*p_x + 960*E*epsilon_g**3*epsilon_r**4*p_y*p_z - 6144*E*epsilon_g**3*epsilon_r**4*p_y + 960*E*epsilon_g**3*epsilon_r**4*p_z**2 - 21504*E*epsilon_g**3*epsilon_r**4*p_z + 14592*E*epsilon_g**3*epsilon_r**4 - 1920*E*epsilon_g**3*epsilon_r**3*p_x*p_z + 4608*E*epsilon_g**3*epsilon_r**3*p_x - 1920*E*epsilon_g**3*epsilon_r**3*p_y*p_z + 4608*E*epsilon_g**3*epsilon_r**3*p_y - 1920*E*epsilon_g**3*epsilon_r**3*p_z**2 + 19968*E*epsilon_g**3*epsilon_r**3*p_z - 8832*E*epsilon_g**3*epsilon_r**3 + 1440*E*epsilon_g**3*epsilon_r**2*p_x*p_z - 1920*E*epsilon_g**3*epsilon_r**2*p_x + 1440*E*epsilon_g**3*epsilon_r**2*p_y*p_z - 1920*E*epsilon_g**3*epsilon_r**2*p_y + 1920*E*epsilon_g**3*epsilon_r**2*p_z**2 - 11520*E*epsilon_g**3*epsilon_r**2*p_z + 3552*E*epsilon_g**3*epsilon_r**2 - 480*E*epsilon_g**3*epsilon_r*p_x*p_z + 384*E*epsilon_g**3*epsilon_r*p_x - 480*E*epsilon_g**3*epsilon_r*p_y*p_z + 384*E*epsilon_g**3*epsilon_r*p_y - 960*E*epsilon_g**3*epsilon_r*p_z**2 + 3840*E*epsilon_g**3*epsilon_r*p_z - 864*E*epsilon_g**3*epsilon_r + 240*E*epsilon_g**3*p_z**2 - 576*E*epsilon_g**3*p_z + 96*E*epsilon_g**3 - 2304*E*epsilon_g**2*epsilon_r**8 + 9216*E*epsilon_g**2*epsilon_r**7 + 864*E*epsilon_g**2*epsilon_r**6*p_x + 864*E*epsilon_g**2*epsilon_r**6*p_y + 2592*E*epsilon_g**2*epsilon_r**6*p_z - 19008*E*epsilon_g**2*epsilon_r**6 - 2592*E*epsilon_g**2*epsilon_r**5*p_x - 2592*E*epsilon_g**2*epsilon_r**5*p_y - 7776*E*epsilon_g**2*epsilon_r**5*p_z + 24768*E*epsilon_g**2*epsilon_r**5 - 192*E*epsilon_g**2*epsilon_r**4*p_x*p_z + 3456*E*epsilon_g**2*epsilon_r**4*p_x - 192*E*epsilon_g**2*epsilon_r**4*p_y*p_z + 3456*E*epsilon_g**2*epsilon_r**4*p_y - 192*E*epsilon_g**2*epsilon_r**4*p_z**2 + 12096*E*epsilon_g**2*epsilon_r**4*p_z - 21888*E*epsilon_g**2*epsilon_r**4 + 384*E*epsilon_g**2*epsilon_r**3*p_x*p_z - 2592*E*epsilon_g**2*epsilon_r**3*p_x + 384*E*epsilon_g**2*epsilon_r**3*p_y*p_z - 2592*E*epsilon_g**2*epsilon_r**3*p_y + 384*E*epsilon_g**2*epsilon_r**3*p_z**2 - 11232*E*epsilon_g**2*epsilon_r**3*p_z + 13248*E*epsilon_g**2*epsilon_r**3 - 288*E*epsilon_g**2*epsilon_r**2*p_x*p_z + 1080*E*epsilon_g**2*epsilon_r**2*p_x - 288*E*epsilon_g**2*epsilon_r**2*p_y*p_z + 1080*E*epsilon_g**2*epsilon_r**2*p_y - 384*E*epsilon_g**2*epsilon_r**2*p_z**2 + 6480*E*epsilon_g**2*epsilon_r**2*p_z - 5328*E*epsilon_g**2*epsilon_r**2 + 96*E*epsilon_g**2*epsilon_r*p_x*p_z - 216*E*epsilon_g**2*epsilon_r*p_x + 96*E*epsilon_g**2*epsilon_r*p_y*p_z - 216*E*epsilon_g**2*epsilon_r*p_y + 192*E*epsilon_g**2*epsilon_r*p_z**2 - 2160*E*epsilon_g**2*epsilon_r*p_z + 1296*E*epsilon_g**2*epsilon_r - 48*E*epsilon_g**2*p_z**2 + 324*E*epsilon_g**2*p_z - 144*E*epsilon_g**2 + 1536*E*epsilon_g*epsilon_r**8 - 6144*E*epsilon_g*epsilon_r**7 - 192*E*epsilon_g*epsilon_r**6*p_x - 192*E*epsilon_g*epsilon_r**6*p_y - 576*E*epsilon_g*epsilon_r**6*p_z + 12672*E*epsilon_g*epsilon_r**6 + 576*E*epsilon_g*epsilon_r**5*p_x + 576*E*epsilon_g*epsilon_r**5*p_y + 1728*E*epsilon_g*epsilon_r**5*p_z - 16512*E*epsilon_g*epsilon_r**5 - 768*E*epsilon_g*epsilon_r**4*p_x - 768*E*epsilon_g*epsilon_r**4*p_y - 2688*E*epsilon_g*epsilon_r**4*p_z + 14592*E*epsilon_g*epsilon_r**4 + 576*E*epsilon_g*epsilon_r**3*p_x + 576*E*epsilon_g*epsilon_r**3*p_y + 2496*E*epsilon_g*epsilon_r**3*p_z - 8832*E*epsilon_g*epsilon_r**3 - 240*E*epsilon_g*epsilon_r**2*p_x - 240*E*epsilon_g*epsilon_r**2*p_y - 1440*E*epsilon_g*epsilon_r**2*p_z + 3552*E*epsilon_g*epsilon_r**2 + 48*E*epsilon_g*epsilon_r*p_x + 48*E*epsilon_g*epsilon_r*p_y + 480*E*epsilon_g*epsilon_r*p_z - 864*E*epsilon_g*epsilon_r - 72*E*epsilon_g*p_z + 96*E*epsilon_g - 384*E*epsilon_r**8 + 1536*E*epsilon_r**7 - 3168*E*epsilon_r**6 + 4128*E*epsilon_r**5 - 3648*E*epsilon_r**4 + 2208*E*epsilon_r**3 - 888*E*epsilon_r**2 + 216*E*epsilon_r - 24*E + 36*epsilon_g**8*epsilon_r**4*p_z**2 - 72*epsilon_g**8*epsilon_r**3*p_z**2 + 72*epsilon_g**8*epsilon_r**2*p_z**2 - 36*epsilon_g**8*epsilon_r*p_z**2 + 9*epsilon_g**8*p_z**2 - 288*epsilon_g**7*epsilon_r**4*p_z**2 + 576*epsilon_g**7*epsilon_r**3*p_z**2 - 576*epsilon_g**7*epsilon_r**2*p_z**2 + 288*epsilon_g**7*epsilon_r*p_z**2 - 72*epsilon_g**7*p_z**2 - 144*epsilon_g**6*epsilon_r**6*p_z + 432*epsilon_g**6*epsilon_r**5*p_z + 936*epsilon_g**6*epsilon_r**4*p_z**2 - 648*epsilon_g**6*epsilon_r**4*p_z - 1872*epsilon_g**6*epsilon_r**3*p_z**2 + 576*epsilon_g**6*epsilon_r**3*p_z + 1872*epsilon_g**6*epsilon_r**2*p_z**2 - 324*epsilon_g**6*epsilon_r**2*p_z - 936*epsilon_g**6*epsilon_r*p_z**2 + 108*epsilon_g**6*epsilon_r*p_z + 234*epsilon_g**6*p_z**2 - 18*epsilon_g**6*p_z + 864*epsilon_g**5*epsilon_r**6*p_z - 2592*epsilon_g**5*epsilon_r**5*p_z - 1584*epsilon_g**5*epsilon_r**4*p_z**2 + 3888*epsilon_g**5*epsilon_r**4*p_z + 3168*epsilon_g**5*epsilon_r**3*p_z**2 - 3456*epsilon_g**5*epsilon_r**3*p_z - 3168*epsilon_g**5*epsilon_r**2*p_z**2 + 1944*epsilon_g**5*epsilon_r**2*p_z + 1584*epsilon_g**5*epsilon_r*p_z**2 - 648*epsilon_g**5*epsilon_r*p_z - 396*epsilon_g**5*p_z**2 + 108*epsilon_g**5*p_z + 144*epsilon_g**4*epsilon_r**8 - 576*epsilon_g**4*epsilon_r**7 - 2016*epsilon_g**4*epsilon_r**6*p_z + 1152*epsilon_g**4*epsilon_r**6 + 6048*epsilon_g**4*epsilon_r**5*p_z - 1440*epsilon_g**4*epsilon_r**5 + 1476*epsilon_g**4*epsilon_r**4*p_z**2 - 9072*epsilon_g**4*epsilon_r**4*p_z + 1224*epsilon_g**4*epsilon_r**4 - 2952*epsilon_g**4*epsilon_r**3*p_z**2 + 8064*epsilon_g**4*epsilon_r**3*p_z - 720*epsilon_g**4*epsilon_r**3 + 2952*epsilon_g**4*epsilon_r**2*p_z**2 - 4536*epsilon_g**4*epsilon_r**2*p_z + 288*epsilon_g**4*epsilon_r**2 - 1476*epsilon_g**4*epsilon_r*p_z**2 + 1512*epsilon_g**4*epsilon_r*p_z - 72*epsilon_g**4*epsilon_r + 369*epsilon_g**4*p_z**2 - 252*epsilon_g**4*p_z + 9*epsilon_g**4 - 576*epsilon_g**3*epsilon_r**8 + 2304*epsilon_g**3*epsilon_r**7 + 2304*epsilon_g**3*epsilon_r**6*p_z - 4608*epsilon_g**3*epsilon_r**6 - 6912*epsilon_g**3*epsilon_r**5*p_z + 5760*epsilon_g**3*epsilon_r**5 - 720*epsilon_g**3*epsilon_r**4*p_z**2 + 10368*epsilon_g**3*epsilon_r**4*p_z - 4896*epsilon_g**3*epsilon_r**4 + 1440*epsilon_g**3*epsilon_r**3*p_z**2 - 9216*epsilon_g**3*epsilon_r**3*p_z + 2880*epsilon_g**3*epsilon_r**3 - 1440*epsilon_g**3*epsilon_r**2*p_z**2 + 5184*epsilon_g**3*epsilon_r**2*p_z - 1152*epsilon_g**3*epsilon_r**2 + 720*epsilon_g**3*epsilon_r*p_z**2 - 1728*epsilon_g**3*epsilon_r*p_z + 288*epsilon_g**3*epsilon_r - 180*epsilon_g**3*p_z**2 + 288*epsilon_g**3*p_z - 36*epsilon_g**3 + 864*epsilon_g**2*epsilon_r**8 - 3456*epsilon_g**2*epsilon_r**7 - 1296*epsilon_g**2*epsilon_r**6*p_z + 6912*epsilon_g**2*epsilon_r**6 + 3888*epsilon_g**2*epsilon_r**5*p_z - 8640*epsilon_g**2*epsilon_r**5 + 144*epsilon_g**2*epsilon_r**4*p_z**2 - 5832*epsilon_g**2*epsilon_r**4*p_z + 7344*epsilon_g**2*epsilon_r**4 - 288*epsilon_g**2*epsilon_r**3*p_z**2 + 5184*epsilon_g**2*epsilon_r**3*p_z - 4320*epsilon_g**2*epsilon_r**3 + 288*epsilon_g**2*epsilon_r**2*p_z**2 - 2916*epsilon_g**2*epsilon_r**2*p_z + 1728*epsilon_g**2*epsilon_r**2 - 144*epsilon_g**2*epsilon_r*p_z**2 + 972*epsilon_g**2*epsilon_r*p_z - 432*epsilon_g**2*epsilon_r + 36*epsilon_g**2*p_z**2 - 162*epsilon_g**2*p_z + 54*epsilon_g**2 - 576*epsilon_g*epsilon_r**8 + 2304*epsilon_g*epsilon_r**7 + 288*epsilon_g*epsilon_r**6*p_z - 4608*epsilon_g*epsilon_r**6 - 864*epsilon_g*epsilon_r**5*p_z + 5760*epsilon_g*epsilon_r**5 + 1296*epsilon_g*epsilon_r**4*p_z - 4896*epsilon_g*epsilon_r**4 - 1152*epsilon_g*epsilon_r**3*p_z + 2880*epsilon_g*epsilon_r**3 + 648*epsilon_g*epsilon_r**2*p_z - 1152*epsilon_g*epsilon_r**2 - 216*epsilon_g*epsilon_r*p_z + 288*epsilon_g*epsilon_r + 36*epsilon_g*p_z - 36*epsilon_g + 144*epsilon_r**8 - 576*epsilon_r**7 + 1152*epsilon_r**6 - 1440*epsilon_r**5 + 1224*epsilon_r**4 - 720*epsilon_r**3 + 288*epsilon_r**2 - 72*epsilon_r + 9)/(9*(4*epsilon_r**4 - 8*epsilon_r**3 + 8*epsilon_r**2 - 4*epsilon_r + 1))\n"
     ]
    }
   ],
   "source": [
    "# this is for the equation 15\n",
    "xo15=sy.simplify(sy.series(simplified_mean_acc,E,0,3).removeO())\n",
    "print(xo15)"
   ]
  },
  {
   "cell_type": "code",
   "execution_count": 127,
   "id": "5c00b4d5",
   "metadata": {},
   "outputs": [
    {
     "data": {
      "text/latex": [
       "$\\displaystyle \\frac{176 E^{2} \\epsilon_{g}^{2} p_{x} p_{z}}{9} + \\frac{40 E^{2} \\epsilon_{g}^{2} p_{x}}{9} + \\frac{208 E^{2} \\epsilon_{g}^{2} p_{y} p_{z}}{9} + \\frac{20 E^{2} \\epsilon_{g}^{2} p_{y}}{3} - \\frac{256 E^{2} \\epsilon_{g}^{2} p_{z}^{2}}{9} - \\frac{140 E^{2} \\epsilon_{g}^{2} p_{z}}{9} - \\frac{8 E^{2} \\epsilon_{g}^{2}}{9} - \\frac{16 E^{2} \\epsilon_{g} p_{x}}{9} - \\frac{8 E^{2} \\epsilon_{g} p_{y}}{3} + \\frac{56 E^{2} \\epsilon_{g} p_{z}}{9} + \\frac{16 E^{2} \\epsilon_{g}}{9} - \\frac{8 E^{2}}{9} + \\frac{16 E \\epsilon_{g}^{2} p_{z}^{2}}{3} + 24 \\epsilon_{g}^{2} p_{z}^{2} + 10 \\epsilon_{g}^{2} p_{z} + \\epsilon_{g}^{2} - 4 \\epsilon_{g} p_{z} - 2 \\epsilon_{g} + \\frac{2 \\epsilon_{r}^{2} \\left(176 E^{2} \\epsilon_{g}^{2} p_{x}^{2} + 352 E^{2} \\epsilon_{g}^{2} p_{x} p_{y} + 728 E^{2} \\epsilon_{g}^{2} p_{x} p_{z} - 160 E^{2} \\epsilon_{g}^{2} p_{x} + 176 E^{2} \\epsilon_{g}^{2} p_{y}^{2} + 856 E^{2} \\epsilon_{g}^{2} p_{y} p_{z} - 140 E^{2} \\epsilon_{g}^{2} p_{y} - 7104 E^{2} \\epsilon_{g}^{2} p_{z}^{2} - 910 E^{2} \\epsilon_{g}^{2} p_{z} + 18 E^{2} \\epsilon_{g}^{2} + 64 E^{2} \\epsilon_{g} p_{x} + 56 E^{2} \\epsilon_{g} p_{y} + 364 E^{2} \\epsilon_{g} p_{z} - 36 E^{2} \\epsilon_{g} + 18 E^{2} + 660 E \\epsilon_{g}^{2} p_{x} p_{z} + 135 E \\epsilon_{g}^{2} p_{x} + 660 E \\epsilon_{g}^{2} p_{y} p_{z} + 135 E \\epsilon_{g}^{2} p_{y} - 4548 E \\epsilon_{g}^{2} p_{z}^{2} - 1365 E \\epsilon_{g}^{2} p_{z} - 36 E \\epsilon_{g}^{2} - 54 E \\epsilon_{g} p_{x} - 54 E \\epsilon_{g} p_{y} + 546 E \\epsilon_{g} p_{z} + 72 E \\epsilon_{g} - 36 E + 864 \\epsilon_{g}^{2} p_{z}^{2} + 90 \\epsilon_{g}^{2} p_{z} - 36 \\epsilon_{g} p_{z}\\right)}{9} + \\frac{2 \\epsilon_{r} \\left(16 E^{2} \\epsilon_{g}^{2} p_{x}^{2} + 32 E^{2} \\epsilon_{g}^{2} p_{x} p_{y} + 664 E^{2} \\epsilon_{g}^{2} p_{x} p_{z} + 120 E^{2} \\epsilon_{g}^{2} p_{x} + 16 E^{2} \\epsilon_{g}^{2} p_{y}^{2} + 728 E^{2} \\epsilon_{g}^{2} p_{y} p_{z} + 140 E^{2} \\epsilon_{g}^{2} p_{y} - 2176 E^{2} \\epsilon_{g}^{2} p_{z}^{2} - 750 E^{2} \\epsilon_{g}^{2} p_{z} - 30 E^{2} \\epsilon_{g}^{2} - 48 E^{2} \\epsilon_{g} p_{x} - 56 E^{2} \\epsilon_{g} p_{y} + 300 E^{2} \\epsilon_{g} p_{z} + 60 E^{2} \\epsilon_{g} - 30 E^{2} + 132 E \\epsilon_{g}^{2} p_{x} p_{z} + 45 E \\epsilon_{g}^{2} p_{x} + 132 E \\epsilon_{g}^{2} p_{y} p_{z} + 45 E \\epsilon_{g}^{2} p_{y} - 684 E \\epsilon_{g}^{2} p_{z}^{2} - 345 E \\epsilon_{g}^{2} p_{z} - 18 E \\epsilon_{g}^{2} - 18 E \\epsilon_{g} p_{x} - 18 E \\epsilon_{g} p_{y} + 138 E \\epsilon_{g} p_{z} + 36 E \\epsilon_{g} - 18 E + 432 \\epsilon_{g}^{2} p_{z}^{2} + 90 \\epsilon_{g}^{2} p_{z} - 36 \\epsilon_{g} p_{z}\\right)}{9} + 1$"
      ],
      "text/plain": [
       "176*E**2*epsilon_g**2*p_x*p_z/9 + 40*E**2*epsilon_g**2*p_x/9 + 208*E**2*epsilon_g**2*p_y*p_z/9 + 20*E**2*epsilon_g**2*p_y/3 - 256*E**2*epsilon_g**2*p_z**2/9 - 140*E**2*epsilon_g**2*p_z/9 - 8*E**2*epsilon_g**2/9 - 16*E**2*epsilon_g*p_x/9 - 8*E**2*epsilon_g*p_y/3 + 56*E**2*epsilon_g*p_z/9 + 16*E**2*epsilon_g/9 - 8*E**2/9 + 16*E*epsilon_g**2*p_z**2/3 + 24*epsilon_g**2*p_z**2 + 10*epsilon_g**2*p_z + epsilon_g**2 - 4*epsilon_g*p_z - 2*epsilon_g + 2*epsilon_r**2*(176*E**2*epsilon_g**2*p_x**2 + 352*E**2*epsilon_g**2*p_x*p_y + 728*E**2*epsilon_g**2*p_x*p_z - 160*E**2*epsilon_g**2*p_x + 176*E**2*epsilon_g**2*p_y**2 + 856*E**2*epsilon_g**2*p_y*p_z - 140*E**2*epsilon_g**2*p_y - 7104*E**2*epsilon_g**2*p_z**2 - 910*E**2*epsilon_g**2*p_z + 18*E**2*epsilon_g**2 + 64*E**2*epsilon_g*p_x + 56*E**2*epsilon_g*p_y + 364*E**2*epsilon_g*p_z - 36*E**2*epsilon_g + 18*E**2 + 660*E*epsilon_g**2*p_x*p_z + 135*E*epsilon_g**2*p_x + 660*E*epsilon_g**2*p_y*p_z + 135*E*epsilon_g**2*p_y - 4548*E*epsilon_g**2*p_z**2 - 1365*E*epsilon_g**2*p_z - 36*E*epsilon_g**2 - 54*E*epsilon_g*p_x - 54*E*epsilon_g*p_y + 546*E*epsilon_g*p_z + 72*E*epsilon_g - 36*E + 864*epsilon_g**2*p_z**2 + 90*epsilon_g**2*p_z - 36*epsilon_g*p_z)/9 + 2*epsilon_r*(16*E**2*epsilon_g**2*p_x**2 + 32*E**2*epsilon_g**2*p_x*p_y + 664*E**2*epsilon_g**2*p_x*p_z + 120*E**2*epsilon_g**2*p_x + 16*E**2*epsilon_g**2*p_y**2 + 728*E**2*epsilon_g**2*p_y*p_z + 140*E**2*epsilon_g**2*p_y - 2176*E**2*epsilon_g**2*p_z**2 - 750*E**2*epsilon_g**2*p_z - 30*E**2*epsilon_g**2 - 48*E**2*epsilon_g*p_x - 56*E**2*epsilon_g*p_y + 300*E**2*epsilon_g*p_z + 60*E**2*epsilon_g - 30*E**2 + 132*E*epsilon_g**2*p_x*p_z + 45*E*epsilon_g**2*p_x + 132*E*epsilon_g**2*p_y*p_z + 45*E*epsilon_g**2*p_y - 684*E*epsilon_g**2*p_z**2 - 345*E*epsilon_g**2*p_z - 18*E*epsilon_g**2 - 18*E*epsilon_g*p_x - 18*E*epsilon_g*p_y + 138*E*epsilon_g*p_z + 36*E*epsilon_g - 18*E + 432*epsilon_g**2*p_z**2 + 90*epsilon_g**2*p_z - 36*epsilon_g*p_z)/9 + 1"
      ]
     },
     "execution_count": 127,
     "metadata": {},
     "output_type": "execute_result"
    }
   ],
   "source": [
    "# xoo13=sy.simplify(sy.series(sy.series(xo13,epsilon_g,0,3).removeO(),epsilon_r,0,3).removeO())\n",
    "xoo13=176*E**2*epsilon_g**2*p_x*p_z/9 + 40*E**2*epsilon_g**2*p_x/9 + 208*E**2*epsilon_g**2*p_y*p_z/9 + 20*E**2*epsilon_g**2*p_y/3 - 256*E**2*epsilon_g**2*p_z**2/9 - 140*E**2*epsilon_g**2*p_z/9 - 8*E**2*epsilon_g**2/9 - 16*E**2*epsilon_g*p_x/9 - 8*E**2*epsilon_g*p_y/3 + 56*E**2*epsilon_g*p_z/9 + 16*E**2*epsilon_g/9 - 8*E**2/9 + 16*E*epsilon_g**2*p_z**2/3 + 24*epsilon_g**2*p_z**2 + 10*epsilon_g**2*p_z + epsilon_g**2 - 4*epsilon_g*p_z - 2*epsilon_g + 2*epsilon_r**2*(176*E**2*epsilon_g**2*p_x**2 + 352*E**2*epsilon_g**2*p_x*p_y + 728*E**2*epsilon_g**2*p_x*p_z - 160*E**2*epsilon_g**2*p_x + 176*E**2*epsilon_g**2*p_y**2 + 856*E**2*epsilon_g**2*p_y*p_z - 140*E**2*epsilon_g**2*p_y - 7104*E**2*epsilon_g**2*p_z**2 - 910*E**2*epsilon_g**2*p_z + 18*E**2*epsilon_g**2 + 64*E**2*epsilon_g*p_x + 56*E**2*epsilon_g*p_y + 364*E**2*epsilon_g*p_z - 36*E**2*epsilon_g + 18*E**2 + 660*E*epsilon_g**2*p_x*p_z + 135*E*epsilon_g**2*p_x + 660*E*epsilon_g**2*p_y*p_z + 135*E*epsilon_g**2*p_y - 4548*E*epsilon_g**2*p_z**2 - 1365*E*epsilon_g**2*p_z - 36*E*epsilon_g**2 - 54*E*epsilon_g*p_x - 54*E*epsilon_g*p_y + 546*E*epsilon_g*p_z + 72*E*epsilon_g - 36*E + 864*epsilon_g**2*p_z**2 + 90*epsilon_g**2*p_z - 36*epsilon_g*p_z)/9 + 2*epsilon_r*(16*E**2*epsilon_g**2*p_x**2 + 32*E**2*epsilon_g**2*p_x*p_y + 664*E**2*epsilon_g**2*p_x*p_z + 120*E**2*epsilon_g**2*p_x + 16*E**2*epsilon_g**2*p_y**2 + 728*E**2*epsilon_g**2*p_y*p_z + 140*E**2*epsilon_g**2*p_y - 2176*E**2*epsilon_g**2*p_z**2 - 750*E**2*epsilon_g**2*p_z - 30*E**2*epsilon_g**2 - 48*E**2*epsilon_g*p_x - 56*E**2*epsilon_g*p_y + 300*E**2*epsilon_g*p_z + 60*E**2*epsilon_g - 30*E**2 + 132*E*epsilon_g**2*p_x*p_z + 45*E*epsilon_g**2*p_x + 132*E*epsilon_g**2*p_y*p_z + 45*E*epsilon_g**2*p_y - 684*E*epsilon_g**2*p_z**2 - 345*E*epsilon_g**2*p_z - 18*E*epsilon_g**2 - 18*E*epsilon_g*p_x - 18*E*epsilon_g*p_y + 138*E*epsilon_g*p_z + 36*E*epsilon_g - 18*E + 432*epsilon_g**2*p_z**2 + 90*epsilon_g**2*p_z - 36*epsilon_g*p_z)/9 + 1\n",
    "xoo13"
   ]
  },
  {
   "cell_type": "code",
   "execution_count": 128,
   "id": "73ab38a7",
   "metadata": {},
   "outputs": [
    {
     "data": {
      "text/latex": [
       "$\\displaystyle \\frac{32 E^{2} \\epsilon_{g} p_{x}}{9} + \\frac{32 E^{2} \\epsilon_{g} p_{y}}{9} + \\frac{16 E^{2} \\epsilon_{g} p_{z}}{3} - \\frac{32 E^{2} \\epsilon_{g}}{3} + \\frac{8 E^{2}}{3} - 8 E \\epsilon_{g} p_{z} + \\frac{32 E \\epsilon_{g}}{3} - \\frac{8 E}{3} + 4 \\epsilon_{g} p_{z} - 4 \\epsilon_{g} - \\frac{4 \\epsilon_{r} \\left(24 E^{2} \\epsilon_{g} p_{x} + 24 E^{2} \\epsilon_{g} p_{y} + 16 E^{2} \\epsilon_{g} p_{z} - 96 E^{2} \\epsilon_{g} + 24 E^{2} - 12 E \\epsilon_{g} p_{x} - 12 E \\epsilon_{g} p_{y} - 48 E \\epsilon_{g} p_{z} + 120 E \\epsilon_{g} - 30 E + 18 \\epsilon_{g} p_{z} - 36 \\epsilon_{g} + 9\\right)}{9} + 1$"
      ],
      "text/plain": [
       "32*E**2*epsilon_g*p_x/9 + 32*E**2*epsilon_g*p_y/9 + 16*E**2*epsilon_g*p_z/3 - 32*E**2*epsilon_g/3 + 8*E**2/3 - 8*E*epsilon_g*p_z + 32*E*epsilon_g/3 - 8*E/3 + 4*epsilon_g*p_z - 4*epsilon_g - 4*epsilon_r*(24*E**2*epsilon_g*p_x + 24*E**2*epsilon_g*p_y + 16*E**2*epsilon_g*p_z - 96*E**2*epsilon_g + 24*E**2 - 12*E*epsilon_g*p_x - 12*E*epsilon_g*p_y - 48*E*epsilon_g*p_z + 120*E*epsilon_g - 30*E + 18*epsilon_g*p_z - 36*epsilon_g + 9)/9 + 1"
      ]
     },
     "execution_count": 128,
     "metadata": {},
     "output_type": "execute_result"
    }
   ],
   "source": [
    "xoo15=sy.simplify(sy.series(sy.series(xo15,epsilon_g,0,2).removeO(),epsilon_r,0,2).removeO())\n",
    "# xoo15=16*E**2*epsilon_g**2*p_x**2/9 + 32*E**2*epsilon_g**2*p_x*p_y/9 + 64*E**2*epsilon_g**2*p_x*p_z/9 - 16*E**2*epsilon_g**2*p_x + 16*E**2*epsilon_g**2*p_y**2/9 + 64*E**2*epsilon_g**2*p_y*p_z/9 - 16*E**2*epsilon_g**2*p_y + 16*E**2*epsilon_g**2*p_z**2/9 - 24*E**2*epsilon_g**2*p_z + 16*E**2*epsilon_g**2 + 32*E**2*epsilon_g*p_x/9 + 32*E**2*epsilon_g*p_y/9 + 16*E**2*epsilon_g*p_z/3 - 32*E**2*epsilon_g/3 + 8*E**2/3 - 16*E*epsilon_g**2*p_z**2/3 + 36*E*epsilon_g**2*p_z - 16*E*epsilon_g**2 - 8*E*epsilon_g*p_z + 32*E*epsilon_g/3 - 8*E/3 + 4*epsilon_g**2*p_z**2 - 18*epsilon_g**2*p_z + 6*epsilon_g**2 + 4*epsilon_g*p_z - 4*epsilon_g + 4*epsilon_r**2*(-80*E**2*epsilon_g**2*p_x*p_z - 36*E**2*epsilon_g**2*p_x - 80*E**2*epsilon_g**2*p_y*p_z - 36*E**2*epsilon_g**2*p_y + 72*E**2*epsilon_g**2*p_z + 192*E**2*epsilon_g**2 + 8*E**2*epsilon_g*p_x + 8*E**2*epsilon_g*p_y - 16*E**2*epsilon_g*p_z - 128*E**2*epsilon_g + 32*E**2 + 24*E*epsilon_g**2*p_x*p_z + 54*E*epsilon_g**2*p_x + 24*E*epsilon_g**2*p_y*p_z + 54*E*epsilon_g**2*p_y + 108*E*epsilon_g**2*p_z - 324*E*epsilon_g**2 - 12*E*epsilon_g*p_x - 12*E*epsilon_g*p_y - 24*E*epsilon_g*p_z + 216*E*epsilon_g - 54*E - 81*epsilon_g**2*p_z + 108*epsilon_g**2 + 18*epsilon_g*p_z - 72*epsilon_g + 18)/9 - 4*epsilon_r*(16*E**2*epsilon_g**2*p_x*p_z - 108*E**2*epsilon_g**2*p_x + 16*E**2*epsilon_g**2*p_y*p_z - 108*E**2*epsilon_g**2*p_y - 72*E**2*epsilon_g**2*p_z + 144*E**2*epsilon_g**2 + 24*E**2*epsilon_g*p_x + 24*E**2*epsilon_g*p_y + 16*E**2*epsilon_g*p_z - 96*E**2*epsilon_g + 24*E**2 - 24*E*epsilon_g**2*p_x*p_z + 54*E*epsilon_g**2*p_x - 24*E*epsilon_g**2*p_y*p_z + 54*E*epsilon_g**2*p_y + 216*E*epsilon_g**2*p_z - 180*E*epsilon_g**2 - 12*E*epsilon_g*p_x - 12*E*epsilon_g*p_y - 48*E*epsilon_g*p_z + 120*E*epsilon_g - 30*E - 81*epsilon_g**2*p_z + 54*epsilon_g**2 + 18*epsilon_g*p_z - 36*epsilon_g + 9)/9 + 1\n",
    "xoo15"
   ]
  },
  {
   "cell_type": "code",
   "execution_count": 129,
   "id": "480e6731",
   "metadata": {},
   "outputs": [
    {
     "name": "stdout",
     "output_type": "stream",
     "text": [
      "32*E**2*epsilon_g*p_x/9 + 32*E**2*epsilon_g*p_y/9 + 16*E**2*epsilon_g*p_z/3 - 32*E**2*epsilon_g/3 + 8*E**2/3 - 8*E*epsilon_g*p_z + 32*E*epsilon_g/3 - 8*E/3 + 4*epsilon_g*p_z - 4*epsilon_g - 4*epsilon_r*(24*E**2*epsilon_g*p_x + 24*E**2*epsilon_g*p_y + 16*E**2*epsilon_g*p_z - 96*E**2*epsilon_g + 24*E**2 - 12*E*epsilon_g*p_x - 12*E*epsilon_g*p_y - 48*E*epsilon_g*p_z + 120*E*epsilon_g - 30*E + 18*epsilon_g*p_z - 36*epsilon_g + 9)/9 + 1\n"
     ]
    }
   ],
   "source": [
    "print(xoo15)"
   ]
  },
  {
   "cell_type": "code",
   "execution_count": 130,
   "id": "b94431fe",
   "metadata": {},
   "outputs": [],
   "source": [
    "# These are the approximated functions\n",
    "integra13=sy.simplify((xoo13.subs(intermsub)).subs(changepauli))\n",
    "integra15=sy.simplify(log((xoo15.subs(intermsub)).subs(changepauli)))"
   ]
  },
  {
   "cell_type": "code",
   "execution_count": 131,
   "id": "3a3941b5",
   "metadata": {},
   "outputs": [
    {
     "data": {
      "text/latex": [
       "$\\displaystyle \\log{\\left(\\frac{8 F}{3} + \\frac{80 \\epsilon_{g} p_{z} \\left(1 - F\\right)^{2}}{9} - 8 \\epsilon_{g} p_{z} \\left(1 - F\\right) + 4 \\epsilon_{g} p_{z} - \\frac{32 \\epsilon_{g} \\left(1 - F\\right)^{2}}{3} + \\frac{32 \\epsilon_{g} \\left(1 - F\\right)}{3} - 4 \\epsilon_{g} - \\frac{4 \\epsilon_{r} \\left(30 F + 40 \\epsilon_{g} p_{z} \\left(1 - F\\right)^{2} - 60 \\epsilon_{g} p_{z} \\left(1 - F\\right) + 18 \\epsilon_{g} p_{z} - 96 \\epsilon_{g} \\left(1 - F\\right)^{2} + 120 \\epsilon_{g} \\left(1 - F\\right) - 36 \\epsilon_{g} + 24 \\left(1 - F\\right)^{2} - 21\\right)}{9} + \\frac{8 \\left(1 - F\\right)^{2}}{3} - \\frac{5}{3} \\right)}$"
      ],
      "text/plain": [
       "log(8*F/3 + 80*epsilon_g*p_z*(1 - F)**2/9 - 8*epsilon_g*p_z*(1 - F) + 4*epsilon_g*p_z - 32*epsilon_g*(1 - F)**2/3 + 32*epsilon_g*(1 - F)/3 - 4*epsilon_g - 4*epsilon_r*(30*F + 40*epsilon_g*p_z*(1 - F)**2 - 60*epsilon_g*p_z*(1 - F) + 18*epsilon_g*p_z - 96*epsilon_g*(1 - F)**2 + 120*epsilon_g*(1 - F) - 36*epsilon_g + 24*(1 - F)**2 - 21)/9 + 8*(1 - F)**2/3 - 5/3)"
      ]
     },
     "execution_count": 131,
     "metadata": {},
     "output_type": "execute_result"
    }
   ],
   "source": [
    "integra15"
   ]
  },
  {
   "cell_type": "markdown",
   "id": "2b146d16",
   "metadata": {},
   "source": [
    "Here now the integrals"
   ]
  },
  {
   "cell_type": "code",
   "execution_count": 132,
   "id": "ee5df1e2",
   "metadata": {},
   "outputs": [
    {
     "data": {
      "text/latex": [
       "$\\displaystyle \\frac{F \\left(F^{2} \\left(- 12272 \\epsilon_{g}^{2} \\epsilon_{r}^{2} p_{z}^{2} - 2120 \\epsilon_{g}^{2} \\epsilon_{r}^{2} p_{z} + 36 \\epsilon_{g}^{2} \\epsilon_{r}^{2} - 2928 \\epsilon_{g}^{2} \\epsilon_{r} p_{z}^{2} - 1240 \\epsilon_{g}^{2} \\epsilon_{r} p_{z} - 60 \\epsilon_{g}^{2} \\epsilon_{r} - 64 \\epsilon_{g}^{2} p_{z}^{2} - 90 \\epsilon_{g}^{2} p_{z} - 8 \\epsilon_{g}^{2} + 848 \\epsilon_{g} \\epsilon_{r}^{2} p_{z} - 72 \\epsilon_{g} \\epsilon_{r}^{2} + 496 \\epsilon_{g} \\epsilon_{r} p_{z} + 120 \\epsilon_{g} \\epsilon_{r} + 36 \\epsilon_{g} p_{z} + 16 \\epsilon_{g} + 36 \\epsilon_{r}^{2} - 60 \\epsilon_{r} - 8\\right) + 6 F \\left(8080 \\epsilon_{g}^{2} \\epsilon_{r}^{2} p_{z}^{2} + 1675 \\epsilon_{g}^{2} \\epsilon_{r}^{2} p_{z} + 1740 \\epsilon_{g}^{2} \\epsilon_{r} p_{z}^{2} + 770 \\epsilon_{g}^{2} \\epsilon_{r} p_{z} + 39 \\epsilon_{g}^{2} \\epsilon_{r} + 20 \\epsilon_{g}^{2} p_{z}^{2} + 45 \\epsilon_{g}^{2} p_{z} + 4 \\epsilon_{g}^{2} - 670 \\epsilon_{g} \\epsilon_{r}^{2} p_{z} - 308 \\epsilon_{g} \\epsilon_{r} p_{z} - 78 \\epsilon_{g} \\epsilon_{r} - 18 \\epsilon_{g} p_{z} - 8 \\epsilon_{g} + 39 \\epsilon_{r} + 4\\right) - 54960 \\epsilon_{g}^{2} \\epsilon_{r}^{2} p_{z}^{2} - 13200 \\epsilon_{g}^{2} \\epsilon_{r}^{2} p_{z} - 108 \\epsilon_{g}^{2} \\epsilon_{r}^{2} - 9504 \\epsilon_{g}^{2} \\epsilon_{r} p_{z}^{2} - 4980 \\epsilon_{g}^{2} \\epsilon_{r} p_{z} - 288 \\epsilon_{g}^{2} \\epsilon_{r} + 600 \\epsilon_{g}^{2} p_{z}^{2} + 3 \\epsilon_{g}^{2} + 5280 \\epsilon_{g} \\epsilon_{r}^{2} p_{z} + 216 \\epsilon_{g} \\epsilon_{r}^{2} + 1992 \\epsilon_{g} \\epsilon_{r} p_{z} + 576 \\epsilon_{g} \\epsilon_{r} - 6 \\epsilon_{g} - 108 \\epsilon_{r}^{2} - 288 \\epsilon_{r} + 3\\right)}{27}$"
      ],
      "text/plain": [
       "F*(F**2*(-12272*epsilon_g**2*epsilon_r**2*p_z**2 - 2120*epsilon_g**2*epsilon_r**2*p_z + 36*epsilon_g**2*epsilon_r**2 - 2928*epsilon_g**2*epsilon_r*p_z**2 - 1240*epsilon_g**2*epsilon_r*p_z - 60*epsilon_g**2*epsilon_r - 64*epsilon_g**2*p_z**2 - 90*epsilon_g**2*p_z - 8*epsilon_g**2 + 848*epsilon_g*epsilon_r**2*p_z - 72*epsilon_g*epsilon_r**2 + 496*epsilon_g*epsilon_r*p_z + 120*epsilon_g*epsilon_r + 36*epsilon_g*p_z + 16*epsilon_g + 36*epsilon_r**2 - 60*epsilon_r - 8) + 6*F*(8080*epsilon_g**2*epsilon_r**2*p_z**2 + 1675*epsilon_g**2*epsilon_r**2*p_z + 1740*epsilon_g**2*epsilon_r*p_z**2 + 770*epsilon_g**2*epsilon_r*p_z + 39*epsilon_g**2*epsilon_r + 20*epsilon_g**2*p_z**2 + 45*epsilon_g**2*p_z + 4*epsilon_g**2 - 670*epsilon_g*epsilon_r**2*p_z - 308*epsilon_g*epsilon_r*p_z - 78*epsilon_g*epsilon_r - 18*epsilon_g*p_z - 8*epsilon_g + 39*epsilon_r + 4) - 54960*epsilon_g**2*epsilon_r**2*p_z**2 - 13200*epsilon_g**2*epsilon_r**2*p_z - 108*epsilon_g**2*epsilon_r**2 - 9504*epsilon_g**2*epsilon_r*p_z**2 - 4980*epsilon_g**2*epsilon_r*p_z - 288*epsilon_g**2*epsilon_r + 600*epsilon_g**2*p_z**2 + 3*epsilon_g**2 + 5280*epsilon_g*epsilon_r**2*p_z + 216*epsilon_g*epsilon_r**2 + 1992*epsilon_g*epsilon_r*p_z + 576*epsilon_g*epsilon_r - 6*epsilon_g - 108*epsilon_r**2 - 288*epsilon_r + 3)/27"
      ]
     },
     "execution_count": 132,
     "metadata": {},
     "output_type": "execute_result"
    }
   ],
   "source": [
    "third_order_13=sy.simplify(sy.integrate(integra13,F))\n",
    "third_order_13"
   ]
  },
  {
   "cell_type": "code",
   "execution_count": 133,
   "id": "7b95acf7",
   "metadata": {},
   "outputs": [
    {
     "data": {
      "text/latex": [
       "$\\displaystyle \\frac{F \\left(\\log{\\left(- \\frac{160 F^{2} \\epsilon_{g} \\epsilon_{r} p_{z}}{9} + \\frac{128 F^{2} \\epsilon_{g} \\epsilon_{r}}{3} + \\frac{80 F^{2} \\epsilon_{g} p_{z}}{9} - \\frac{32 F^{2} \\epsilon_{g}}{3} - \\frac{32 F^{2} \\epsilon_{r}}{3} + \\frac{8 F^{2}}{3} + \\frac{80 F \\epsilon_{g} \\epsilon_{r} p_{z}}{9} - 32 F \\epsilon_{g} \\epsilon_{r} - \\frac{88 F \\epsilon_{g} p_{z}}{9} + \\frac{32 F \\epsilon_{g}}{3} + 8 F \\epsilon_{r} - \\frac{8 F}{3} + \\frac{8 \\epsilon_{g} \\epsilon_{r} p_{z}}{9} + \\frac{16 \\epsilon_{g} \\epsilon_{r}}{3} + \\frac{44 \\epsilon_{g} p_{z}}{9} - 4 \\epsilon_{g} - \\frac{4 \\epsilon_{r}}{3} + 1 \\right)} - 2\\right) \\left(20 \\epsilon_{g} \\epsilon_{r} p_{z} - 48 \\epsilon_{g} \\epsilon_{r} - 10 \\epsilon_{g} p_{z} + 12 \\epsilon_{g} + 12 \\epsilon_{r} - 3\\right)^{2} - \\frac{\\left(\\left(- 60 \\epsilon_{g} \\epsilon_{r} p_{z} + 144 \\epsilon_{g} \\epsilon_{r} + 30 \\epsilon_{g} p_{z} - 36 \\epsilon_{g} - 36 \\epsilon_{r} + 9\\right) \\sqrt{80 \\epsilon_{g}^{2} \\epsilon_{r}^{2} p_{z}^{2} - 192 \\epsilon_{g}^{2} \\epsilon_{r}^{2} p_{z} + 64 \\epsilon_{g}^{2} \\epsilon_{r}^{2} + 80 \\epsilon_{g}^{2} \\epsilon_{r} p_{z}^{2} - 256 \\epsilon_{g}^{2} \\epsilon_{r} p_{z} + 128 \\epsilon_{g}^{2} \\epsilon_{r} - 44 \\epsilon_{g}^{2} p_{z}^{2} + 80 \\epsilon_{g}^{2} p_{z} - 32 \\epsilon_{g}^{2} + 48 \\epsilon_{g} \\epsilon_{r}^{2} p_{z} - 32 \\epsilon_{g} \\epsilon_{r}^{2} + 64 \\epsilon_{g} \\epsilon_{r} p_{z} - 64 \\epsilon_{g} \\epsilon_{r} - 20 \\epsilon_{g} p_{z} + 16 \\epsilon_{g} + 4 \\epsilon_{r}^{2} + 8 \\epsilon_{r} - 2} + 2 \\left(10 \\epsilon_{g} \\epsilon_{r} p_{z} - 36 \\epsilon_{g} \\epsilon_{r} - 11 \\epsilon_{g} p_{z} + 12 \\epsilon_{g} + 9 \\epsilon_{r} - 3\\right) \\left(20 \\epsilon_{g} \\epsilon_{r} p_{z} - 48 \\epsilon_{g} \\epsilon_{r} - 10 \\epsilon_{g} p_{z} + 12 \\epsilon_{g} + 12 \\epsilon_{r} - 3\\right)\\right) \\log{\\left(\\frac{4 F \\left(20 \\epsilon_{g} \\epsilon_{r} p_{z} - 48 \\epsilon_{g} \\epsilon_{r} - 10 \\epsilon_{g} p_{z} + 12 \\epsilon_{g} + 12 \\epsilon_{r} - 3\\right) - 20 \\epsilon_{g} \\epsilon_{r} p_{z} + 72 \\epsilon_{g} \\epsilon_{r} + 22 \\epsilon_{g} p_{z} - 24 \\epsilon_{g} - 18 \\epsilon_{r} + 3 \\sqrt{2} \\sqrt{40 \\epsilon_{g}^{2} \\epsilon_{r}^{2} p_{z}^{2} - 96 \\epsilon_{g}^{2} \\epsilon_{r}^{2} p_{z} + 32 \\epsilon_{g}^{2} \\epsilon_{r}^{2} + 40 \\epsilon_{g}^{2} \\epsilon_{r} p_{z}^{2} - 128 \\epsilon_{g}^{2} \\epsilon_{r} p_{z} + 64 \\epsilon_{g}^{2} \\epsilon_{r} - 22 \\epsilon_{g}^{2} p_{z}^{2} + 40 \\epsilon_{g}^{2} p_{z} - 16 \\epsilon_{g}^{2} + 24 \\epsilon_{g} \\epsilon_{r}^{2} p_{z} - 16 \\epsilon_{g} \\epsilon_{r}^{2} + 32 \\epsilon_{g} \\epsilon_{r} p_{z} - 32 \\epsilon_{g} \\epsilon_{r} - 10 \\epsilon_{g} p_{z} + 8 \\epsilon_{g} + 2 \\epsilon_{r}^{2} + 4 \\epsilon_{r} - 1} + 6}{4 \\left(20 \\epsilon_{g} \\epsilon_{r} p_{z} - 48 \\epsilon_{g} \\epsilon_{r} - 10 \\epsilon_{g} p_{z} + 12 \\epsilon_{g} + 12 \\epsilon_{r} - 3\\right)} \\right)}}{4} - \\frac{\\left(20 \\epsilon_{g} \\epsilon_{r} p_{z} - 48 \\epsilon_{g} \\epsilon_{r} - 10 \\epsilon_{g} p_{z} + 12 \\epsilon_{g} + 12 \\epsilon_{r} - 3\\right) \\left(20 \\epsilon_{g} \\epsilon_{r} p_{z} - 72 \\epsilon_{g} \\epsilon_{r} - 22 \\epsilon_{g} p_{z} + 24 \\epsilon_{g} + 18 \\epsilon_{r} + 3 \\sqrt{80 \\epsilon_{g}^{2} \\epsilon_{r}^{2} p_{z}^{2} - 192 \\epsilon_{g}^{2} \\epsilon_{r}^{2} p_{z} + 64 \\epsilon_{g}^{2} \\epsilon_{r}^{2} + 80 \\epsilon_{g}^{2} \\epsilon_{r} p_{z}^{2} - 256 \\epsilon_{g}^{2} \\epsilon_{r} p_{z} + 128 \\epsilon_{g}^{2} \\epsilon_{r} - 44 \\epsilon_{g}^{2} p_{z}^{2} + 80 \\epsilon_{g}^{2} p_{z} - 32 \\epsilon_{g}^{2} + 48 \\epsilon_{g} \\epsilon_{r}^{2} p_{z} - 32 \\epsilon_{g} \\epsilon_{r}^{2} + 64 \\epsilon_{g} \\epsilon_{r} p_{z} - 64 \\epsilon_{g} \\epsilon_{r} - 20 \\epsilon_{g} p_{z} + 16 \\epsilon_{g} + 4 \\epsilon_{r}^{2} + 8 \\epsilon_{r} - 2} - 6\\right) \\log{\\left(\\frac{80 F \\epsilon_{g} \\epsilon_{r} p_{z} - 192 F \\epsilon_{g} \\epsilon_{r} - 40 F \\epsilon_{g} p_{z} + 48 F \\epsilon_{g} + 48 F \\epsilon_{r} - 12 F - 20 \\epsilon_{g} \\epsilon_{r} p_{z} + 72 \\epsilon_{g} \\epsilon_{r} + 22 \\epsilon_{g} p_{z} - 24 \\epsilon_{g} - 18 \\epsilon_{r} - 3 \\sqrt{2} \\sqrt{40 \\epsilon_{g}^{2} \\epsilon_{r}^{2} p_{z}^{2} - 96 \\epsilon_{g}^{2} \\epsilon_{r}^{2} p_{z} + 32 \\epsilon_{g}^{2} \\epsilon_{r}^{2} + 40 \\epsilon_{g}^{2} \\epsilon_{r} p_{z}^{2} - 128 \\epsilon_{g}^{2} \\epsilon_{r} p_{z} + 64 \\epsilon_{g}^{2} \\epsilon_{r} - 22 \\epsilon_{g}^{2} p_{z}^{2} + 40 \\epsilon_{g}^{2} p_{z} - 16 \\epsilon_{g}^{2} + 24 \\epsilon_{g} \\epsilon_{r}^{2} p_{z} - 16 \\epsilon_{g} \\epsilon_{r}^{2} + 32 \\epsilon_{g} \\epsilon_{r} p_{z} - 32 \\epsilon_{g} \\epsilon_{r} - 10 \\epsilon_{g} p_{z} + 8 \\epsilon_{g} + 2 \\epsilon_{r}^{2} + 4 \\epsilon_{r} - 1} + 6}{4 \\left(20 \\epsilon_{g} \\epsilon_{r} p_{z} - 48 \\epsilon_{g} \\epsilon_{r} - 10 \\epsilon_{g} p_{z} + 12 \\epsilon_{g} + 12 \\epsilon_{r} - 3\\right)} \\right)}}{4}}{\\left(20 \\epsilon_{g} \\epsilon_{r} p_{z} - 48 \\epsilon_{g} \\epsilon_{r} - 10 \\epsilon_{g} p_{z} + 12 \\epsilon_{g} + 12 \\epsilon_{r} - 3\\right)^{2}}$"
      ],
      "text/plain": [
       "(F*(log(-160*F**2*epsilon_g*epsilon_r*p_z/9 + 128*F**2*epsilon_g*epsilon_r/3 + 80*F**2*epsilon_g*p_z/9 - 32*F**2*epsilon_g/3 - 32*F**2*epsilon_r/3 + 8*F**2/3 + 80*F*epsilon_g*epsilon_r*p_z/9 - 32*F*epsilon_g*epsilon_r - 88*F*epsilon_g*p_z/9 + 32*F*epsilon_g/3 + 8*F*epsilon_r - 8*F/3 + 8*epsilon_g*epsilon_r*p_z/9 + 16*epsilon_g*epsilon_r/3 + 44*epsilon_g*p_z/9 - 4*epsilon_g - 4*epsilon_r/3 + 1) - 2)*(20*epsilon_g*epsilon_r*p_z - 48*epsilon_g*epsilon_r - 10*epsilon_g*p_z + 12*epsilon_g + 12*epsilon_r - 3)**2 - ((-60*epsilon_g*epsilon_r*p_z + 144*epsilon_g*epsilon_r + 30*epsilon_g*p_z - 36*epsilon_g - 36*epsilon_r + 9)*sqrt(80*epsilon_g**2*epsilon_r**2*p_z**2 - 192*epsilon_g**2*epsilon_r**2*p_z + 64*epsilon_g**2*epsilon_r**2 + 80*epsilon_g**2*epsilon_r*p_z**2 - 256*epsilon_g**2*epsilon_r*p_z + 128*epsilon_g**2*epsilon_r - 44*epsilon_g**2*p_z**2 + 80*epsilon_g**2*p_z - 32*epsilon_g**2 + 48*epsilon_g*epsilon_r**2*p_z - 32*epsilon_g*epsilon_r**2 + 64*epsilon_g*epsilon_r*p_z - 64*epsilon_g*epsilon_r - 20*epsilon_g*p_z + 16*epsilon_g + 4*epsilon_r**2 + 8*epsilon_r - 2) + 2*(10*epsilon_g*epsilon_r*p_z - 36*epsilon_g*epsilon_r - 11*epsilon_g*p_z + 12*epsilon_g + 9*epsilon_r - 3)*(20*epsilon_g*epsilon_r*p_z - 48*epsilon_g*epsilon_r - 10*epsilon_g*p_z + 12*epsilon_g + 12*epsilon_r - 3))*log((4*F*(20*epsilon_g*epsilon_r*p_z - 48*epsilon_g*epsilon_r - 10*epsilon_g*p_z + 12*epsilon_g + 12*epsilon_r - 3) - 20*epsilon_g*epsilon_r*p_z + 72*epsilon_g*epsilon_r + 22*epsilon_g*p_z - 24*epsilon_g - 18*epsilon_r + 3*sqrt(2)*sqrt(40*epsilon_g**2*epsilon_r**2*p_z**2 - 96*epsilon_g**2*epsilon_r**2*p_z + 32*epsilon_g**2*epsilon_r**2 + 40*epsilon_g**2*epsilon_r*p_z**2 - 128*epsilon_g**2*epsilon_r*p_z + 64*epsilon_g**2*epsilon_r - 22*epsilon_g**2*p_z**2 + 40*epsilon_g**2*p_z - 16*epsilon_g**2 + 24*epsilon_g*epsilon_r**2*p_z - 16*epsilon_g*epsilon_r**2 + 32*epsilon_g*epsilon_r*p_z - 32*epsilon_g*epsilon_r - 10*epsilon_g*p_z + 8*epsilon_g + 2*epsilon_r**2 + 4*epsilon_r - 1) + 6)/(4*(20*epsilon_g*epsilon_r*p_z - 48*epsilon_g*epsilon_r - 10*epsilon_g*p_z + 12*epsilon_g + 12*epsilon_r - 3)))/4 - (20*epsilon_g*epsilon_r*p_z - 48*epsilon_g*epsilon_r - 10*epsilon_g*p_z + 12*epsilon_g + 12*epsilon_r - 3)*(20*epsilon_g*epsilon_r*p_z - 72*epsilon_g*epsilon_r - 22*epsilon_g*p_z + 24*epsilon_g + 18*epsilon_r + 3*sqrt(80*epsilon_g**2*epsilon_r**2*p_z**2 - 192*epsilon_g**2*epsilon_r**2*p_z + 64*epsilon_g**2*epsilon_r**2 + 80*epsilon_g**2*epsilon_r*p_z**2 - 256*epsilon_g**2*epsilon_r*p_z + 128*epsilon_g**2*epsilon_r - 44*epsilon_g**2*p_z**2 + 80*epsilon_g**2*p_z - 32*epsilon_g**2 + 48*epsilon_g*epsilon_r**2*p_z - 32*epsilon_g*epsilon_r**2 + 64*epsilon_g*epsilon_r*p_z - 64*epsilon_g*epsilon_r - 20*epsilon_g*p_z + 16*epsilon_g + 4*epsilon_r**2 + 8*epsilon_r - 2) - 6)*log((80*F*epsilon_g*epsilon_r*p_z - 192*F*epsilon_g*epsilon_r - 40*F*epsilon_g*p_z + 48*F*epsilon_g + 48*F*epsilon_r - 12*F - 20*epsilon_g*epsilon_r*p_z + 72*epsilon_g*epsilon_r + 22*epsilon_g*p_z - 24*epsilon_g - 18*epsilon_r - 3*sqrt(2)*sqrt(40*epsilon_g**2*epsilon_r**2*p_z**2 - 96*epsilon_g**2*epsilon_r**2*p_z + 32*epsilon_g**2*epsilon_r**2 + 40*epsilon_g**2*epsilon_r*p_z**2 - 128*epsilon_g**2*epsilon_r*p_z + 64*epsilon_g**2*epsilon_r - 22*epsilon_g**2*p_z**2 + 40*epsilon_g**2*p_z - 16*epsilon_g**2 + 24*epsilon_g*epsilon_r**2*p_z - 16*epsilon_g*epsilon_r**2 + 32*epsilon_g*epsilon_r*p_z - 32*epsilon_g*epsilon_r - 10*epsilon_g*p_z + 8*epsilon_g + 2*epsilon_r**2 + 4*epsilon_r - 1) + 6)/(4*(20*epsilon_g*epsilon_r*p_z - 48*epsilon_g*epsilon_r - 10*epsilon_g*p_z + 12*epsilon_g + 12*epsilon_r - 3)))/4)/(20*epsilon_g*epsilon_r*p_z - 48*epsilon_g*epsilon_r - 10*epsilon_g*p_z + 12*epsilon_g + 12*epsilon_r - 3)**2"
      ]
     },
     "execution_count": 133,
     "metadata": {},
     "output_type": "execute_result"
    }
   ],
   "source": [
    "third_order_15=sy.simplify(sy.integrate(integra15,F))\n",
    "third_order_15"
   ]
  },
  {
   "cell_type": "code",
   "execution_count": 134,
   "id": "5c10556b",
   "metadata": {},
   "outputs": [
    {
     "name": "stdout",
     "output_type": "stream",
     "text": [
      "4*(20*epsilon_g*epsilon_r*p_z - 48*epsilon_g*epsilon_r - 10*epsilon_g*p_z + 12*epsilon_g + 12*epsilon_r - 3)**2\n"
     ]
    }
   ],
   "source": [
    "third_numer15,third_denom15=third_order_15.as_numer_denom()\n",
    "print(third_denom15)"
   ]
  },
  {
   "cell_type": "code",
   "execution_count": 135,
   "id": "264ae66f",
   "metadata": {},
   "outputs": [
    {
     "name": "stdout",
     "output_type": "stream",
     "text": [
      "(epsilon_g - 1)**2*(epsilon_g*(epsilon_g - 2)*(p_x*(1 - F)**2*((-6*F*(eta**2 + (eta - 1)**2) + epsilon_g*(2*F + 1)*(epsilon_g - 2)*(p_x + p_y + p_z) + 2*eta*(2*F + 1)*(eta - 1))**2 + (epsilon_g*(2*F + 1)*(epsilon_g - 2)*(p_x + p_y + p_z) + 2*eta*(2*F + 1)*(eta - 1) - 2*(1 - F)*(eta**2 + (eta - 1)**2))**2) + 2*p_y*(1 - F)**2*(-6*F*(eta**2 + (eta - 1)**2) + epsilon_g*(2*F + 1)*(epsilon_g - 2)*(p_x + p_y + p_z) + 2*eta*(2*F + 1)*(eta - 1))*(epsilon_g*(2*F + 1)*(epsilon_g - 2)*(p_x + p_y + p_z) + 2*eta*(2*F + 1)*(eta - 1) - 2*(1 - F)*(eta**2 + (eta - 1)**2)) + 2*p_z*(epsilon_g*(epsilon_g - 2)*(2*p_x*(1 - F)**2 + 2*p_y*(1 - F)**2 + p_z*(9*F**2 + (1 - F)**2)) + 2*eta*(1 - F)*(2*F + 1)*(eta - 1) - 2*(1 - F)**2*(eta**2 + (eta - 1)**2))*(2*epsilon_g*(1 - F)*(epsilon_g - 2)*(3*F*p_z + p_x*(1 - F) + p_y*(1 - F)) + 2*eta*(1 - F)*(2*F + 1)*(eta - 1) - (9*F**2 + (1 - F)**2)*(eta**2 + (eta - 1)**2))) + 2*eta*(1 - F)*(eta - 1)*((-6*F*(eta**2 + (eta - 1)**2) + epsilon_g*(2*F + 1)*(epsilon_g - 2)*(p_x + p_y + p_z) + 2*eta*(2*F + 1)*(eta - 1))*(epsilon_g*(epsilon_g - 2)*(2*p_x*(1 - F)**2 + 2*p_y*(1 - F)**2 + p_z*(9*F**2 + (1 - F)**2)) + 2*eta*(1 - F)*(2*F + 1)*(eta - 1) - 2*(1 - F)**2*(eta**2 + (eta - 1)**2)) + (2*epsilon_g*(1 - F)*(epsilon_g - 2)*(3*F*p_z + p_x*(1 - F) + p_y*(1 - F)) + 2*eta*(1 - F)*(2*F + 1)*(eta - 1) - (9*F**2 + (1 - F)**2)*(eta**2 + (eta - 1)**2))*(epsilon_g*(2*F + 1)*(epsilon_g - 2)*(p_x + p_y + p_z) + 2*eta*(2*F + 1)*(eta - 1) - 2*(1 - F)*(eta**2 + (eta - 1)**2))) - (eta**2 + (eta - 1)**2)*((epsilon_g*(epsilon_g - 2)*(2*p_x*(1 - F)**2 + 2*p_y*(1 - F)**2 + p_z*(9*F**2 + (1 - F)**2)) + 2*eta*(1 - F)*(2*F + 1)*(eta - 1) - 2*(1 - F)**2*(eta**2 + (eta - 1)**2))**2 + (2*epsilon_g*(1 - F)*(epsilon_g - 2)*(3*F*p_z + p_x*(1 - F) + p_y*(1 - F)) + 2*eta*(1 - F)*(2*F + 1)*(eta - 1) - (9*F**2 + (1 - F)**2)*(eta**2 + (eta - 1)**2))**2))/(8*eta*(1 - F)*(eta - 1)*(3*F*(eta**2 + (eta - 1)**2) - epsilon_g*(2*F + 1)*(epsilon_g - 2)*(p_x + p_y + p_z) - 2*eta*(2*F + 1)*(eta - 1) + (1 - F)*(eta**2 + (eta - 1)**2))*(-2*epsilon_g*(1 - F)*(epsilon_g - 2)*(3*F*p_z + p_x*(1 - F) + p_y*(1 - F)) - epsilon_g*(epsilon_g - 2)*(2*p_x*(1 - F)**2 + 2*p_y*(1 - F)**2 + p_z*(9*F**2 + (1 - F)**2)) - 4*eta*(1 - F)*(2*F + 1)*(eta - 1) + 2*(1 - F)**2*(eta**2 + (eta - 1)**2) + (9*F**2 + (1 - F)**2)*(eta**2 + (eta - 1)**2)) - (eta**2 + (eta - 1)**2)*(4*(1 - F)**2*(3*F*(eta**2 + (eta - 1)**2) - epsilon_g*(2*F + 1)*(epsilon_g - 2)*(p_x + p_y + p_z) - 2*eta*(2*F + 1)*(eta - 1) + (1 - F)*(eta**2 + (eta - 1)**2))**2 + (-2*epsilon_g*(1 - F)*(epsilon_g - 2)*(3*F*p_z + p_x*(1 - F) + p_y*(1 - F)) - epsilon_g*(epsilon_g - 2)*(2*p_x*(1 - F)**2 + 2*p_y*(1 - F)**2 + p_z*(9*F**2 + (1 - F)**2)) - 4*eta*(1 - F)*(2*F + 1)*(eta - 1) + 2*(1 - F)**2*(eta**2 + (eta - 1)**2) + (9*F**2 + (1 - F)**2)*(eta**2 + (eta - 1)**2))**2))\n"
     ]
    }
   ],
   "source": [
    "simF=ecua.subs(intermsub)\n",
    "print(simF)"
   ]
  }
 ],
 "metadata": {
  "kernelspec": {
   "display_name": "Python 3",
   "language": "python",
   "name": "python3"
  },
  "language_info": {
   "codemirror_mode": {
    "name": "ipython",
    "version": 3
   },
   "file_extension": ".py",
   "mimetype": "text/x-python",
   "name": "python",
   "nbconvert_exporter": "python",
   "pygments_lexer": "ipython3",
   "version": "3.8.20"
  }
 },
 "nbformat": 4,
 "nbformat_minor": 5
}
