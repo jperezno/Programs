{
 "cells": [
  {
   "cell_type": "code",
   "execution_count": 194,
   "id": "cb167bb3",
   "metadata": {},
   "outputs": [],
   "source": [
    "import sympy as sy\n",
    "from sympy import symbols\n",
    "p_x,p_y,p_z=symbols('p_x p_y p_z')\n",
    "F,A,B,C,D = symbols('F A B C D')\n",
    "x1,x2,y1,y2,eta,E,epsilon_g,epsilon_r = symbols('x1 x2 y1 y2 eta E epsilon_g epsilon_r')\n",
    "F_t,F_o = symbols('F_t F_0')"
   ]
  },
  {
   "cell_type": "code",
   "execution_count": 195,
   "id": "4fb22d96",
   "metadata": {},
   "outputs": [
    {
     "data": {
      "text/latex": [
       "$\\displaystyle \\frac{\\left(1 - \\epsilon_{g}\\right)^{2} \\left(2 \\eta \\left(1 - \\eta\\right) \\left(A C + B D\\right) + \\left(A^{2} + B^{2}\\right) \\left(\\eta^{2} + \\left(1 - \\eta\\right)^{2}\\right) + \\left(- \\epsilon_{g}^{2} + 2 \\epsilon_{g}\\right) \\left(2 A B p_{z} + 2 C D p_{y} + p_{x} \\left(C^{2} + D^{2}\\right)\\right)\\right)}{2 \\eta \\left(1 - \\eta\\right) \\left(2 A + 2 B\\right) \\left(C + D\\right) + \\left(\\eta^{2} + \\left(1 - \\eta\\right)^{2}\\right) \\left(\\left(A + B\\right)^{2} + \\left(C + D\\right)^{2}\\right)}$"
      ],
      "text/plain": [
       "(1 - epsilon_g)**2*(2*eta*(1 - eta)*(A*C + B*D) + (A**2 + B**2)*(eta**2 + (1 - eta)**2) + (-epsilon_g**2 + 2*epsilon_g)*(2*A*B*p_z + 2*C*D*p_y + p_x*(C**2 + D**2)))/(2*eta*(1 - eta)*(2*A + 2*B)*(C + D) + (eta**2 + (1 - eta)**2)*((A + B)**2 + (C + D)**2))"
      ]
     },
     "execution_count": 195,
     "metadata": {},
     "output_type": "execute_result"
    }
   ],
   "source": [
    "#First we declare the equations\n",
    "A_error=(((A**2)+(B**2))*((eta**2)+((1-eta)**2)) + (((A*C)+(B*D))*(2*(eta)*(1-eta))) +(2*(epsilon_g) - (epsilon_g**2))*((p_x*((C*C)+(D*D)))+(p_y*((C*D)+(C*D)))+(p_z*((A*B)+(A*B)))))/((((A+B)**2+(C+D)**2)*((eta**2)+((1-eta)**2)) + (2*(A+B)*(C+D)*(2*(eta)*(1-eta))))/((1-epsilon_g)**2))\n",
    "# make same\n",
    "C_error=(((C**2)+(D**2))*((eta**2)+((1-eta)**2)) + (((C*A)+(D*B))*(2*(eta)*(1-eta))) +(2*(epsilon_g) - (epsilon_g**2))*((p_x*((C*A)+(D*B)))+(p_y*((C*B)+(D*A)))+(p_z*((D*A)+(B*C)))))/((((A+B)**2+(C+D)**2)*((eta**2)+((1-eta)**2)) + (2*(C+D)*(A+B)*(2*(eta)*(1-eta))))/((1-epsilon_g)**2))\n",
    "B_error=((2*A*B)*((eta**2)+((1-eta)**2)) + (((C*B)+(A*D))*(2*(eta)*(1-eta))) + (2*(epsilon_g) - (epsilon_g**2))*((p_x*((A*D)+(B*C)))+(p_y*((A*C)+(B*D)))+(p_z*((A*C)+(B*D)))))/((((A+B)**2+(C+D)**2)*((eta**2)+((1-eta)**2)) + (2*(A+B)*(C+D)*(2*(eta)*(1-eta))))/((1-epsilon_g)**2))\n",
    "D_error=((2*C*D)*((eta**2)+((1-eta)**2)) + (((A*D)+(C*B))*(2*(eta)*(1-eta))) + (2*(epsilon_g) - (epsilon_g**2))*((p_x*((C*D)+(D*C)))+(p_y*((C*C)+(D*D)))+(p_z*((A*A)+(B*B)))))/((((A+B)**2+(C+D)**2)*((eta**2)+((1-eta)**2)) + (2*(A+B)*(C+D)*(2*(eta)*(1-eta))))/((1-epsilon_g)**2))\n",
    "A_error"
   ]
  },
  {
   "cell_type": "code",
   "execution_count": 196,
   "id": "eeeffe20",
   "metadata": {},
   "outputs": [
    {
     "data": {
      "text/latex": [
       "$\\displaystyle \\frac{\\left(1 - \\epsilon_{g}\\right)^{2} \\left(2 \\eta \\left(1 - \\eta\\right) \\left(B D + C F\\right) + \\left(B^{2} + F^{2}\\right) \\left(\\eta^{2} + \\left(1 - \\eta\\right)^{2}\\right) + \\left(- \\epsilon_{g}^{2} + 2 \\epsilon_{g}\\right) \\left(2 B F p_{z} + 2 C D p_{y} + p_{x} \\left(C^{2} + D^{2}\\right)\\right)\\right)}{2 \\eta \\left(1 - \\eta\\right) \\left(2 B + 2 F\\right) \\left(C + D\\right) + \\left(\\eta^{2} + \\left(1 - \\eta\\right)^{2}\\right) \\left(\\left(B + F\\right)^{2} + \\left(C + D\\right)^{2}\\right)}$"
      ],
      "text/plain": [
       "(1 - epsilon_g)**2*(2*eta*(1 - eta)*(B*D + C*F) + (B**2 + F**2)*(eta**2 + (1 - eta)**2) + (-epsilon_g**2 + 2*epsilon_g)*(2*B*F*p_z + 2*C*D*p_y + p_x*(C**2 + D**2)))/(2*eta*(1 - eta)*(2*B + 2*F)*(C + D) + (eta**2 + (1 - eta)**2)*((B + F)**2 + (C + D)**2))"
      ]
     },
     "execution_count": 196,
     "metadata": {},
     "output_type": "execute_result"
    }
   ],
   "source": [
    "# Now let's declare an intermediate directory substitute\n",
    "changeA = {\n",
    "    A:F}\n",
    "changevar={\n",
    "    eta:1-epsilon_r,\n",
    "    F:1-E}\n",
    "AtoF = A_error.subs(changeA)\n",
    "intermsub={\n",
    "    E:1-F\n",
    "}\n",
    "hybridsubstitution = {\n",
    "    B:(1-F)/3,\n",
    "    C:(1-F)/3,\n",
    "    D:(1-F)/3}\n",
    "AtoF = A_error.subs(changeA)\n",
    "Anum,normalization = AtoF.as_numer_denom()\n",
    "AtoF\n"
   ]
  },
  {
   "cell_type": "code",
   "execution_count": 197,
   "id": "38667084",
   "metadata": {},
   "outputs": [
    {
     "data": {
      "text/latex": [
       "$\\displaystyle \\frac{\\left(\\epsilon_{g} - 1\\right)^{2} \\left(- 2 E \\epsilon_{g} \\left(\\epsilon_{g} - 2\\right) \\left(E p_{x} + E p_{y} - 3 p_{z} \\left(E - 1\\right)\\right) + 2 E \\eta \\left(2 E - 3\\right) \\left(\\eta - 1\\right) + \\left(E^{2} + 9 \\left(E - 1\\right)^{2}\\right) \\left(\\eta^{2} + \\left(\\eta - 1\\right)^{2}\\right)\\right)}{8 E \\eta \\left(2 E - 3\\right) \\left(\\eta - 1\\right) + \\left(4 E^{2} + \\left(2 E - 3\\right)^{2}\\right) \\left(\\eta^{2} + \\left(\\eta - 1\\right)^{2}\\right)}$"
      ],
      "text/plain": [
       "(epsilon_g - 1)**2*(-2*E*epsilon_g*(epsilon_g - 2)*(E*p_x + E*p_y - 3*p_z*(E - 1)) + 2*E*eta*(2*E - 3)*(eta - 1) + (E**2 + 9*(E - 1)**2)*(eta**2 + (eta - 1)**2))/(8*E*eta*(2*E - 3)*(eta - 1) + (4*E**2 + (2*E - 3)**2)*(eta**2 + (eta - 1)**2))"
      ]
     },
     "execution_count": 197,
     "metadata": {},
     "output_type": "execute_result"
    }
   ],
   "source": [
    "\n",
    "# AFTER PUR\n",
    "firstroundsubstitution = {\n",
    "    A:1-E,\n",
    "    B:(E)/3,\n",
    "    C:(E)/3,\n",
    "    D:(E)/3}\n",
    "A_1=sy.simplify(A_error.subs(firstroundsubstitution))\n",
    "B_1=sy.simplify(B_error.subs(firstroundsubstitution))\n",
    "C_1=sy.simplify(C_error.subs(firstroundsubstitution))\n",
    "D_1=sy.simplify(D_error.subs(firstroundsubstitution))\n",
    "sy.simplify(A_1)"
   ]
  },
  {
   "cell_type": "code",
   "execution_count": 198,
   "id": "a560eb5f",
   "metadata": {},
   "outputs": [
    {
     "data": {
      "text/latex": [
       "$\\displaystyle \\frac{\\left(1 - \\epsilon_{g}\\right)^{2} \\left(2 \\eta \\left(1 - \\eta\\right) \\left(\\frac{E \\left(\\epsilon_{g} - 1\\right)^{4} \\left(2 E \\left(\\eta^{2} + \\left(\\eta - 1\\right)^{2}\\right) - \\epsilon_{g} \\left(3 - 2 E\\right) \\left(\\epsilon_{g} - 2\\right) \\left(p_{x} + p_{y} + p_{z}\\right) - 2 \\eta \\left(3 - 2 E\\right) \\left(\\eta - 1\\right)\\right) \\left(- 2 E \\epsilon_{g} \\left(\\epsilon_{g} - 2\\right) \\left(E p_{x} + E p_{y} - 3 p_{z} \\left(E - 1\\right)\\right) - 2 E \\eta \\left(3 - 2 E\\right) \\left(\\eta - 1\\right) + \\left(E^{2} + 9 \\left(E - 1\\right)^{2}\\right) \\left(\\eta^{2} + \\left(\\eta - 1\\right)^{2}\\right)\\right)}{\\left(8 E \\eta \\left(2 E - 3\\right) \\left(\\eta - 1\\right) + \\left(4 E^{2} + \\left(2 E - 3\\right)^{2}\\right) \\left(\\eta^{2} + \\left(\\eta - 1\\right)^{2}\\right)\\right)^{2}} + \\frac{E \\left(\\epsilon_{g} - 1\\right)^{4} \\left(2 E^{2} \\left(\\eta^{2} + \\left(\\eta - 1\\right)^{2}\\right) - 2 E \\eta \\left(3 - 2 E\\right) \\left(\\eta - 1\\right) - \\epsilon_{g} \\left(\\epsilon_{g} - 2\\right) \\left(2 E^{2} p_{x} + 2 E^{2} p_{y} + p_{z} \\left(E^{2} + 9 \\left(E - 1\\right)^{2}\\right)\\right)\\right) \\left(- \\epsilon_{g} \\left(3 - 2 E\\right) \\left(\\epsilon_{g} - 2\\right) \\left(p_{x} + p_{y} + p_{z}\\right) - 2 \\eta \\left(3 - 2 E\\right) \\left(\\eta - 1\\right) - 6 \\left(E - 1\\right) \\left(\\eta^{2} + \\left(\\eta - 1\\right)^{2}\\right)\\right)}{\\left(8 E \\eta \\left(2 E - 3\\right) \\left(\\eta - 1\\right) + \\left(4 E^{2} + \\left(2 E - 3\\right)^{2}\\right) \\left(\\eta^{2} + \\left(\\eta - 1\\right)^{2}\\right)\\right)^{2}}\\right) + \\left(- \\epsilon_{g}^{2} + 2 \\epsilon_{g}\\right) \\left(\\frac{2 E^{2} p_{y} \\left(\\epsilon_{g} - 1\\right)^{4} \\left(2 E \\left(\\eta^{2} + \\left(\\eta - 1\\right)^{2}\\right) - \\epsilon_{g} \\left(3 - 2 E\\right) \\left(\\epsilon_{g} - 2\\right) \\left(p_{x} + p_{y} + p_{z}\\right) - 2 \\eta \\left(3 - 2 E\\right) \\left(\\eta - 1\\right)\\right) \\left(- \\epsilon_{g} \\left(3 - 2 E\\right) \\left(\\epsilon_{g} - 2\\right) \\left(p_{x} + p_{y} + p_{z}\\right) - 2 \\eta \\left(3 - 2 E\\right) \\left(\\eta - 1\\right) - 6 \\left(E - 1\\right) \\left(\\eta^{2} + \\left(\\eta - 1\\right)^{2}\\right)\\right)}{\\left(8 E \\eta \\left(2 E - 3\\right) \\left(\\eta - 1\\right) + \\left(4 E^{2} + \\left(2 E - 3\\right)^{2}\\right) \\left(\\eta^{2} + \\left(\\eta - 1\\right)^{2}\\right)\\right)^{2}} + p_{x} \\left(\\frac{E^{2} \\left(\\epsilon_{g} - 1\\right)^{4} \\left(2 E \\left(\\eta^{2} + \\left(\\eta - 1\\right)^{2}\\right) - \\epsilon_{g} \\left(3 - 2 E\\right) \\left(\\epsilon_{g} - 2\\right) \\left(p_{x} + p_{y} + p_{z}\\right) - 2 \\eta \\left(3 - 2 E\\right) \\left(\\eta - 1\\right)\\right)^{2}}{\\left(8 E \\eta \\left(2 E - 3\\right) \\left(\\eta - 1\\right) + \\left(4 E^{2} + \\left(2 E - 3\\right)^{2}\\right) \\left(\\eta^{2} + \\left(\\eta - 1\\right)^{2}\\right)\\right)^{2}} + \\frac{E^{2} \\left(\\epsilon_{g} - 1\\right)^{4} \\left(- \\epsilon_{g} \\left(3 - 2 E\\right) \\left(\\epsilon_{g} - 2\\right) \\left(p_{x} + p_{y} + p_{z}\\right) - 2 \\eta \\left(3 - 2 E\\right) \\left(\\eta - 1\\right) - 6 \\left(E - 1\\right) \\left(\\eta^{2} + \\left(\\eta - 1\\right)^{2}\\right)\\right)^{2}}{\\left(8 E \\eta \\left(2 E - 3\\right) \\left(\\eta - 1\\right) + \\left(4 E^{2} + \\left(2 E - 3\\right)^{2}\\right) \\left(\\eta^{2} + \\left(\\eta - 1\\right)^{2}\\right)\\right)^{2}}\\right) + \\frac{2 p_{z} \\left(\\epsilon_{g} - 1\\right)^{4} \\left(2 E^{2} \\left(\\eta^{2} + \\left(\\eta - 1\\right)^{2}\\right) - 2 E \\eta \\left(3 - 2 E\\right) \\left(\\eta - 1\\right) - \\epsilon_{g} \\left(\\epsilon_{g} - 2\\right) \\left(2 E^{2} p_{x} + 2 E^{2} p_{y} + p_{z} \\left(E^{2} + 9 \\left(E - 1\\right)^{2}\\right)\\right)\\right) \\left(- 2 E \\epsilon_{g} \\left(\\epsilon_{g} - 2\\right) \\left(E p_{x} + E p_{y} - 3 p_{z} \\left(E - 1\\right)\\right) - 2 E \\eta \\left(3 - 2 E\\right) \\left(\\eta - 1\\right) + \\left(E^{2} + 9 \\left(E - 1\\right)^{2}\\right) \\left(\\eta^{2} + \\left(\\eta - 1\\right)^{2}\\right)\\right)}{\\left(8 E \\eta \\left(2 E - 3\\right) \\left(\\eta - 1\\right) + \\left(4 E^{2} + \\left(2 E - 3\\right)^{2}\\right) \\left(\\eta^{2} + \\left(\\eta - 1\\right)^{2}\\right)\\right)^{2}}\\right) + \\left(\\eta^{2} + \\left(1 - \\eta\\right)^{2}\\right) \\left(\\frac{\\left(\\epsilon_{g} - 1\\right)^{4} \\left(2 E^{2} \\left(\\eta^{2} + \\left(\\eta - 1\\right)^{2}\\right) - 2 E \\eta \\left(3 - 2 E\\right) \\left(\\eta - 1\\right) - \\epsilon_{g} \\left(\\epsilon_{g} - 2\\right) \\left(2 E^{2} p_{x} + 2 E^{2} p_{y} + p_{z} \\left(E^{2} + 9 \\left(E - 1\\right)^{2}\\right)\\right)\\right)^{2}}{\\left(8 E \\eta \\left(2 E - 3\\right) \\left(\\eta - 1\\right) + \\left(4 E^{2} + \\left(2 E - 3\\right)^{2}\\right) \\left(\\eta^{2} + \\left(\\eta - 1\\right)^{2}\\right)\\right)^{2}} + \\frac{\\left(\\epsilon_{g} - 1\\right)^{4} \\left(- 2 E \\epsilon_{g} \\left(\\epsilon_{g} - 2\\right) \\left(E p_{x} + E p_{y} - 3 p_{z} \\left(E - 1\\right)\\right) - 2 E \\eta \\left(3 - 2 E\\right) \\left(\\eta - 1\\right) + \\left(E^{2} + 9 \\left(E - 1\\right)^{2}\\right) \\left(\\eta^{2} + \\left(\\eta - 1\\right)^{2}\\right)\\right)^{2}}{\\left(8 E \\eta \\left(2 E - 3\\right) \\left(\\eta - 1\\right) + \\left(4 E^{2} + \\left(2 E - 3\\right)^{2}\\right) \\left(\\eta^{2} + \\left(\\eta - 1\\right)^{2}\\right)\\right)^{2}}\\right)\\right)}{2 \\eta \\left(1 - \\eta\\right) \\left(\\frac{2 \\left(\\epsilon_{g} - 1\\right)^{2} \\left(2 E^{2} \\left(\\eta^{2} + \\left(\\eta - 1\\right)^{2}\\right) - 2 E \\eta \\left(3 - 2 E\\right) \\left(\\eta - 1\\right) - \\epsilon_{g} \\left(\\epsilon_{g} - 2\\right) \\left(2 E^{2} p_{x} + 2 E^{2} p_{y} + p_{z} \\left(E^{2} + 9 \\left(E - 1\\right)^{2}\\right)\\right)\\right)}{8 E \\eta \\left(2 E - 3\\right) \\left(\\eta - 1\\right) + \\left(4 E^{2} + \\left(2 E - 3\\right)^{2}\\right) \\left(\\eta^{2} + \\left(\\eta - 1\\right)^{2}\\right)} + \\frac{2 \\left(\\epsilon_{g} - 1\\right)^{2} \\left(- 2 E \\epsilon_{g} \\left(\\epsilon_{g} - 2\\right) \\left(E p_{x} + E p_{y} - 3 p_{z} \\left(E - 1\\right)\\right) - 2 E \\eta \\left(3 - 2 E\\right) \\left(\\eta - 1\\right) + \\left(E^{2} + 9 \\left(E - 1\\right)^{2}\\right) \\left(\\eta^{2} + \\left(\\eta - 1\\right)^{2}\\right)\\right)}{8 E \\eta \\left(2 E - 3\\right) \\left(\\eta - 1\\right) + \\left(4 E^{2} + \\left(2 E - 3\\right)^{2}\\right) \\left(\\eta^{2} + \\left(\\eta - 1\\right)^{2}\\right)}\\right) \\left(\\frac{E \\left(\\epsilon_{g} - 1\\right)^{2} \\left(2 E \\left(\\eta^{2} + \\left(\\eta - 1\\right)^{2}\\right) - \\epsilon_{g} \\left(3 - 2 E\\right) \\left(\\epsilon_{g} - 2\\right) \\left(p_{x} + p_{y} + p_{z}\\right) - 2 \\eta \\left(3 - 2 E\\right) \\left(\\eta - 1\\right)\\right)}{8 E \\eta \\left(2 E - 3\\right) \\left(\\eta - 1\\right) + \\left(4 E^{2} + \\left(2 E - 3\\right)^{2}\\right) \\left(\\eta^{2} + \\left(\\eta - 1\\right)^{2}\\right)} + \\frac{E \\left(\\epsilon_{g} - 1\\right)^{2} \\left(- \\epsilon_{g} \\left(3 - 2 E\\right) \\left(\\epsilon_{g} - 2\\right) \\left(p_{x} + p_{y} + p_{z}\\right) - 2 \\eta \\left(3 - 2 E\\right) \\left(\\eta - 1\\right) - 6 \\left(E - 1\\right) \\left(\\eta^{2} + \\left(\\eta - 1\\right)^{2}\\right)\\right)}{8 E \\eta \\left(2 E - 3\\right) \\left(\\eta - 1\\right) + \\left(4 E^{2} + \\left(2 E - 3\\right)^{2}\\right) \\left(\\eta^{2} + \\left(\\eta - 1\\right)^{2}\\right)}\\right) + \\left(\\eta^{2} + \\left(1 - \\eta\\right)^{2}\\right) \\left(\\left(\\frac{\\left(\\epsilon_{g} - 1\\right)^{2} \\left(2 E^{2} \\left(\\eta^{2} + \\left(\\eta - 1\\right)^{2}\\right) - 2 E \\eta \\left(3 - 2 E\\right) \\left(\\eta - 1\\right) - \\epsilon_{g} \\left(\\epsilon_{g} - 2\\right) \\left(2 E^{2} p_{x} + 2 E^{2} p_{y} + p_{z} \\left(E^{2} + 9 \\left(E - 1\\right)^{2}\\right)\\right)\\right)}{8 E \\eta \\left(2 E - 3\\right) \\left(\\eta - 1\\right) + \\left(4 E^{2} + \\left(2 E - 3\\right)^{2}\\right) \\left(\\eta^{2} + \\left(\\eta - 1\\right)^{2}\\right)} + \\frac{\\left(\\epsilon_{g} - 1\\right)^{2} \\left(- 2 E \\epsilon_{g} \\left(\\epsilon_{g} - 2\\right) \\left(E p_{x} + E p_{y} - 3 p_{z} \\left(E - 1\\right)\\right) - 2 E \\eta \\left(3 - 2 E\\right) \\left(\\eta - 1\\right) + \\left(E^{2} + 9 \\left(E - 1\\right)^{2}\\right) \\left(\\eta^{2} + \\left(\\eta - 1\\right)^{2}\\right)\\right)}{8 E \\eta \\left(2 E - 3\\right) \\left(\\eta - 1\\right) + \\left(4 E^{2} + \\left(2 E - 3\\right)^{2}\\right) \\left(\\eta^{2} + \\left(\\eta - 1\\right)^{2}\\right)}\\right)^{2} + \\left(\\frac{E \\left(\\epsilon_{g} - 1\\right)^{2} \\left(2 E \\left(\\eta^{2} + \\left(\\eta - 1\\right)^{2}\\right) - \\epsilon_{g} \\left(3 - 2 E\\right) \\left(\\epsilon_{g} - 2\\right) \\left(p_{x} + p_{y} + p_{z}\\right) - 2 \\eta \\left(3 - 2 E\\right) \\left(\\eta - 1\\right)\\right)}{8 E \\eta \\left(2 E - 3\\right) \\left(\\eta - 1\\right) + \\left(4 E^{2} + \\left(2 E - 3\\right)^{2}\\right) \\left(\\eta^{2} + \\left(\\eta - 1\\right)^{2}\\right)} + \\frac{E \\left(\\epsilon_{g} - 1\\right)^{2} \\left(- \\epsilon_{g} \\left(3 - 2 E\\right) \\left(\\epsilon_{g} - 2\\right) \\left(p_{x} + p_{y} + p_{z}\\right) - 2 \\eta \\left(3 - 2 E\\right) \\left(\\eta - 1\\right) - 6 \\left(E - 1\\right) \\left(\\eta^{2} + \\left(\\eta - 1\\right)^{2}\\right)\\right)}{8 E \\eta \\left(2 E - 3\\right) \\left(\\eta - 1\\right) + \\left(4 E^{2} + \\left(2 E - 3\\right)^{2}\\right) \\left(\\eta^{2} + \\left(\\eta - 1\\right)^{2}\\right)}\\right)^{2}\\right)}$"
      ],
      "text/plain": [
       "(1 - epsilon_g)**2*(2*eta*(1 - eta)*(E*(epsilon_g - 1)**4*(2*E*(eta**2 + (eta - 1)**2) - epsilon_g*(3 - 2*E)*(epsilon_g - 2)*(p_x + p_y + p_z) - 2*eta*(3 - 2*E)*(eta - 1))*(-2*E*epsilon_g*(epsilon_g - 2)*(E*p_x + E*p_y - 3*p_z*(E - 1)) - 2*E*eta*(3 - 2*E)*(eta - 1) + (E**2 + 9*(E - 1)**2)*(eta**2 + (eta - 1)**2))/(8*E*eta*(2*E - 3)*(eta - 1) + (4*E**2 + (2*E - 3)**2)*(eta**2 + (eta - 1)**2))**2 + E*(epsilon_g - 1)**4*(2*E**2*(eta**2 + (eta - 1)**2) - 2*E*eta*(3 - 2*E)*(eta - 1) - epsilon_g*(epsilon_g - 2)*(2*E**2*p_x + 2*E**2*p_y + p_z*(E**2 + 9*(E - 1)**2)))*(-epsilon_g*(3 - 2*E)*(epsilon_g - 2)*(p_x + p_y + p_z) - 2*eta*(3 - 2*E)*(eta - 1) - 6*(E - 1)*(eta**2 + (eta - 1)**2))/(8*E*eta*(2*E - 3)*(eta - 1) + (4*E**2 + (2*E - 3)**2)*(eta**2 + (eta - 1)**2))**2) + (-epsilon_g**2 + 2*epsilon_g)*(2*E**2*p_y*(epsilon_g - 1)**4*(2*E*(eta**2 + (eta - 1)**2) - epsilon_g*(3 - 2*E)*(epsilon_g - 2)*(p_x + p_y + p_z) - 2*eta*(3 - 2*E)*(eta - 1))*(-epsilon_g*(3 - 2*E)*(epsilon_g - 2)*(p_x + p_y + p_z) - 2*eta*(3 - 2*E)*(eta - 1) - 6*(E - 1)*(eta**2 + (eta - 1)**2))/(8*E*eta*(2*E - 3)*(eta - 1) + (4*E**2 + (2*E - 3)**2)*(eta**2 + (eta - 1)**2))**2 + p_x*(E**2*(epsilon_g - 1)**4*(2*E*(eta**2 + (eta - 1)**2) - epsilon_g*(3 - 2*E)*(epsilon_g - 2)*(p_x + p_y + p_z) - 2*eta*(3 - 2*E)*(eta - 1))**2/(8*E*eta*(2*E - 3)*(eta - 1) + (4*E**2 + (2*E - 3)**2)*(eta**2 + (eta - 1)**2))**2 + E**2*(epsilon_g - 1)**4*(-epsilon_g*(3 - 2*E)*(epsilon_g - 2)*(p_x + p_y + p_z) - 2*eta*(3 - 2*E)*(eta - 1) - 6*(E - 1)*(eta**2 + (eta - 1)**2))**2/(8*E*eta*(2*E - 3)*(eta - 1) + (4*E**2 + (2*E - 3)**2)*(eta**2 + (eta - 1)**2))**2) + 2*p_z*(epsilon_g - 1)**4*(2*E**2*(eta**2 + (eta - 1)**2) - 2*E*eta*(3 - 2*E)*(eta - 1) - epsilon_g*(epsilon_g - 2)*(2*E**2*p_x + 2*E**2*p_y + p_z*(E**2 + 9*(E - 1)**2)))*(-2*E*epsilon_g*(epsilon_g - 2)*(E*p_x + E*p_y - 3*p_z*(E - 1)) - 2*E*eta*(3 - 2*E)*(eta - 1) + (E**2 + 9*(E - 1)**2)*(eta**2 + (eta - 1)**2))/(8*E*eta*(2*E - 3)*(eta - 1) + (4*E**2 + (2*E - 3)**2)*(eta**2 + (eta - 1)**2))**2) + (eta**2 + (1 - eta)**2)*((epsilon_g - 1)**4*(2*E**2*(eta**2 + (eta - 1)**2) - 2*E*eta*(3 - 2*E)*(eta - 1) - epsilon_g*(epsilon_g - 2)*(2*E**2*p_x + 2*E**2*p_y + p_z*(E**2 + 9*(E - 1)**2)))**2/(8*E*eta*(2*E - 3)*(eta - 1) + (4*E**2 + (2*E - 3)**2)*(eta**2 + (eta - 1)**2))**2 + (epsilon_g - 1)**4*(-2*E*epsilon_g*(epsilon_g - 2)*(E*p_x + E*p_y - 3*p_z*(E - 1)) - 2*E*eta*(3 - 2*E)*(eta - 1) + (E**2 + 9*(E - 1)**2)*(eta**2 + (eta - 1)**2))**2/(8*E*eta*(2*E - 3)*(eta - 1) + (4*E**2 + (2*E - 3)**2)*(eta**2 + (eta - 1)**2))**2))/(2*eta*(1 - eta)*(2*(epsilon_g - 1)**2*(2*E**2*(eta**2 + (eta - 1)**2) - 2*E*eta*(3 - 2*E)*(eta - 1) - epsilon_g*(epsilon_g - 2)*(2*E**2*p_x + 2*E**2*p_y + p_z*(E**2 + 9*(E - 1)**2)))/(8*E*eta*(2*E - 3)*(eta - 1) + (4*E**2 + (2*E - 3)**2)*(eta**2 + (eta - 1)**2)) + 2*(epsilon_g - 1)**2*(-2*E*epsilon_g*(epsilon_g - 2)*(E*p_x + E*p_y - 3*p_z*(E - 1)) - 2*E*eta*(3 - 2*E)*(eta - 1) + (E**2 + 9*(E - 1)**2)*(eta**2 + (eta - 1)**2))/(8*E*eta*(2*E - 3)*(eta - 1) + (4*E**2 + (2*E - 3)**2)*(eta**2 + (eta - 1)**2)))*(E*(epsilon_g - 1)**2*(2*E*(eta**2 + (eta - 1)**2) - epsilon_g*(3 - 2*E)*(epsilon_g - 2)*(p_x + p_y + p_z) - 2*eta*(3 - 2*E)*(eta - 1))/(8*E*eta*(2*E - 3)*(eta - 1) + (4*E**2 + (2*E - 3)**2)*(eta**2 + (eta - 1)**2)) + E*(epsilon_g - 1)**2*(-epsilon_g*(3 - 2*E)*(epsilon_g - 2)*(p_x + p_y + p_z) - 2*eta*(3 - 2*E)*(eta - 1) - 6*(E - 1)*(eta**2 + (eta - 1)**2))/(8*E*eta*(2*E - 3)*(eta - 1) + (4*E**2 + (2*E - 3)**2)*(eta**2 + (eta - 1)**2))) + (eta**2 + (1 - eta)**2)*(((epsilon_g - 1)**2*(2*E**2*(eta**2 + (eta - 1)**2) - 2*E*eta*(3 - 2*E)*(eta - 1) - epsilon_g*(epsilon_g - 2)*(2*E**2*p_x + 2*E**2*p_y + p_z*(E**2 + 9*(E - 1)**2)))/(8*E*eta*(2*E - 3)*(eta - 1) + (4*E**2 + (2*E - 3)**2)*(eta**2 + (eta - 1)**2)) + (epsilon_g - 1)**2*(-2*E*epsilon_g*(epsilon_g - 2)*(E*p_x + E*p_y - 3*p_z*(E - 1)) - 2*E*eta*(3 - 2*E)*(eta - 1) + (E**2 + 9*(E - 1)**2)*(eta**2 + (eta - 1)**2))/(8*E*eta*(2*E - 3)*(eta - 1) + (4*E**2 + (2*E - 3)**2)*(eta**2 + (eta - 1)**2)))**2 + (E*(epsilon_g - 1)**2*(2*E*(eta**2 + (eta - 1)**2) - epsilon_g*(3 - 2*E)*(epsilon_g - 2)*(p_x + p_y + p_z) - 2*eta*(3 - 2*E)*(eta - 1))/(8*E*eta*(2*E - 3)*(eta - 1) + (4*E**2 + (2*E - 3)**2)*(eta**2 + (eta - 1)**2)) + E*(epsilon_g - 1)**2*(-epsilon_g*(3 - 2*E)*(epsilon_g - 2)*(p_x + p_y + p_z) - 2*eta*(3 - 2*E)*(eta - 1) - 6*(E - 1)*(eta**2 + (eta - 1)**2))/(8*E*eta*(2*E - 3)*(eta - 1) + (4*E**2 + (2*E - 3)**2)*(eta**2 + (eta - 1)**2)))**2))"
      ]
     },
     "execution_count": 198,
     "metadata": {},
     "output_type": "execute_result"
    }
   ],
   "source": [
    "secondroundsubstitution = {\n",
    "    # WE SWAP B TO D HERE\n",
    "    A:A_1,\n",
    "    B:D_1,\n",
    "    C:C_1,\n",
    "    D:B_1}\n",
    "A_2=A_error.subs(secondroundsubstitution)\n",
    "B_2=B_error.subs(secondroundsubstitution)\n",
    "C_2=C_error.subs(secondroundsubstitution)\n",
    "D_2=D_error.subs(secondroundsubstitution)\n",
    "A_2"
   ]
  },
  {
   "cell_type": "code",
   "execution_count": 199,
   "id": "3f88307a",
   "metadata": {},
   "outputs": [],
   "source": [
    "# Ahyb=(((AtoF**2)+(B**2))*((eta**2)+((1-eta)**2)) + (((AtoF*C)+(B*D))*(2*(eta)*(1-eta))) +((2*(epsilon_g) - (epsilon_g**2))/((1-epsilon_g)**2))*((p_x*((C*C)+(D*D)))+(p_y*((C*D)+(C*D)))+(p_z*((AtoF*B)+(AtoF*B)))))/((((AtoF+B)**2+(C+D)**2)*((eta**2)+((1-eta)**2)) + (2*(AtoF+B)*(C+D)*(2*(eta)*(1-eta))))/((1-epsilon_g)**2))\n",
    "# Ahyb"
   ]
  },
  {
   "cell_type": "code",
   "execution_count": 200,
   "id": "82df5ca8",
   "metadata": {},
   "outputs": [],
   "source": [
    "# # now we substitute by depolarizing the variables into F and we store the num and denom for later\n",
    "# hybeq=Ahyb.subs(hybridsubstitution)\n",
    "# something,secondnormalization= hybeq.as_numer_denom()\n",
    "# hybeq"
   ]
  },
  {
   "cell_type": "code",
   "execution_count": 201,
   "id": "5706426c",
   "metadata": {},
   "outputs": [],
   "source": [
    "#### THIS PART TAKES 4 MIN TO RUN UNCOMMENT IF YOU WANT, RESULT OF CELL IS UNDER IT #####\n",
    "\n",
    "# we simplify this equation and we separate the numerator and denominator for later\n",
    "# simplified_hybeq=sy.simplify(A_2)\n",
    "# hybnum,hybden=simplified_hybeq.as_numer_denom()\n",
    "\n",
    "# # here we write this into a text file because this takes long to run\n",
    "# with open(\"simp_hybeq_ralf.txt\", \"w+\") as f:\n",
    "#     f.write(str(simplified_hybeq))\n",
    "##### RESULT #####\n",
    "hybnum=(epsilon_g - 1)**2*(2*E*eta*(eta - 1)*((-2*E*(eta**2 + (eta - 1)**2) + epsilon_g*(3 - 2*E)*(epsilon_g - 2)*(p_x + p_y + p_z) + 2*eta*(3 - 2*E)*(eta - 1))*(2*E*epsilon_g*(epsilon_g - 2)*(E*p_x + E*p_y - 3*p_z*(E - 1)) + 2*E*eta*(3 - 2*E)*(eta - 1) - (E**2 + 9*(E - 1)**2)*(eta**2 + (eta - 1)**2)) + (-2*E**2*(eta**2 + (eta - 1)**2) + 2*E*eta*(3 - 2*E)*(eta - 1) + epsilon_g*(epsilon_g - 2)*(2*E**2*p_x + 2*E**2*p_y + p_z*(E**2 + 9*(E - 1)**2)))*(epsilon_g*(3 - 2*E)*(epsilon_g - 2)*(p_x + p_y + p_z) + 2*eta*(3 - 2*E)*(eta - 1) + 6*(E - 1)*(eta**2 + (eta - 1)**2))) + epsilon_g*(epsilon_g - 2)*(E**2*p_x*((-2*E*(eta**2 + (eta - 1)**2) + epsilon_g*(3 - 2*E)*(epsilon_g - 2)*(p_x + p_y + p_z) + 2*eta*(3 - 2*E)*(eta - 1))**2 + (epsilon_g*(3 - 2*E)*(epsilon_g - 2)*(p_x + p_y + p_z) + 2*eta*(3 - 2*E)*(eta - 1) + 6*(E - 1)*(eta**2 + (eta - 1)**2))**2) + 2*E**2*p_y*(-2*E*(eta**2 + (eta - 1)**2) + epsilon_g*(3 - 2*E)*(epsilon_g - 2)*(p_x + p_y + p_z) + 2*eta*(3 - 2*E)*(eta - 1))*(epsilon_g*(3 - 2*E)*(epsilon_g - 2)*(p_x + p_y + p_z) + 2*eta*(3 - 2*E)*(eta - 1) + 6*(E - 1)*(eta**2 + (eta - 1)**2)) + 2*p_z*(-2*E**2*(eta**2 + (eta - 1)**2) + 2*E*eta*(3 - 2*E)*(eta - 1) + epsilon_g*(epsilon_g - 2)*(2*E**2*p_x + 2*E**2*p_y + p_z*(E**2 + 9*(E - 1)**2)))*(2*E*epsilon_g*(epsilon_g - 2)*(E*p_x + E*p_y - 3*p_z*(E - 1)) + 2*E*eta*(3 - 2*E)*(eta - 1) - (E**2 + 9*(E - 1)**2)*(eta**2 + (eta - 1)**2))) - (eta**2 + (eta - 1)**2)*((-2*E**2*(eta**2 + (eta - 1)**2) + 2*E*eta*(3 - 2*E)*(eta - 1) + epsilon_g*(epsilon_g - 2)*(2*E**2*p_x + 2*E**2*p_y + p_z*(E**2 + 9*(E - 1)**2)))**2 + (2*E*epsilon_g*(epsilon_g - 2)*(E*p_x + E*p_y - 3*p_z*(E - 1)) + 2*E*eta*(3 - 2*E)*(eta - 1) - (E**2 + 9*(E - 1)**2)*(eta**2 + (eta - 1)**2))**2))\n",
    "hybden=8*E*eta*(eta - 1)*(E*(eta**2 + (eta - 1)**2) - epsilon_g*(3 - 2*E)*(epsilon_g - 2)*(p_x + p_y + p_z) - 2*eta*(3 - 2*E)*(eta - 1) - 3*(E - 1)*(eta**2 + (eta - 1)**2))*(2*E**2*(eta**2 + (eta - 1)**2) - 2*E*epsilon_g*(epsilon_g - 2)*(E*p_x + E*p_y - 3*p_z*(E - 1)) - 4*E*eta*(3 - 2*E)*(eta - 1) - epsilon_g*(epsilon_g - 2)*(2*E**2*p_x + 2*E**2*p_y + p_z*(E**2 + 9*(E - 1)**2)) + (E**2 + 9*(E - 1)**2)*(eta**2 + (eta - 1)**2)) - (eta**2 + (eta - 1)**2)*(4*E**2*(E*(eta**2 + (eta - 1)**2) - epsilon_g*(3 - 2*E)*(epsilon_g - 2)*(p_x + p_y + p_z) - 2*eta*(3 - 2*E)*(eta - 1) - 3*(E - 1)*(eta**2 + (eta - 1)**2))**2 + (2*E**2*(eta**2 + (eta - 1)**2) - 2*E*epsilon_g*(epsilon_g - 2)*(E*p_x + E*p_y - 3*p_z*(E - 1)) - 4*E*eta*(3 - 2*E)*(eta - 1) - epsilon_g*(epsilon_g - 2)*(2*E**2*p_x + 2*E**2*p_y + p_z*(E**2 + 9*(E - 1)**2)) + (E**2 + 9*(E - 1)**2)*(eta**2 + (eta - 1)**2))**2)\n",
    "ecua=hybnum/hybden"
   ]
  },
  {
   "cell_type": "code",
   "execution_count": 202,
   "id": "e89732e7",
   "metadata": {},
   "outputs": [],
   "source": [
    "# ec_ofE=sy.simplify(ecua.subs(changevar))\n",
    "# ec_ofE"
   ]
  },
  {
   "cell_type": "code",
   "execution_count": 203,
   "id": "a37d4bb6",
   "metadata": {},
   "outputs": [
    {
     "data": {
      "text/latex": [
       "$\\displaystyle \\frac{\\left(\\epsilon_{g} - 1\\right)^{2} \\left(- 2 E \\epsilon_{r} \\left(\\epsilon_{r} - 1\\right) \\left(\\left(2 E \\left(\\epsilon_{r}^{2} + \\left(1 - \\epsilon_{r}\\right)^{2}\\right) - \\epsilon_{g} \\left(3 - 2 E\\right) \\left(\\epsilon_{g} - 2\\right) \\left(p_{x} + p_{y} + p_{z}\\right) + 2 \\epsilon_{r} \\left(1 - \\epsilon_{r}\\right) \\left(3 - 2 E\\right)\\right) \\left(- 2 E \\epsilon_{g} \\left(\\epsilon_{g} - 2\\right) \\left(E p_{x} + E p_{y} - 3 p_{z} \\left(E - 1\\right)\\right) + 2 E \\epsilon_{r} \\left(1 - \\epsilon_{r}\\right) \\left(3 - 2 E\\right) + \\left(E^{2} + 9 \\left(E - 1\\right)^{2}\\right) \\left(\\epsilon_{r}^{2} + \\left(1 - \\epsilon_{r}\\right)^{2}\\right)\\right) - \\left(2 E^{2} \\left(\\epsilon_{r}^{2} + \\left(1 - \\epsilon_{r}\\right)^{2}\\right) + 2 E \\epsilon_{r} \\left(1 - \\epsilon_{r}\\right) \\left(3 - 2 E\\right) - \\epsilon_{g} \\left(\\epsilon_{g} - 2\\right) \\left(2 E^{2} p_{x} + 2 E^{2} p_{y} + p_{z} \\left(E^{2} + 9 \\left(E - 1\\right)^{2}\\right)\\right)\\right) \\left(- \\epsilon_{g} \\left(2 E - 3\\right) \\left(\\epsilon_{g} - 2\\right) \\left(p_{x} + p_{y} + p_{z}\\right) - 2 \\epsilon_{r} \\left(2 E - 3\\right) \\left(\\epsilon_{r} - 1\\right) + \\left(6 E - 6\\right) \\left(\\epsilon_{r}^{2} + \\left(\\epsilon_{r} - 1\\right)^{2}\\right)\\right)\\right) - \\epsilon_{g} \\left(\\epsilon_{g} - 2\\right) \\left(E^{2} p_{x} \\left(\\left(2 E \\left(\\epsilon_{r}^{2} + \\left(1 - \\epsilon_{r}\\right)^{2}\\right) - \\epsilon_{g} \\left(3 - 2 E\\right) \\left(\\epsilon_{g} - 2\\right) \\left(p_{x} + p_{y} + p_{z}\\right) + 2 \\epsilon_{r} \\left(1 - \\epsilon_{r}\\right) \\left(3 - 2 E\\right)\\right)^{2} + \\left(- \\epsilon_{g} \\left(2 E - 3\\right) \\left(\\epsilon_{g} - 2\\right) \\left(p_{x} + p_{y} + p_{z}\\right) - 2 \\epsilon_{r} \\left(2 E - 3\\right) \\left(\\epsilon_{r} - 1\\right) + \\left(6 E - 6\\right) \\left(\\epsilon_{r}^{2} + \\left(\\epsilon_{r} - 1\\right)^{2}\\right)\\right)^{2}\\right) - 2 E^{2} p_{y} \\left(2 E \\left(\\epsilon_{r}^{2} + \\left(1 - \\epsilon_{r}\\right)^{2}\\right) - \\epsilon_{g} \\left(3 - 2 E\\right) \\left(\\epsilon_{g} - 2\\right) \\left(p_{x} + p_{y} + p_{z}\\right) + 2 \\epsilon_{r} \\left(1 - \\epsilon_{r}\\right) \\left(3 - 2 E\\right)\\right) \\left(- \\epsilon_{g} \\left(2 E - 3\\right) \\left(\\epsilon_{g} - 2\\right) \\left(p_{x} + p_{y} + p_{z}\\right) - 2 \\epsilon_{r} \\left(2 E - 3\\right) \\left(\\epsilon_{r} - 1\\right) + \\left(6 E - 6\\right) \\left(\\epsilon_{r}^{2} + \\left(\\epsilon_{r} - 1\\right)^{2}\\right)\\right) + 2 p_{z} \\left(2 E^{2} \\left(\\epsilon_{r}^{2} + \\left(1 - \\epsilon_{r}\\right)^{2}\\right) + 2 E \\epsilon_{r} \\left(1 - \\epsilon_{r}\\right) \\left(3 - 2 E\\right) - \\epsilon_{g} \\left(\\epsilon_{g} - 2\\right) \\left(2 E^{2} p_{x} + 2 E^{2} p_{y} + p_{z} \\left(E^{2} + 9 \\left(E - 1\\right)^{2}\\right)\\right)\\right) \\left(- 2 E \\epsilon_{g} \\left(\\epsilon_{g} - 2\\right) \\left(E p_{x} + E p_{y} - 3 p_{z} \\left(E - 1\\right)\\right) + 2 E \\epsilon_{r} \\left(1 - \\epsilon_{r}\\right) \\left(3 - 2 E\\right) + \\left(E^{2} + 9 \\left(E - 1\\right)^{2}\\right) \\left(\\epsilon_{r}^{2} + \\left(1 - \\epsilon_{r}\\right)^{2}\\right)\\right)\\right) + \\left(\\epsilon_{r}^{2} + \\left(\\epsilon_{r} - 1\\right)^{2}\\right) \\left(\\left(2 E^{2} \\left(\\epsilon_{r}^{2} + \\left(1 - \\epsilon_{r}\\right)^{2}\\right) + 2 E \\epsilon_{r} \\left(1 - \\epsilon_{r}\\right) \\left(3 - 2 E\\right) - \\epsilon_{g} \\left(\\epsilon_{g} - 2\\right) \\left(2 E^{2} p_{x} + 2 E^{2} p_{y} + p_{z} \\left(E^{2} + 9 \\left(E - 1\\right)^{2}\\right)\\right)\\right)^{2} + \\left(- 2 E \\epsilon_{g} \\left(\\epsilon_{g} - 2\\right) \\left(E p_{x} + E p_{y} - 3 p_{z} \\left(E - 1\\right)\\right) + 2 E \\epsilon_{r} \\left(1 - \\epsilon_{r}\\right) \\left(3 - 2 E\\right) + \\left(E^{2} + 9 \\left(E - 1\\right)^{2}\\right) \\left(\\epsilon_{r}^{2} + \\left(1 - \\epsilon_{r}\\right)^{2}\\right)\\right)^{2}\\right)\\right)}{- 8 E \\epsilon_{r} \\left(\\epsilon_{r} - 1\\right) \\left(E \\left(\\epsilon_{r}^{2} + \\left(\\epsilon_{r} - 1\\right)^{2}\\right) + \\epsilon_{g} \\left(2 E - 3\\right) \\left(\\epsilon_{g} - 2\\right) \\left(p_{x} + p_{y} + p_{z}\\right) + 2 \\epsilon_{r} \\left(2 E - 3\\right) \\left(\\epsilon_{r} - 1\\right) - \\left(3 E - 3\\right) \\left(\\epsilon_{r}^{2} + \\left(\\epsilon_{r} - 1\\right)^{2}\\right)\\right) \\left(2 E^{2} \\left(\\epsilon_{r}^{2} + \\left(\\epsilon_{r} - 1\\right)^{2}\\right) - 2 E \\epsilon_{g} \\left(\\epsilon_{g} - 2\\right) \\left(E p_{x} + E p_{y} - 3 p_{z} \\left(E - 1\\right)\\right) + 4 E \\epsilon_{r} \\left(2 E - 3\\right) \\left(\\epsilon_{r} - 1\\right) - \\epsilon_{g} \\left(\\epsilon_{g} - 2\\right) \\left(2 E^{2} p_{x} + 2 E^{2} p_{y} + p_{z} \\left(E^{2} + 9 \\left(E - 1\\right)^{2}\\right)\\right) + \\left(E^{2} + 9 \\left(E - 1\\right)^{2}\\right) \\left(\\epsilon_{r}^{2} + \\left(\\epsilon_{r} - 1\\right)^{2}\\right)\\right) + \\left(\\epsilon_{r}^{2} + \\left(\\epsilon_{r} - 1\\right)^{2}\\right) \\left(4 E^{2} \\left(E \\left(\\epsilon_{r}^{2} + \\left(\\epsilon_{r} - 1\\right)^{2}\\right) + \\epsilon_{g} \\left(2 E - 3\\right) \\left(\\epsilon_{g} - 2\\right) \\left(p_{x} + p_{y} + p_{z}\\right) + 2 \\epsilon_{r} \\left(2 E - 3\\right) \\left(\\epsilon_{r} - 1\\right) - \\left(3 E - 3\\right) \\left(\\epsilon_{r}^{2} + \\left(\\epsilon_{r} - 1\\right)^{2}\\right)\\right)^{2} + \\left(2 E^{2} \\left(\\epsilon_{r}^{2} + \\left(\\epsilon_{r} - 1\\right)^{2}\\right) - 2 E \\epsilon_{g} \\left(\\epsilon_{g} - 2\\right) \\left(E p_{x} + E p_{y} - 3 p_{z} \\left(E - 1\\right)\\right) + 4 E \\epsilon_{r} \\left(2 E - 3\\right) \\left(\\epsilon_{r} - 1\\right) - \\epsilon_{g} \\left(\\epsilon_{g} - 2\\right) \\left(2 E^{2} p_{x} + 2 E^{2} p_{y} + p_{z} \\left(E^{2} + 9 \\left(E - 1\\right)^{2}\\right)\\right) + \\left(E^{2} + 9 \\left(E - 1\\right)^{2}\\right) \\left(\\epsilon_{r}^{2} + \\left(\\epsilon_{r} - 1\\right)^{2}\\right)\\right)^{2}\\right)}$"
      ],
      "text/plain": [
       "(epsilon_g - 1)**2*(-2*E*epsilon_r*(epsilon_r - 1)*((2*E*(epsilon_r**2 + (1 - epsilon_r)**2) - epsilon_g*(3 - 2*E)*(epsilon_g - 2)*(p_x + p_y + p_z) + 2*epsilon_r*(1 - epsilon_r)*(3 - 2*E))*(-2*E*epsilon_g*(epsilon_g - 2)*(E*p_x + E*p_y - 3*p_z*(E - 1)) + 2*E*epsilon_r*(1 - epsilon_r)*(3 - 2*E) + (E**2 + 9*(E - 1)**2)*(epsilon_r**2 + (1 - epsilon_r)**2)) - (2*E**2*(epsilon_r**2 + (1 - epsilon_r)**2) + 2*E*epsilon_r*(1 - epsilon_r)*(3 - 2*E) - epsilon_g*(epsilon_g - 2)*(2*E**2*p_x + 2*E**2*p_y + p_z*(E**2 + 9*(E - 1)**2)))*(-epsilon_g*(2*E - 3)*(epsilon_g - 2)*(p_x + p_y + p_z) - 2*epsilon_r*(2*E - 3)*(epsilon_r - 1) + (6*E - 6)*(epsilon_r**2 + (epsilon_r - 1)**2))) - epsilon_g*(epsilon_g - 2)*(E**2*p_x*((2*E*(epsilon_r**2 + (1 - epsilon_r)**2) - epsilon_g*(3 - 2*E)*(epsilon_g - 2)*(p_x + p_y + p_z) + 2*epsilon_r*(1 - epsilon_r)*(3 - 2*E))**2 + (-epsilon_g*(2*E - 3)*(epsilon_g - 2)*(p_x + p_y + p_z) - 2*epsilon_r*(2*E - 3)*(epsilon_r - 1) + (6*E - 6)*(epsilon_r**2 + (epsilon_r - 1)**2))**2) - 2*E**2*p_y*(2*E*(epsilon_r**2 + (1 - epsilon_r)**2) - epsilon_g*(3 - 2*E)*(epsilon_g - 2)*(p_x + p_y + p_z) + 2*epsilon_r*(1 - epsilon_r)*(3 - 2*E))*(-epsilon_g*(2*E - 3)*(epsilon_g - 2)*(p_x + p_y + p_z) - 2*epsilon_r*(2*E - 3)*(epsilon_r - 1) + (6*E - 6)*(epsilon_r**2 + (epsilon_r - 1)**2)) + 2*p_z*(2*E**2*(epsilon_r**2 + (1 - epsilon_r)**2) + 2*E*epsilon_r*(1 - epsilon_r)*(3 - 2*E) - epsilon_g*(epsilon_g - 2)*(2*E**2*p_x + 2*E**2*p_y + p_z*(E**2 + 9*(E - 1)**2)))*(-2*E*epsilon_g*(epsilon_g - 2)*(E*p_x + E*p_y - 3*p_z*(E - 1)) + 2*E*epsilon_r*(1 - epsilon_r)*(3 - 2*E) + (E**2 + 9*(E - 1)**2)*(epsilon_r**2 + (1 - epsilon_r)**2))) + (epsilon_r**2 + (epsilon_r - 1)**2)*((2*E**2*(epsilon_r**2 + (1 - epsilon_r)**2) + 2*E*epsilon_r*(1 - epsilon_r)*(3 - 2*E) - epsilon_g*(epsilon_g - 2)*(2*E**2*p_x + 2*E**2*p_y + p_z*(E**2 + 9*(E - 1)**2)))**2 + (-2*E*epsilon_g*(epsilon_g - 2)*(E*p_x + E*p_y - 3*p_z*(E - 1)) + 2*E*epsilon_r*(1 - epsilon_r)*(3 - 2*E) + (E**2 + 9*(E - 1)**2)*(epsilon_r**2 + (1 - epsilon_r)**2))**2))/(-8*E*epsilon_r*(epsilon_r - 1)*(E*(epsilon_r**2 + (epsilon_r - 1)**2) + epsilon_g*(2*E - 3)*(epsilon_g - 2)*(p_x + p_y + p_z) + 2*epsilon_r*(2*E - 3)*(epsilon_r - 1) - (3*E - 3)*(epsilon_r**2 + (epsilon_r - 1)**2))*(2*E**2*(epsilon_r**2 + (epsilon_r - 1)**2) - 2*E*epsilon_g*(epsilon_g - 2)*(E*p_x + E*p_y - 3*p_z*(E - 1)) + 4*E*epsilon_r*(2*E - 3)*(epsilon_r - 1) - epsilon_g*(epsilon_g - 2)*(2*E**2*p_x + 2*E**2*p_y + p_z*(E**2 + 9*(E - 1)**2)) + (E**2 + 9*(E - 1)**2)*(epsilon_r**2 + (epsilon_r - 1)**2)) + (epsilon_r**2 + (epsilon_r - 1)**2)*(4*E**2*(E*(epsilon_r**2 + (epsilon_r - 1)**2) + epsilon_g*(2*E - 3)*(epsilon_g - 2)*(p_x + p_y + p_z) + 2*epsilon_r*(2*E - 3)*(epsilon_r - 1) - (3*E - 3)*(epsilon_r**2 + (epsilon_r - 1)**2))**2 + (2*E**2*(epsilon_r**2 + (epsilon_r - 1)**2) - 2*E*epsilon_g*(epsilon_g - 2)*(E*p_x + E*p_y - 3*p_z*(E - 1)) + 4*E*epsilon_r*(2*E - 3)*(epsilon_r - 1) - epsilon_g*(epsilon_g - 2)*(2*E**2*p_x + 2*E**2*p_y + p_z*(E**2 + 9*(E - 1)**2)) + (E**2 + 9*(E - 1)**2)*(epsilon_r**2 + (epsilon_r - 1)**2))**2))"
      ]
     },
     "execution_count": 203,
     "metadata": {},
     "output_type": "execute_result"
    }
   ],
   "source": [
    "# look for fixed points of this equation\n",
    "# expansion not working\n",
    "# lets try to expand first on the other variables\n",
    "# ec_ofE=sy.simplify(ecua.subs(changevar))\n",
    "ec_ofE=(epsilon_g - 1)**2*(-2*E*epsilon_r*(epsilon_r - 1)*((2*E*(epsilon_r**2 + (1 - epsilon_r)**2) - epsilon_g*(3 - 2*E)*(epsilon_g - 2)*(p_x + p_y + p_z) + 2*epsilon_r*(1 - epsilon_r)*(3 - 2*E))*(-2*E*epsilon_g*(epsilon_g - 2)*(E*p_x + E*p_y - 3*p_z*(E - 1)) + 2*E*epsilon_r*(1 - epsilon_r)*(3 - 2*E) + (E**2 + 9*(E - 1)**2)*(epsilon_r**2 + (1 - epsilon_r)**2)) - (2*E**2*(epsilon_r**2 + (1 - epsilon_r)**2) + 2*E*epsilon_r*(1 - epsilon_r)*(3 - 2*E) - epsilon_g*(epsilon_g - 2)*(2*E**2*p_x + 2*E**2*p_y + p_z*(E**2 + 9*(E - 1)**2)))*(-epsilon_g*(2*E - 3)*(epsilon_g - 2)*(p_x + p_y + p_z) - 2*epsilon_r*(2*E - 3)*(epsilon_r - 1) + 6*(E - 1)*(epsilon_r**2 + (epsilon_r - 1)**2))) - epsilon_g*(epsilon_g - 2)*(E**2*p_x*((2*E*(epsilon_r**2 + (1 - epsilon_r)**2) - epsilon_g*(3 - 2*E)*(epsilon_g - 2)*(p_x + p_y + p_z) + 2*epsilon_r*(1 - epsilon_r)*(3 - 2*E))**2 + (-epsilon_g*(2*E - 3)*(epsilon_g - 2)*(p_x + p_y + p_z) - 2*epsilon_r*(2*E - 3)*(epsilon_r - 1) + 6*(E - 1)*(epsilon_r**2 + (epsilon_r - 1)**2))**2) - 2*E**2*p_y*(2*E*(epsilon_r**2 + (1 - epsilon_r)**2) - epsilon_g*(3 - 2*E)*(epsilon_g - 2)*(p_x + p_y + p_z) + 2*epsilon_r*(1 - epsilon_r)*(3 - 2*E))*(-epsilon_g*(2*E - 3)*(epsilon_g - 2)*(p_x + p_y + p_z) - 2*epsilon_r*(2*E - 3)*(epsilon_r - 1) + 6*(E - 1)*(epsilon_r**2 + (epsilon_r - 1)**2)) + 2*p_z*(2*E**2*(epsilon_r**2 + (1 - epsilon_r)**2) + 2*E*epsilon_r*(1 - epsilon_r)*(3 - 2*E) - epsilon_g*(epsilon_g - 2)*(2*E**2*p_x + 2*E**2*p_y + p_z*(E**2 + 9*(E - 1)**2)))*(-2*E*epsilon_g*(epsilon_g - 2)*(E*p_x + E*p_y - 3*p_z*(E - 1)) + 2*E*epsilon_r*(1 - epsilon_r)*(3 - 2*E) + (E**2 + 9*(E - 1)**2)*(epsilon_r**2 + (1 - epsilon_r)**2))) + (epsilon_r**2 + (epsilon_r - 1)**2)*((2*E**2*(epsilon_r**2 + (1 - epsilon_r)**2) + 2*E*epsilon_r*(1 - epsilon_r)*(3 - 2*E) - epsilon_g*(epsilon_g - 2)*(2*E**2*p_x + 2*E**2*p_y + p_z*(E**2 + 9*(E - 1)**2)))**2 + (-2*E*epsilon_g*(epsilon_g - 2)*(E*p_x + E*p_y - 3*p_z*(E - 1)) + 2*E*epsilon_r*(1 - epsilon_r)*(3 - 2*E) + (E**2 + 9*(E - 1)**2)*(epsilon_r**2 + (1 - epsilon_r)**2))**2))/(-8*E*epsilon_r*(epsilon_r - 1)*(E*(epsilon_r**2 + (epsilon_r - 1)**2) + epsilon_g*(2*E - 3)*(epsilon_g - 2)*(p_x + p_y + p_z) + 2*epsilon_r*(2*E - 3)*(epsilon_r - 1) - 3*(E - 1)*(epsilon_r**2 + (epsilon_r - 1)**2))*(2*E**2*(epsilon_r**2 + (epsilon_r - 1)**2) - 2*E*epsilon_g*(epsilon_g - 2)*(E*p_x + E*p_y - 3*p_z*(E - 1)) + 4*E*epsilon_r*(2*E - 3)*(epsilon_r - 1) - epsilon_g*(epsilon_g - 2)*(2*E**2*p_x + 2*E**2*p_y + p_z*(E**2 + 9*(E - 1)**2)) + (E**2 + 9*(E - 1)**2)*(epsilon_r**2 + (epsilon_r - 1)**2)) + (epsilon_r**2 + (epsilon_r - 1)**2)*(4*E**2*(E*(epsilon_r**2 + (epsilon_r - 1)**2) + epsilon_g*(2*E - 3)*(epsilon_g - 2)*(p_x + p_y + p_z) + 2*epsilon_r*(2*E - 3)*(epsilon_r - 1) - 3*(E - 1)*(epsilon_r**2 + (epsilon_r - 1)**2))**2 + (2*E**2*(epsilon_r**2 + (epsilon_r - 1)**2) - 2*E*epsilon_g*(epsilon_g - 2)*(E*p_x + E*p_y - 3*p_z*(E - 1)) + 4*E*epsilon_r*(2*E - 3)*(epsilon_r - 1) - epsilon_g*(epsilon_g - 2)*(2*E**2*p_x + 2*E**2*p_y + p_z*(E**2 + 9*(E - 1)**2)) + (E**2 + 9*(E - 1)**2)*(epsilon_r**2 + (epsilon_r - 1)**2))**2))\n",
    "ec_ofE"
   ]
  },
  {
   "cell_type": "code",
   "execution_count": 204,
   "id": "dc7c8e77",
   "metadata": {},
   "outputs": [],
   "source": [
    "## here we do a multivariable taylor expansion up to second order first around F=1 and then one around E_g around 0\n",
    "# simp_expansion=sy.simplify(sy.series((sy.series((sy.series(ec_ofE,E,0,2).removeO()),epsilon_g,0,2).removeO()),epsilon_r,0,2).removeO())\n",
    "##simp_expansion_den=sy.simplify(sy.series((sy.series((sy.series(hybden,F,1,2).removeO()),epsilon_g,0,2).removeO()),eta,1,2).removeO())\n",
    "# integrandF=(sy.simplify((simp_expansion)-(1-E)))\n",
    "# integrandF\n",
    "##uncomment to get next cell expression (takes 22 min to run)"
   ]
  },
  {
   "cell_type": "code",
   "execution_count": 205,
   "id": "681943aa",
   "metadata": {},
   "outputs": [
    {
     "data": {
      "text/latex": [
       "$\\displaystyle E - 4 \\epsilon_{g} p_{z} - 2 \\epsilon_{g} - \\frac{4 \\epsilon_{r} \\left(3 E \\epsilon_{g} p_{x} + 3 E \\epsilon_{g} p_{y} - 23 E \\epsilon_{g} p_{z} - 6 E \\epsilon_{g} + 3 E + 6 \\epsilon_{g} p_{z}\\right)}{3}$"
      ],
      "text/plain": [
       "E - 4*epsilon_g*p_z - 2*epsilon_g - 4*epsilon_r*(3*E*epsilon_g*p_x + 3*E*epsilon_g*p_y - 23*E*epsilon_g*p_z - 6*E*epsilon_g + 3*E + 6*epsilon_g*p_z)/3"
      ]
     },
     "execution_count": 205,
     "metadata": {},
     "output_type": "execute_result"
    }
   ],
   "source": [
    "integrandF= E - 4*epsilon_g*p_z - 2*epsilon_g - 4*epsilon_r*(3*E*epsilon_g*p_x + 3*E*epsilon_g*p_y - 23*E*epsilon_g*p_z - 6*E*epsilon_g + 3*E + 6*epsilon_g*p_z)/3\n",
    "integrandF"
   ]
  },
  {
   "cell_type": "code",
   "execution_count": 206,
   "id": "d68aec59",
   "metadata": {},
   "outputs": [
    {
     "data": {
      "text/latex": [
       "$\\displaystyle - F - 4 \\epsilon_{g} p_{z} - 2 \\epsilon_{g} - \\frac{4 \\epsilon_{r} \\left(- 3 F + 3 \\epsilon_{g} p_{x} \\left(1 - F\\right) + 3 \\epsilon_{g} p_{y} \\left(1 - F\\right) - 23 \\epsilon_{g} p_{z} \\left(1 - F\\right) + 6 \\epsilon_{g} p_{z} - 6 \\epsilon_{g} \\left(1 - F\\right) + 3\\right)}{3} + 1$"
      ],
      "text/plain": [
       "-F - 4*epsilon_g*p_z - 2*epsilon_g - 4*epsilon_r*(-3*F + 3*epsilon_g*p_x*(1 - F) + 3*epsilon_g*p_y*(1 - F) - 23*epsilon_g*p_z*(1 - F) + 6*epsilon_g*p_z - 6*epsilon_g*(1 - F) + 3)/3 + 1"
      ]
     },
     "execution_count": 206,
     "metadata": {},
     "output_type": "execute_result"
    }
   ],
   "source": [
    "#lets say that we want to expand over zeros here we change variables F->(1-E) and eta->(1-epsilon_r)\n",
    "neweq=integrandF.subs(intermsub)\n",
    "neweq"
   ]
  },
  {
   "cell_type": "code",
   "execution_count": 207,
   "id": "c8d8686e",
   "metadata": {},
   "outputs": [
    {
     "data": {
      "text/latex": [
       "$\\displaystyle \\frac{F \\left(F \\left(12 \\epsilon_{g} \\epsilon_{r} p_{x} + 12 \\epsilon_{g} \\epsilon_{r} p_{y} - 92 \\epsilon_{g} \\epsilon_{r} p_{z} - 24 \\epsilon_{g} \\epsilon_{r} + 12 \\epsilon_{r} - 3\\right) - 24 \\epsilon_{g} \\epsilon_{r} p_{x} - 24 \\epsilon_{g} \\epsilon_{r} p_{y} + 136 \\epsilon_{g} \\epsilon_{r} p_{z} + 48 \\epsilon_{g} \\epsilon_{r} - 24 \\epsilon_{g} p_{z} - 12 \\epsilon_{g} - 24 \\epsilon_{r} + 6\\right)}{6}$"
      ],
      "text/plain": [
       "F*(F*(12*epsilon_g*epsilon_r*p_x + 12*epsilon_g*epsilon_r*p_y - 92*epsilon_g*epsilon_r*p_z - 24*epsilon_g*epsilon_r + 12*epsilon_r - 3) - 24*epsilon_g*epsilon_r*p_x - 24*epsilon_g*epsilon_r*p_y + 136*epsilon_g*epsilon_r*p_z + 48*epsilon_g*epsilon_r - 24*epsilon_g*p_z - 12*epsilon_g - 24*epsilon_r + 6)/6"
      ]
     },
     "execution_count": 207,
     "metadata": {},
     "output_type": "execute_result"
    }
   ],
   "source": [
    "# now we can integrate the new variable \n",
    "eq13=sy.simplify(sy.integrate(neweq,F))\n",
    "eq13"
   ]
  },
  {
   "cell_type": "code",
   "execution_count": 208,
   "id": "8f74d04b",
   "metadata": {},
   "outputs": [
    {
     "name": "stdout",
     "output_type": "stream",
     "text": [
      "F*(F*(12*epsilon_g*epsilon_r*p_x + 12*epsilon_g*epsilon_r*p_y - 92*epsilon_g*epsilon_r*p_z - 24*epsilon_g*epsilon_r + 12*epsilon_r - 3) - 24*epsilon_g*epsilon_r*p_x - 24*epsilon_g*epsilon_r*p_y + 136*epsilon_g*epsilon_r*p_z + 48*epsilon_g*epsilon_r - 24*epsilon_g*p_z - 12*epsilon_g - 24*epsilon_r + 6)/6\n"
     ]
    }
   ],
   "source": [
    "# this cell just print the previous eq in python format to do numerical integration\n",
    "print(eq13)\n",
    "evaluaF_t={\n",
    "    F:F_t}\n",
    "evaluaF_0={\n",
    "    F:F_o}"
   ]
  },
  {
   "cell_type": "code",
   "execution_count": 209,
   "id": "223d318f",
   "metadata": {},
   "outputs": [
    {
     "data": {
      "text/latex": [
       "$\\displaystyle 2 F_{0} \\epsilon_{g} \\epsilon_{r} p_{x} + 2 F_{0} \\epsilon_{g} \\epsilon_{r} p_{y} - \\frac{46 F_{0} \\epsilon_{g} \\epsilon_{r} p_{z}}{3} - 4 F_{0} \\epsilon_{g} \\epsilon_{r} + 2 F_{0} \\epsilon_{r} - \\frac{F_{0}}{2} + 2 F_{t} \\epsilon_{g} \\epsilon_{r} p_{x} + 2 F_{t} \\epsilon_{g} \\epsilon_{r} p_{y} - \\frac{46 F_{t} \\epsilon_{g} \\epsilon_{r} p_{z}}{3} - 4 F_{t} \\epsilon_{g} \\epsilon_{r} + 2 F_{t} \\epsilon_{r} - \\frac{F_{t}}{2} - 4 \\epsilon_{g} \\epsilon_{r} p_{x} - 4 \\epsilon_{g} \\epsilon_{r} p_{y} + \\frac{68 \\epsilon_{g} \\epsilon_{r} p_{z}}{3} + 8 \\epsilon_{g} \\epsilon_{r} - 4 \\epsilon_{g} p_{z} - 2 \\epsilon_{g} - 4 \\epsilon_{r} + 1$"
      ],
      "text/plain": [
       "2*F_0*epsilon_g*epsilon_r*p_x + 2*F_0*epsilon_g*epsilon_r*p_y - 46*F_0*epsilon_g*epsilon_r*p_z/3 - 4*F_0*epsilon_g*epsilon_r + 2*F_0*epsilon_r - F_0/2 + 2*F_t*epsilon_g*epsilon_r*p_x + 2*F_t*epsilon_g*epsilon_r*p_y - 46*F_t*epsilon_g*epsilon_r*p_z/3 - 4*F_t*epsilon_g*epsilon_r + 2*F_t*epsilon_r - F_t/2 - 4*epsilon_g*epsilon_r*p_x - 4*epsilon_g*epsilon_r*p_y + 68*epsilon_g*epsilon_r*p_z/3 + 8*epsilon_g*epsilon_r - 4*epsilon_g*p_z - 2*epsilon_g - 4*epsilon_r + 1"
      ]
     },
     "execution_count": 209,
     "metadata": {},
     "output_type": "execute_result"
    }
   ],
   "source": [
    "#lets try to get a expresion for the evaluation of the integral\n",
    "avg_stp=sy.simplify((eq13.subs(evaluaF_t)-eq13.subs(evaluaF_0))/(F_t-F_o))\n",
    "avg_stp"
   ]
  },
  {
   "cell_type": "code",
   "execution_count": 210,
   "id": "d95b7b61",
   "metadata": {},
   "outputs": [
    {
     "name": "stdout",
     "output_type": "stream",
     "text": [
      "2*F_0*epsilon_g*epsilon_r*p_x + 2*F_0*epsilon_g*epsilon_r*p_y - 46*F_0*epsilon_g*epsilon_r*p_z/3 - 4*F_0*epsilon_g*epsilon_r + 2*F_0*epsilon_r - F_0/2 + 2*F_t*epsilon_g*epsilon_r*p_x + 2*F_t*epsilon_g*epsilon_r*p_y - 46*F_t*epsilon_g*epsilon_r*p_z/3 - 4*F_t*epsilon_g*epsilon_r + 2*F_t*epsilon_r - F_t/2 - 4*epsilon_g*epsilon_r*p_x - 4*epsilon_g*epsilon_r*p_y + 68*epsilon_g*epsilon_r*p_z/3 + 8*epsilon_g*epsilon_r - 4*epsilon_g*p_z - 2*epsilon_g - 4*epsilon_r + 1\n"
     ]
    }
   ],
   "source": [
    "print(avg_stp)"
   ]
  },
  {
   "cell_type": "code",
   "execution_count": 211,
   "id": "d3e70fb3",
   "metadata": {},
   "outputs": [
    {
     "data": {
      "text/latex": [
       "$\\displaystyle 2 \\eta \\left(1 - \\eta\\right) \\left(2 A + 2 B\\right) \\left(C + D\\right) + \\left(\\eta^{2} + \\left(1 - \\eta\\right)^{2}\\right) \\left(\\left(A + B\\right)^{2} + \\left(C + D\\right)^{2}\\right)$"
      ],
      "text/plain": [
       "2*eta*(1 - eta)*(2*A + 2*B)*(C + D) + (eta**2 + (1 - eta)**2)*((A + B)**2 + (C + D)**2)"
      ]
     },
     "execution_count": 211,
     "metadata": {},
     "output_type": "execute_result"
    }
   ],
   "source": [
    "#Now we can calculate the average acceptance probability of the protocol and calculate the geometrical integral\n",
    "# recall that we have saved the following eqs\n",
    "residuo,firstnorm=A_error.as_numer_denom()\n",
    "firstnorm"
   ]
  },
  {
   "cell_type": "code",
   "execution_count": 212,
   "id": "91e16a38",
   "metadata": {},
   "outputs": [
    {
     "data": {
      "text/latex": [
       "$\\displaystyle \\frac{8 E \\eta \\left(2 E - 3\\right) \\left(\\eta - 1\\right)}{9} + \\frac{\\left(4 E^{2} + \\left(2 E - 3\\right)^{2}\\right) \\left(\\eta^{2} + \\left(\\eta - 1\\right)^{2}\\right)}{9}$"
      ],
      "text/plain": [
       "8*E*eta*(2*E - 3)*(eta - 1)/9 + (4*E**2 + (2*E - 3)**2)*(eta**2 + (eta - 1)**2)/9"
      ]
     },
     "execution_count": 212,
     "metadata": {},
     "output_type": "execute_result"
    }
   ],
   "source": [
    "# here we substitute as we did in the past when we see a we apply the protocol\n",
    "Anorm_1=sy.simplify(firstnorm.subs(firstroundsubstitution))\n",
    "Anorm_1"
   ]
  },
  {
   "cell_type": "code",
   "execution_count": 213,
   "id": "e03ad66b",
   "metadata": {},
   "outputs": [
    {
     "data": {
      "text/latex": [
       "$\\displaystyle \\frac{\\left(\\epsilon_{g} - 1\\right)^{4} \\left(- 8 E \\eta \\left(\\eta - 1\\right) \\left(- E \\left(\\eta^{2} + \\left(\\eta - 1\\right)^{2}\\right) - \\epsilon_{g} \\left(2 E - 3\\right) \\left(\\epsilon_{g} - 2\\right) \\left(p_{x} + p_{y} + p_{z}\\right) - 2 \\eta \\left(2 E - 3\\right) \\left(\\eta - 1\\right) + 3 \\left(E - 1\\right) \\left(\\eta^{2} + \\left(\\eta - 1\\right)^{2}\\right)\\right) \\left(- 2 E^{2} \\left(\\eta^{2} + \\left(\\eta - 1\\right)^{2}\\right) + 2 E \\epsilon_{g} \\left(\\epsilon_{g} - 2\\right) \\left(E p_{x} + E p_{y} - 3 p_{z} \\left(E - 1\\right)\\right) - 4 E \\eta \\left(2 E - 3\\right) \\left(\\eta - 1\\right) + \\epsilon_{g} \\left(\\epsilon_{g} - 2\\right) \\left(2 E^{2} p_{x} + 2 E^{2} p_{y} + p_{z} \\left(E^{2} + 9 \\left(E - 1\\right)^{2}\\right)\\right) - \\left(E^{2} + 9 \\left(E - 1\\right)^{2}\\right) \\left(\\eta^{2} + \\left(\\eta - 1\\right)^{2}\\right)\\right) + \\left(\\eta^{2} + \\left(\\eta - 1\\right)^{2}\\right) \\left(4 E^{2} \\left(- E \\left(\\eta^{2} + \\left(\\eta - 1\\right)^{2}\\right) - \\epsilon_{g} \\left(2 E - 3\\right) \\left(\\epsilon_{g} - 2\\right) \\left(p_{x} + p_{y} + p_{z}\\right) - 2 \\eta \\left(2 E - 3\\right) \\left(\\eta - 1\\right) + 3 \\left(E - 1\\right) \\left(\\eta^{2} + \\left(\\eta - 1\\right)^{2}\\right)\\right)^{2} + \\left(- 2 E^{2} \\left(\\eta^{2} + \\left(\\eta - 1\\right)^{2}\\right) + 2 E \\epsilon_{g} \\left(\\epsilon_{g} - 2\\right) \\left(E p_{x} + E p_{y} - 3 p_{z} \\left(E - 1\\right)\\right) - 4 E \\eta \\left(2 E - 3\\right) \\left(\\eta - 1\\right) + \\epsilon_{g} \\left(\\epsilon_{g} - 2\\right) \\left(2 E^{2} p_{x} + 2 E^{2} p_{y} + p_{z} \\left(E^{2} + 9 \\left(E - 1\\right)^{2}\\right)\\right) - \\left(E^{2} + 9 \\left(E - 1\\right)^{2}\\right) \\left(\\eta^{2} + \\left(\\eta - 1\\right)^{2}\\right)\\right)^{2}\\right)\\right)}{\\left(8 E \\eta \\left(2 E - 3\\right) \\left(\\eta - 1\\right) + \\left(4 E^{2} + \\left(2 E - 3\\right)^{2}\\right) \\left(\\eta^{2} + \\left(\\eta - 1\\right)^{2}\\right)\\right)^{2}}$"
      ],
      "text/plain": [
       "(epsilon_g - 1)**4*(-8*E*eta*(eta - 1)*(-E*(eta**2 + (eta - 1)**2) - epsilon_g*(2*E - 3)*(epsilon_g - 2)*(p_x + p_y + p_z) - 2*eta*(2*E - 3)*(eta - 1) + 3*(E - 1)*(eta**2 + (eta - 1)**2))*(-2*E**2*(eta**2 + (eta - 1)**2) + 2*E*epsilon_g*(epsilon_g - 2)*(E*p_x + E*p_y - 3*p_z*(E - 1)) - 4*E*eta*(2*E - 3)*(eta - 1) + epsilon_g*(epsilon_g - 2)*(2*E**2*p_x + 2*E**2*p_y + p_z*(E**2 + 9*(E - 1)**2)) - (E**2 + 9*(E - 1)**2)*(eta**2 + (eta - 1)**2)) + (eta**2 + (eta - 1)**2)*(4*E**2*(-E*(eta**2 + (eta - 1)**2) - epsilon_g*(2*E - 3)*(epsilon_g - 2)*(p_x + p_y + p_z) - 2*eta*(2*E - 3)*(eta - 1) + 3*(E - 1)*(eta**2 + (eta - 1)**2))**2 + (-2*E**2*(eta**2 + (eta - 1)**2) + 2*E*epsilon_g*(epsilon_g - 2)*(E*p_x + E*p_y - 3*p_z*(E - 1)) - 4*E*eta*(2*E - 3)*(eta - 1) + epsilon_g*(epsilon_g - 2)*(2*E**2*p_x + 2*E**2*p_y + p_z*(E**2 + 9*(E - 1)**2)) - (E**2 + 9*(E - 1)**2)*(eta**2 + (eta - 1)**2))**2))/(8*E*eta*(2*E - 3)*(eta - 1) + (4*E**2 + (2*E - 3)**2)*(eta**2 + (eta - 1)**2))**2"
      ]
     },
     "execution_count": 213,
     "metadata": {},
     "output_type": "execute_result"
    }
   ],
   "source": [
    "Anorm_2=sy.simplify(firstnorm.subs(secondroundsubstitution))\n",
    "Anorm_2"
   ]
  },
  {
   "cell_type": "code",
   "execution_count": 214,
   "id": "80badffe",
   "metadata": {},
   "outputs": [
    {
     "data": {
      "text/latex": [
       "$\\displaystyle \\frac{\\left(\\epsilon_{g} - 1\\right)^{4} \\left(8 E \\epsilon_{r} \\left(\\epsilon_{r} - 1\\right) \\left(E \\left(\\epsilon_{r}^{2} + \\left(\\epsilon_{r} - 1\\right)^{2}\\right) + \\epsilon_{g} \\left(2 E - 3\\right) \\left(\\epsilon_{g} - 2\\right) \\left(p_{x} + p_{y} + p_{z}\\right) + 2 \\epsilon_{r} \\left(2 E - 3\\right) \\left(\\epsilon_{r} - 1\\right) - 3 \\left(E - 1\\right) \\left(\\epsilon_{r}^{2} + \\left(\\epsilon_{r} - 1\\right)^{2}\\right)\\right) \\left(- 2 E^{2} \\left(\\epsilon_{r}^{2} + \\left(\\epsilon_{r} - 1\\right)^{2}\\right) + 2 E \\epsilon_{g} \\left(\\epsilon_{g} - 2\\right) \\left(E p_{x} + E p_{y} - 3 p_{z} \\left(E - 1\\right)\\right) - 4 E \\epsilon_{r} \\left(2 E - 3\\right) \\left(\\epsilon_{r} - 1\\right) + \\epsilon_{g} \\left(\\epsilon_{g} - 2\\right) \\left(2 E^{2} p_{x} + 2 E^{2} p_{y} + p_{z} \\left(E^{2} + 9 \\left(E - 1\\right)^{2}\\right)\\right) - \\left(E^{2} + 9 \\left(E - 1\\right)^{2}\\right) \\left(\\epsilon_{r}^{2} + \\left(\\epsilon_{r} - 1\\right)^{2}\\right)\\right) + \\left(\\epsilon_{r}^{2} + \\left(\\epsilon_{r} - 1\\right)^{2}\\right) \\left(4 E^{2} \\left(E \\left(\\epsilon_{r}^{2} + \\left(\\epsilon_{r} - 1\\right)^{2}\\right) + \\epsilon_{g} \\left(2 E - 3\\right) \\left(\\epsilon_{g} - 2\\right) \\left(p_{x} + p_{y} + p_{z}\\right) + 2 \\epsilon_{r} \\left(2 E - 3\\right) \\left(\\epsilon_{r} - 1\\right) - 3 \\left(E - 1\\right) \\left(\\epsilon_{r}^{2} + \\left(\\epsilon_{r} - 1\\right)^{2}\\right)\\right)^{2} + \\left(- 2 E^{2} \\left(\\epsilon_{r}^{2} + \\left(\\epsilon_{r} - 1\\right)^{2}\\right) + 2 E \\epsilon_{g} \\left(\\epsilon_{g} - 2\\right) \\left(E p_{x} + E p_{y} - 3 p_{z} \\left(E - 1\\right)\\right) - 4 E \\epsilon_{r} \\left(2 E - 3\\right) \\left(\\epsilon_{r} - 1\\right) + \\epsilon_{g} \\left(\\epsilon_{g} - 2\\right) \\left(2 E^{2} p_{x} + 2 E^{2} p_{y} + p_{z} \\left(E^{2} + 9 \\left(E - 1\\right)^{2}\\right)\\right) - \\left(E^{2} + 9 \\left(E - 1\\right)^{2}\\right) \\left(\\epsilon_{r}^{2} + \\left(\\epsilon_{r} - 1\\right)^{2}\\right)\\right)^{2}\\right)\\right)}{9 \\left(8 E \\epsilon_{r} \\left(2 E - 3\\right) \\left(\\epsilon_{r} - 1\\right) + \\left(4 E^{2} + \\left(2 E - 3\\right)^{2}\\right) \\left(\\epsilon_{r}^{2} + \\left(\\epsilon_{r} - 1\\right)^{2}\\right)\\right)}$"
      ],
      "text/plain": [
       "(epsilon_g - 1)**4*(8*E*epsilon_r*(epsilon_r - 1)*(E*(epsilon_r**2 + (epsilon_r - 1)**2) + epsilon_g*(2*E - 3)*(epsilon_g - 2)*(p_x + p_y + p_z) + 2*epsilon_r*(2*E - 3)*(epsilon_r - 1) - 3*(E - 1)*(epsilon_r**2 + (epsilon_r - 1)**2))*(-2*E**2*(epsilon_r**2 + (epsilon_r - 1)**2) + 2*E*epsilon_g*(epsilon_g - 2)*(E*p_x + E*p_y - 3*p_z*(E - 1)) - 4*E*epsilon_r*(2*E - 3)*(epsilon_r - 1) + epsilon_g*(epsilon_g - 2)*(2*E**2*p_x + 2*E**2*p_y + p_z*(E**2 + 9*(E - 1)**2)) - (E**2 + 9*(E - 1)**2)*(epsilon_r**2 + (epsilon_r - 1)**2)) + (epsilon_r**2 + (epsilon_r - 1)**2)*(4*E**2*(E*(epsilon_r**2 + (epsilon_r - 1)**2) + epsilon_g*(2*E - 3)*(epsilon_g - 2)*(p_x + p_y + p_z) + 2*epsilon_r*(2*E - 3)*(epsilon_r - 1) - 3*(E - 1)*(epsilon_r**2 + (epsilon_r - 1)**2))**2 + (-2*E**2*(epsilon_r**2 + (epsilon_r - 1)**2) + 2*E*epsilon_g*(epsilon_g - 2)*(E*p_x + E*p_y - 3*p_z*(E - 1)) - 4*E*epsilon_r*(2*E - 3)*(epsilon_r - 1) + epsilon_g*(epsilon_g - 2)*(2*E**2*p_x + 2*E**2*p_y + p_z*(E**2 + 9*(E - 1)**2)) - (E**2 + 9*(E - 1)**2)*(epsilon_r**2 + (epsilon_r - 1)**2))**2))/(9*(8*E*epsilon_r*(2*E - 3)*(epsilon_r - 1) + (4*E**2 + (2*E - 3)**2)*(epsilon_r**2 + (epsilon_r - 1)**2)))"
      ]
     },
     "execution_count": 214,
     "metadata": {},
     "output_type": "execute_result"
    }
   ],
   "source": [
    "# we multiply them and then substitute it with the hybrid variables\n",
    "multiply=sy.simplify(Anorm_1*Anorm_2)\n",
    "mean_acceptance=multiply\n",
    "# # we only take the numerator of this eq\n",
    "# algo,mean_acceptance=multiplied_eq.as_numer_denom()\n",
    "# simplifying\n",
    "simplified_mean_acc=sy.simplify(mean_acceptance.subs(changevar))\n",
    "simplified_mean_acc"
   ]
  },
  {
   "cell_type": "code",
   "execution_count": 215,
   "id": "c886c2e7",
   "metadata": {},
   "outputs": [
    {
     "name": "stdout",
     "output_type": "stream",
     "text": [
      "(epsilon_g - 1)**4*(8*E*epsilon_r*(epsilon_r - 1)*(E*(epsilon_r**2 + (epsilon_r - 1)**2) + epsilon_g*(2*E - 3)*(epsilon_g - 2)*(p_x + p_y + p_z) + 2*epsilon_r*(2*E - 3)*(epsilon_r - 1) - 3*(E - 1)*(epsilon_r**2 + (epsilon_r - 1)**2))*(-2*E**2*(epsilon_r**2 + (epsilon_r - 1)**2) + 2*E*epsilon_g*(epsilon_g - 2)*(E*p_x + E*p_y - 3*p_z*(E - 1)) - 4*E*epsilon_r*(2*E - 3)*(epsilon_r - 1) + epsilon_g*(epsilon_g - 2)*(2*E**2*p_x + 2*E**2*p_y + p_z*(E**2 + 9*(E - 1)**2)) - (E**2 + 9*(E - 1)**2)*(epsilon_r**2 + (epsilon_r - 1)**2)) + (epsilon_r**2 + (epsilon_r - 1)**2)*(4*E**2*(E*(epsilon_r**2 + (epsilon_r - 1)**2) + epsilon_g*(2*E - 3)*(epsilon_g - 2)*(p_x + p_y + p_z) + 2*epsilon_r*(2*E - 3)*(epsilon_r - 1) - 3*(E - 1)*(epsilon_r**2 + (epsilon_r - 1)**2))**2 + (-2*E**2*(epsilon_r**2 + (epsilon_r - 1)**2) + 2*E*epsilon_g*(epsilon_g - 2)*(E*p_x + E*p_y - 3*p_z*(E - 1)) - 4*E*epsilon_r*(2*E - 3)*(epsilon_r - 1) + epsilon_g*(epsilon_g - 2)*(2*E**2*p_x + 2*E**2*p_y + p_z*(E**2 + 9*(E - 1)**2)) - (E**2 + 9*(E - 1)**2)*(epsilon_r**2 + (epsilon_r - 1)**2))**2))/(9*(8*E*epsilon_r*(2*E - 3)*(epsilon_r - 1) + (4*E**2 + (2*E - 3)**2)*(epsilon_r**2 + (epsilon_r - 1)**2)))\n"
     ]
    }
   ],
   "source": [
    "print(simplified_mean_acc)"
   ]
  },
  {
   "cell_type": "code",
   "execution_count": 216,
   "id": "a22863d2",
   "metadata": {},
   "outputs": [
    {
     "data": {
      "text/latex": [
       "$\\displaystyle - 8 E \\epsilon_{g} p_{z} + \\frac{32 E \\epsilon_{g}}{3} - \\frac{8 E}{3} + 4 \\epsilon_{g} p_{z} - 4 \\epsilon_{g} + \\frac{4 \\epsilon_{r} \\left(4 E \\epsilon_{g} p_{x} + 4 E \\epsilon_{g} p_{y} + 16 E \\epsilon_{g} p_{z} - 40 E \\epsilon_{g} + 10 E - 6 \\epsilon_{g} p_{z} + 12 \\epsilon_{g} - 3\\right)}{3} + 1$"
      ],
      "text/plain": [
       "-8*E*epsilon_g*p_z + 32*E*epsilon_g/3 - 8*E/3 + 4*epsilon_g*p_z - 4*epsilon_g + 4*epsilon_r*(4*E*epsilon_g*p_x + 4*E*epsilon_g*p_y + 16*E*epsilon_g*p_z - 40*E*epsilon_g + 10*E - 6*epsilon_g*p_z + 12*epsilon_g - 3)/3 + 1"
      ]
     },
     "execution_count": 216,
     "metadata": {},
     "output_type": "execute_result"
    }
   ],
   "source": [
    "fbeur=sy.simplify(sy.series((sy.series((sy.series(simplified_mean_acc,E,0,2).removeO()),epsilon_g,0,2).removeO()),epsilon_r,0,2).removeO())\n",
    "fbeur"
   ]
  },
  {
   "cell_type": "code",
   "execution_count": 217,
   "id": "1c2f46ab",
   "metadata": {},
   "outputs": [],
   "source": [
    "yo=sy.simplify(sy.series(simplified_mean_acc,E,0,3).removeO())"
   ]
  },
  {
   "cell_type": "code",
   "execution_count": 218,
   "id": "880168f0",
   "metadata": {},
   "outputs": [
    {
     "data": {
      "text/latex": [
       "$\\displaystyle \\frac{32 E^{2} \\epsilon_{g} p_{x}}{9} + \\frac{32 E^{2} \\epsilon_{g} p_{y}}{9} + \\frac{16 E^{2} \\epsilon_{g} p_{z}}{3} - \\frac{32 E^{2} \\epsilon_{g}}{3} + \\frac{8 E^{2}}{3} - 8 E \\epsilon_{g} p_{z} + \\frac{32 E \\epsilon_{g}}{3} - \\frac{8 E}{3} + 4 \\epsilon_{g} p_{z} - 4 \\epsilon_{g} - \\frac{4 \\epsilon_{r} \\left(24 E^{2} \\epsilon_{g} p_{x} + 24 E^{2} \\epsilon_{g} p_{y} + 16 E^{2} \\epsilon_{g} p_{z} - 96 E^{2} \\epsilon_{g} + 24 E^{2} - 12 E \\epsilon_{g} p_{x} - 12 E \\epsilon_{g} p_{y} - 48 E \\epsilon_{g} p_{z} + 120 E \\epsilon_{g} - 30 E + 18 \\epsilon_{g} p_{z} - 36 \\epsilon_{g} + 9\\right)}{9} + 1$"
      ],
      "text/plain": [
       "32*E**2*epsilon_g*p_x/9 + 32*E**2*epsilon_g*p_y/9 + 16*E**2*epsilon_g*p_z/3 - 32*E**2*epsilon_g/3 + 8*E**2/3 - 8*E*epsilon_g*p_z + 32*E*epsilon_g/3 - 8*E/3 + 4*epsilon_g*p_z - 4*epsilon_g - 4*epsilon_r*(24*E**2*epsilon_g*p_x + 24*E**2*epsilon_g*p_y + 16*E**2*epsilon_g*p_z - 96*E**2*epsilon_g + 24*E**2 - 12*E*epsilon_g*p_x - 12*E*epsilon_g*p_y - 48*E*epsilon_g*p_z + 120*E*epsilon_g - 30*E + 18*epsilon_g*p_z - 36*epsilon_g + 9)/9 + 1"
      ]
     },
     "execution_count": 218,
     "metadata": {},
     "output_type": "execute_result"
    }
   ],
   "source": [
    "yoo=sy.simplify(sy.series(sy.series(yo,epsilon_g,0,2).removeO(),epsilon_r,0,2).removeO())\n",
    "yoo"
   ]
  },
  {
   "cell_type": "code",
   "execution_count": 219,
   "id": "2c59e0ec",
   "metadata": {},
   "outputs": [
    {
     "data": {
      "text/latex": [
       "$\\displaystyle \\log{\\left(\\frac{8 F}{3} + 8 \\epsilon_{g} p_{z} \\left(F - 1\\right) + 4 \\epsilon_{g} p_{z} - \\frac{32 \\epsilon_{g} \\left(F - 1\\right)}{3} - 4 \\epsilon_{g} - \\frac{4 \\epsilon_{r} \\left(10 F + 4 \\epsilon_{g} p_{x} \\left(F - 1\\right) + 4 \\epsilon_{g} p_{y} \\left(F - 1\\right) + 16 \\epsilon_{g} p_{z} \\left(F - 1\\right) + 6 \\epsilon_{g} p_{z} - 40 \\epsilon_{g} \\left(F - 1\\right) - 12 \\epsilon_{g} - 7\\right)}{3} - \\frac{5}{3} \\right)}$"
      ],
      "text/plain": [
       "log(8*F/3 + 8*epsilon_g*p_z*(F - 1) + 4*epsilon_g*p_z - 32*epsilon_g*(F - 1)/3 - 4*epsilon_g - 4*epsilon_r*(10*F + 4*epsilon_g*p_x*(F - 1) + 4*epsilon_g*p_y*(F - 1) + 16*epsilon_g*p_z*(F - 1) + 6*epsilon_g*p_z - 40*epsilon_g*(F - 1) - 12*epsilon_g - 7)/3 - 5/3)"
      ]
     },
     "execution_count": 219,
     "metadata": {},
     "output_type": "execute_result"
    }
   ],
   "source": [
    "# we expand this thing as with the previous step\n",
    "from sympy import log\n",
    "integrandP=sy.simplify(log(fbeur.subs(intermsub)))\n",
    "integrandP"
   ]
  },
  {
   "cell_type": "code",
   "execution_count": 220,
   "id": "b94431fe",
   "metadata": {},
   "outputs": [
    {
     "data": {
      "text/latex": [
       "$\\displaystyle \\frac{8 F}{3} + \\frac{32 \\epsilon_{g} p_{x} \\left(F - 1\\right)^{2}}{9} + \\frac{32 \\epsilon_{g} p_{y} \\left(F - 1\\right)^{2}}{9} + \\frac{16 \\epsilon_{g} p_{z} \\left(F - 1\\right)^{2}}{3} + 8 \\epsilon_{g} p_{z} \\left(F - 1\\right) + 4 \\epsilon_{g} p_{z} - \\frac{32 \\epsilon_{g} \\left(F - 1\\right)^{2}}{3} - \\frac{32 \\epsilon_{g} \\left(F - 1\\right)}{3} - 4 \\epsilon_{g} - \\frac{4 \\epsilon_{r} \\left(30 F + 24 \\epsilon_{g} p_{x} \\left(F - 1\\right)^{2} + 12 \\epsilon_{g} p_{x} \\left(F - 1\\right) + 24 \\epsilon_{g} p_{y} \\left(F - 1\\right)^{2} + 12 \\epsilon_{g} p_{y} \\left(F - 1\\right) + 16 \\epsilon_{g} p_{z} \\left(F - 1\\right)^{2} + 48 \\epsilon_{g} p_{z} \\left(F - 1\\right) + 18 \\epsilon_{g} p_{z} - 96 \\epsilon_{g} \\left(F - 1\\right)^{2} - 120 \\epsilon_{g} \\left(F - 1\\right) - 36 \\epsilon_{g} + 24 \\left(F - 1\\right)^{2} - 21\\right)}{9} + \\frac{8 \\left(F - 1\\right)^{2}}{3} - \\frac{5}{3}$"
      ],
      "text/plain": [
       "8*F/3 + 32*epsilon_g*p_x*(F - 1)**2/9 + 32*epsilon_g*p_y*(F - 1)**2/9 + 16*epsilon_g*p_z*(F - 1)**2/3 + 8*epsilon_g*p_z*(F - 1) + 4*epsilon_g*p_z - 32*epsilon_g*(F - 1)**2/3 - 32*epsilon_g*(F - 1)/3 - 4*epsilon_g - 4*epsilon_r*(30*F + 24*epsilon_g*p_x*(F - 1)**2 + 12*epsilon_g*p_x*(F - 1) + 24*epsilon_g*p_y*(F - 1)**2 + 12*epsilon_g*p_y*(F - 1) + 16*epsilon_g*p_z*(F - 1)**2 + 48*epsilon_g*p_z*(F - 1) + 18*epsilon_g*p_z - 96*epsilon_g*(F - 1)**2 - 120*epsilon_g*(F - 1) - 36*epsilon_g + 24*(F - 1)**2 - 21)/9 + 8*(F - 1)**2/3 - 5/3"
      ]
     },
     "execution_count": 220,
     "metadata": {},
     "output_type": "execute_result"
    }
   ],
   "source": [
    "integrand2=sy.simplify(yoo.subs(intermsub))\n",
    "integrand2"
   ]
  },
  {
   "cell_type": "code",
   "execution_count": 221,
   "id": "f8b6bc20",
   "metadata": {},
   "outputs": [
    {
     "data": {
      "text/latex": [
       "$\\displaystyle \\frac{F \\left(2 \\epsilon_{g} \\epsilon_{r} p_{x} + 2 \\epsilon_{g} \\epsilon_{r} p_{y} + 8 \\epsilon_{g} \\epsilon_{r} p_{z} - 20 \\epsilon_{g} \\epsilon_{r} - 3 \\epsilon_{g} p_{z} + 4 \\epsilon_{g} + 5 \\epsilon_{r} - 1\\right) \\log{\\left(\\frac{8 F}{3} + 8 \\epsilon_{g} p_{z} \\left(F - 1\\right) + 4 \\epsilon_{g} p_{z} - \\frac{32 \\epsilon_{g} \\left(F - 1\\right)}{3} - 4 \\epsilon_{g} - \\frac{4 \\epsilon_{r} \\left(10 F + 4 \\epsilon_{g} p_{x} \\left(F - 1\\right) + 4 \\epsilon_{g} p_{y} \\left(F - 1\\right) + 16 \\epsilon_{g} p_{z} \\left(F - 1\\right) + 6 \\epsilon_{g} p_{z} - 40 \\epsilon_{g} \\left(F - 1\\right) - 12 \\epsilon_{g} - 7\\right)}{3} - \\frac{5}{3} \\right)} - F \\left(2 \\epsilon_{g} \\epsilon_{r} p_{x} + 2 \\epsilon_{g} \\epsilon_{r} p_{y} + 8 \\epsilon_{g} \\epsilon_{r} p_{z} - 20 \\epsilon_{g} \\epsilon_{r} - 3 \\epsilon_{g} p_{z} + 4 \\epsilon_{g} + 5 \\epsilon_{r} - 1\\right) - \\frac{\\left(16 \\epsilon_{g} \\epsilon_{r} p_{x} + 16 \\epsilon_{g} \\epsilon_{r} p_{y} + 40 \\epsilon_{g} \\epsilon_{r} p_{z} - 112 \\epsilon_{g} \\epsilon_{r} - 12 \\epsilon_{g} p_{z} + 20 \\epsilon_{g} + 28 \\epsilon_{r} - 5\\right) \\log{\\left(8 F \\left(2 \\epsilon_{g} \\epsilon_{r} p_{x} + 2 \\epsilon_{g} \\epsilon_{r} p_{y} + 8 \\epsilon_{g} \\epsilon_{r} p_{z} - 20 \\epsilon_{g} \\epsilon_{r} - 3 \\epsilon_{g} p_{z} + 4 \\epsilon_{g} + 5 \\epsilon_{r} - 1\\right) - 16 \\epsilon_{g} \\epsilon_{r} p_{x} - 16 \\epsilon_{g} \\epsilon_{r} p_{y} - 40 \\epsilon_{g} \\epsilon_{r} p_{z} + 112 \\epsilon_{g} \\epsilon_{r} + 12 \\epsilon_{g} p_{z} - 20 \\epsilon_{g} - 28 \\epsilon_{r} + 5 \\right)}}{8}}{2 \\epsilon_{g} \\epsilon_{r} p_{x} + 2 \\epsilon_{g} \\epsilon_{r} p_{y} + 8 \\epsilon_{g} \\epsilon_{r} p_{z} - 20 \\epsilon_{g} \\epsilon_{r} - 3 \\epsilon_{g} p_{z} + 4 \\epsilon_{g} + 5 \\epsilon_{r} - 1}$"
      ],
      "text/plain": [
       "(F*(2*epsilon_g*epsilon_r*p_x + 2*epsilon_g*epsilon_r*p_y + 8*epsilon_g*epsilon_r*p_z - 20*epsilon_g*epsilon_r - 3*epsilon_g*p_z + 4*epsilon_g + 5*epsilon_r - 1)*log(8*F/3 + 8*epsilon_g*p_z*(F - 1) + 4*epsilon_g*p_z - 32*epsilon_g*(F - 1)/3 - 4*epsilon_g - 4*epsilon_r*(10*F + 4*epsilon_g*p_x*(F - 1) + 4*epsilon_g*p_y*(F - 1) + 16*epsilon_g*p_z*(F - 1) + 6*epsilon_g*p_z - 40*epsilon_g*(F - 1) - 12*epsilon_g - 7)/3 - 5/3) - F*(2*epsilon_g*epsilon_r*p_x + 2*epsilon_g*epsilon_r*p_y + 8*epsilon_g*epsilon_r*p_z - 20*epsilon_g*epsilon_r - 3*epsilon_g*p_z + 4*epsilon_g + 5*epsilon_r - 1) - (16*epsilon_g*epsilon_r*p_x + 16*epsilon_g*epsilon_r*p_y + 40*epsilon_g*epsilon_r*p_z - 112*epsilon_g*epsilon_r - 12*epsilon_g*p_z + 20*epsilon_g + 28*epsilon_r - 5)*log(8*F*(2*epsilon_g*epsilon_r*p_x + 2*epsilon_g*epsilon_r*p_y + 8*epsilon_g*epsilon_r*p_z - 20*epsilon_g*epsilon_r - 3*epsilon_g*p_z + 4*epsilon_g + 5*epsilon_r - 1) - 16*epsilon_g*epsilon_r*p_x - 16*epsilon_g*epsilon_r*p_y - 40*epsilon_g*epsilon_r*p_z + 112*epsilon_g*epsilon_r + 12*epsilon_g*p_z - 20*epsilon_g - 28*epsilon_r + 5)/8)/(2*epsilon_g*epsilon_r*p_x + 2*epsilon_g*epsilon_r*p_y + 8*epsilon_g*epsilon_r*p_z - 20*epsilon_g*epsilon_r - 3*epsilon_g*p_z + 4*epsilon_g + 5*epsilon_r - 1)"
      ]
     },
     "execution_count": 221,
     "metadata": {},
     "output_type": "execute_result"
    }
   ],
   "source": [
    "# we integrate this and then simplify\n",
    "eq15=sy.simplify(sy.integrate(integrandP,F))\n",
    "eq15"
   ]
  },
  {
   "cell_type": "code",
   "execution_count": 222,
   "id": "3a94ee9f",
   "metadata": {},
   "outputs": [
    {
     "name": "stdout",
     "output_type": "stream",
     "text": [
      "8*F*(2*epsilon_g*epsilon_r*p_x + 2*epsilon_g*epsilon_r*p_y + 8*epsilon_g*epsilon_r*p_z - 20*epsilon_g*epsilon_r - 3*epsilon_g*p_z + 4*epsilon_g + 5*epsilon_r - 1)*log(8*F/3 + 8*epsilon_g*p_z*(F - 1) + 4*epsilon_g*p_z - 32*epsilon_g*(F - 1)/3 - 4*epsilon_g - 4*epsilon_r*(10*F + 4*epsilon_g*p_x*(F - 1) + 4*epsilon_g*p_y*(F - 1) + 16*epsilon_g*p_z*(F - 1) + 6*epsilon_g*p_z - 40*epsilon_g*(F - 1) - 12*epsilon_g - 7)/3 - 5/3) - 8*F*(2*epsilon_g*epsilon_r*p_x + 2*epsilon_g*epsilon_r*p_y + 8*epsilon_g*epsilon_r*p_z - 20*epsilon_g*epsilon_r - 3*epsilon_g*p_z + 4*epsilon_g + 5*epsilon_r - 1) - (16*epsilon_g*epsilon_r*p_x + 16*epsilon_g*epsilon_r*p_y + 40*epsilon_g*epsilon_r*p_z - 112*epsilon_g*epsilon_r - 12*epsilon_g*p_z + 20*epsilon_g + 28*epsilon_r - 5)*log(8*F*(2*epsilon_g*epsilon_r*p_x + 2*epsilon_g*epsilon_r*p_y + 8*epsilon_g*epsilon_r*p_z - 20*epsilon_g*epsilon_r - 3*epsilon_g*p_z + 4*epsilon_g + 5*epsilon_r - 1) - 16*epsilon_g*epsilon_r*p_x - 16*epsilon_g*epsilon_r*p_y - 40*epsilon_g*epsilon_r*p_z + 112*epsilon_g*epsilon_r + 12*epsilon_g*p_z - 20*epsilon_g - 28*epsilon_r + 5)\n"
     ]
    }
   ],
   "source": [
    "# Lets evaluate the integral:\n",
    "numer15,denom15=eq15.as_numer_denom()\n",
    "numr=sy.simplify(numer15)\n",
    "print(numr)"
   ]
  },
  {
   "cell_type": "code",
   "execution_count": 223,
   "id": "f762c1e5",
   "metadata": {},
   "outputs": [
    {
     "name": "stdout",
     "output_type": "stream",
     "text": [
      "16*epsilon_g*epsilon_r*p_x + 16*epsilon_g*epsilon_r*p_y + 64*epsilon_g*epsilon_r*p_z - 160*epsilon_g*epsilon_r - 24*epsilon_g*p_z + 32*epsilon_g + 40*epsilon_r - 8\n"
     ]
    }
   ],
   "source": [
    "denr=sy.simplify(denom15)\n",
    "print(denr)"
   ]
  },
  {
   "cell_type": "code",
   "execution_count": 224,
   "id": "145a30af",
   "metadata": {},
   "outputs": [
    {
     "data": {
      "text/plain": [
       "(8*F*(2*epsilon_g*epsilon_r*p_x + 2*epsilon_g*epsilon_r*p_y + 8*epsilon_g*epsilon_r*p_z - 20*epsilon_g*epsilon_r - 3*epsilon_g*p_z + 4*epsilon_g + 5*epsilon_r - 1)*log(8*F/3 + 8*epsilon_g*p_z*(F - 1) + 4*epsilon_g*p_z - 32*epsilon_g*(F - 1)/3 - 4*epsilon_g - 4*epsilon_r*(10*F + 4*epsilon_g*p_x*(F - 1) + 4*epsilon_g*p_y*(F - 1) + 16*epsilon_g*p_z*(F - 1) + 6*epsilon_g*p_z - 40*epsilon_g*(F - 1) - 12*epsilon_g - 7)/3 - 5/3) - 8*F*(2*epsilon_g*epsilon_r*p_x + 2*epsilon_g*epsilon_r*p_y + 8*epsilon_g*epsilon_r*p_z - 20*epsilon_g*epsilon_r - 3*epsilon_g*p_z + 4*epsilon_g + 5*epsilon_r - 1) - (16*epsilon_g*epsilon_r*p_x + 16*epsilon_g*epsilon_r*p_y + 40*epsilon_g*epsilon_r*p_z - 112*epsilon_g*epsilon_r - 12*epsilon_g*p_z + 20*epsilon_g + 28*epsilon_r - 5)*log(8*F*(2*epsilon_g*epsilon_r*p_x + 2*epsilon_g*epsilon_r*p_y + 8*epsilon_g*epsilon_r*p_z - 20*epsilon_g*epsilon_r - 3*epsilon_g*p_z + 4*epsilon_g + 5*epsilon_r - 1) - 16*epsilon_g*epsilon_r*p_x - 16*epsilon_g*epsilon_r*p_y - 40*epsilon_g*epsilon_r*p_z + 112*epsilon_g*epsilon_r + 12*epsilon_g*p_z - 20*epsilon_g - 28*epsilon_r + 5),\n",
       " 16*epsilon_g*epsilon_r*p_x + 16*epsilon_g*epsilon_r*p_y + 64*epsilon_g*epsilon_r*p_z - 160*epsilon_g*epsilon_r - 24*epsilon_g*p_z + 32*epsilon_g + 40*epsilon_r - 8)"
      ]
     },
     "execution_count": 224,
     "metadata": {},
     "output_type": "execute_result"
    }
   ],
   "source": [
    "eq15.as_numer_denom()"
   ]
  },
  {
   "cell_type": "markdown",
   "id": "c5aadb0a",
   "metadata": {},
   "source": [
    "Calculation of third order expansion of eq13"
   ]
  },
  {
   "cell_type": "code",
   "execution_count": 225,
   "id": "0d575b92",
   "metadata": {},
   "outputs": [
    {
     "data": {
      "text/latex": [
       "$\\displaystyle \\frac{- 4 E^{2} \\epsilon_{g}^{4} \\epsilon_{r}^{4} + 8 E^{2} \\epsilon_{g}^{4} \\epsilon_{r}^{3} + 8 E^{2} \\epsilon_{g}^{4} \\epsilon_{r}^{2} p_{z} + 4 E^{2} \\epsilon_{g}^{4} \\epsilon_{r}^{2} - 8 E^{2} \\epsilon_{g}^{4} \\epsilon_{r} p_{z} - 8 E^{2} \\epsilon_{g}^{4} \\epsilon_{r} - 4 E^{2} \\epsilon_{g}^{4} p_{z}^{2} - 8 E^{2} \\epsilon_{g}^{4} p_{z} - 4 E^{2} \\epsilon_{g}^{4} + 16 E^{2} \\epsilon_{g}^{3} \\epsilon_{r}^{4} - 32 E^{2} \\epsilon_{g}^{3} \\epsilon_{r}^{3} - 32 E^{2} \\epsilon_{g}^{3} \\epsilon_{r}^{2} p_{z} - 16 E^{2} \\epsilon_{g}^{3} \\epsilon_{r}^{2} + 32 E^{2} \\epsilon_{g}^{3} \\epsilon_{r} p_{z} + 32 E^{2} \\epsilon_{g}^{3} \\epsilon_{r} + 16 E^{2} \\epsilon_{g}^{3} p_{z}^{2} + 32 E^{2} \\epsilon_{g}^{3} p_{z} + 16 E^{2} \\epsilon_{g}^{3} - 20 E^{2} \\epsilon_{g}^{2} \\epsilon_{r}^{4} + 40 E^{2} \\epsilon_{g}^{2} \\epsilon_{r}^{3} - 4 E^{2} \\epsilon_{g}^{2} \\epsilon_{r}^{2} p_{x} - 4 E^{2} \\epsilon_{g}^{2} \\epsilon_{r}^{2} p_{y} + 32 E^{2} \\epsilon_{g}^{2} \\epsilon_{r}^{2} p_{z} + 6 E^{2} \\epsilon_{g}^{2} \\epsilon_{r}^{2} + 4 E^{2} \\epsilon_{g}^{2} \\epsilon_{r} p_{x} + 4 E^{2} \\epsilon_{g}^{2} \\epsilon_{r} p_{y} - 32 E^{2} \\epsilon_{g}^{2} \\epsilon_{r} p_{z} - 26 E^{2} \\epsilon_{g}^{2} \\epsilon_{r} - 2 E^{2} \\epsilon_{g}^{2} p_{x} - 2 E^{2} \\epsilon_{g}^{2} p_{y} - 16 E^{2} \\epsilon_{g}^{2} p_{z}^{2} - 36 E^{2} \\epsilon_{g}^{2} p_{z} - 24 E^{2} \\epsilon_{g}^{2} + 8 E^{2} \\epsilon_{g} \\epsilon_{r}^{4} - 16 E^{2} \\epsilon_{g} \\epsilon_{r}^{3} + 8 E^{2} \\epsilon_{g} \\epsilon_{r}^{2} p_{x} + 8 E^{2} \\epsilon_{g} \\epsilon_{r}^{2} p_{y} + 20 E^{2} \\epsilon_{g} \\epsilon_{r}^{2} - 8 E^{2} \\epsilon_{g} \\epsilon_{r} p_{x} - 8 E^{2} \\epsilon_{g} \\epsilon_{r} p_{y} - 12 E^{2} \\epsilon_{g} \\epsilon_{r} + 4 E^{2} \\epsilon_{g} p_{x} + 4 E^{2} \\epsilon_{g} p_{y} + 8 E^{2} \\epsilon_{g} p_{z} + 16 E^{2} \\epsilon_{g} - 14 E^{2} \\epsilon_{r}^{2} + 14 E^{2} \\epsilon_{r} - 4 E^{2} + 12 E \\epsilon_{g}^{4} \\epsilon_{r}^{4} - 24 E \\epsilon_{g}^{4} \\epsilon_{r}^{3} - 12 E \\epsilon_{g}^{4} \\epsilon_{r}^{2} p_{z} + 6 E \\epsilon_{g}^{4} \\epsilon_{r}^{2} + 12 E \\epsilon_{g}^{4} \\epsilon_{r} p_{z} + 6 E \\epsilon_{g}^{4} \\epsilon_{r} - 6 E \\epsilon_{g}^{4} p_{z} - 6 E \\epsilon_{g}^{4} - 48 E \\epsilon_{g}^{3} \\epsilon_{r}^{4} + 96 E \\epsilon_{g}^{3} \\epsilon_{r}^{3} + 48 E \\epsilon_{g}^{3} \\epsilon_{r}^{2} p_{z} - 24 E \\epsilon_{g}^{3} \\epsilon_{r}^{2} - 48 E \\epsilon_{g}^{3} \\epsilon_{r} p_{z} - 24 E \\epsilon_{g}^{3} \\epsilon_{r} + 24 E \\epsilon_{g}^{3} p_{z} + 24 E \\epsilon_{g}^{3} + 72 E \\epsilon_{g}^{2} \\epsilon_{r}^{4} - 144 E \\epsilon_{g}^{2} \\epsilon_{r}^{3} - 60 E \\epsilon_{g}^{2} \\epsilon_{r}^{2} p_{z} + 36 E \\epsilon_{g}^{2} \\epsilon_{r}^{2} + 60 E \\epsilon_{g}^{2} \\epsilon_{r} p_{z} + 36 E \\epsilon_{g}^{2} \\epsilon_{r} - 30 E \\epsilon_{g}^{2} p_{z} - 36 E \\epsilon_{g}^{2} - 48 E \\epsilon_{g} \\epsilon_{r}^{4} + 96 E \\epsilon_{g} \\epsilon_{r}^{3} + 24 E \\epsilon_{g} \\epsilon_{r}^{2} p_{z} - 24 E \\epsilon_{g} \\epsilon_{r}^{2} - 24 E \\epsilon_{g} \\epsilon_{r} p_{z} - 24 E \\epsilon_{g} \\epsilon_{r} + 12 E \\epsilon_{g} p_{z} + 24 E \\epsilon_{g} + 12 E \\epsilon_{r}^{4} - 24 E \\epsilon_{r}^{3} + 6 E \\epsilon_{r}^{2} + 6 E \\epsilon_{r} - 6 E + 36 \\epsilon_{g}^{6} \\epsilon_{r}^{4} - 72 \\epsilon_{g}^{6} \\epsilon_{r}^{3} + 72 \\epsilon_{g}^{6} \\epsilon_{r}^{2} - 36 \\epsilon_{g}^{6} \\epsilon_{r} + 9 \\epsilon_{g}^{6} - 216 \\epsilon_{g}^{5} \\epsilon_{r}^{4} + 432 \\epsilon_{g}^{5} \\epsilon_{r}^{3} - 432 \\epsilon_{g}^{5} \\epsilon_{r}^{2} + 216 \\epsilon_{g}^{5} \\epsilon_{r} - 54 \\epsilon_{g}^{5} + 540 \\epsilon_{g}^{4} \\epsilon_{r}^{4} - 1080 \\epsilon_{g}^{4} \\epsilon_{r}^{3} + 1080 \\epsilon_{g}^{4} \\epsilon_{r}^{2} - 540 \\epsilon_{g}^{4} \\epsilon_{r} + 135 \\epsilon_{g}^{4} - 720 \\epsilon_{g}^{3} \\epsilon_{r}^{4} + 1440 \\epsilon_{g}^{3} \\epsilon_{r}^{3} - 1440 \\epsilon_{g}^{3} \\epsilon_{r}^{2} + 720 \\epsilon_{g}^{3} \\epsilon_{r} - 180 \\epsilon_{g}^{3} + 540 \\epsilon_{g}^{2} \\epsilon_{r}^{4} - 1080 \\epsilon_{g}^{2} \\epsilon_{r}^{3} + 1080 \\epsilon_{g}^{2} \\epsilon_{r}^{2} - 540 \\epsilon_{g}^{2} \\epsilon_{r} + 135 \\epsilon_{g}^{2} - 216 \\epsilon_{g} \\epsilon_{r}^{4} + 432 \\epsilon_{g} \\epsilon_{r}^{3} - 432 \\epsilon_{g} \\epsilon_{r}^{2} + 216 \\epsilon_{g} \\epsilon_{r} - 54 \\epsilon_{g} + 36 \\epsilon_{r}^{4} - 72 \\epsilon_{r}^{3} + 72 \\epsilon_{r}^{2} - 36 \\epsilon_{r} + 9}{36 \\epsilon_{g}^{4} \\epsilon_{r}^{4} - 72 \\epsilon_{g}^{4} \\epsilon_{r}^{3} + 72 \\epsilon_{g}^{4} \\epsilon_{r}^{2} - 36 \\epsilon_{g}^{4} \\epsilon_{r} + 9 \\epsilon_{g}^{4} - 144 \\epsilon_{g}^{3} \\epsilon_{r}^{4} + 288 \\epsilon_{g}^{3} \\epsilon_{r}^{3} - 288 \\epsilon_{g}^{3} \\epsilon_{r}^{2} + 144 \\epsilon_{g}^{3} \\epsilon_{r} - 36 \\epsilon_{g}^{3} + 216 \\epsilon_{g}^{2} \\epsilon_{r}^{4} - 432 \\epsilon_{g}^{2} \\epsilon_{r}^{3} + 432 \\epsilon_{g}^{2} \\epsilon_{r}^{2} - 216 \\epsilon_{g}^{2} \\epsilon_{r} + 54 \\epsilon_{g}^{2} - 144 \\epsilon_{g} \\epsilon_{r}^{4} + 288 \\epsilon_{g} \\epsilon_{r}^{3} - 288 \\epsilon_{g} \\epsilon_{r}^{2} + 144 \\epsilon_{g} \\epsilon_{r} - 36 \\epsilon_{g} + 36 \\epsilon_{r}^{4} - 72 \\epsilon_{r}^{3} + 72 \\epsilon_{r}^{2} - 36 \\epsilon_{r} + 9}$"
      ],
      "text/plain": [
       "(-4*E**2*epsilon_g**4*epsilon_r**4 + 8*E**2*epsilon_g**4*epsilon_r**3 + 8*E**2*epsilon_g**4*epsilon_r**2*p_z + 4*E**2*epsilon_g**4*epsilon_r**2 - 8*E**2*epsilon_g**4*epsilon_r*p_z - 8*E**2*epsilon_g**4*epsilon_r - 4*E**2*epsilon_g**4*p_z**2 - 8*E**2*epsilon_g**4*p_z - 4*E**2*epsilon_g**4 + 16*E**2*epsilon_g**3*epsilon_r**4 - 32*E**2*epsilon_g**3*epsilon_r**3 - 32*E**2*epsilon_g**3*epsilon_r**2*p_z - 16*E**2*epsilon_g**3*epsilon_r**2 + 32*E**2*epsilon_g**3*epsilon_r*p_z + 32*E**2*epsilon_g**3*epsilon_r + 16*E**2*epsilon_g**3*p_z**2 + 32*E**2*epsilon_g**3*p_z + 16*E**2*epsilon_g**3 - 20*E**2*epsilon_g**2*epsilon_r**4 + 40*E**2*epsilon_g**2*epsilon_r**3 - 4*E**2*epsilon_g**2*epsilon_r**2*p_x - 4*E**2*epsilon_g**2*epsilon_r**2*p_y + 32*E**2*epsilon_g**2*epsilon_r**2*p_z + 6*E**2*epsilon_g**2*epsilon_r**2 + 4*E**2*epsilon_g**2*epsilon_r*p_x + 4*E**2*epsilon_g**2*epsilon_r*p_y - 32*E**2*epsilon_g**2*epsilon_r*p_z - 26*E**2*epsilon_g**2*epsilon_r - 2*E**2*epsilon_g**2*p_x - 2*E**2*epsilon_g**2*p_y - 16*E**2*epsilon_g**2*p_z**2 - 36*E**2*epsilon_g**2*p_z - 24*E**2*epsilon_g**2 + 8*E**2*epsilon_g*epsilon_r**4 - 16*E**2*epsilon_g*epsilon_r**3 + 8*E**2*epsilon_g*epsilon_r**2*p_x + 8*E**2*epsilon_g*epsilon_r**2*p_y + 20*E**2*epsilon_g*epsilon_r**2 - 8*E**2*epsilon_g*epsilon_r*p_x - 8*E**2*epsilon_g*epsilon_r*p_y - 12*E**2*epsilon_g*epsilon_r + 4*E**2*epsilon_g*p_x + 4*E**2*epsilon_g*p_y + 8*E**2*epsilon_g*p_z + 16*E**2*epsilon_g - 14*E**2*epsilon_r**2 + 14*E**2*epsilon_r - 4*E**2 + 12*E*epsilon_g**4*epsilon_r**4 - 24*E*epsilon_g**4*epsilon_r**3 - 12*E*epsilon_g**4*epsilon_r**2*p_z + 6*E*epsilon_g**4*epsilon_r**2 + 12*E*epsilon_g**4*epsilon_r*p_z + 6*E*epsilon_g**4*epsilon_r - 6*E*epsilon_g**4*p_z - 6*E*epsilon_g**4 - 48*E*epsilon_g**3*epsilon_r**4 + 96*E*epsilon_g**3*epsilon_r**3 + 48*E*epsilon_g**3*epsilon_r**2*p_z - 24*E*epsilon_g**3*epsilon_r**2 - 48*E*epsilon_g**3*epsilon_r*p_z - 24*E*epsilon_g**3*epsilon_r + 24*E*epsilon_g**3*p_z + 24*E*epsilon_g**3 + 72*E*epsilon_g**2*epsilon_r**4 - 144*E*epsilon_g**2*epsilon_r**3 - 60*E*epsilon_g**2*epsilon_r**2*p_z + 36*E*epsilon_g**2*epsilon_r**2 + 60*E*epsilon_g**2*epsilon_r*p_z + 36*E*epsilon_g**2*epsilon_r - 30*E*epsilon_g**2*p_z - 36*E*epsilon_g**2 - 48*E*epsilon_g*epsilon_r**4 + 96*E*epsilon_g*epsilon_r**3 + 24*E*epsilon_g*epsilon_r**2*p_z - 24*E*epsilon_g*epsilon_r**2 - 24*E*epsilon_g*epsilon_r*p_z - 24*E*epsilon_g*epsilon_r + 12*E*epsilon_g*p_z + 24*E*epsilon_g + 12*E*epsilon_r**4 - 24*E*epsilon_r**3 + 6*E*epsilon_r**2 + 6*E*epsilon_r - 6*E + 36*epsilon_g**6*epsilon_r**4 - 72*epsilon_g**6*epsilon_r**3 + 72*epsilon_g**6*epsilon_r**2 - 36*epsilon_g**6*epsilon_r + 9*epsilon_g**6 - 216*epsilon_g**5*epsilon_r**4 + 432*epsilon_g**5*epsilon_r**3 - 432*epsilon_g**5*epsilon_r**2 + 216*epsilon_g**5*epsilon_r - 54*epsilon_g**5 + 540*epsilon_g**4*epsilon_r**4 - 1080*epsilon_g**4*epsilon_r**3 + 1080*epsilon_g**4*epsilon_r**2 - 540*epsilon_g**4*epsilon_r + 135*epsilon_g**4 - 720*epsilon_g**3*epsilon_r**4 + 1440*epsilon_g**3*epsilon_r**3 - 1440*epsilon_g**3*epsilon_r**2 + 720*epsilon_g**3*epsilon_r - 180*epsilon_g**3 + 540*epsilon_g**2*epsilon_r**4 - 1080*epsilon_g**2*epsilon_r**3 + 1080*epsilon_g**2*epsilon_r**2 - 540*epsilon_g**2*epsilon_r + 135*epsilon_g**2 - 216*epsilon_g*epsilon_r**4 + 432*epsilon_g*epsilon_r**3 - 432*epsilon_g*epsilon_r**2 + 216*epsilon_g*epsilon_r - 54*epsilon_g + 36*epsilon_r**4 - 72*epsilon_r**3 + 72*epsilon_r**2 - 36*epsilon_r + 9)/(36*epsilon_g**4*epsilon_r**4 - 72*epsilon_g**4*epsilon_r**3 + 72*epsilon_g**4*epsilon_r**2 - 36*epsilon_g**4*epsilon_r + 9*epsilon_g**4 - 144*epsilon_g**3*epsilon_r**4 + 288*epsilon_g**3*epsilon_r**3 - 288*epsilon_g**3*epsilon_r**2 + 144*epsilon_g**3*epsilon_r - 36*epsilon_g**3 + 216*epsilon_g**2*epsilon_r**4 - 432*epsilon_g**2*epsilon_r**3 + 432*epsilon_g**2*epsilon_r**2 - 216*epsilon_g**2*epsilon_r + 54*epsilon_g**2 - 144*epsilon_g*epsilon_r**4 + 288*epsilon_g*epsilon_r**3 - 288*epsilon_g*epsilon_r**2 + 144*epsilon_g*epsilon_r - 36*epsilon_g + 36*epsilon_r**4 - 72*epsilon_r**3 + 72*epsilon_r**2 - 36*epsilon_r + 9)"
      ]
     },
     "execution_count": 225,
     "metadata": {},
     "output_type": "execute_result"
    }
   ],
   "source": [
    "# xo=sy.simplify(sy.series(ec_ofE,E,0,3).removeO)\n",
    "xo=(-4*E**2*epsilon_g**4*epsilon_r**4 + 8*E**2*epsilon_g**4*epsilon_r**3 + 8*E**2*epsilon_g**4*epsilon_r**2*p_z + 4*E**2*epsilon_g**4*epsilon_r**2 - 8*E**2*epsilon_g**4*epsilon_r*p_z - 8*E**2*epsilon_g**4*epsilon_r - 4*E**2*epsilon_g**4*p_z**2 - 8*E**2*epsilon_g**4*p_z - 4*E**2*epsilon_g**4 + 16*E**2*epsilon_g**3*epsilon_r**4 - 32*E**2*epsilon_g**3*epsilon_r**3 - 32*E**2*epsilon_g**3*epsilon_r**2*p_z - 16*E**2*epsilon_g**3*epsilon_r**2 + 32*E**2*epsilon_g**3*epsilon_r*p_z + 32*E**2*epsilon_g**3*epsilon_r + 16*E**2*epsilon_g**3*p_z**2 + 32*E**2*epsilon_g**3*p_z + 16*E**2*epsilon_g**3 - 20*E**2*epsilon_g**2*epsilon_r**4 + 40*E**2*epsilon_g**2*epsilon_r**3 - 4*E**2*epsilon_g**2*epsilon_r**2*p_x - 4*E**2*epsilon_g**2*epsilon_r**2*p_y + 32*E**2*epsilon_g**2*epsilon_r**2*p_z + 6*E**2*epsilon_g**2*epsilon_r**2 + 4*E**2*epsilon_g**2*epsilon_r*p_x + 4*E**2*epsilon_g**2*epsilon_r*p_y - 32*E**2*epsilon_g**2*epsilon_r*p_z - 26*E**2*epsilon_g**2*epsilon_r - 2*E**2*epsilon_g**2*p_x - 2*E**2*epsilon_g**2*p_y - 16*E**2*epsilon_g**2*p_z**2 - 36*E**2*epsilon_g**2*p_z - 24*E**2*epsilon_g**2 + 8*E**2*epsilon_g*epsilon_r**4 - 16*E**2*epsilon_g*epsilon_r**3 + 8*E**2*epsilon_g*epsilon_r**2*p_x + 8*E**2*epsilon_g*epsilon_r**2*p_y + 20*E**2*epsilon_g*epsilon_r**2 - 8*E**2*epsilon_g*epsilon_r*p_x - 8*E**2*epsilon_g*epsilon_r*p_y - 12*E**2*epsilon_g*epsilon_r + 4*E**2*epsilon_g*p_x + 4*E**2*epsilon_g*p_y + 8*E**2*epsilon_g*p_z + 16*E**2*epsilon_g - 14*E**2*epsilon_r**2 + 14*E**2*epsilon_r - 4*E**2 + 12*E*epsilon_g**4*epsilon_r**4 - 24*E*epsilon_g**4*epsilon_r**3 - 12*E*epsilon_g**4*epsilon_r**2*p_z + 6*E*epsilon_g**4*epsilon_r**2 + 12*E*epsilon_g**4*epsilon_r*p_z + 6*E*epsilon_g**4*epsilon_r - 6*E*epsilon_g**4*p_z - 6*E*epsilon_g**4 - 48*E*epsilon_g**3*epsilon_r**4 + 96*E*epsilon_g**3*epsilon_r**3 + 48*E*epsilon_g**3*epsilon_r**2*p_z - 24*E*epsilon_g**3*epsilon_r**2 - 48*E*epsilon_g**3*epsilon_r*p_z - 24*E*epsilon_g**3*epsilon_r + 24*E*epsilon_g**3*p_z + 24*E*epsilon_g**3 + 72*E*epsilon_g**2*epsilon_r**4 - 144*E*epsilon_g**2*epsilon_r**3 - 60*E*epsilon_g**2*epsilon_r**2*p_z + 36*E*epsilon_g**2*epsilon_r**2 + 60*E*epsilon_g**2*epsilon_r*p_z + 36*E*epsilon_g**2*epsilon_r - 30*E*epsilon_g**2*p_z - 36*E*epsilon_g**2 - 48*E*epsilon_g*epsilon_r**4 + 96*E*epsilon_g*epsilon_r**3 + 24*E*epsilon_g*epsilon_r**2*p_z - 24*E*epsilon_g*epsilon_r**2 - 24*E*epsilon_g*epsilon_r*p_z - 24*E*epsilon_g*epsilon_r + 12*E*epsilon_g*p_z + 24*E*epsilon_g + 12*E*epsilon_r**4 - 24*E*epsilon_r**3 + 6*E*epsilon_r**2 + 6*E*epsilon_r - 6*E + 36*epsilon_g**6*epsilon_r**4 - 72*epsilon_g**6*epsilon_r**3 + 72*epsilon_g**6*epsilon_r**2 - 36*epsilon_g**6*epsilon_r + 9*epsilon_g**6 - 216*epsilon_g**5*epsilon_r**4 + 432*epsilon_g**5*epsilon_r**3 - 432*epsilon_g**5*epsilon_r**2 + 216*epsilon_g**5*epsilon_r - 54*epsilon_g**5 + 540*epsilon_g**4*epsilon_r**4 - 1080*epsilon_g**4*epsilon_r**3 + 1080*epsilon_g**4*epsilon_r**2 - 540*epsilon_g**4*epsilon_r + 135*epsilon_g**4 - 720*epsilon_g**3*epsilon_r**4 + 1440*epsilon_g**3*epsilon_r**3 - 1440*epsilon_g**3*epsilon_r**2 + 720*epsilon_g**3*epsilon_r - 180*epsilon_g**3 + 540*epsilon_g**2*epsilon_r**4 - 1080*epsilon_g**2*epsilon_r**3 + 1080*epsilon_g**2*epsilon_r**2 - 540*epsilon_g**2*epsilon_r + 135*epsilon_g**2 - 216*epsilon_g*epsilon_r**4 + 432*epsilon_g*epsilon_r**3 - 432*epsilon_g*epsilon_r**2 + 216*epsilon_g*epsilon_r - 54*epsilon_g + 36*epsilon_r**4 - 72*epsilon_r**3 + 72*epsilon_r**2 - 36*epsilon_r + 9)/(9*(4*epsilon_g**4*epsilon_r**4 - 8*epsilon_g**4*epsilon_r**3 + 8*epsilon_g**4*epsilon_r**2 - 4*epsilon_g**4*epsilon_r + epsilon_g**4 - 16*epsilon_g**3*epsilon_r**4 + 32*epsilon_g**3*epsilon_r**3 - 32*epsilon_g**3*epsilon_r**2 + 16*epsilon_g**3*epsilon_r - 4*epsilon_g**3 + 24*epsilon_g**2*epsilon_r**4 - 48*epsilon_g**2*epsilon_r**3 + 48*epsilon_g**2*epsilon_r**2 - 24*epsilon_g**2*epsilon_r + 6*epsilon_g**2 - 16*epsilon_g*epsilon_r**4 + 32*epsilon_g*epsilon_r**3 - 32*epsilon_g*epsilon_r**2 + 16*epsilon_g*epsilon_r - 4*epsilon_g + 4*epsilon_r**4 - 8*epsilon_r**3 + 8*epsilon_r**2 - 4*epsilon_r + 1))\n",
    "xo"
   ]
  },
  {
   "cell_type": "code",
   "execution_count": 226,
   "id": "5c00b4d5",
   "metadata": {},
   "outputs": [
    {
     "data": {
      "text/latex": [
       "$\\displaystyle \\frac{14 E^{2} \\epsilon_{g}^{2} p_{x}}{9} + \\frac{14 E^{2} \\epsilon_{g}^{2} p_{y}}{9} - \\frac{16 E^{2} \\epsilon_{g}^{2} p_{z}^{2}}{9} - \\frac{4 E^{2} \\epsilon_{g}^{2} p_{z}}{9} + \\frac{4 E^{2} \\epsilon_{g} p_{x}}{9} + \\frac{4 E^{2} \\epsilon_{g} p_{y}}{9} + \\frac{8 E^{2} \\epsilon_{g} p_{z}}{9} - \\frac{4 E^{2}}{9} + 2 E \\epsilon_{g}^{2} p_{z} + \\frac{4 E \\epsilon_{g} p_{z}}{3} + \\frac{2 E \\epsilon_{r}^{2} \\left(14 E \\epsilon_{g}^{2} p_{x} + 14 E \\epsilon_{g}^{2} p_{y} - 64 E \\epsilon_{g}^{2} p_{z}^{2} - 64 E \\epsilon_{g}^{2} p_{z} + 105 E \\epsilon_{g}^{2} + 4 E \\epsilon_{g} p_{x} + 4 E \\epsilon_{g} p_{y} + 32 E \\epsilon_{g} p_{z} + 70 E \\epsilon_{g} + 5 E + 18 \\epsilon_{g}^{2} p_{z} + 12 \\epsilon_{g} p_{z} - 9\\right)}{9} + \\frac{2 E \\epsilon_{r} \\left(14 E \\epsilon_{g}^{2} p_{x} + 14 E \\epsilon_{g}^{2} p_{y} - 32 E \\epsilon_{g}^{2} p_{z}^{2} - 24 E \\epsilon_{g}^{2} p_{z} + 33 E \\epsilon_{g}^{2} + 4 E \\epsilon_{g} p_{x} + 4 E \\epsilon_{g} p_{y} + 16 E \\epsilon_{g} p_{z} + 22 E \\epsilon_{g} - E + 18 \\epsilon_{g}^{2} p_{z} + 12 \\epsilon_{g} p_{z} - 9\\right)}{9} - \\frac{2 E}{3} + \\epsilon_{g}^{2} - 2 \\epsilon_{g} + 1$"
      ],
      "text/plain": [
       "14*E**2*epsilon_g**2*p_x/9 + 14*E**2*epsilon_g**2*p_y/9 - 16*E**2*epsilon_g**2*p_z**2/9 - 4*E**2*epsilon_g**2*p_z/9 + 4*E**2*epsilon_g*p_x/9 + 4*E**2*epsilon_g*p_y/9 + 8*E**2*epsilon_g*p_z/9 - 4*E**2/9 + 2*E*epsilon_g**2*p_z + 4*E*epsilon_g*p_z/3 + 2*E*epsilon_r**2*(14*E*epsilon_g**2*p_x + 14*E*epsilon_g**2*p_y - 64*E*epsilon_g**2*p_z**2 - 64*E*epsilon_g**2*p_z + 105*E*epsilon_g**2 + 4*E*epsilon_g*p_x + 4*E*epsilon_g*p_y + 32*E*epsilon_g*p_z + 70*E*epsilon_g + 5*E + 18*epsilon_g**2*p_z + 12*epsilon_g*p_z - 9)/9 + 2*E*epsilon_r*(14*E*epsilon_g**2*p_x + 14*E*epsilon_g**2*p_y - 32*E*epsilon_g**2*p_z**2 - 24*E*epsilon_g**2*p_z + 33*E*epsilon_g**2 + 4*E*epsilon_g*p_x + 4*E*epsilon_g*p_y + 16*E*epsilon_g*p_z + 22*E*epsilon_g - E + 18*epsilon_g**2*p_z + 12*epsilon_g*p_z - 9)/9 - 2*E/3 + epsilon_g**2 - 2*epsilon_g + 1"
      ]
     },
     "execution_count": 226,
     "metadata": {},
     "output_type": "execute_result"
    }
   ],
   "source": [
    "xoo=sy.simplify(sy.series(sy.series(xo,epsilon_g,0,3).removeO(),epsilon_r,0,3).removeO())\n",
    "xoo"
   ]
  },
  {
   "cell_type": "code",
   "execution_count": 227,
   "id": "7b95acf7",
   "metadata": {},
   "outputs": [],
   "source": [
    "# After third order expansion we get the following;\n",
    "thirdorexpofE=4*E**2*epsilon_g*p_x/9 + 4*E**2*epsilon_g*p_y/9 + 8*E**2*epsilon_g*p_z/9 - 4*E**2/9 + 4*E*epsilon_g*p_z/3 + 2*E*epsilon_r*(4*E*epsilon_g*p_x + 4*E*epsilon_g*p_y + 16*E*epsilon_g*p_z + 22*E*epsilon_g - E + 12*epsilon_g*p_z - 9)/9 - 2*E/3 - 2*epsilon_g + 1\n"
   ]
  }
 ],
 "metadata": {
  "kernelspec": {
   "display_name": "Python 3",
   "language": "python",
   "name": "python3"
  },
  "language_info": {
   "codemirror_mode": {
    "name": "ipython",
    "version": 3
   },
   "file_extension": ".py",
   "mimetype": "text/x-python",
   "name": "python",
   "nbconvert_exporter": "python",
   "pygments_lexer": "ipython3",
   "version": "3.8.20"
  }
 },
 "nbformat": 4,
 "nbformat_minor": 5
}
