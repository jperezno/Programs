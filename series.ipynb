{
 "cells": [
  {
   "cell_type": "code",
   "execution_count": 31,
   "id": "cb167bb3",
   "metadata": {},
   "outputs": [],
   "source": [
    "import sympy as sy\n",
    "from sympy import symbols\n",
    "p_x,p_y,p_z=symbols('p_x p_y p_z')\n",
    "F,A,B,C,D = symbols('F A B C D')\n",
    "x1,x2,y1,y2,eta,N,epsilon_g,PauliErrors = symbols('x1 x2 y1 y2 eta N epsilon_g PauliErrors')"
   ]
  },
  {
   "cell_type": "code",
   "execution_count": 32,
   "id": "4fb22d96",
   "metadata": {},
   "outputs": [
    {
     "data": {
      "text/latex": [
       "$\\displaystyle \\frac{\\left(1 - \\epsilon_{g}\\right)^{2} \\left(2 \\eta \\left(1 - \\eta\\right) \\left(A C + B D\\right) + \\left(A^{2} + B^{2}\\right) \\left(\\eta^{2} + \\left(1 - \\eta\\right)^{2}\\right) + \\frac{\\left(- \\epsilon_{g}^{2} + 2 \\epsilon_{g}\\right) \\left(2 A B p_{z} + 2 C D p_{y} + p_{x} \\left(C^{2} + D^{2}\\right)\\right)}{\\left(1 - \\epsilon_{g}\\right)^{2}}\\right)}{2 \\eta \\left(1 - \\eta\\right) \\left(2 A + 2 B\\right) \\left(C + D\\right) + \\left(\\eta^{2} + \\left(1 - \\eta\\right)^{2}\\right) \\left(\\left(A + B\\right)^{2} + \\left(C + D\\right)^{2}\\right)}$"
      ],
      "text/plain": [
       "(1 - epsilon_g)**2*(2*eta*(1 - eta)*(A*C + B*D) + (A**2 + B**2)*(eta**2 + (1 - eta)**2) + (-epsilon_g**2 + 2*epsilon_g)*(2*A*B*p_z + 2*C*D*p_y + p_x*(C**2 + D**2))/(1 - epsilon_g)**2)/(2*eta*(1 - eta)*(2*A + 2*B)*(C + D) + (eta**2 + (1 - eta)**2)*((A + B)**2 + (C + D)**2))"
      ]
     },
     "execution_count": 32,
     "metadata": {},
     "output_type": "execute_result"
    }
   ],
   "source": [
    "#First we declare the equations\n",
    "A_error=(((A**2)+(B**2))*((eta**2)+((1-eta)**2)) + (((A*C)+(B*D))*(2*(eta)*(1-eta))) +((2*(epsilon_g) - (epsilon_g**2))/((1-epsilon_g)**2))*((p_x*((C*C)+(D*D)))+(p_y*((C*D)+(C*D)))+(p_z*((A*B)+(A*B)))))/((((A+B)**2+(C+D)**2)*((eta**2)+((1-eta)**2)) + (2*(A+B)*(C+D)*(2*(eta)*(1-eta))))/((1-epsilon_g)**2))\n",
    "C_error=(((C**2)+(D**2))*((eta**2)+((1-eta)**2)) + (((C*A)+(D*B))*(2*(eta)*(1-eta))) +((2*(epsilon_g) - (epsilon_g**2))/((1-epsilon_g)**2))*((p_x*((C*A)+(D*B)))+(p_y*((C*B)+(D*A)))+(p_z*((D*A)+(B*C)))))/((((A+B)**2+(C+D)**2)*((eta**2)+((1-eta)**2)) + (2*(C+D)*(A+B)*(2*(eta)*(1-eta))))/((1-epsilon_g)**2))\n",
    "B_error=((2*A*B)*((eta**2)+((1-eta)**2)) + (((C*B)+(A*D))*(2*(eta)*(1-eta))) + ((2*(epsilon_g) - (epsilon_g**2))/((1-epsilon_g)**2))*((p_x*((A*D)+(B*C)))+(p_y*((A*C)+(B*D)))+(p_z*((A*C)+(B*D)))))/((((A+B)**2+(C+D)**2)*((eta**2)+((1-eta)**2)) + (2*(A+B)*(C+D)*(2*(eta)*(1-eta))))/((1-epsilon_g)**2))\n",
    "D_error=((2*C*D)*((eta**2)+((1-eta)**2)) + (((A*D)+(C*B))*(2*(eta)*(1-eta))) + ((2*(epsilon_g) - (epsilon_g**2))/((1-epsilon_g)**2))*((p_x*((C*D)+(D*C)))+(p_y*((C*C)+(D*D)))+(p_z*((A*A)+(B*B)))))/((((A+B)**2+(C+D)**2)*((eta**2)+((1-eta)**2)) + (2*(A+B)*(C+D)*(2*(eta)*(1-eta))))/((1-epsilon_g)**2))\n",
    "A_error"
   ]
  },
  {
   "cell_type": "code",
   "execution_count": 33,
   "id": "eeeffe20",
   "metadata": {},
   "outputs": [
    {
     "data": {
      "text/latex": [
       "$\\displaystyle \\frac{\\left(1 - \\epsilon_{g}\\right)^{2} \\left(2 \\eta \\left(1 - \\eta\\right) \\left(B D + C F\\right) + \\left(B^{2} + F^{2}\\right) \\left(\\eta^{2} + \\left(1 - \\eta\\right)^{2}\\right) + \\frac{\\left(- \\epsilon_{g}^{2} + 2 \\epsilon_{g}\\right) \\left(2 B F p_{z} + 2 C D p_{y} + p_{x} \\left(C^{2} + D^{2}\\right)\\right)}{\\left(1 - \\epsilon_{g}\\right)^{2}}\\right)}{2 \\eta \\left(1 - \\eta\\right) \\left(2 B + 2 F\\right) \\left(C + D\\right) + \\left(\\eta^{2} + \\left(1 - \\eta\\right)^{2}\\right) \\left(\\left(B + F\\right)^{2} + \\left(C + D\\right)^{2}\\right)}$"
      ],
      "text/plain": [
       "(1 - epsilon_g)**2*(2*eta*(1 - eta)*(B*D + C*F) + (B**2 + F**2)*(eta**2 + (1 - eta)**2) + (-epsilon_g**2 + 2*epsilon_g)*(2*B*F*p_z + 2*C*D*p_y + p_x*(C**2 + D**2))/(1 - epsilon_g)**2)/(2*eta*(1 - eta)*(2*B + 2*F)*(C + D) + (eta**2 + (1 - eta)**2)*((B + F)**2 + (C + D)**2))"
      ]
     },
     "execution_count": 33,
     "metadata": {},
     "output_type": "execute_result"
    }
   ],
   "source": [
    "# Now let's declare an intermediate directory substitute\n",
    "changeA = {\n",
    "    A:F}\n",
    "AtoF = A_error.subs(changeA)\n",
    "hybridsubstitution = {\n",
    "    B:(1-F)/3,\n",
    "    C:(1-F)/3,\n",
    "    D:(1-F)/3}\n",
    "AtoF = A_error.subs(changeA)\n",
    "Anum,normalization = AtoF.as_numer_denom()\n",
    "AtoF\n"
   ]
  },
  {
   "cell_type": "code",
   "execution_count": 34,
   "id": "3f88307a",
   "metadata": {},
   "outputs": [
    {
     "data": {
      "text/latex": [
       "$\\displaystyle \\frac{\\left(1 - \\epsilon_{g}\\right)^{2} \\left(2 \\eta \\left(1 - \\eta\\right) \\left(B D + \\frac{C \\left(1 - \\epsilon_{g}\\right)^{2} \\left(2 \\eta \\left(1 - \\eta\\right) \\left(B D + C F\\right) + \\left(B^{2} + F^{2}\\right) \\left(\\eta^{2} + \\left(1 - \\eta\\right)^{2}\\right) + \\frac{\\left(- \\epsilon_{g}^{2} + 2 \\epsilon_{g}\\right) \\left(2 B F p_{z} + 2 C D p_{y} + p_{x} \\left(C^{2} + D^{2}\\right)\\right)}{\\left(1 - \\epsilon_{g}\\right)^{2}}\\right)}{2 \\eta \\left(1 - \\eta\\right) \\left(2 B + 2 F\\right) \\left(C + D\\right) + \\left(\\eta^{2} + \\left(1 - \\eta\\right)^{2}\\right) \\left(\\left(B + F\\right)^{2} + \\left(C + D\\right)^{2}\\right)}\\right) + \\left(B^{2} + \\frac{\\left(1 - \\epsilon_{g}\\right)^{4} \\left(2 \\eta \\left(1 - \\eta\\right) \\left(B D + C F\\right) + \\left(B^{2} + F^{2}\\right) \\left(\\eta^{2} + \\left(1 - \\eta\\right)^{2}\\right) + \\frac{\\left(- \\epsilon_{g}^{2} + 2 \\epsilon_{g}\\right) \\left(2 B F p_{z} + 2 C D p_{y} + p_{x} \\left(C^{2} + D^{2}\\right)\\right)}{\\left(1 - \\epsilon_{g}\\right)^{2}}\\right)^{2}}{\\left(2 \\eta \\left(1 - \\eta\\right) \\left(2 B + 2 F\\right) \\left(C + D\\right) + \\left(\\eta^{2} + \\left(1 - \\eta\\right)^{2}\\right) \\left(\\left(B + F\\right)^{2} + \\left(C + D\\right)^{2}\\right)\\right)^{2}}\\right) \\left(\\eta^{2} + \\left(1 - \\eta\\right)^{2}\\right) + \\frac{\\left(- \\epsilon_{g}^{2} + 2 \\epsilon_{g}\\right) \\left(\\frac{2 B p_{z} \\left(1 - \\epsilon_{g}\\right)^{2} \\left(2 \\eta \\left(1 - \\eta\\right) \\left(B D + C F\\right) + \\left(B^{2} + F^{2}\\right) \\left(\\eta^{2} + \\left(1 - \\eta\\right)^{2}\\right) + \\frac{\\left(- \\epsilon_{g}^{2} + 2 \\epsilon_{g}\\right) \\left(2 B F p_{z} + 2 C D p_{y} + p_{x} \\left(C^{2} + D^{2}\\right)\\right)}{\\left(1 - \\epsilon_{g}\\right)^{2}}\\right)}{2 \\eta \\left(1 - \\eta\\right) \\left(2 B + 2 F\\right) \\left(C + D\\right) + \\left(\\eta^{2} + \\left(1 - \\eta\\right)^{2}\\right) \\left(\\left(B + F\\right)^{2} + \\left(C + D\\right)^{2}\\right)} + 2 C D p_{y} + p_{x} \\left(C^{2} + D^{2}\\right)\\right)}{\\left(1 - \\epsilon_{g}\\right)^{2}}\\right)}{2 \\eta \\left(1 - \\eta\\right) \\left(2 B + \\frac{2 \\left(1 - \\epsilon_{g}\\right)^{2} \\left(2 \\eta \\left(1 - \\eta\\right) \\left(B D + C F\\right) + \\left(B^{2} + F^{2}\\right) \\left(\\eta^{2} + \\left(1 - \\eta\\right)^{2}\\right) + \\frac{\\left(- \\epsilon_{g}^{2} + 2 \\epsilon_{g}\\right) \\left(2 B F p_{z} + 2 C D p_{y} + p_{x} \\left(C^{2} + D^{2}\\right)\\right)}{\\left(1 - \\epsilon_{g}\\right)^{2}}\\right)}{2 \\eta \\left(1 - \\eta\\right) \\left(2 B + 2 F\\right) \\left(C + D\\right) + \\left(\\eta^{2} + \\left(1 - \\eta\\right)^{2}\\right) \\left(\\left(B + F\\right)^{2} + \\left(C + D\\right)^{2}\\right)}\\right) \\left(C + D\\right) + \\left(\\eta^{2} + \\left(1 - \\eta\\right)^{2}\\right) \\left(\\left(B + \\frac{\\left(1 - \\epsilon_{g}\\right)^{2} \\left(2 \\eta \\left(1 - \\eta\\right) \\left(B D + C F\\right) + \\left(B^{2} + F^{2}\\right) \\left(\\eta^{2} + \\left(1 - \\eta\\right)^{2}\\right) + \\frac{\\left(- \\epsilon_{g}^{2} + 2 \\epsilon_{g}\\right) \\left(2 B F p_{z} + 2 C D p_{y} + p_{x} \\left(C^{2} + D^{2}\\right)\\right)}{\\left(1 - \\epsilon_{g}\\right)^{2}}\\right)}{2 \\eta \\left(1 - \\eta\\right) \\left(2 B + 2 F\\right) \\left(C + D\\right) + \\left(\\eta^{2} + \\left(1 - \\eta\\right)^{2}\\right) \\left(\\left(B + F\\right)^{2} + \\left(C + D\\right)^{2}\\right)}\\right)^{2} + \\left(C + D\\right)^{2}\\right)}$"
      ],
      "text/plain": [
       "(1 - epsilon_g)**2*(2*eta*(1 - eta)*(B*D + C*(1 - epsilon_g)**2*(2*eta*(1 - eta)*(B*D + C*F) + (B**2 + F**2)*(eta**2 + (1 - eta)**2) + (-epsilon_g**2 + 2*epsilon_g)*(2*B*F*p_z + 2*C*D*p_y + p_x*(C**2 + D**2))/(1 - epsilon_g)**2)/(2*eta*(1 - eta)*(2*B + 2*F)*(C + D) + (eta**2 + (1 - eta)**2)*((B + F)**2 + (C + D)**2))) + (B**2 + (1 - epsilon_g)**4*(2*eta*(1 - eta)*(B*D + C*F) + (B**2 + F**2)*(eta**2 + (1 - eta)**2) + (-epsilon_g**2 + 2*epsilon_g)*(2*B*F*p_z + 2*C*D*p_y + p_x*(C**2 + D**2))/(1 - epsilon_g)**2)**2/(2*eta*(1 - eta)*(2*B + 2*F)*(C + D) + (eta**2 + (1 - eta)**2)*((B + F)**2 + (C + D)**2))**2)*(eta**2 + (1 - eta)**2) + (-epsilon_g**2 + 2*epsilon_g)*(2*B*p_z*(1 - epsilon_g)**2*(2*eta*(1 - eta)*(B*D + C*F) + (B**2 + F**2)*(eta**2 + (1 - eta)**2) + (-epsilon_g**2 + 2*epsilon_g)*(2*B*F*p_z + 2*C*D*p_y + p_x*(C**2 + D**2))/(1 - epsilon_g)**2)/(2*eta*(1 - eta)*(2*B + 2*F)*(C + D) + (eta**2 + (1 - eta)**2)*((B + F)**2 + (C + D)**2)) + 2*C*D*p_y + p_x*(C**2 + D**2))/(1 - epsilon_g)**2)/(2*eta*(1 - eta)*(2*B + 2*(1 - epsilon_g)**2*(2*eta*(1 - eta)*(B*D + C*F) + (B**2 + F**2)*(eta**2 + (1 - eta)**2) + (-epsilon_g**2 + 2*epsilon_g)*(2*B*F*p_z + 2*C*D*p_y + p_x*(C**2 + D**2))/(1 - epsilon_g)**2)/(2*eta*(1 - eta)*(2*B + 2*F)*(C + D) + (eta**2 + (1 - eta)**2)*((B + F)**2 + (C + D)**2)))*(C + D) + (eta**2 + (1 - eta)**2)*((B + (1 - epsilon_g)**2*(2*eta*(1 - eta)*(B*D + C*F) + (B**2 + F**2)*(eta**2 + (1 - eta)**2) + (-epsilon_g**2 + 2*epsilon_g)*(2*B*F*p_z + 2*C*D*p_y + p_x*(C**2 + D**2))/(1 - epsilon_g)**2)/(2*eta*(1 - eta)*(2*B + 2*F)*(C + D) + (eta**2 + (1 - eta)**2)*((B + F)**2 + (C + D)**2)))**2 + (C + D)**2))"
      ]
     },
     "execution_count": 34,
     "metadata": {},
     "output_type": "execute_result"
    }
   ],
   "source": [
    "Ahyb=(((AtoF**2)+(B**2))*((eta**2)+((1-eta)**2)) + (((AtoF*C)+(B*D))*(2*(eta)*(1-eta))) +((2*(epsilon_g) - (epsilon_g**2))/((1-epsilon_g)**2))*((p_x*((C*C)+(D*D)))+(p_y*((C*D)+(C*D)))+(p_z*((AtoF*B)+(AtoF*B)))))/((((AtoF+B)**2+(C+D)**2)*((eta**2)+((1-eta)**2)) + (2*(AtoF+B)*(C+D)*(2*(eta)*(1-eta))))/((1-epsilon_g)**2))\n",
    "Ahyb"
   ]
  },
  {
   "cell_type": "code",
   "execution_count": 35,
   "id": "82df5ca8",
   "metadata": {},
   "outputs": [
    {
     "data": {
      "text/latex": [
       "$\\displaystyle \\frac{\\left(1 - \\epsilon_{g}\\right)^{2} \\left(2 \\eta \\left(1 - \\eta\\right) \\left(\\left(\\frac{1}{3} - \\frac{F}{3}\\right)^{2} + \\frac{\\left(\\frac{1}{3} - \\frac{F}{3}\\right) \\left(1 - \\epsilon_{g}\\right)^{2} \\left(2 \\eta \\left(1 - \\eta\\right) \\left(F \\left(\\frac{1}{3} - \\frac{F}{3}\\right) + \\left(\\frac{1}{3} - \\frac{F}{3}\\right)^{2}\\right) + \\left(F^{2} + \\left(\\frac{1}{3} - \\frac{F}{3}\\right)^{2}\\right) \\left(\\eta^{2} + \\left(1 - \\eta\\right)^{2}\\right) + \\frac{\\left(- \\epsilon_{g}^{2} + 2 \\epsilon_{g}\\right) \\left(2 F p_{z} \\left(\\frac{1}{3} - \\frac{F}{3}\\right) + 2 p_{x} \\left(\\frac{1}{3} - \\frac{F}{3}\\right)^{2} + 2 p_{y} \\left(\\frac{1}{3} - \\frac{F}{3}\\right)^{2}\\right)}{\\left(1 - \\epsilon_{g}\\right)^{2}}\\right)}{2 \\eta \\left(\\frac{2}{3} - \\frac{2 F}{3}\\right) \\left(1 - \\eta\\right) \\left(\\frac{4 F}{3} + \\frac{2}{3}\\right) + \\left(\\eta^{2} + \\left(1 - \\eta\\right)^{2}\\right) \\left(\\left(\\frac{2}{3} - \\frac{2 F}{3}\\right)^{2} + \\left(\\frac{2 F}{3} + \\frac{1}{3}\\right)^{2}\\right)}\\right) + \\left(\\eta^{2} + \\left(1 - \\eta\\right)^{2}\\right) \\left(\\left(\\frac{1}{3} - \\frac{F}{3}\\right)^{2} + \\frac{\\left(1 - \\epsilon_{g}\\right)^{4} \\left(2 \\eta \\left(1 - \\eta\\right) \\left(F \\left(\\frac{1}{3} - \\frac{F}{3}\\right) + \\left(\\frac{1}{3} - \\frac{F}{3}\\right)^{2}\\right) + \\left(F^{2} + \\left(\\frac{1}{3} - \\frac{F}{3}\\right)^{2}\\right) \\left(\\eta^{2} + \\left(1 - \\eta\\right)^{2}\\right) + \\frac{\\left(- \\epsilon_{g}^{2} + 2 \\epsilon_{g}\\right) \\left(2 F p_{z} \\left(\\frac{1}{3} - \\frac{F}{3}\\right) + 2 p_{x} \\left(\\frac{1}{3} - \\frac{F}{3}\\right)^{2} + 2 p_{y} \\left(\\frac{1}{3} - \\frac{F}{3}\\right)^{2}\\right)}{\\left(1 - \\epsilon_{g}\\right)^{2}}\\right)^{2}}{\\left(2 \\eta \\left(\\frac{2}{3} - \\frac{2 F}{3}\\right) \\left(1 - \\eta\\right) \\left(\\frac{4 F}{3} + \\frac{2}{3}\\right) + \\left(\\eta^{2} + \\left(1 - \\eta\\right)^{2}\\right) \\left(\\left(\\frac{2}{3} - \\frac{2 F}{3}\\right)^{2} + \\left(\\frac{2 F}{3} + \\frac{1}{3}\\right)^{2}\\right)\\right)^{2}}\\right) + \\frac{\\left(- \\epsilon_{g}^{2} + 2 \\epsilon_{g}\\right) \\left(2 p_{x} \\left(\\frac{1}{3} - \\frac{F}{3}\\right)^{2} + 2 p_{y} \\left(\\frac{1}{3} - \\frac{F}{3}\\right)^{2} + \\frac{2 p_{z} \\left(\\frac{1}{3} - \\frac{F}{3}\\right) \\left(1 - \\epsilon_{g}\\right)^{2} \\left(2 \\eta \\left(1 - \\eta\\right) \\left(F \\left(\\frac{1}{3} - \\frac{F}{3}\\right) + \\left(\\frac{1}{3} - \\frac{F}{3}\\right)^{2}\\right) + \\left(F^{2} + \\left(\\frac{1}{3} - \\frac{F}{3}\\right)^{2}\\right) \\left(\\eta^{2} + \\left(1 - \\eta\\right)^{2}\\right) + \\frac{\\left(- \\epsilon_{g}^{2} + 2 \\epsilon_{g}\\right) \\left(2 F p_{z} \\left(\\frac{1}{3} - \\frac{F}{3}\\right) + 2 p_{x} \\left(\\frac{1}{3} - \\frac{F}{3}\\right)^{2} + 2 p_{y} \\left(\\frac{1}{3} - \\frac{F}{3}\\right)^{2}\\right)}{\\left(1 - \\epsilon_{g}\\right)^{2}}\\right)}{2 \\eta \\left(\\frac{2}{3} - \\frac{2 F}{3}\\right) \\left(1 - \\eta\\right) \\left(\\frac{4 F}{3} + \\frac{2}{3}\\right) + \\left(\\eta^{2} + \\left(1 - \\eta\\right)^{2}\\right) \\left(\\left(\\frac{2}{3} - \\frac{2 F}{3}\\right)^{2} + \\left(\\frac{2 F}{3} + \\frac{1}{3}\\right)^{2}\\right)}\\right)}{\\left(1 - \\epsilon_{g}\\right)^{2}}\\right)}{2 \\eta \\left(\\frac{2}{3} - \\frac{2 F}{3}\\right) \\left(1 - \\eta\\right) \\left(- \\frac{2 F}{3} + \\frac{2 \\left(1 - \\epsilon_{g}\\right)^{2} \\left(2 \\eta \\left(1 - \\eta\\right) \\left(F \\left(\\frac{1}{3} - \\frac{F}{3}\\right) + \\left(\\frac{1}{3} - \\frac{F}{3}\\right)^{2}\\right) + \\left(F^{2} + \\left(\\frac{1}{3} - \\frac{F}{3}\\right)^{2}\\right) \\left(\\eta^{2} + \\left(1 - \\eta\\right)^{2}\\right) + \\frac{\\left(- \\epsilon_{g}^{2} + 2 \\epsilon_{g}\\right) \\left(2 F p_{z} \\left(\\frac{1}{3} - \\frac{F}{3}\\right) + 2 p_{x} \\left(\\frac{1}{3} - \\frac{F}{3}\\right)^{2} + 2 p_{y} \\left(\\frac{1}{3} - \\frac{F}{3}\\right)^{2}\\right)}{\\left(1 - \\epsilon_{g}\\right)^{2}}\\right)}{2 \\eta \\left(\\frac{2}{3} - \\frac{2 F}{3}\\right) \\left(1 - \\eta\\right) \\left(\\frac{4 F}{3} + \\frac{2}{3}\\right) + \\left(\\eta^{2} + \\left(1 - \\eta\\right)^{2}\\right) \\left(\\left(\\frac{2}{3} - \\frac{2 F}{3}\\right)^{2} + \\left(\\frac{2 F}{3} + \\frac{1}{3}\\right)^{2}\\right)} + \\frac{2}{3}\\right) + \\left(\\eta^{2} + \\left(1 - \\eta\\right)^{2}\\right) \\left(\\left(\\frac{2}{3} - \\frac{2 F}{3}\\right)^{2} + \\left(- \\frac{F}{3} + \\frac{\\left(1 - \\epsilon_{g}\\right)^{2} \\left(2 \\eta \\left(1 - \\eta\\right) \\left(F \\left(\\frac{1}{3} - \\frac{F}{3}\\right) + \\left(\\frac{1}{3} - \\frac{F}{3}\\right)^{2}\\right) + \\left(F^{2} + \\left(\\frac{1}{3} - \\frac{F}{3}\\right)^{2}\\right) \\left(\\eta^{2} + \\left(1 - \\eta\\right)^{2}\\right) + \\frac{\\left(- \\epsilon_{g}^{2} + 2 \\epsilon_{g}\\right) \\left(2 F p_{z} \\left(\\frac{1}{3} - \\frac{F}{3}\\right) + 2 p_{x} \\left(\\frac{1}{3} - \\frac{F}{3}\\right)^{2} + 2 p_{y} \\left(\\frac{1}{3} - \\frac{F}{3}\\right)^{2}\\right)}{\\left(1 - \\epsilon_{g}\\right)^{2}}\\right)}{2 \\eta \\left(\\frac{2}{3} - \\frac{2 F}{3}\\right) \\left(1 - \\eta\\right) \\left(\\frac{4 F}{3} + \\frac{2}{3}\\right) + \\left(\\eta^{2} + \\left(1 - \\eta\\right)^{2}\\right) \\left(\\left(\\frac{2}{3} - \\frac{2 F}{3}\\right)^{2} + \\left(\\frac{2 F}{3} + \\frac{1}{3}\\right)^{2}\\right)} + \\frac{1}{3}\\right)^{2}\\right)}$"
      ],
      "text/plain": [
       "(1 - epsilon_g)**2*(2*eta*(1 - eta)*((1/3 - F/3)**2 + (1/3 - F/3)*(1 - epsilon_g)**2*(2*eta*(1 - eta)*(F*(1/3 - F/3) + (1/3 - F/3)**2) + (F**2 + (1/3 - F/3)**2)*(eta**2 + (1 - eta)**2) + (-epsilon_g**2 + 2*epsilon_g)*(2*F*p_z*(1/3 - F/3) + 2*p_x*(1/3 - F/3)**2 + 2*p_y*(1/3 - F/3)**2)/(1 - epsilon_g)**2)/(2*eta*(2/3 - 2*F/3)*(1 - eta)*(4*F/3 + 2/3) + (eta**2 + (1 - eta)**2)*((2/3 - 2*F/3)**2 + (2*F/3 + 1/3)**2))) + (eta**2 + (1 - eta)**2)*((1/3 - F/3)**2 + (1 - epsilon_g)**4*(2*eta*(1 - eta)*(F*(1/3 - F/3) + (1/3 - F/3)**2) + (F**2 + (1/3 - F/3)**2)*(eta**2 + (1 - eta)**2) + (-epsilon_g**2 + 2*epsilon_g)*(2*F*p_z*(1/3 - F/3) + 2*p_x*(1/3 - F/3)**2 + 2*p_y*(1/3 - F/3)**2)/(1 - epsilon_g)**2)**2/(2*eta*(2/3 - 2*F/3)*(1 - eta)*(4*F/3 + 2/3) + (eta**2 + (1 - eta)**2)*((2/3 - 2*F/3)**2 + (2*F/3 + 1/3)**2))**2) + (-epsilon_g**2 + 2*epsilon_g)*(2*p_x*(1/3 - F/3)**2 + 2*p_y*(1/3 - F/3)**2 + 2*p_z*(1/3 - F/3)*(1 - epsilon_g)**2*(2*eta*(1 - eta)*(F*(1/3 - F/3) + (1/3 - F/3)**2) + (F**2 + (1/3 - F/3)**2)*(eta**2 + (1 - eta)**2) + (-epsilon_g**2 + 2*epsilon_g)*(2*F*p_z*(1/3 - F/3) + 2*p_x*(1/3 - F/3)**2 + 2*p_y*(1/3 - F/3)**2)/(1 - epsilon_g)**2)/(2*eta*(2/3 - 2*F/3)*(1 - eta)*(4*F/3 + 2/3) + (eta**2 + (1 - eta)**2)*((2/3 - 2*F/3)**2 + (2*F/3 + 1/3)**2)))/(1 - epsilon_g)**2)/(2*eta*(2/3 - 2*F/3)*(1 - eta)*(-2*F/3 + 2*(1 - epsilon_g)**2*(2*eta*(1 - eta)*(F*(1/3 - F/3) + (1/3 - F/3)**2) + (F**2 + (1/3 - F/3)**2)*(eta**2 + (1 - eta)**2) + (-epsilon_g**2 + 2*epsilon_g)*(2*F*p_z*(1/3 - F/3) + 2*p_x*(1/3 - F/3)**2 + 2*p_y*(1/3 - F/3)**2)/(1 - epsilon_g)**2)/(2*eta*(2/3 - 2*F/3)*(1 - eta)*(4*F/3 + 2/3) + (eta**2 + (1 - eta)**2)*((2/3 - 2*F/3)**2 + (2*F/3 + 1/3)**2)) + 2/3) + (eta**2 + (1 - eta)**2)*((2/3 - 2*F/3)**2 + (-F/3 + (1 - epsilon_g)**2*(2*eta*(1 - eta)*(F*(1/3 - F/3) + (1/3 - F/3)**2) + (F**2 + (1/3 - F/3)**2)*(eta**2 + (1 - eta)**2) + (-epsilon_g**2 + 2*epsilon_g)*(2*F*p_z*(1/3 - F/3) + 2*p_x*(1/3 - F/3)**2 + 2*p_y*(1/3 - F/3)**2)/(1 - epsilon_g)**2)/(2*eta*(2/3 - 2*F/3)*(1 - eta)*(4*F/3 + 2/3) + (eta**2 + (1 - eta)**2)*((2/3 - 2*F/3)**2 + (2*F/3 + 1/3)**2)) + 1/3)**2))"
      ]
     },
     "execution_count": 35,
     "metadata": {},
     "output_type": "execute_result"
    }
   ],
   "source": [
    "# now we substitute by depolarizing the variables into F and we store the num and denom for later\n",
    "hybeq=Ahyb.subs(hybridsubstitution)\n",
    "something,secondnormalization= hybeq.as_numer_denom()\n",
    "hybeq"
   ]
  },
  {
   "cell_type": "code",
   "execution_count": 36,
   "id": "5706426c",
   "metadata": {},
   "outputs": [],
   "source": [
    "##### THIS PART TAKES 15 MIN TO RUN UNCOMMENT IF YOU WANT, RESULT OF CELL IS UNDER IT #####\n",
    "\n",
    "# # we simplify this equation and we separate the numerator and denominator for later\n",
    "# simplified_hybeq=sy.simplify(hybeq)\n",
    "# hybnum,hybden=simplified_hybeq.as_numer_denom()\n",
    "\n",
    "# # here we write this into a text file because this takes long to run\n",
    "# with open(\"simp_hybeq.txt\", \"w+\") as f:\n",
    "#     f.write(str(simplified_hybeq))\n",
    "##### RESULT #####\n",
    "hybnum=(-2*epsilon_g*(F - 1)*(epsilon_g - 2)*(-3*p_z*(-2*epsilon_g*(F - 1)*(epsilon_g - 2)*(-3*F*p_z + p_x*(F - 1) + p_y*(F - 1)) + (epsilon_g - 1)**2*(2*eta*(F - 1)*(2*F + 1)*(eta - 1) + (9*F**2 + (F - 1)**2)*(eta**2 + (eta - 1)**2))) + (F - 1)*(p_x + p_y)*(8*eta*(F - 1)*(2*F + 1)*(eta - 1) + (eta**2 + (eta - 1)**2)*(4*(F - 1)**2 + (2*F + 1)**2)))*(8*eta*(F - 1)*(2*F + 1)*(eta - 1) + (eta**2 + (eta - 1)**2)*(4*(F - 1)**2 + (2*F + 1)**2)) - 2*eta*(F - 1)*(epsilon_g - 1)**2*(eta - 1)*(8*eta*(F - 1)*(2*F + 1)*(eta - 1) + (eta**2 + (eta - 1)**2)*(4*(F - 1)**2 + (2*F + 1)**2))*(6*epsilon_g*(F - 1)*(epsilon_g - 2)*(-3*F*p_z + p_x*(F - 1) + p_y*(F - 1)) + (F - 1)*(8*eta*(F - 1)*(2*F + 1)*(eta - 1) + (eta**2 + (eta - 1)**2)*(4*(F - 1)**2 + (2*F + 1)**2)) - 3*(epsilon_g - 1)**2*(2*eta*(F - 1)*(2*F + 1)*(eta - 1) + (9*F**2 + (F - 1)**2)*(eta**2 + (eta - 1)**2))) + (epsilon_g - 1)**2*(eta**2 + (eta - 1)**2)*((F - 1)**2*(8*eta*(F - 1)*(2*F + 1)*(eta - 1) + (eta**2 + (eta - 1)**2)*(4*(F - 1)**2 + (2*F + 1)**2))**2 + 9*(-2*epsilon_g*(F - 1)*(epsilon_g - 2)*(-3*F*p_z + p_x*(F - 1) + p_y*(F - 1)) + (epsilon_g - 1)**2*(2*eta*(F - 1)*(2*F + 1)*(eta - 1) + (9*F**2 + (F - 1)**2)*(eta**2 + (eta - 1)**2)))**2))\n",
    "hybden=(8*eta*(F - 1)*(eta - 1)*(8*eta*(F - 1)*(2*F + 1)*(eta - 1) + (eta**2 + (eta - 1)**2)*(4*(F - 1)**2 + (2*F + 1)**2))*(-6*epsilon_g*(F - 1)*(epsilon_g - 2)*(-3*F*p_z + p_x*(F - 1) + p_y*(F - 1)) + (1 - F)*(8*eta*(F - 1)*(2*F + 1)*(eta - 1) + (eta**2 + (eta - 1)**2)*(4*(F - 1)**2 + (2*F + 1)**2)) + 3*(epsilon_g - 1)**2*(2*eta*(F - 1)*(2*F + 1)*(eta - 1) + (9*F**2 + (F - 1)**2)*(eta**2 + (eta - 1)**2))) + (eta**2 + (eta - 1)**2)*(4*(F - 1)**2*(8*eta*(F - 1)*(2*F + 1)*(eta - 1) + (eta**2 + (eta - 1)**2)*(4*(F - 1)**2 + (2*F + 1)**2))**2 + (-6*epsilon_g*(F - 1)*(epsilon_g - 2)*(-3*F*p_z + p_x*(F - 1) + p_y*(F - 1)) + (1 - F)*(8*eta*(F - 1)*(2*F + 1)*(eta - 1) + (eta**2 + (eta - 1)**2)*(4*(F - 1)**2 + (2*F + 1)**2)) + 3*(epsilon_g - 1)**2*(2*eta*(F - 1)*(2*F + 1)*(eta - 1) + (9*F**2 + (F - 1)**2)*(eta**2 + (eta - 1)**2)))**2))"
   ]
  },
  {
   "cell_type": "code",
   "execution_count": 37,
   "id": "dc7c8e77",
   "metadata": {},
   "outputs": [
    {
     "data": {
      "text/latex": [
       "$\\displaystyle \\frac{- 120 F^{2} \\epsilon_{g} \\eta^{2} + 120 F^{2} \\epsilon_{g} \\eta - 8 F^{2} \\epsilon_{g} p_{z} - 44 F^{2} \\epsilon_{g} + 32 F^{2} \\eta^{2} - 32 F^{2} \\eta + 10 F^{2} + 272 F \\epsilon_{g} \\eta^{2} - 272 F \\epsilon_{g} \\eta + 20 F \\epsilon_{g} p_{z} + 104 F \\epsilon_{g} - 56 F \\eta^{2} + 56 F \\eta - 19 F - 140 \\epsilon_{g} \\eta^{2} + 140 \\epsilon_{g} \\eta - 12 \\epsilon_{g} p_{z} - 54 \\epsilon_{g} + 24 \\eta^{2} - 24 \\eta + 9}{120 F \\epsilon_{g} \\eta^{2} - 120 F \\epsilon_{g} \\eta + 8 F \\epsilon_{g} p_{z} + 44 F \\epsilon_{g} - 32 F \\eta^{2} + 32 F \\eta - 10 F - 96 \\epsilon_{g} \\eta^{2} + 96 \\epsilon_{g} \\eta - 8 \\epsilon_{g} p_{z} - 32 \\epsilon_{g} + 26 \\eta^{2} - 26 \\eta + 7}$"
      ],
      "text/plain": [
       "(-120*F**2*epsilon_g*eta**2 + 120*F**2*epsilon_g*eta - 8*F**2*epsilon_g*p_z - 44*F**2*epsilon_g + 32*F**2*eta**2 - 32*F**2*eta + 10*F**2 + 272*F*epsilon_g*eta**2 - 272*F*epsilon_g*eta + 20*F*epsilon_g*p_z + 104*F*epsilon_g - 56*F*eta**2 + 56*F*eta - 19*F - 140*epsilon_g*eta**2 + 140*epsilon_g*eta - 12*epsilon_g*p_z - 54*epsilon_g + 24*eta**2 - 24*eta + 9)/(120*F*epsilon_g*eta**2 - 120*F*epsilon_g*eta + 8*F*epsilon_g*p_z + 44*F*epsilon_g - 32*F*eta**2 + 32*F*eta - 10*F - 96*epsilon_g*eta**2 + 96*epsilon_g*eta - 8*epsilon_g*p_z - 32*epsilon_g + 26*eta**2 - 26*eta + 7)"
      ]
     },
     "execution_count": 37,
     "metadata": {},
     "output_type": "execute_result"
    }
   ],
   "source": [
    "#here we do a multivariable taylor expansion up to second order first around F=1 and then one around E_g around 0\n",
    "simp_expansion_num=sy.simplify(sy.series((sy.series(hybnum,F,1,2).removeO()),epsilon_g,0,2).removeO())\n",
    "simp_expansion_den=sy.simplify(sy.series((sy.series(hybden,F,1,2).removeO()),epsilon_g,0,2).removeO())\n",
    "integrandF=(sy.simplify((simp_expansion_num/simp_expansion_den)-F))\n",
    "integrandF"
   ]
  },
  {
   "cell_type": "code",
   "execution_count": 38,
   "id": "c8d8686e",
   "metadata": {},
   "outputs": [
    {
     "data": {
      "text/latex": [
       "$\\displaystyle \\frac{- F^{2} \\left(60 \\epsilon_{g} \\eta^{2} - 60 \\epsilon_{g} \\eta + 4 \\epsilon_{g} p_{z} + 22 \\epsilon_{g} - 16 \\eta^{2} + 16 \\eta - 5\\right)^{2} + 2 F \\left(60 \\epsilon_{g} \\eta^{2} - 60 \\epsilon_{g} \\eta + 4 \\epsilon_{g} p_{z} + 22 \\epsilon_{g} - 16 \\eta^{2} + 16 \\eta - 5\\right) \\left(88 \\epsilon_{g} \\eta^{2} - 88 \\epsilon_{g} \\eta + 6 \\epsilon_{g} p_{z} + 36 \\epsilon_{g} - 15 \\eta^{2} + 15 \\eta - 6\\right) + 3 \\left(2 \\eta^{2} - 2 \\eta + 1\\right) \\left(8 \\epsilon_{g}^{2} \\eta^{2} - 8 \\epsilon_{g}^{2} \\eta - 12 \\epsilon_{g}^{2} - 8 \\epsilon_{g} \\eta^{2} + 8 \\epsilon_{g} \\eta + 2 \\epsilon_{g} p_{z} + 8 \\epsilon_{g} + \\eta^{2} - \\eta - 1\\right) \\log{\\left(2 F \\left(60 \\epsilon_{g} \\eta^{2} - 60 \\epsilon_{g} \\eta + 4 \\epsilon_{g} p_{z} + 22 \\epsilon_{g} - 16 \\eta^{2} + 16 \\eta - 5\\right) - 96 \\epsilon_{g} \\eta^{2} + 96 \\epsilon_{g} \\eta - 8 \\epsilon_{g} p_{z} - 32 \\epsilon_{g} + 26 \\eta^{2} - 26 \\eta + 7 \\right)}}{2 \\left(60 \\epsilon_{g} \\eta^{2} - 60 \\epsilon_{g} \\eta + 4 \\epsilon_{g} p_{z} + 22 \\epsilon_{g} - 16 \\eta^{2} + 16 \\eta - 5\\right)^{2}}$"
      ],
      "text/plain": [
       "(-F**2*(60*epsilon_g*eta**2 - 60*epsilon_g*eta + 4*epsilon_g*p_z + 22*epsilon_g - 16*eta**2 + 16*eta - 5)**2 + 2*F*(60*epsilon_g*eta**2 - 60*epsilon_g*eta + 4*epsilon_g*p_z + 22*epsilon_g - 16*eta**2 + 16*eta - 5)*(88*epsilon_g*eta**2 - 88*epsilon_g*eta + 6*epsilon_g*p_z + 36*epsilon_g - 15*eta**2 + 15*eta - 6) + 3*(2*eta**2 - 2*eta + 1)*(8*epsilon_g**2*eta**2 - 8*epsilon_g**2*eta - 12*epsilon_g**2 - 8*epsilon_g*eta**2 + 8*epsilon_g*eta + 2*epsilon_g*p_z + 8*epsilon_g + eta**2 - eta - 1)*log(2*F*(60*epsilon_g*eta**2 - 60*epsilon_g*eta + 4*epsilon_g*p_z + 22*epsilon_g - 16*eta**2 + 16*eta - 5) - 96*epsilon_g*eta**2 + 96*epsilon_g*eta - 8*epsilon_g*p_z - 32*epsilon_g + 26*eta**2 - 26*eta + 7))/(2*(60*epsilon_g*eta**2 - 60*epsilon_g*eta + 4*epsilon_g*p_z + 22*epsilon_g - 16*eta**2 + 16*eta - 5)**2)"
      ]
     },
     "execution_count": 38,
     "metadata": {},
     "output_type": "execute_result"
    }
   ],
   "source": [
    "# now we can integrate the new variable \n",
    "eq13=sy.simplify(sy.integrate(integrandF,F))\n",
    "eq13"
   ]
  },
  {
   "cell_type": "code",
   "execution_count": 39,
   "id": "8f74d04b",
   "metadata": {},
   "outputs": [
    {
     "name": "stdout",
     "output_type": "stream",
     "text": [
      "(-F**2*(60*epsilon_g*eta**2 - 60*epsilon_g*eta + 4*epsilon_g*p_z + 22*epsilon_g - 16*eta**2 + 16*eta - 5)**2 + 2*F*(60*epsilon_g*eta**2 - 60*epsilon_g*eta + 4*epsilon_g*p_z + 22*epsilon_g - 16*eta**2 + 16*eta - 5)*(88*epsilon_g*eta**2 - 88*epsilon_g*eta + 6*epsilon_g*p_z + 36*epsilon_g - 15*eta**2 + 15*eta - 6) + 3*(2*eta**2 - 2*eta + 1)*(8*epsilon_g**2*eta**2 - 8*epsilon_g**2*eta - 12*epsilon_g**2 - 8*epsilon_g*eta**2 + 8*epsilon_g*eta + 2*epsilon_g*p_z + 8*epsilon_g + eta**2 - eta - 1)*log(2*F*(60*epsilon_g*eta**2 - 60*epsilon_g*eta + 4*epsilon_g*p_z + 22*epsilon_g - 16*eta**2 + 16*eta - 5) - 96*epsilon_g*eta**2 + 96*epsilon_g*eta - 8*epsilon_g*p_z - 32*epsilon_g + 26*eta**2 - 26*eta + 7))/(2*(60*epsilon_g*eta**2 - 60*epsilon_g*eta + 4*epsilon_g*p_z + 22*epsilon_g - 16*eta**2 + 16*eta - 5)**2)\n"
     ]
    }
   ],
   "source": [
    "# this cell just print the previous eq in python format to do numerical integration\n",
    "print(eq13)"
   ]
  },
  {
   "cell_type": "code",
   "execution_count": 40,
   "id": "d3e70fb3",
   "metadata": {},
   "outputs": [
    {
     "data": {
      "text/latex": [
       "$\\displaystyle \\left(1 - \\epsilon_{g}\\right)^{2} \\left(2 \\eta \\left(1 - \\eta\\right) \\left(2 B + 2 F\\right) \\left(C + D\\right) + \\left(\\eta^{2} + \\left(1 - \\eta\\right)^{2}\\right) \\left(\\left(B + F\\right)^{2} + \\left(C + D\\right)^{2}\\right)\\right)$"
      ],
      "text/plain": [
       "(1 - epsilon_g)**2*(2*eta*(1 - eta)*(2*B + 2*F)*(C + D) + (eta**2 + (1 - eta)**2)*((B + F)**2 + (C + D)**2))"
      ]
     },
     "execution_count": 40,
     "metadata": {},
     "output_type": "execute_result"
    }
   ],
   "source": [
    "#Now we can calculate the average acceptance probability of the protocol and calculate the geometrical integral\n",
    "# recall that we have saved the following denominators\n",
    "normalization"
   ]
  },
  {
   "cell_type": "code",
   "execution_count": 41,
   "id": "91e16a38",
   "metadata": {},
   "outputs": [],
   "source": [
    "# secondnormalization\n",
    "# mid=sy.simplify(secondnormalization)"
   ]
  },
  {
   "cell_type": "code",
   "execution_count": 42,
   "id": "80badffe",
   "metadata": {},
   "outputs": [
    {
     "data": {
      "text/latex": [
       "$\\displaystyle \\frac{\\left(\\epsilon_{g} - 1\\right)^{2} \\left(8 \\eta \\left(F - 1\\right) \\left(2 F + 1\\right) \\left(\\eta - 1\\right) + \\left(\\eta^{2} + \\left(\\eta - 1\\right)^{2}\\right) \\left(4 \\left(F - 1\\right)^{2} + \\left(2 F + 1\\right)^{2}\\right)\\right) \\left(- 8 \\eta \\left(F - 1\\right) \\left(\\eta - 1\\right) \\left(8 \\eta \\left(F - 1\\right) \\left(2 F + 1\\right) \\left(\\eta - 1\\right) + \\left(\\eta^{2} + \\left(\\eta - 1\\right)^{2}\\right) \\left(4 \\left(F - 1\\right)^{2} + \\left(2 F + 1\\right)^{2}\\right)\\right) \\left(6 \\epsilon_{g} \\left(F - 1\\right) \\left(\\epsilon_{g} - 2\\right) \\left(- 3 F p_{z} + p_{x} \\left(F - 1\\right) + p_{y} \\left(F - 1\\right)\\right) + \\left(F - 1\\right) \\left(8 \\eta \\left(F - 1\\right) \\left(2 F + 1\\right) \\left(\\eta - 1\\right) + \\left(\\eta^{2} + \\left(\\eta - 1\\right)^{2}\\right) \\left(4 \\left(F - 1\\right)^{2} + \\left(2 F + 1\\right)^{2}\\right)\\right) - 3 \\left(\\epsilon_{g} - 1\\right)^{2} \\left(2 \\eta \\left(F - 1\\right) \\left(2 F + 1\\right) \\left(\\eta - 1\\right) + \\left(9 F^{2} + \\left(F - 1\\right)^{2}\\right) \\left(\\eta^{2} + \\left(\\eta - 1\\right)^{2}\\right)\\right)\\right) + \\left(\\eta^{2} + \\left(\\eta - 1\\right)^{2}\\right) \\left(4 \\left(F - 1\\right)^{2} \\left(8 \\eta \\left(F - 1\\right) \\left(2 F + 1\\right) \\left(\\eta - 1\\right) + \\left(\\eta^{2} + \\left(\\eta - 1\\right)^{2}\\right) \\left(4 \\left(F - 1\\right)^{2} + \\left(2 F + 1\\right)^{2}\\right)\\right)^{2} + \\left(6 \\epsilon_{g} \\left(F - 1\\right) \\left(\\epsilon_{g} - 2\\right) \\left(- 3 F p_{z} + p_{x} \\left(F - 1\\right) + p_{y} \\left(F - 1\\right)\\right) + \\left(F - 1\\right) \\left(8 \\eta \\left(F - 1\\right) \\left(2 F + 1\\right) \\left(\\eta - 1\\right) + \\left(\\eta^{2} + \\left(\\eta - 1\\right)^{2}\\right) \\left(4 \\left(F - 1\\right)^{2} + \\left(2 F + 1\\right)^{2}\\right)\\right) - 3 \\left(\\epsilon_{g} - 1\\right)^{2} \\left(2 \\eta \\left(F - 1\\right) \\left(2 F + 1\\right) \\left(\\eta - 1\\right) + \\left(9 F^{2} + \\left(F - 1\\right)^{2}\\right) \\left(\\eta^{2} + \\left(\\eta - 1\\right)^{2}\\right)\\right)\\right)^{2}\\right)\\right)}{9}$"
      ],
      "text/plain": [
       "(epsilon_g - 1)**2*(8*eta*(F - 1)*(2*F + 1)*(eta - 1) + (eta**2 + (eta - 1)**2)*(4*(F - 1)**2 + (2*F + 1)**2))*(-8*eta*(F - 1)*(eta - 1)*(8*eta*(F - 1)*(2*F + 1)*(eta - 1) + (eta**2 + (eta - 1)**2)*(4*(F - 1)**2 + (2*F + 1)**2))*(6*epsilon_g*(F - 1)*(epsilon_g - 2)*(-3*F*p_z + p_x*(F - 1) + p_y*(F - 1)) + (F - 1)*(8*eta*(F - 1)*(2*F + 1)*(eta - 1) + (eta**2 + (eta - 1)**2)*(4*(F - 1)**2 + (2*F + 1)**2)) - 3*(epsilon_g - 1)**2*(2*eta*(F - 1)*(2*F + 1)*(eta - 1) + (9*F**2 + (F - 1)**2)*(eta**2 + (eta - 1)**2))) + (eta**2 + (eta - 1)**2)*(4*(F - 1)**2*(8*eta*(F - 1)*(2*F + 1)*(eta - 1) + (eta**2 + (eta - 1)**2)*(4*(F - 1)**2 + (2*F + 1)**2))**2 + (6*epsilon_g*(F - 1)*(epsilon_g - 2)*(-3*F*p_z + p_x*(F - 1) + p_y*(F - 1)) + (F - 1)*(8*eta*(F - 1)*(2*F + 1)*(eta - 1) + (eta**2 + (eta - 1)**2)*(4*(F - 1)**2 + (2*F + 1)**2)) - 3*(epsilon_g - 1)**2*(2*eta*(F - 1)*(2*F + 1)*(eta - 1) + (9*F**2 + (F - 1)**2)*(eta**2 + (eta - 1)**2)))**2))/9"
      ]
     },
     "execution_count": 42,
     "metadata": {},
     "output_type": "execute_result"
    }
   ],
   "source": [
    "# we multiply them and then substitute it with the hybrid variables\n",
    "multiply=(normalization*hybden)\n",
    "mean_acceptance=multiply.subs(hybridsubstitution)\n",
    "# # we only take the numerator of this eq\n",
    "# algo,mean_acceptance=multiplied_eq.as_numer_denom()\n",
    "# simplifying\n",
    "simplified_mean_acc=sy.simplify(mean_acceptance)\n",
    "simplified_mean_acc"
   ]
  },
  {
   "cell_type": "code",
   "execution_count": 43,
   "id": "2c59e0ec",
   "metadata": {},
   "outputs": [
    {
     "data": {
      "text/latex": [
       "$\\displaystyle \\log{\\left(- 544320 F \\epsilon_{g} \\eta^{8} + 2177280 F \\epsilon_{g} \\eta^{7} - 15552 F \\epsilon_{g} \\eta^{6} p_{z} - 4253472 F \\epsilon_{g} \\eta^{6} + 46656 F \\epsilon_{g} \\eta^{5} p_{z} + 5139936 F \\epsilon_{g} \\eta^{5} - 69984 F \\epsilon_{g} \\eta^{4} p_{z} - 4171824 F \\epsilon_{g} \\eta^{4} + 62208 F \\epsilon_{g} \\eta^{3} p_{z} + 2317248 F \\epsilon_{g} \\eta^{3} - 34992 F \\epsilon_{g} \\eta^{2} p_{z} - 861192 F \\epsilon_{g} \\eta^{2} + 11664 F \\epsilon_{g} \\eta p_{z} + 196344 F \\epsilon_{g} \\eta - 1944 F \\epsilon_{g} p_{z} - 21384 F \\epsilon_{g} + 93312 F \\eta^{8} - 373248 F \\eta^{7} + 727056 F \\eta^{6} - 874800 F \\eta^{5} + 705672 F \\eta^{4} - 388800 F \\eta^{3} + 142884 F \\eta^{2} - 32076 F \\eta + 3402 F + 474336 \\epsilon_{g} \\eta^{8} - 1897344 \\epsilon_{g} \\eta^{7} + 15552 \\epsilon_{g} \\eta^{6} p_{z} + 3693600 \\epsilon_{g} \\eta^{6} - 46656 \\epsilon_{g} \\eta^{5} p_{z} - 4440096 \\epsilon_{g} \\eta^{5} + 69984 \\epsilon_{g} \\eta^{4} p_{z} + 3576960 \\epsilon_{g} \\eta^{4} - 62208 \\epsilon_{g} \\eta^{3} p_{z} - 1967328 \\epsilon_{g} \\eta^{3} + 34992 \\epsilon_{g} \\eta^{2} p_{z} + 721224 \\epsilon_{g} \\eta^{2} - 11664 \\epsilon_{g} \\eta p_{z} - 161352 \\epsilon_{g} \\eta + 1944 \\epsilon_{g} p_{z} + 17010 \\epsilon_{g} - 81648 \\eta^{8} + 326592 \\eta^{7} - 633744 \\eta^{6} + 758160 \\eta^{5} - 606528 \\eta^{4} + 330480 \\eta^{3} - 119556 \\eta^{2} + 26244 \\eta - 2673 \\right)}$"
      ],
      "text/plain": [
       "log(-544320*F*epsilon_g*eta**8 + 2177280*F*epsilon_g*eta**7 - 15552*F*epsilon_g*eta**6*p_z - 4253472*F*epsilon_g*eta**6 + 46656*F*epsilon_g*eta**5*p_z + 5139936*F*epsilon_g*eta**5 - 69984*F*epsilon_g*eta**4*p_z - 4171824*F*epsilon_g*eta**4 + 62208*F*epsilon_g*eta**3*p_z + 2317248*F*epsilon_g*eta**3 - 34992*F*epsilon_g*eta**2*p_z - 861192*F*epsilon_g*eta**2 + 11664*F*epsilon_g*eta*p_z + 196344*F*epsilon_g*eta - 1944*F*epsilon_g*p_z - 21384*F*epsilon_g + 93312*F*eta**8 - 373248*F*eta**7 + 727056*F*eta**6 - 874800*F*eta**5 + 705672*F*eta**4 - 388800*F*eta**3 + 142884*F*eta**2 - 32076*F*eta + 3402*F + 474336*epsilon_g*eta**8 - 1897344*epsilon_g*eta**7 + 15552*epsilon_g*eta**6*p_z + 3693600*epsilon_g*eta**6 - 46656*epsilon_g*eta**5*p_z - 4440096*epsilon_g*eta**5 + 69984*epsilon_g*eta**4*p_z + 3576960*epsilon_g*eta**4 - 62208*epsilon_g*eta**3*p_z - 1967328*epsilon_g*eta**3 + 34992*epsilon_g*eta**2*p_z + 721224*epsilon_g*eta**2 - 11664*epsilon_g*eta*p_z - 161352*epsilon_g*eta + 1944*epsilon_g*p_z + 17010*epsilon_g - 81648*eta**8 + 326592*eta**7 - 633744*eta**6 + 758160*eta**5 - 606528*eta**4 + 330480*eta**3 - 119556*eta**2 + 26244*eta - 2673)"
      ]
     },
     "execution_count": 43,
     "metadata": {},
     "output_type": "execute_result"
    }
   ],
   "source": [
    "# we expand this thing as with the previous step\n",
    "from sympy import log\n",
    "simp_expansion_prob=sy.simplify(sy.series((sy.series(simplified_mean_acc,F,1,2).removeO()),epsilon_g,0,2).removeO())\n",
    "integrandP=log(simp_expansion_prob)\n",
    "integrandP"
   ]
  },
  {
   "cell_type": "code",
   "execution_count": 44,
   "id": "f8b6bc20",
   "metadata": {},
   "outputs": [
    {
     "data": {
      "text/latex": [
       "$\\displaystyle \\frac{2 F \\left(140 \\epsilon_{g} \\eta^{2} - 140 \\epsilon_{g} \\eta + 4 \\epsilon_{g} p_{z} + 44 \\epsilon_{g} - 24 \\eta^{2} + 24 \\eta - 7\\right) \\log{\\left(- 544320 F \\epsilon_{g} \\eta^{8} + 2177280 F \\epsilon_{g} \\eta^{7} - 15552 F \\epsilon_{g} \\eta^{6} p_{z} - 4253472 F \\epsilon_{g} \\eta^{6} + 46656 F \\epsilon_{g} \\eta^{5} p_{z} + 5139936 F \\epsilon_{g} \\eta^{5} - 69984 F \\epsilon_{g} \\eta^{4} p_{z} - 4171824 F \\epsilon_{g} \\eta^{4} + 62208 F \\epsilon_{g} \\eta^{3} p_{z} + 2317248 F \\epsilon_{g} \\eta^{3} - 34992 F \\epsilon_{g} \\eta^{2} p_{z} - 861192 F \\epsilon_{g} \\eta^{2} + 11664 F \\epsilon_{g} \\eta p_{z} + 196344 F \\epsilon_{g} \\eta - 1944 F \\epsilon_{g} p_{z} - 21384 F \\epsilon_{g} + 93312 F \\eta^{8} - 373248 F \\eta^{7} + 727056 F \\eta^{6} - 874800 F \\eta^{5} + 705672 F \\eta^{4} - 388800 F \\eta^{3} + 142884 F \\eta^{2} - 32076 F \\eta + 3402 F + 474336 \\epsilon_{g} \\eta^{8} - 1897344 \\epsilon_{g} \\eta^{7} + 15552 \\epsilon_{g} \\eta^{6} p_{z} + 3693600 \\epsilon_{g} \\eta^{6} - 46656 \\epsilon_{g} \\eta^{5} p_{z} - 4440096 \\epsilon_{g} \\eta^{5} + 69984 \\epsilon_{g} \\eta^{4} p_{z} + 3576960 \\epsilon_{g} \\eta^{4} - 62208 \\epsilon_{g} \\eta^{3} p_{z} - 1967328 \\epsilon_{g} \\eta^{3} + 34992 \\epsilon_{g} \\eta^{2} p_{z} + 721224 \\epsilon_{g} \\eta^{2} - 11664 \\epsilon_{g} \\eta p_{z} - 161352 \\epsilon_{g} \\eta + 1944 \\epsilon_{g} p_{z} + 17010 \\epsilon_{g} - 81648 \\eta^{8} + 326592 \\eta^{7} - 633744 \\eta^{6} + 758160 \\eta^{5} - 606528 \\eta^{4} + 330480 \\eta^{3} - 119556 \\eta^{2} + 26244 \\eta - 2673 \\right)} - 2 F \\left(140 \\epsilon_{g} \\eta^{2} - 140 \\epsilon_{g} \\eta + 4 \\epsilon_{g} p_{z} + 44 \\epsilon_{g} - 24 \\eta^{2} + 24 \\eta - 7\\right) - \\left(244 \\epsilon_{g} \\eta^{2} - 244 \\epsilon_{g} \\eta + 8 \\epsilon_{g} p_{z} + 70 \\epsilon_{g} - 42 \\eta^{2} + 42 \\eta - 11\\right) \\log{\\left(2 F \\left(140 \\epsilon_{g} \\eta^{2} - 140 \\epsilon_{g} \\eta + 4 \\epsilon_{g} p_{z} + 44 \\epsilon_{g} - 24 \\eta^{2} + 24 \\eta - 7\\right) - 244 \\epsilon_{g} \\eta^{2} + 244 \\epsilon_{g} \\eta - 8 \\epsilon_{g} p_{z} - 70 \\epsilon_{g} + 42 \\eta^{2} - 42 \\eta + 11 \\right)}}{2 \\left(140 \\epsilon_{g} \\eta^{2} - 140 \\epsilon_{g} \\eta + 4 \\epsilon_{g} p_{z} + 44 \\epsilon_{g} - 24 \\eta^{2} + 24 \\eta - 7\\right)}$"
      ],
      "text/plain": [
       "(2*F*(140*epsilon_g*eta**2 - 140*epsilon_g*eta + 4*epsilon_g*p_z + 44*epsilon_g - 24*eta**2 + 24*eta - 7)*log(-544320*F*epsilon_g*eta**8 + 2177280*F*epsilon_g*eta**7 - 15552*F*epsilon_g*eta**6*p_z - 4253472*F*epsilon_g*eta**6 + 46656*F*epsilon_g*eta**5*p_z + 5139936*F*epsilon_g*eta**5 - 69984*F*epsilon_g*eta**4*p_z - 4171824*F*epsilon_g*eta**4 + 62208*F*epsilon_g*eta**3*p_z + 2317248*F*epsilon_g*eta**3 - 34992*F*epsilon_g*eta**2*p_z - 861192*F*epsilon_g*eta**2 + 11664*F*epsilon_g*eta*p_z + 196344*F*epsilon_g*eta - 1944*F*epsilon_g*p_z - 21384*F*epsilon_g + 93312*F*eta**8 - 373248*F*eta**7 + 727056*F*eta**6 - 874800*F*eta**5 + 705672*F*eta**4 - 388800*F*eta**3 + 142884*F*eta**2 - 32076*F*eta + 3402*F + 474336*epsilon_g*eta**8 - 1897344*epsilon_g*eta**7 + 15552*epsilon_g*eta**6*p_z + 3693600*epsilon_g*eta**6 - 46656*epsilon_g*eta**5*p_z - 4440096*epsilon_g*eta**5 + 69984*epsilon_g*eta**4*p_z + 3576960*epsilon_g*eta**4 - 62208*epsilon_g*eta**3*p_z - 1967328*epsilon_g*eta**3 + 34992*epsilon_g*eta**2*p_z + 721224*epsilon_g*eta**2 - 11664*epsilon_g*eta*p_z - 161352*epsilon_g*eta + 1944*epsilon_g*p_z + 17010*epsilon_g - 81648*eta**8 + 326592*eta**7 - 633744*eta**6 + 758160*eta**5 - 606528*eta**4 + 330480*eta**3 - 119556*eta**2 + 26244*eta - 2673) - 2*F*(140*epsilon_g*eta**2 - 140*epsilon_g*eta + 4*epsilon_g*p_z + 44*epsilon_g - 24*eta**2 + 24*eta - 7) - (244*epsilon_g*eta**2 - 244*epsilon_g*eta + 8*epsilon_g*p_z + 70*epsilon_g - 42*eta**2 + 42*eta - 11)*log(2*F*(140*epsilon_g*eta**2 - 140*epsilon_g*eta + 4*epsilon_g*p_z + 44*epsilon_g - 24*eta**2 + 24*eta - 7) - 244*epsilon_g*eta**2 + 244*epsilon_g*eta - 8*epsilon_g*p_z - 70*epsilon_g + 42*eta**2 - 42*eta + 11))/(2*(140*epsilon_g*eta**2 - 140*epsilon_g*eta + 4*epsilon_g*p_z + 44*epsilon_g - 24*eta**2 + 24*eta - 7))"
      ]
     },
     "execution_count": 44,
     "metadata": {},
     "output_type": "execute_result"
    }
   ],
   "source": [
    "# we integrate this and then simplify\n",
    "eq15=sy.simplify(sy.integrate(integrandP,F))\n",
    "eq15"
   ]
  },
  {
   "cell_type": "code",
   "execution_count": 45,
   "id": "f762c1e5",
   "metadata": {},
   "outputs": [
    {
     "name": "stdout",
     "output_type": "stream",
     "text": [
      "(2*F*(140*epsilon_g*eta**2 - 140*epsilon_g*eta + 4*epsilon_g*p_z + 44*epsilon_g - 24*eta**2 + 24*eta - 7)*log(-544320*F*epsilon_g*eta**8 + 2177280*F*epsilon_g*eta**7 - 15552*F*epsilon_g*eta**6*p_z - 4253472*F*epsilon_g*eta**6 + 46656*F*epsilon_g*eta**5*p_z + 5139936*F*epsilon_g*eta**5 - 69984*F*epsilon_g*eta**4*p_z - 4171824*F*epsilon_g*eta**4 + 62208*F*epsilon_g*eta**3*p_z + 2317248*F*epsilon_g*eta**3 - 34992*F*epsilon_g*eta**2*p_z - 861192*F*epsilon_g*eta**2 + 11664*F*epsilon_g*eta*p_z + 196344*F*epsilon_g*eta - 1944*F*epsilon_g*p_z - 21384*F*epsilon_g + 93312*F*eta**8 - 373248*F*eta**7 + 727056*F*eta**6 - 874800*F*eta**5 + 705672*F*eta**4 - 388800*F*eta**3 + 142884*F*eta**2 - 32076*F*eta + 3402*F + 474336*epsilon_g*eta**8 - 1897344*epsilon_g*eta**7 + 15552*epsilon_g*eta**6*p_z + 3693600*epsilon_g*eta**6 - 46656*epsilon_g*eta**5*p_z - 4440096*epsilon_g*eta**5 + 69984*epsilon_g*eta**4*p_z + 3576960*epsilon_g*eta**4 - 62208*epsilon_g*eta**3*p_z - 1967328*epsilon_g*eta**3 + 34992*epsilon_g*eta**2*p_z + 721224*epsilon_g*eta**2 - 11664*epsilon_g*eta*p_z - 161352*epsilon_g*eta + 1944*epsilon_g*p_z + 17010*epsilon_g - 81648*eta**8 + 326592*eta**7 - 633744*eta**6 + 758160*eta**5 - 606528*eta**4 + 330480*eta**3 - 119556*eta**2 + 26244*eta - 2673) - 2*F*(140*epsilon_g*eta**2 - 140*epsilon_g*eta + 4*epsilon_g*p_z + 44*epsilon_g - 24*eta**2 + 24*eta - 7) - (244*epsilon_g*eta**2 - 244*epsilon_g*eta + 8*epsilon_g*p_z + 70*epsilon_g - 42*eta**2 + 42*eta - 11)*log(2*F*(140*epsilon_g*eta**2 - 140*epsilon_g*eta + 4*epsilon_g*p_z + 44*epsilon_g - 24*eta**2 + 24*eta - 7) - 244*epsilon_g*eta**2 + 244*epsilon_g*eta - 8*epsilon_g*p_z - 70*epsilon_g + 42*eta**2 - 42*eta + 11))/(2*(140*epsilon_g*eta**2 - 140*epsilon_g*eta + 4*epsilon_g*p_z + 44*epsilon_g - 24*eta**2 + 24*eta - 7))\n"
     ]
    }
   ],
   "source": [
    "print(eq15)"
   ]
  },
  {
   "cell_type": "code",
   "execution_count": 49,
   "id": "145a30af",
   "metadata": {},
   "outputs": [
    {
     "data": {
      "text/plain": [
       "(-F**2*(60*epsilon_g*eta**2 - 60*epsilon_g*eta + 4*epsilon_g*p_z + 22*epsilon_g - 16*eta**2 + 16*eta - 5)**2 + 2*F*(60*epsilon_g*eta**2 - 60*epsilon_g*eta + 4*epsilon_g*p_z + 22*epsilon_g - 16*eta**2 + 16*eta - 5)*(88*epsilon_g*eta**2 - 88*epsilon_g*eta + 6*epsilon_g*p_z + 36*epsilon_g - 15*eta**2 + 15*eta - 6) + 3*(2*eta**2 - 2*eta + 1)*(8*epsilon_g**2*eta**2 - 8*epsilon_g**2*eta - 12*epsilon_g**2 - 8*epsilon_g*eta**2 + 8*epsilon_g*eta + 2*epsilon_g*p_z + 8*epsilon_g + eta**2 - eta - 1)*log(2*F*(60*epsilon_g*eta**2 - 60*epsilon_g*eta + 4*epsilon_g*p_z + 22*epsilon_g - 16*eta**2 + 16*eta - 5) - 96*epsilon_g*eta**2 + 96*epsilon_g*eta - 8*epsilon_g*p_z - 32*epsilon_g + 26*eta**2 - 26*eta + 7),\n",
       " 2*(60*epsilon_g*eta**2 - 60*epsilon_g*eta + 4*epsilon_g*p_z + 22*epsilon_g - 16*eta**2 + 16*eta - 5)**2)"
      ]
     },
     "execution_count": 49,
     "metadata": {},
     "output_type": "execute_result"
    }
   ],
   "source": [
    "eq13.as_numer_denom()"
   ]
  }
 ],
 "metadata": {
  "kernelspec": {
   "display_name": "Python 3",
   "language": "python",
   "name": "python3"
  },
  "language_info": {
   "codemirror_mode": {
    "name": "ipython",
    "version": 3
   },
   "file_extension": ".py",
   "mimetype": "text/x-python",
   "name": "python",
   "nbconvert_exporter": "python",
   "pygments_lexer": "ipython3",
   "version": "3.8.20"
  }
 },
 "nbformat": 4,
 "nbformat_minor": 5
}
