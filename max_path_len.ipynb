{
 "cells": [
  {
   "cell_type": "markdown",
   "id": "00abe88c",
   "metadata": {},
   "source": [
    "Let us start defining some equations"
   ]
  },
  {
   "cell_type": "code",
   "execution_count": 113,
   "id": "838893e6",
   "metadata": {},
   "outputs": [],
   "source": [
    "import sympy as sy\n",
    "from sympy import symbols\n",
    "from scipy.optimize import fsolve\n",
    "import math\n",
    "eta, F_t, F_o, t , T_2, D, R, lm, c= symbols('eta F_t F_0 t T_2 D R lambda c')"
   ]
  },
  {
   "cell_type": "code",
   "execution_count": 114,
   "id": "ef08656e",
   "metadata": {},
   "outputs": [
    {
     "data": {
      "text/latex": [
       "$\\displaystyle e^{- \\frac{t^{2}}{T_{2}^{2}}}$"
      ],
      "text/plain": [
       "exp(-t**2/T_2**2)"
      ]
     },
     "execution_count": 114,
     "metadata": {},
     "output_type": "execute_result"
    }
   ],
   "source": [
    "func= sy.exp(-(t/T_2)**2)\n",
    "func\n",
    "#here remember t=2l/c decoherence waiting for link"
   ]
  },
  {
   "cell_type": "code",
   "execution_count": 115,
   "id": "0168bcb7",
   "metadata": {},
   "outputs": [
    {
     "data": {
      "text/latex": [
       "$\\displaystyle \\frac{\\left(\\left(4 F_{t} - e^{\\frac{D^{2 \\lambda}}{R^{2} T_{2}^{2}}}\\right)^{2} \\left(4 \\eta^{2} - 1\\right) + 9 e^{\\frac{2 D^{2 \\lambda}}{R^{2} T_{2}^{2}}}\\right) e^{- \\frac{2 D^{2 \\lambda}}{R^{2} T_{2}^{2}}}}{36}$"
      ],
      "text/plain": [
       "((4*F_t - exp(D**(2*lambda)/(R**2*T_2**2)))**2*(4*eta**2 - 1) + 9*exp(2*D**(2*lambda)/(R**2*T_2**2)))*exp(-2*D**(2*lambda)/(R**2*T_2**2))/36"
      ]
     },
     "execution_count": 115,
     "metadata": {},
     "output_type": "execute_result"
    }
   ],
   "source": [
    "ine=(1 + 3*((4 * eta**2 - 1)/3) * ((4 * F_t * sy.exp(-((1/T_2)*((D**lm)/R))**2) - 1)/3)**2)/4\n",
    "ineq=sy.simplify(ine)\n",
    "ineq"
   ]
  },
  {
   "cell_type": "code",
   "execution_count": 116,
   "id": "ac43c494",
   "metadata": {},
   "outputs": [
    {
     "name": "stdout",
     "output_type": "stream",
     "text": [
      "(4*F_t - exp(D**(2*lambda)/(R**2*T_2**2)))**4*(4*eta**2 - 1)**3*exp(-4*D**(2*lambda)/(R**2*T_2**2))/2916 + 1/4\n"
     ]
    }
   ],
   "source": [
    "ine2=(1 + 3*((4 * eta**2 - 1)/3) * ((4 * ineq - 1)/3)**2)/4\n",
    "# ineq2=sy.simplify(sy.series(ine2,eta,1,3).removeO())\n",
    "ineq2=sy.simplify(ine2)\n",
    "print(ineq2)"
   ]
  },
  {
   "cell_type": "code",
   "execution_count": 117,
   "id": "6a346fc5",
   "metadata": {},
   "outputs": [
    {
     "data": {
      "text/latex": [
       "$\\displaystyle \\frac{\\left(4 F_{t} - e^{\\frac{D^{2 \\lambda}}{R^{2} T_{2}^{2}}}\\right)^{8} \\left(4 \\eta^{2} - 1\\right)^{7} e^{- \\frac{8 D^{2 \\lambda}}{R^{2} T_{2}^{2}}}}{19131876} + \\frac{1}{4}$"
      ],
      "text/plain": [
       "(4*F_t - exp(D**(2*lambda)/(R**2*T_2**2)))**8*(4*eta**2 - 1)**7*exp(-8*D**(2*lambda)/(R**2*T_2**2))/19131876 + 1/4"
      ]
     },
     "execution_count": 117,
     "metadata": {},
     "output_type": "execute_result"
    }
   ],
   "source": [
    "ine3=(1 + 3*((4 * eta**2 - 1)/3) * ((4 * ineq2 - 1)/3)**2)/4\n",
    "ineq3=sy.simplify(ine3)\n",
    "ineq3"
   ]
  },
  {
   "cell_type": "code",
   "execution_count": 118,
   "id": "318df281",
   "metadata": {},
   "outputs": [
    {
     "name": "stdout",
     "output_type": "stream",
     "text": [
      "-8*D**(2*lambda - 1)*F_t*lambda*(4*F_t - exp(D**(2*lambda)/(R**2*T_2**2)))**3*(4*eta**2 - 1)**3*exp(-4*D**(2*lambda)/(R**2*T_2**2))/(729*R**2*T_2**2)\n"
     ]
    }
   ],
   "source": [
    "# equation=sy.Eq(ineq2,0.5)\n",
    "# re=sy.solve(equation,D)\n",
    "# func_np = sy.lambdify(D, ineq2, modules=['numpy'])\n",
    "# solution = fsolve(func_np, 0.5)\n",
    "# solution\n",
    "re=sy.simplify(sy.Derivative(ineq2,D,evaluate=True))\n",
    "print(re)"
   ]
  },
  {
   "cell_type": "markdown",
   "id": "ced8f7ff",
   "metadata": {},
   "source": [
    "It is also worth trying numerical..."
   ]
  },
  {
   "cell_type": "code",
   "execution_count": 119,
   "id": "08a0b3f4",
   "metadata": {},
   "outputs": [],
   "source": [
    "# # ============== Superconducting ================ FINE\n",
    "supercond = {\n",
    "    eta:0.99400,\n",
    "    R:5.4,\n",
    "    T_2:3.00E-04,\n",
    "    F_t:0.9879,\n",
    "    lm:3.1382}\n",
    "# # =================== SiV ======================= FINE\n",
    "siv = {\n",
    "    eta:1-1e-4,\n",
    "    R:1,\n",
    "    T_2:2.1,\n",
    "    F_t:0.9979,\n",
    "    # lm:2.0119,\n",
    "    # lm:3.0149,\n",
    "    lm:2.0156,\n",
    "    c:3e8}\n",
    "# # #=================== NV ======================== FINE\n",
    "nv = {\n",
    "    eta:0.99960,\n",
    "    R:39,\n",
    "    T_2:1,\n",
    "    F_t:0.9982,\n",
    "    lm:1.682}\n",
    "# =================== TrIon ====================== FINE\n",
    "trion = {\n",
    "    eta:0.999999,\n",
    "    R:250,\n",
    "    T_2:0.14,\n",
    "    F_t:0.9979,\n",
    "    lm:2.0111}\n",
    "# # ================NeutralAtoms ================== FINE\n",
    "neutr = {\n",
    "    eta:0.99600,\n",
    "    R:0.11,\n",
    "    T_2:0.01,\n",
    "    F_t:0.9886,\n",
    "    lm: 3.1146}\n",
    "SOL= {\n",
    "    # D:0.10986652323098574 #supercon\n",
    "    D :  0.9638 #siv\n",
    "    # D : 3.727702471966894 #NV\n",
    "    # D : 3.5127458654074606 #trion\n",
    "    # D: 0.0955169712991282 #neutr\n",
    "}"
   ]
  },
  {
   "cell_type": "code",
   "execution_count": 120,
   "id": "234bdc39",
   "metadata": {},
   "outputs": [
    {
     "data": {
      "text/latex": [
       "$\\displaystyle 2.348642069355 \\left(0.250526104820122 e^{0.226757369614512 D^{4.0312}} - 1\\right)^{4} e^{- 0.90702947845805 D^{4.0312}} + \\frac{1}{4}$"
      ],
      "text/plain": [
       "2.348642069355*(0.250526104820122*exp(0.226757369614512*D**4.0312) - 1)**4*exp(-0.90702947845805*D**4.0312) + 1/4"
      ]
     },
     "execution_count": 120,
     "metadata": {},
     "output_type": "execute_result"
    }
   ],
   "source": [
    "fr= sy.simplify(ineq2.subs(siv))\n",
    "fr"
   ]
  },
  {
   "cell_type": "code",
   "execution_count": 121,
   "id": "86fa184e",
   "metadata": {},
   "outputs": [
    {
     "name": "stdout",
     "output_type": "stream",
     "text": [
      "2.348642069355*(0.250526104820122*exp(0.226757369614512*D**4.0312) - 1)**4*exp(-0.90702947845805*D**4.0312) + 1/4\n"
     ]
    }
   ],
   "source": [
    "print(fr)"
   ]
  },
  {
   "cell_type": "code",
   "execution_count": 122,
   "id": "5c18a9e0",
   "metadata": {},
   "outputs": [
    {
     "data": {
      "text/latex": [
       "$\\displaystyle 0.501329332871932$"
      ],
      "text/plain": [
       "0.501329332871932"
      ]
     },
     "execution_count": 122,
     "metadata": {},
     "output_type": "execute_result"
    }
   ],
   "source": [
    "fr.subs(SOL)"
   ]
  },
  {
   "cell_type": "code",
   "execution_count": 123,
   "id": "24a516bb",
   "metadata": {},
   "outputs": [
    {
     "data": {
      "text/latex": [
       "$\\displaystyle 2.348642069355 \\left(0.250526104820122 e^{0.226757369614512 D^{4.0312}} - 1\\right)^{4} e^{- 0.90702947845805 D^{4.0312}} + \\frac{1}{4}$"
      ],
      "text/plain": [
       "2.348642069355*(0.250526104820122*exp(0.226757369614512*D**4.0312) - 1)**4*exp(-0.90702947845805*D**4.0312) + 1/4"
      ]
     },
     "execution_count": 123,
     "metadata": {},
     "output_type": "execute_result"
    }
   ],
   "source": [
    "x=fr\n",
    "x"
   ]
  },
  {
   "cell_type": "code",
   "execution_count": 124,
   "id": "c51368ed",
   "metadata": {},
   "outputs": [],
   "source": [
    "# equat=sy.Eq(x,0.5)\n",
    "# rem=sy.solve(equat,D)\n",
    "# rem"
   ]
  },
  {
   "cell_type": "code",
   "execution_count": 125,
   "id": "c365f207",
   "metadata": {},
   "outputs": [
    {
     "data": {
      "text/latex": [
       "$\\displaystyle \\left(R^{2} T_{2}^{2} \\log{\\left(\\frac{2 F_{t} \\left(4 \\eta^{2} - 6 \\sqrt{\\eta^{2} - 0.25} - 1\\right)}{2 \\eta^{2} - 5} \\right)}\\right)^{\\frac{1}{2 \\lambda}}$"
      ],
      "text/plain": [
       "(R**2*T_2**2*log(2*F_t*(4*eta**2 - 6*sqrt(eta**2 - 0.25) - 1)/(2*eta**2 - 5)))**(1/(2*lambda))"
      ]
     },
     "execution_count": 125,
     "metadata": {},
     "output_type": "execute_result"
    }
   ],
   "source": [
    "# 1 swap sol\n",
    "onesol=(R**2*T_2**2*sy.log(2*F_t*(4*eta**2 - 6*sy.sqrt(eta**2 - 0.25) - 1)/(2*eta**2 - 5)))**(1/(2*lm))\n",
    "onesol\n",
    "# onesol=(R**2*T_2**2*c**2*sy.log(1.8612097182042*sy.sqrt(-(0.666666666666667*F_t*eta**2/(2.0*eta**2 - 5.0) - F_t*(eta**2 - 0.25)**0.5/(2.0*eta**2 - 5.0) - 0.166666666666667*F_t/(2.0*eta**2 - 5.0))**0.5)))**(1/(2*lm))\n",
    "# onesol"
   ]
  },
  {
   "cell_type": "code",
   "execution_count": 126,
   "id": "1f12c474",
   "metadata": {},
   "outputs": [
    {
     "data": {
      "text/latex": [
       "$\\displaystyle 1.13593496914322$"
      ],
      "text/plain": [
       "1.13593496914322"
      ]
     },
     "execution_count": 126,
     "metadata": {},
     "output_type": "execute_result"
    }
   ],
   "source": [
    "onesol.subs(siv)"
   ]
  }
 ],
 "metadata": {
  "kernelspec": {
   "display_name": "base",
   "language": "python",
   "name": "python3"
  },
  "language_info": {
   "codemirror_mode": {
    "name": "ipython",
    "version": 3
   },
   "file_extension": ".py",
   "mimetype": "text/x-python",
   "name": "python",
   "nbconvert_exporter": "python",
   "pygments_lexer": "ipython3",
   "version": "3.12.7"
  }
 },
 "nbformat": 4,
 "nbformat_minor": 5
}
